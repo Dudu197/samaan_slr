{
 "cells": [
  {
   "cell_type": "code",
   "execution_count": 1,
   "id": "f50c8bc6",
   "metadata": {},
   "outputs": [
    {
     "name": "stderr",
     "output_type": "stream",
     "text": [
      "2023-07-17 21:46:55.926530: I tensorflow/core/util/port.cc:110] oneDNN custom operations are on. You may see slightly different numerical results due to floating-point round-off errors from different computation orders. To turn them off, set the environment variable `TF_ENABLE_ONEDNN_OPTS=0`.\n",
      "2023-07-17 21:46:55.962819: I tensorflow/core/platform/cpu_feature_guard.cc:182] This TensorFlow binary is optimized to use available CPU instructions in performance-critical operations.\n",
      "To enable the following instructions: AVX2 AVX_VNNI FMA, in other operations, rebuild TensorFlow with the appropriate compiler flags.\n",
      "2023-07-17 21:46:56.333211: W tensorflow/compiler/tf2tensorrt/utils/py_utils.cc:38] TF-TRT Warning: Could not find TensorRT\n"
     ]
    }
   ],
   "source": [
    "import pandas as pd\n",
    "import numpy as np\n",
    "from sklearn.model_selection import train_test_split\n",
    "from keras.models import Sequential\n",
    "from keras.layers import LSTM, Dense"
   ]
  },
  {
   "cell_type": "code",
   "execution_count": 2,
   "id": "5e71e816",
   "metadata": {},
   "outputs": [],
   "source": [
    "data = df = pd.read_csv(\"dataset.csv\")"
   ]
  },
  {
   "cell_type": "code",
   "execution_count": 3,
   "id": "dd07a2e8",
   "metadata": {},
   "outputs": [],
   "source": [
    "frames = 30"
   ]
  },
  {
   "cell_type": "code",
   "execution_count": 4,
   "id": "7d45ff42",
   "metadata": {},
   "outputs": [
    {
     "data": {
      "text/plain": [
       "Index(['Unnamed: 0', 'category', 'video_name', 'frame', 'hand_0_wrist_x',\n",
       "       'hand_0_wrist_y', 'hand_0_wrist_z', 'hand_0_thumb_cmc_x',\n",
       "       'hand_0_thumb_cmc_y', 'hand_0_thumb_cmc_z',\n",
       "       ...\n",
       "       'pose_right_heel_z', 'pose_left_heel_x', 'pose_left_heel_y',\n",
       "       'pose_left_heel_z', 'pose_right_foot_index_x',\n",
       "       'pose_right_foot_index_y', 'pose_right_foot_index_z',\n",
       "       'pose_left_foot_index_x', 'pose_left_foot_index_y',\n",
       "       'pose_left_foot_index_z'],\n",
       "      dtype='object', length=1627)"
      ]
     },
     "execution_count": 4,
     "metadata": {},
     "output_type": "execute_result"
    }
   ],
   "source": [
    "data.columns"
   ]
  },
  {
   "cell_type": "code",
   "execution_count": 5,
   "id": "47be5ed5",
   "metadata": {},
   "outputs": [],
   "source": [
    "features = data.drop([\"Unnamed: 0\", \"category\", \"video_name\", \"frame\"], axis=1).values\n",
    "target = data['category'].values"
   ]
  },
  {
   "cell_type": "code",
   "execution_count": 6,
   "id": "8c9f1d0a",
   "metadata": {},
   "outputs": [],
   "source": [
    "features = features.reshape((int(features.shape[0]/frames), frames, features.shape[1]))"
   ]
  },
  {
   "cell_type": "code",
   "execution_count": 7,
   "id": "2f827c5a",
   "metadata": {},
   "outputs": [],
   "source": [
    "target = target.reshape((int(target.shape[0]/frames), frames))\n",
    "target = target[:, 0]"
   ]
  },
  {
   "cell_type": "code",
   "execution_count": 8,
   "id": "e3cb2a2f",
   "metadata": {},
   "outputs": [
    {
     "data": {
      "text/plain": [
       "(750, 30, 1623)"
      ]
     },
     "execution_count": 8,
     "metadata": {},
     "output_type": "execute_result"
    }
   ],
   "source": [
    "features.shape"
   ]
  },
  {
   "cell_type": "code",
   "execution_count": 9,
   "id": "2c25d911",
   "metadata": {},
   "outputs": [
    {
     "data": {
      "text/plain": [
       "(750,)"
      ]
     },
     "execution_count": 9,
     "metadata": {},
     "output_type": "execute_result"
    }
   ],
   "source": [
    "target.shape"
   ]
  },
  {
   "cell_type": "code",
   "execution_count": 10,
   "id": "544bcede",
   "metadata": {},
   "outputs": [],
   "source": [
    "train_features, test_features, train_target, test_target = train_test_split(features, target, test_size=0.4)"
   ]
  },
  {
   "cell_type": "code",
   "execution_count": 11,
   "id": "9ff7a31d",
   "metadata": {},
   "outputs": [
    {
     "data": {
      "text/plain": [
       "(450, 30, 1623)"
      ]
     },
     "execution_count": 11,
     "metadata": {},
     "output_type": "execute_result"
    }
   ],
   "source": [
    "train_features.shape"
   ]
  },
  {
   "cell_type": "code",
   "execution_count": 12,
   "id": "f67c5149",
   "metadata": {},
   "outputs": [
    {
     "data": {
      "text/plain": [
       "(450,)"
      ]
     },
     "execution_count": 12,
     "metadata": {},
     "output_type": "execute_result"
    }
   ],
   "source": [
    "train_target.shape"
   ]
  },
  {
   "cell_type": "code",
   "execution_count": 13,
   "id": "2e1fa9a5",
   "metadata": {},
   "outputs": [
    {
     "data": {
      "text/plain": [
       "(300,)"
      ]
     },
     "execution_count": 13,
     "metadata": {},
     "output_type": "execute_result"
    }
   ],
   "source": [
    "test_target.shape"
   ]
  },
  {
   "cell_type": "code",
   "execution_count": 15,
   "id": "ff8a3b19",
   "metadata": {},
   "outputs": [
    {
     "name": "stderr",
     "output_type": "stream",
     "text": [
      "2023-07-17 21:47:31.213588: I tensorflow/core/common_runtime/executor.cc:1197] [/device:CPU:0] (DEBUG INFO) Executor start aborting (this does not indicate an error and you can ignore this message): INVALID_ARGUMENT: You must feed a value for placeholder tensor 'gradients/split_2_grad/concat/split_2/split_dim' with dtype int32\n",
      "\t [[{{node gradients/split_2_grad/concat/split_2/split_dim}}]]\n",
      "2023-07-17 21:47:31.214638: I tensorflow/core/common_runtime/executor.cc:1197] [/device:CPU:0] (DEBUG INFO) Executor start aborting (this does not indicate an error and you can ignore this message): INVALID_ARGUMENT: You must feed a value for placeholder tensor 'gradients/split_grad/concat/split/split_dim' with dtype int32\n",
      "\t [[{{node gradients/split_grad/concat/split/split_dim}}]]\n",
      "2023-07-17 21:47:31.215287: I tensorflow/core/common_runtime/executor.cc:1197] [/device:CPU:0] (DEBUG INFO) Executor start aborting (this does not indicate an error and you can ignore this message): INVALID_ARGUMENT: You must feed a value for placeholder tensor 'gradients/split_1_grad/concat/split_1/split_dim' with dtype int32\n",
      "\t [[{{node gradients/split_1_grad/concat/split_1/split_dim}}]]\n",
      "2023-07-17 21:47:31.305978: I tensorflow/core/common_runtime/executor.cc:1197] [/device:CPU:0] (DEBUG INFO) Executor start aborting (this does not indicate an error and you can ignore this message): INVALID_ARGUMENT: You must feed a value for placeholder tensor 'gradients/split_2_grad/concat/split_2/split_dim' with dtype int32\n",
      "\t [[{{node gradients/split_2_grad/concat/split_2/split_dim}}]]\n",
      "2023-07-17 21:47:31.306693: I tensorflow/core/common_runtime/executor.cc:1197] [/device:CPU:0] (DEBUG INFO) Executor start aborting (this does not indicate an error and you can ignore this message): INVALID_ARGUMENT: You must feed a value for placeholder tensor 'gradients/split_grad/concat/split/split_dim' with dtype int32\n",
      "\t [[{{node gradients/split_grad/concat/split/split_dim}}]]\n",
      "2023-07-17 21:47:31.307333: I tensorflow/core/common_runtime/executor.cc:1197] [/device:CPU:0] (DEBUG INFO) Executor start aborting (this does not indicate an error and you can ignore this message): INVALID_ARGUMENT: You must feed a value for placeholder tensor 'gradients/split_1_grad/concat/split_1/split_dim' with dtype int32\n",
      "\t [[{{node gradients/split_1_grad/concat/split_1/split_dim}}]]\n",
      "2023-07-17 21:47:31.388826: I tensorflow/core/common_runtime/executor.cc:1197] [/device:CPU:0] (DEBUG INFO) Executor start aborting (this does not indicate an error and you can ignore this message): INVALID_ARGUMENT: You must feed a value for placeholder tensor 'gradients/split_2_grad/concat/split_2/split_dim' with dtype int32\n",
      "\t [[{{node gradients/split_2_grad/concat/split_2/split_dim}}]]\n",
      "2023-07-17 21:47:31.389720: I tensorflow/core/common_runtime/executor.cc:1197] [/device:CPU:0] (DEBUG INFO) Executor start aborting (this does not indicate an error and you can ignore this message): INVALID_ARGUMENT: You must feed a value for placeholder tensor 'gradients/split_grad/concat/split/split_dim' with dtype int32\n",
      "\t [[{{node gradients/split_grad/concat/split/split_dim}}]]\n",
      "2023-07-17 21:47:31.390478: I tensorflow/core/common_runtime/executor.cc:1197] [/device:CPU:0] (DEBUG INFO) Executor start aborting (this does not indicate an error and you can ignore this message): INVALID_ARGUMENT: You must feed a value for placeholder tensor 'gradients/split_1_grad/concat/split_1/split_dim' with dtype int32\n",
      "\t [[{{node gradients/split_1_grad/concat/split_1/split_dim}}]]\n"
     ]
    }
   ],
   "source": [
    "model = Sequential()\n",
    "model.add(LSTM(64, input_shape=(frames, train_features.shape[2]), return_sequences=True))\n",
    "model.add(LSTM(128, return_sequences=True))\n",
    "model.add(LSTM(64))\n",
    "model.add(Dense(64))\n",
    "model.add(Dense(32))\n",
    "model.add(Dense(10, activation='softmax'))"
   ]
  },
  {
   "cell_type": "code",
   "execution_count": 17,
   "id": "686c44dd",
   "metadata": {},
   "outputs": [],
   "source": [
    "# Compile the model\n",
    "model.compile(loss='sparse_categorical_crossentropy', optimizer='adam', metrics=['accuracy'])"
   ]
  },
  {
   "cell_type": "code",
   "execution_count": 18,
   "id": "4c4b5615",
   "metadata": {},
   "outputs": [
    {
     "name": "stdout",
     "output_type": "stream",
     "text": [
      "Epoch 1/200\n"
     ]
    },
    {
     "name": "stderr",
     "output_type": "stream",
     "text": [
      "2023-07-17 21:49:19.696564: I tensorflow/core/common_runtime/executor.cc:1197] [/device:CPU:0] (DEBUG INFO) Executor start aborting (this does not indicate an error and you can ignore this message): INVALID_ARGUMENT: You must feed a value for placeholder tensor 'gradients/split_2_grad/concat/split_2/split_dim' with dtype int32\n",
      "\t [[{{node gradients/split_2_grad/concat/split_2/split_dim}}]]\n",
      "2023-07-17 21:49:19.697756: I tensorflow/core/common_runtime/executor.cc:1197] [/device:CPU:0] (DEBUG INFO) Executor start aborting (this does not indicate an error and you can ignore this message): INVALID_ARGUMENT: You must feed a value for placeholder tensor 'gradients/split_grad/concat/split/split_dim' with dtype int32\n",
      "\t [[{{node gradients/split_grad/concat/split/split_dim}}]]\n",
      "2023-07-17 21:49:19.698527: I tensorflow/core/common_runtime/executor.cc:1197] [/device:CPU:0] (DEBUG INFO) Executor start aborting (this does not indicate an error and you can ignore this message): INVALID_ARGUMENT: You must feed a value for placeholder tensor 'gradients/split_1_grad/concat/split_1/split_dim' with dtype int32\n",
      "\t [[{{node gradients/split_1_grad/concat/split_1/split_dim}}]]\n",
      "2023-07-17 21:49:19.774217: I tensorflow/core/common_runtime/executor.cc:1197] [/device:CPU:0] (DEBUG INFO) Executor start aborting (this does not indicate an error and you can ignore this message): INVALID_ARGUMENT: You must feed a value for placeholder tensor 'gradients/split_2_grad/concat/split_2/split_dim' with dtype int32\n",
      "\t [[{{node gradients/split_2_grad/concat/split_2/split_dim}}]]\n",
      "2023-07-17 21:49:19.774993: I tensorflow/core/common_runtime/executor.cc:1197] [/device:CPU:0] (DEBUG INFO) Executor start aborting (this does not indicate an error and you can ignore this message): INVALID_ARGUMENT: You must feed a value for placeholder tensor 'gradients/split_grad/concat/split/split_dim' with dtype int32\n",
      "\t [[{{node gradients/split_grad/concat/split/split_dim}}]]\n",
      "2023-07-17 21:49:19.775728: I tensorflow/core/common_runtime/executor.cc:1197] [/device:CPU:0] (DEBUG INFO) Executor start aborting (this does not indicate an error and you can ignore this message): INVALID_ARGUMENT: You must feed a value for placeholder tensor 'gradients/split_1_grad/concat/split_1/split_dim' with dtype int32\n",
      "\t [[{{node gradients/split_1_grad/concat/split_1/split_dim}}]]\n",
      "2023-07-17 21:49:19.853184: I tensorflow/core/common_runtime/executor.cc:1197] [/device:CPU:0] (DEBUG INFO) Executor start aborting (this does not indicate an error and you can ignore this message): INVALID_ARGUMENT: You must feed a value for placeholder tensor 'gradients/split_2_grad/concat/split_2/split_dim' with dtype int32\n",
      "\t [[{{node gradients/split_2_grad/concat/split_2/split_dim}}]]\n",
      "2023-07-17 21:49:19.854085: I tensorflow/core/common_runtime/executor.cc:1197] [/device:CPU:0] (DEBUG INFO) Executor start aborting (this does not indicate an error and you can ignore this message): INVALID_ARGUMENT: You must feed a value for placeholder tensor 'gradients/split_grad/concat/split/split_dim' with dtype int32\n",
      "\t [[{{node gradients/split_grad/concat/split/split_dim}}]]\n",
      "2023-07-17 21:49:19.854778: I tensorflow/core/common_runtime/executor.cc:1197] [/device:CPU:0] (DEBUG INFO) Executor start aborting (this does not indicate an error and you can ignore this message): INVALID_ARGUMENT: You must feed a value for placeholder tensor 'gradients/split_1_grad/concat/split_1/split_dim' with dtype int32\n",
      "\t [[{{node gradients/split_1_grad/concat/split_1/split_dim}}]]\n",
      "2023-07-17 21:49:20.388683: I tensorflow/core/common_runtime/executor.cc:1197] [/device:CPU:0] (DEBUG INFO) Executor start aborting (this does not indicate an error and you can ignore this message): INVALID_ARGUMENT: You must feed a value for placeholder tensor 'gradients/split_2_grad/concat/split_2/split_dim' with dtype int32\n",
      "\t [[{{node gradients/split_2_grad/concat/split_2/split_dim}}]]\n",
      "2023-07-17 21:49:20.389712: I tensorflow/core/common_runtime/executor.cc:1197] [/device:CPU:0] (DEBUG INFO) Executor start aborting (this does not indicate an error and you can ignore this message): INVALID_ARGUMENT: You must feed a value for placeholder tensor 'gradients/split_grad/concat/split/split_dim' with dtype int32\n",
      "\t [[{{node gradients/split_grad/concat/split/split_dim}}]]\n",
      "2023-07-17 21:49:20.390801: I tensorflow/core/common_runtime/executor.cc:1197] [/device:CPU:0] (DEBUG INFO) Executor start aborting (this does not indicate an error and you can ignore this message): INVALID_ARGUMENT: You must feed a value for placeholder tensor 'gradients/split_1_grad/concat/split_1/split_dim' with dtype int32\n",
      "\t [[{{node gradients/split_1_grad/concat/split_1/split_dim}}]]\n",
      "2023-07-17 21:49:20.470621: I tensorflow/core/common_runtime/executor.cc:1197] [/device:CPU:0] (DEBUG INFO) Executor start aborting (this does not indicate an error and you can ignore this message): INVALID_ARGUMENT: You must feed a value for placeholder tensor 'gradients/split_2_grad/concat/split_2/split_dim' with dtype int32\n",
      "\t [[{{node gradients/split_2_grad/concat/split_2/split_dim}}]]\n",
      "2023-07-17 21:49:20.471677: I tensorflow/core/common_runtime/executor.cc:1197] [/device:CPU:0] (DEBUG INFO) Executor start aborting (this does not indicate an error and you can ignore this message): INVALID_ARGUMENT: You must feed a value for placeholder tensor 'gradients/split_grad/concat/split/split_dim' with dtype int32\n",
      "\t [[{{node gradients/split_grad/concat/split/split_dim}}]]\n",
      "2023-07-17 21:49:20.472417: I tensorflow/core/common_runtime/executor.cc:1197] [/device:CPU:0] (DEBUG INFO) Executor start aborting (this does not indicate an error and you can ignore this message): INVALID_ARGUMENT: You must feed a value for placeholder tensor 'gradients/split_1_grad/concat/split_1/split_dim' with dtype int32\n",
      "\t [[{{node gradients/split_1_grad/concat/split_1/split_dim}}]]\n",
      "2023-07-17 21:49:20.549265: I tensorflow/core/common_runtime/executor.cc:1197] [/device:CPU:0] (DEBUG INFO) Executor start aborting (this does not indicate an error and you can ignore this message): INVALID_ARGUMENT: You must feed a value for placeholder tensor 'gradients/split_2_grad/concat/split_2/split_dim' with dtype int32\n",
      "\t [[{{node gradients/split_2_grad/concat/split_2/split_dim}}]]\n",
      "2023-07-17 21:49:20.550113: I tensorflow/core/common_runtime/executor.cc:1197] [/device:CPU:0] (DEBUG INFO) Executor start aborting (this does not indicate an error and you can ignore this message): INVALID_ARGUMENT: You must feed a value for placeholder tensor 'gradients/split_grad/concat/split/split_dim' with dtype int32\n",
      "\t [[{{node gradients/split_grad/concat/split/split_dim}}]]\n",
      "2023-07-17 21:49:20.550765: I tensorflow/core/common_runtime/executor.cc:1197] [/device:CPU:0] (DEBUG INFO) Executor start aborting (this does not indicate an error and you can ignore this message): INVALID_ARGUMENT: You must feed a value for placeholder tensor 'gradients/split_1_grad/concat/split_1/split_dim' with dtype int32\n",
      "\t [[{{node gradients/split_1_grad/concat/split_1/split_dim}}]]\n",
      "2023-07-17 21:49:22.637921: I tensorflow/compiler/xla/stream_executor/cuda/cuda_dnn.cc:424] Loaded cuDNN version 8600\n",
      "2023-07-17 21:49:22.822552: I tensorflow/compiler/xla/stream_executor/cuda/cuda_blas.cc:637] TensorFloat-32 will be used for the matrix multiplication. This will only be logged once.\n",
      "2023-07-17 21:49:22.830767: I tensorflow/compiler/xla/service/service.cc:169] XLA service 0x34bcc7e0 initialized for platform CUDA (this does not guarantee that XLA will be used). Devices:\n",
      "2023-07-17 21:49:22.830788: I tensorflow/compiler/xla/service/service.cc:177]   StreamExecutor device (0): NVIDIA GeForce RTX 4070, Compute Capability 8.9\n",
      "2023-07-17 21:49:22.858431: I tensorflow/compiler/mlir/tensorflow/utils/dump_mlir_util.cc:269] disabling MLIR crash reproducer, set env var `MLIR_CRASH_REPRODUCER_DIRECTORY` to enable.\n",
      "2023-07-17 21:49:23.066717: I tensorflow/tsl/platform/default/subprocess.cc:304] Start cannot spawn child process: Permission denied\n",
      "2023-07-17 21:49:23.157476: I ./tensorflow/compiler/jit/device_compiler.h:180] Compiled cluster using XLA!  This line is logged at most once for the lifetime of the process.\n"
     ]
    },
    {
     "name": "stdout",
     "output_type": "stream",
     "text": [
      "15/15 [==============================] - 5s 20ms/step - loss: 2.3126 - accuracy: 0.1089\n",
      "Epoch 2/200\n",
      "15/15 [==============================] - 0s 8ms/step - loss: 2.2119 - accuracy: 0.1222\n",
      "Epoch 3/200\n",
      "15/15 [==============================] - 0s 8ms/step - loss: 2.0031 - accuracy: 0.1978\n",
      "Epoch 4/200\n",
      "15/15 [==============================] - 0s 8ms/step - loss: 1.9976 - accuracy: 0.2089\n",
      "Epoch 5/200\n",
      "15/15 [==============================] - 0s 8ms/step - loss: 1.9093 - accuracy: 0.2178\n",
      "Epoch 6/200\n",
      "15/15 [==============================] - 0s 8ms/step - loss: 1.8913 - accuracy: 0.2311\n",
      "Epoch 7/200\n",
      "15/15 [==============================] - 0s 9ms/step - loss: 1.8630 - accuracy: 0.2422\n",
      "Epoch 8/200\n",
      "15/15 [==============================] - 0s 8ms/step - loss: 1.7919 - accuracy: 0.2578\n",
      "Epoch 9/200\n",
      "15/15 [==============================] - 0s 8ms/step - loss: 1.8181 - accuracy: 0.2511\n",
      "Epoch 10/200\n",
      "15/15 [==============================] - 0s 8ms/step - loss: 1.7884 - accuracy: 0.2556\n",
      "Epoch 11/200\n",
      "15/15 [==============================] - 0s 8ms/step - loss: 1.6197 - accuracy: 0.3044\n",
      "Epoch 12/200\n",
      "15/15 [==============================] - 0s 8ms/step - loss: 1.5920 - accuracy: 0.3244\n",
      "Epoch 13/200\n",
      "15/15 [==============================] - 0s 8ms/step - loss: 1.5976 - accuracy: 0.3756\n",
      "Epoch 14/200\n",
      "15/15 [==============================] - 0s 8ms/step - loss: 1.5270 - accuracy: 0.3756\n",
      "Epoch 15/200\n",
      "15/15 [==============================] - 0s 9ms/step - loss: 1.4008 - accuracy: 0.4733\n",
      "Epoch 16/200\n",
      "15/15 [==============================] - 0s 8ms/step - loss: 1.7086 - accuracy: 0.3333\n",
      "Epoch 17/200\n",
      "15/15 [==============================] - 0s 9ms/step - loss: 1.5385 - accuracy: 0.3511\n",
      "Epoch 18/200\n",
      "15/15 [==============================] - 0s 8ms/step - loss: 1.4054 - accuracy: 0.4311\n",
      "Epoch 19/200\n",
      "15/15 [==============================] - 0s 8ms/step - loss: 1.3196 - accuracy: 0.4933\n",
      "Epoch 20/200\n",
      "15/15 [==============================] - 0s 9ms/step - loss: 1.7319 - accuracy: 0.3156\n",
      "Epoch 21/200\n",
      "15/15 [==============================] - 0s 9ms/step - loss: 1.3138 - accuracy: 0.5156\n",
      "Epoch 22/200\n",
      "15/15 [==============================] - 0s 8ms/step - loss: 1.3473 - accuracy: 0.4644\n",
      "Epoch 23/200\n",
      "15/15 [==============================] - 0s 9ms/step - loss: 1.3627 - accuracy: 0.4733\n",
      "Epoch 24/200\n",
      "15/15 [==============================] - 0s 8ms/step - loss: 1.4451 - accuracy: 0.3889\n",
      "Epoch 25/200\n",
      "15/15 [==============================] - 0s 9ms/step - loss: 1.3755 - accuracy: 0.4156\n",
      "Epoch 26/200\n",
      "15/15 [==============================] - 0s 9ms/step - loss: 1.2336 - accuracy: 0.5289\n",
      "Epoch 27/200\n",
      "15/15 [==============================] - 0s 8ms/step - loss: 1.2145 - accuracy: 0.5067\n",
      "Epoch 28/200\n",
      "15/15 [==============================] - 0s 8ms/step - loss: 1.1416 - accuracy: 0.5400\n",
      "Epoch 29/200\n",
      "15/15 [==============================] - 0s 8ms/step - loss: 1.1062 - accuracy: 0.5711\n",
      "Epoch 30/200\n",
      "15/15 [==============================] - 0s 9ms/step - loss: 1.1918 - accuracy: 0.5111\n",
      "Epoch 31/200\n",
      "15/15 [==============================] - 0s 8ms/step - loss: 1.1340 - accuracy: 0.5644\n",
      "Epoch 32/200\n",
      "15/15 [==============================] - 0s 8ms/step - loss: 1.1509 - accuracy: 0.5333\n",
      "Epoch 33/200\n",
      "15/15 [==============================] - 0s 8ms/step - loss: 1.0993 - accuracy: 0.5711\n",
      "Epoch 34/200\n",
      "15/15 [==============================] - 0s 9ms/step - loss: 0.9783 - accuracy: 0.6200\n",
      "Epoch 35/200\n",
      "15/15 [==============================] - 0s 9ms/step - loss: 0.8928 - accuracy: 0.6600\n",
      "Epoch 36/200\n",
      "15/15 [==============================] - 0s 8ms/step - loss: 1.0537 - accuracy: 0.5911\n",
      "Epoch 37/200\n",
      "15/15 [==============================] - 0s 9ms/step - loss: 0.9781 - accuracy: 0.6356\n",
      "Epoch 38/200\n",
      "15/15 [==============================] - 0s 8ms/step - loss: 0.8993 - accuracy: 0.6289\n",
      "Epoch 39/200\n",
      "15/15 [==============================] - 0s 9ms/step - loss: 0.8460 - accuracy: 0.6578\n",
      "Epoch 40/200\n",
      "15/15 [==============================] - 0s 8ms/step - loss: 0.8590 - accuracy: 0.6578\n",
      "Epoch 41/200\n",
      "15/15 [==============================] - 0s 9ms/step - loss: 0.8220 - accuracy: 0.6622\n",
      "Epoch 42/200\n",
      "15/15 [==============================] - 0s 8ms/step - loss: 1.0408 - accuracy: 0.5689\n",
      "Epoch 43/200\n",
      "15/15 [==============================] - 0s 9ms/step - loss: 0.8076 - accuracy: 0.6911\n",
      "Epoch 44/200\n",
      "15/15 [==============================] - 0s 8ms/step - loss: 0.7941 - accuracy: 0.6933\n",
      "Epoch 45/200\n",
      "15/15 [==============================] - 0s 8ms/step - loss: 0.6882 - accuracy: 0.7378\n",
      "Epoch 46/200\n",
      "15/15 [==============================] - 0s 9ms/step - loss: 0.7073 - accuracy: 0.7378\n",
      "Epoch 47/200\n",
      "15/15 [==============================] - 0s 8ms/step - loss: 0.8025 - accuracy: 0.6711\n",
      "Epoch 48/200\n",
      "15/15 [==============================] - 0s 9ms/step - loss: 1.5570 - accuracy: 0.4333\n",
      "Epoch 49/200\n",
      "15/15 [==============================] - 0s 9ms/step - loss: 1.2462 - accuracy: 0.5178\n",
      "Epoch 50/200\n",
      "15/15 [==============================] - 0s 9ms/step - loss: 0.9287 - accuracy: 0.5978\n",
      "Epoch 51/200\n",
      "15/15 [==============================] - 0s 9ms/step - loss: 1.0687 - accuracy: 0.6044\n",
      "Epoch 52/200\n",
      "15/15 [==============================] - 0s 9ms/step - loss: 0.9391 - accuracy: 0.6600\n",
      "Epoch 53/200\n",
      "15/15 [==============================] - 0s 8ms/step - loss: 0.8197 - accuracy: 0.6756\n",
      "Epoch 54/200\n",
      "15/15 [==============================] - 0s 8ms/step - loss: 0.8412 - accuracy: 0.6422\n",
      "Epoch 55/200\n",
      "15/15 [==============================] - 0s 8ms/step - loss: 0.8168 - accuracy: 0.6511\n",
      "Epoch 56/200\n",
      "15/15 [==============================] - 0s 8ms/step - loss: 0.7308 - accuracy: 0.7022\n",
      "Epoch 57/200\n",
      "15/15 [==============================] - 0s 8ms/step - loss: 0.6014 - accuracy: 0.7467\n",
      "Epoch 58/200\n",
      "15/15 [==============================] - 0s 10ms/step - loss: 0.7048 - accuracy: 0.7022\n",
      "Epoch 59/200\n",
      "15/15 [==============================] - 0s 9ms/step - loss: 0.7004 - accuracy: 0.7244\n",
      "Epoch 60/200\n",
      "15/15 [==============================] - 0s 9ms/step - loss: 0.6216 - accuracy: 0.7556\n",
      "Epoch 61/200\n",
      "15/15 [==============================] - 0s 8ms/step - loss: 0.5540 - accuracy: 0.7733\n",
      "Epoch 62/200\n",
      "15/15 [==============================] - 0s 8ms/step - loss: 0.5626 - accuracy: 0.7711\n",
      "Epoch 63/200\n",
      "15/15 [==============================] - 0s 9ms/step - loss: 0.6314 - accuracy: 0.7489\n",
      "Epoch 64/200\n",
      "15/15 [==============================] - 0s 8ms/step - loss: 1.1473 - accuracy: 0.5889\n",
      "Epoch 65/200\n",
      "15/15 [==============================] - 0s 8ms/step - loss: 0.7094 - accuracy: 0.7267\n",
      "Epoch 66/200\n",
      "15/15 [==============================] - 0s 8ms/step - loss: 0.5509 - accuracy: 0.7889\n",
      "Epoch 67/200\n",
      "15/15 [==============================] - 0s 8ms/step - loss: 0.4762 - accuracy: 0.8333\n",
      "Epoch 68/200\n",
      "15/15 [==============================] - 0s 8ms/step - loss: 0.5088 - accuracy: 0.7844\n",
      "Epoch 69/200\n",
      "15/15 [==============================] - 0s 8ms/step - loss: 0.4243 - accuracy: 0.8000\n",
      "Epoch 70/200\n",
      "15/15 [==============================] - 0s 8ms/step - loss: 0.5653 - accuracy: 0.7800\n",
      "Epoch 71/200\n",
      "15/15 [==============================] - 0s 8ms/step - loss: 0.4755 - accuracy: 0.8067\n",
      "Epoch 72/200\n",
      "15/15 [==============================] - 0s 8ms/step - loss: 0.5505 - accuracy: 0.7844\n",
      "Epoch 73/200\n",
      "15/15 [==============================] - 0s 9ms/step - loss: 0.5100 - accuracy: 0.7889\n",
      "Epoch 74/200\n",
      "15/15 [==============================] - 0s 11ms/step - loss: 0.6242 - accuracy: 0.7556\n",
      "Epoch 75/200\n",
      "15/15 [==============================] - 0s 10ms/step - loss: 0.4664 - accuracy: 0.7956\n",
      "Epoch 76/200\n",
      "15/15 [==============================] - 0s 10ms/step - loss: 0.4328 - accuracy: 0.8244\n",
      "Epoch 77/200\n",
      "15/15 [==============================] - 0s 13ms/step - loss: 0.3462 - accuracy: 0.8600\n",
      "Epoch 78/200\n",
      "15/15 [==============================] - 0s 10ms/step - loss: 0.3810 - accuracy: 0.8356\n",
      "Epoch 79/200\n",
      "15/15 [==============================] - 0s 8ms/step - loss: 0.4307 - accuracy: 0.8422\n",
      "Epoch 80/200\n",
      "15/15 [==============================] - 0s 8ms/step - loss: 0.4461 - accuracy: 0.8333\n",
      "Epoch 81/200\n",
      "15/15 [==============================] - 0s 8ms/step - loss: 0.4875 - accuracy: 0.7978\n",
      "Epoch 82/200\n",
      "15/15 [==============================] - 0s 8ms/step - loss: 0.3849 - accuracy: 0.8444\n",
      "Epoch 83/200\n"
     ]
    },
    {
     "name": "stdout",
     "output_type": "stream",
     "text": [
      "15/15 [==============================] - 0s 8ms/step - loss: 0.4165 - accuracy: 0.8200\n",
      "Epoch 84/200\n",
      "15/15 [==============================] - 0s 8ms/step - loss: 0.3046 - accuracy: 0.8889\n",
      "Epoch 85/200\n",
      "15/15 [==============================] - 0s 8ms/step - loss: 0.3342 - accuracy: 0.8489\n",
      "Epoch 86/200\n",
      "15/15 [==============================] - 0s 8ms/step - loss: 0.3202 - accuracy: 0.8644\n",
      "Epoch 87/200\n",
      "15/15 [==============================] - 0s 8ms/step - loss: 0.3773 - accuracy: 0.8533\n",
      "Epoch 88/200\n",
      "15/15 [==============================] - 0s 8ms/step - loss: 0.3376 - accuracy: 0.8622\n",
      "Epoch 89/200\n",
      "15/15 [==============================] - 0s 8ms/step - loss: 0.2836 - accuracy: 0.8889\n",
      "Epoch 90/200\n",
      "15/15 [==============================] - 0s 9ms/step - loss: 0.5538 - accuracy: 0.8156\n",
      "Epoch 91/200\n",
      "15/15 [==============================] - 0s 8ms/step - loss: 0.6849 - accuracy: 0.7578\n",
      "Epoch 92/200\n",
      "15/15 [==============================] - 0s 8ms/step - loss: 0.9376 - accuracy: 0.6711\n",
      "Epoch 93/200\n",
      "15/15 [==============================] - 0s 8ms/step - loss: 0.4954 - accuracy: 0.8111\n",
      "Epoch 94/200\n",
      "15/15 [==============================] - 0s 8ms/step - loss: 0.3616 - accuracy: 0.8622\n",
      "Epoch 95/200\n",
      "15/15 [==============================] - 0s 8ms/step - loss: 0.2909 - accuracy: 0.8933\n",
      "Epoch 96/200\n",
      "15/15 [==============================] - 0s 8ms/step - loss: 0.6289 - accuracy: 0.7533\n",
      "Epoch 97/200\n",
      "15/15 [==============================] - 0s 8ms/step - loss: 0.7472 - accuracy: 0.6867\n",
      "Epoch 98/200\n",
      "15/15 [==============================] - 0s 8ms/step - loss: 0.4275 - accuracy: 0.8244\n",
      "Epoch 99/200\n",
      "15/15 [==============================] - 0s 8ms/step - loss: 0.3839 - accuracy: 0.8489\n",
      "Epoch 100/200\n",
      "15/15 [==============================] - 0s 8ms/step - loss: 1.0486 - accuracy: 0.6600\n",
      "Epoch 101/200\n",
      "15/15 [==============================] - 0s 8ms/step - loss: 0.9111 - accuracy: 0.6844\n",
      "Epoch 102/200\n",
      "15/15 [==============================] - 0s 8ms/step - loss: 0.5842 - accuracy: 0.7667\n",
      "Epoch 103/200\n",
      "15/15 [==============================] - 0s 8ms/step - loss: 0.5379 - accuracy: 0.7889\n",
      "Epoch 104/200\n",
      "15/15 [==============================] - 0s 8ms/step - loss: 0.4442 - accuracy: 0.8400\n",
      "Epoch 105/200\n",
      "15/15 [==============================] - 0s 9ms/step - loss: 0.3023 - accuracy: 0.8867\n",
      "Epoch 106/200\n",
      "15/15 [==============================] - 0s 8ms/step - loss: 0.3369 - accuracy: 0.8844\n",
      "Epoch 107/200\n",
      "15/15 [==============================] - 0s 8ms/step - loss: 0.2947 - accuracy: 0.8800\n",
      "Epoch 108/200\n",
      "15/15 [==============================] - 0s 8ms/step - loss: 0.2965 - accuracy: 0.8889\n",
      "Epoch 109/200\n",
      "15/15 [==============================] - 0s 9ms/step - loss: 0.2606 - accuracy: 0.9111\n",
      "Epoch 110/200\n",
      "15/15 [==============================] - 0s 9ms/step - loss: 0.2072 - accuracy: 0.9200\n",
      "Epoch 111/200\n",
      "15/15 [==============================] - 0s 9ms/step - loss: 0.2184 - accuracy: 0.9200\n",
      "Epoch 112/200\n",
      "15/15 [==============================] - 0s 8ms/step - loss: 0.5714 - accuracy: 0.7911\n",
      "Epoch 113/200\n",
      "15/15 [==============================] - 0s 9ms/step - loss: 0.4427 - accuracy: 0.8089\n",
      "Epoch 114/200\n",
      "15/15 [==============================] - 0s 8ms/step - loss: 0.2988 - accuracy: 0.8867\n",
      "Epoch 115/200\n",
      "15/15 [==============================] - 0s 8ms/step - loss: 0.2212 - accuracy: 0.9267\n",
      "Epoch 116/200\n",
      "15/15 [==============================] - 0s 8ms/step - loss: 0.2336 - accuracy: 0.9178\n",
      "Epoch 117/200\n",
      "15/15 [==============================] - 0s 8ms/step - loss: 0.2309 - accuracy: 0.9089\n",
      "Epoch 118/200\n",
      "15/15 [==============================] - 0s 8ms/step - loss: 0.1824 - accuracy: 0.9333\n",
      "Epoch 119/200\n",
      "15/15 [==============================] - 0s 8ms/step - loss: 0.1374 - accuracy: 0.9489\n",
      "Epoch 120/200\n",
      "15/15 [==============================] - 0s 9ms/step - loss: 0.1692 - accuracy: 0.9222\n",
      "Epoch 121/200\n",
      "15/15 [==============================] - 0s 9ms/step - loss: 0.3588 - accuracy: 0.8578\n",
      "Epoch 122/200\n",
      "15/15 [==============================] - 0s 8ms/step - loss: 0.3561 - accuracy: 0.8622\n",
      "Epoch 123/200\n",
      "15/15 [==============================] - 0s 8ms/step - loss: 0.2064 - accuracy: 0.9267\n",
      "Epoch 124/200\n",
      "15/15 [==============================] - 0s 8ms/step - loss: 0.1525 - accuracy: 0.9444\n",
      "Epoch 125/200\n",
      "15/15 [==============================] - 0s 8ms/step - loss: 0.1388 - accuracy: 0.9511\n",
      "Epoch 126/200\n",
      "15/15 [==============================] - 0s 9ms/step - loss: 0.3282 - accuracy: 0.8956\n",
      "Epoch 127/200\n",
      "15/15 [==============================] - 0s 8ms/step - loss: 0.3449 - accuracy: 0.8489\n",
      "Epoch 128/200\n",
      "15/15 [==============================] - 0s 8ms/step - loss: 0.2462 - accuracy: 0.9089\n",
      "Epoch 129/200\n",
      "15/15 [==============================] - 0s 8ms/step - loss: 0.2041 - accuracy: 0.9156\n",
      "Epoch 130/200\n",
      "15/15 [==============================] - 0s 8ms/step - loss: 0.2262 - accuracy: 0.9200\n",
      "Epoch 131/200\n",
      "15/15 [==============================] - 0s 8ms/step - loss: 0.1664 - accuracy: 0.9289\n",
      "Epoch 132/200\n",
      "15/15 [==============================] - 0s 9ms/step - loss: 0.1396 - accuracy: 0.9422\n",
      "Epoch 133/200\n",
      "15/15 [==============================] - 0s 8ms/step - loss: 0.1529 - accuracy: 0.9378\n",
      "Epoch 134/200\n",
      "15/15 [==============================] - 0s 8ms/step - loss: 0.3839 - accuracy: 0.9022\n",
      "Epoch 135/200\n",
      "15/15 [==============================] - 0s 8ms/step - loss: 0.4727 - accuracy: 0.8511\n",
      "Epoch 136/200\n",
      "15/15 [==============================] - 0s 9ms/step - loss: 0.3030 - accuracy: 0.8822\n",
      "Epoch 137/200\n",
      "15/15 [==============================] - 0s 8ms/step - loss: 0.2504 - accuracy: 0.9111\n",
      "Epoch 138/200\n",
      "15/15 [==============================] - 0s 9ms/step - loss: 0.1636 - accuracy: 0.9289\n",
      "Epoch 139/200\n",
      "15/15 [==============================] - 0s 8ms/step - loss: 0.1192 - accuracy: 0.9533\n",
      "Epoch 140/200\n",
      "15/15 [==============================] - 0s 8ms/step - loss: 0.1065 - accuracy: 0.9622\n",
      "Epoch 141/200\n",
      "15/15 [==============================] - 0s 8ms/step - loss: 0.0890 - accuracy: 0.9689\n",
      "Epoch 142/200\n",
      "15/15 [==============================] - 0s 8ms/step - loss: 0.0867 - accuracy: 0.9667\n",
      "Epoch 143/200\n",
      "15/15 [==============================] - 0s 8ms/step - loss: 0.1586 - accuracy: 0.9378\n",
      "Epoch 144/200\n",
      "15/15 [==============================] - 0s 8ms/step - loss: 0.1736 - accuracy: 0.9400\n",
      "Epoch 145/200\n",
      "15/15 [==============================] - 0s 8ms/step - loss: 0.1335 - accuracy: 0.9511\n",
      "Epoch 146/200\n",
      "15/15 [==============================] - 0s 8ms/step - loss: 0.2459 - accuracy: 0.9178\n",
      "Epoch 147/200\n",
      "15/15 [==============================] - 0s 8ms/step - loss: 0.1567 - accuracy: 0.9444\n",
      "Epoch 148/200\n",
      "15/15 [==============================] - 0s 8ms/step - loss: 0.6939 - accuracy: 0.8244\n",
      "Epoch 149/200\n",
      "15/15 [==============================] - 0s 8ms/step - loss: 0.8696 - accuracy: 0.7000\n",
      "Epoch 150/200\n",
      "15/15 [==============================] - 0s 8ms/step - loss: 0.7943 - accuracy: 0.7022\n",
      "Epoch 151/200\n",
      "15/15 [==============================] - 0s 9ms/step - loss: 0.4686 - accuracy: 0.8356\n",
      "Epoch 152/200\n",
      "15/15 [==============================] - 0s 9ms/step - loss: 0.3422 - accuracy: 0.8644\n",
      "Epoch 153/200\n",
      "15/15 [==============================] - 0s 9ms/step - loss: 0.2471 - accuracy: 0.9133\n",
      "Epoch 154/200\n",
      "15/15 [==============================] - 0s 8ms/step - loss: 0.1946 - accuracy: 0.9244\n",
      "Epoch 155/200\n",
      "15/15 [==============================] - 0s 8ms/step - loss: 0.1883 - accuracy: 0.9289\n",
      "Epoch 156/200\n",
      "15/15 [==============================] - 0s 8ms/step - loss: 0.1204 - accuracy: 0.9622\n",
      "Epoch 157/200\n",
      "15/15 [==============================] - 0s 8ms/step - loss: 0.2023 - accuracy: 0.9200\n",
      "Epoch 158/200\n",
      "15/15 [==============================] - 0s 8ms/step - loss: 0.2534 - accuracy: 0.9133\n",
      "Epoch 159/200\n",
      "15/15 [==============================] - 0s 8ms/step - loss: 0.2392 - accuracy: 0.8978\n",
      "Epoch 160/200\n",
      "15/15 [==============================] - 0s 8ms/step - loss: 0.4196 - accuracy: 0.8622\n",
      "Epoch 161/200\n",
      "15/15 [==============================] - 0s 8ms/step - loss: 0.3016 - accuracy: 0.8733\n",
      "Epoch 162/200\n",
      "15/15 [==============================] - 0s 8ms/step - loss: 0.3844 - accuracy: 0.8422\n",
      "Epoch 163/200\n",
      "15/15 [==============================] - 0s 8ms/step - loss: 0.6930 - accuracy: 0.7444\n",
      "Epoch 164/200\n"
     ]
    },
    {
     "name": "stdout",
     "output_type": "stream",
     "text": [
      "15/15 [==============================] - 0s 8ms/step - loss: 0.4781 - accuracy: 0.8067\n",
      "Epoch 165/200\n",
      "15/15 [==============================] - 0s 8ms/step - loss: 0.3027 - accuracy: 0.9067\n",
      "Epoch 166/200\n",
      "15/15 [==============================] - 0s 9ms/step - loss: 0.2154 - accuracy: 0.9311\n",
      "Epoch 167/200\n",
      "15/15 [==============================] - 0s 9ms/step - loss: 0.2089 - accuracy: 0.9378\n",
      "Epoch 168/200\n",
      "15/15 [==============================] - 0s 8ms/step - loss: 0.1583 - accuracy: 0.9422\n",
      "Epoch 169/200\n",
      "15/15 [==============================] - 0s 8ms/step - loss: 0.1175 - accuracy: 0.9667\n",
      "Epoch 170/200\n",
      "15/15 [==============================] - 0s 8ms/step - loss: 0.0966 - accuracy: 0.9667\n",
      "Epoch 171/200\n",
      "15/15 [==============================] - 0s 8ms/step - loss: 0.1534 - accuracy: 0.9400\n",
      "Epoch 172/200\n",
      "15/15 [==============================] - 0s 8ms/step - loss: 0.0920 - accuracy: 0.9644\n",
      "Epoch 173/200\n",
      "15/15 [==============================] - 0s 8ms/step - loss: 0.0956 - accuracy: 0.9711\n",
      "Epoch 174/200\n",
      "15/15 [==============================] - 0s 8ms/step - loss: 0.0686 - accuracy: 0.9756\n",
      "Epoch 175/200\n",
      "15/15 [==============================] - 0s 8ms/step - loss: 0.0628 - accuracy: 0.9733\n",
      "Epoch 176/200\n",
      "15/15 [==============================] - 0s 9ms/step - loss: 0.0810 - accuracy: 0.9667\n",
      "Epoch 177/200\n",
      "15/15 [==============================] - 0s 8ms/step - loss: 0.0722 - accuracy: 0.9733\n",
      "Epoch 178/200\n",
      "15/15 [==============================] - 0s 8ms/step - loss: 0.0682 - accuracy: 0.9711\n",
      "Epoch 179/200\n",
      "15/15 [==============================] - 0s 8ms/step - loss: 0.0525 - accuracy: 0.9778\n",
      "Epoch 180/200\n",
      "15/15 [==============================] - 0s 8ms/step - loss: 0.0679 - accuracy: 0.9756\n",
      "Epoch 181/200\n",
      "15/15 [==============================] - 0s 8ms/step - loss: 0.0398 - accuracy: 0.9844\n",
      "Epoch 182/200\n",
      "15/15 [==============================] - 0s 8ms/step - loss: 0.0414 - accuracy: 0.9867\n",
      "Epoch 183/200\n",
      "15/15 [==============================] - 0s 9ms/step - loss: 0.1504 - accuracy: 0.9511\n",
      "Epoch 184/200\n",
      "15/15 [==============================] - 0s 9ms/step - loss: 0.1018 - accuracy: 0.9600\n",
      "Epoch 185/200\n",
      "15/15 [==============================] - 0s 8ms/step - loss: 0.0634 - accuracy: 0.9711\n",
      "Epoch 186/200\n",
      "15/15 [==============================] - 0s 8ms/step - loss: 0.0453 - accuracy: 0.9844\n",
      "Epoch 187/200\n",
      "15/15 [==============================] - 0s 8ms/step - loss: 0.0337 - accuracy: 0.9933\n",
      "Epoch 188/200\n",
      "15/15 [==============================] - 0s 9ms/step - loss: 0.0246 - accuracy: 0.9956\n",
      "Epoch 189/200\n",
      "15/15 [==============================] - 0s 9ms/step - loss: 0.0224 - accuracy: 0.9978\n",
      "Epoch 190/200\n",
      "15/15 [==============================] - 0s 9ms/step - loss: 0.0178 - accuracy: 0.9978\n",
      "Epoch 191/200\n",
      "15/15 [==============================] - 0s 8ms/step - loss: 0.0171 - accuracy: 1.0000\n",
      "Epoch 192/200\n",
      "15/15 [==============================] - 0s 8ms/step - loss: 0.0312 - accuracy: 0.9867\n",
      "Epoch 193/200\n",
      "15/15 [==============================] - 0s 8ms/step - loss: 0.0930 - accuracy: 0.9733\n",
      "Epoch 194/200\n",
      "15/15 [==============================] - 0s 8ms/step - loss: 0.2362 - accuracy: 0.9222\n",
      "Epoch 195/200\n",
      "15/15 [==============================] - 0s 9ms/step - loss: 0.6985 - accuracy: 0.8222\n",
      "Epoch 196/200\n",
      "15/15 [==============================] - 0s 8ms/step - loss: 0.3642 - accuracy: 0.8600\n",
      "Epoch 197/200\n",
      "15/15 [==============================] - 0s 8ms/step - loss: 0.3122 - accuracy: 0.9000\n",
      "Epoch 198/200\n",
      "15/15 [==============================] - 0s 8ms/step - loss: 0.2407 - accuracy: 0.9089\n",
      "Epoch 199/200\n",
      "15/15 [==============================] - 0s 8ms/step - loss: 0.1737 - accuracy: 0.9356\n",
      "Epoch 200/200\n",
      "15/15 [==============================] - 0s 8ms/step - loss: 0.0960 - accuracy: 0.9689\n"
     ]
    },
    {
     "data": {
      "text/plain": [
       "<keras.callbacks.History at 0x7f8f0326dfd0>"
      ]
     },
     "execution_count": 18,
     "metadata": {},
     "output_type": "execute_result"
    }
   ],
   "source": [
    "# Train the model\n",
    "model.fit(train_features, train_target, epochs=200, batch_size=32)"
   ]
  },
  {
   "cell_type": "code",
   "execution_count": 19,
   "id": "ff1a090a",
   "metadata": {},
   "outputs": [
    {
     "name": "stderr",
     "output_type": "stream",
     "text": [
      "2023-07-17 21:51:44.758569: I tensorflow/core/common_runtime/executor.cc:1197] [/device:CPU:0] (DEBUG INFO) Executor start aborting (this does not indicate an error and you can ignore this message): INVALID_ARGUMENT: You must feed a value for placeholder tensor 'gradients/split_2_grad/concat/split_2/split_dim' with dtype int32\n",
      "\t [[{{node gradients/split_2_grad/concat/split_2/split_dim}}]]\n",
      "2023-07-17 21:51:44.759464: I tensorflow/core/common_runtime/executor.cc:1197] [/device:CPU:0] (DEBUG INFO) Executor start aborting (this does not indicate an error and you can ignore this message): INVALID_ARGUMENT: You must feed a value for placeholder tensor 'gradients/split_grad/concat/split/split_dim' with dtype int32\n",
      "\t [[{{node gradients/split_grad/concat/split/split_dim}}]]\n",
      "2023-07-17 21:51:44.760364: I tensorflow/core/common_runtime/executor.cc:1197] [/device:CPU:0] (DEBUG INFO) Executor start aborting (this does not indicate an error and you can ignore this message): INVALID_ARGUMENT: You must feed a value for placeholder tensor 'gradients/split_1_grad/concat/split_1/split_dim' with dtype int32\n",
      "\t [[{{node gradients/split_1_grad/concat/split_1/split_dim}}]]\n",
      "2023-07-17 21:51:44.836434: I tensorflow/core/common_runtime/executor.cc:1197] [/device:CPU:0] (DEBUG INFO) Executor start aborting (this does not indicate an error and you can ignore this message): INVALID_ARGUMENT: You must feed a value for placeholder tensor 'gradients/split_2_grad/concat/split_2/split_dim' with dtype int32\n",
      "\t [[{{node gradients/split_2_grad/concat/split_2/split_dim}}]]\n",
      "2023-07-17 21:51:44.837350: I tensorflow/core/common_runtime/executor.cc:1197] [/device:CPU:0] (DEBUG INFO) Executor start aborting (this does not indicate an error and you can ignore this message): INVALID_ARGUMENT: You must feed a value for placeholder tensor 'gradients/split_grad/concat/split/split_dim' with dtype int32\n",
      "\t [[{{node gradients/split_grad/concat/split/split_dim}}]]\n",
      "2023-07-17 21:51:44.838215: I tensorflow/core/common_runtime/executor.cc:1197] [/device:CPU:0] (DEBUG INFO) Executor start aborting (this does not indicate an error and you can ignore this message): INVALID_ARGUMENT: You must feed a value for placeholder tensor 'gradients/split_1_grad/concat/split_1/split_dim' with dtype int32\n",
      "\t [[{{node gradients/split_1_grad/concat/split_1/split_dim}}]]\n",
      "2023-07-17 21:51:44.914363: I tensorflow/core/common_runtime/executor.cc:1197] [/device:CPU:0] (DEBUG INFO) Executor start aborting (this does not indicate an error and you can ignore this message): INVALID_ARGUMENT: You must feed a value for placeholder tensor 'gradients/split_2_grad/concat/split_2/split_dim' with dtype int32\n",
      "\t [[{{node gradients/split_2_grad/concat/split_2/split_dim}}]]\n",
      "2023-07-17 21:51:44.915215: I tensorflow/core/common_runtime/executor.cc:1197] [/device:CPU:0] (DEBUG INFO) Executor start aborting (this does not indicate an error and you can ignore this message): INVALID_ARGUMENT: You must feed a value for placeholder tensor 'gradients/split_grad/concat/split/split_dim' with dtype int32\n",
      "\t [[{{node gradients/split_grad/concat/split/split_dim}}]]\n",
      "2023-07-17 21:51:44.915857: I tensorflow/core/common_runtime/executor.cc:1197] [/device:CPU:0] (DEBUG INFO) Executor start aborting (this does not indicate an error and you can ignore this message): INVALID_ARGUMENT: You must feed a value for placeholder tensor 'gradients/split_1_grad/concat/split_1/split_dim' with dtype int32\n",
      "\t [[{{node gradients/split_1_grad/concat/split_1/split_dim}}]]\n"
     ]
    },
    {
     "name": "stdout",
     "output_type": "stream",
     "text": [
      "10/10 [==============================] - 1s 25ms/step - loss: 0.6404 - accuracy: 0.8200\n",
      "Test loss: 0.6404231786727905\n",
      "Test accuracy: 0.8199999928474426\n"
     ]
    }
   ],
   "source": [
    "# Evaluate the model\n",
    "loss, accuracy = model.evaluate(test_features, test_target)\n",
    "print('Test loss:', loss)\n",
    "print('Test accuracy:', accuracy)"
   ]
  },
  {
   "cell_type": "code",
   "execution_count": null,
   "id": "c2f98dac",
   "metadata": {},
   "outputs": [],
   "source": []
  }
 ],
 "metadata": {
  "kernelspec": {
   "display_name": "Python 3 (ipykernel)",
   "language": "python",
   "name": "python3"
  },
  "language_info": {
   "codemirror_mode": {
    "name": "ipython",
    "version": 3
   },
   "file_extension": ".py",
   "mimetype": "text/x-python",
   "name": "python",
   "nbconvert_exporter": "python",
   "pygments_lexer": "ipython3",
   "version": "3.9.16"
  }
 },
 "nbformat": 4,
 "nbformat_minor": 5
}
