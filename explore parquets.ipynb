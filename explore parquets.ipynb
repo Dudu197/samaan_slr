{
 "cells": [
  {
   "cell_type": "code",
   "execution_count": 1,
   "id": "31a32cdb",
   "metadata": {},
   "outputs": [],
   "source": [
    "from pyspark.sql import SparkSession"
   ]
  },
  {
   "cell_type": "code",
   "execution_count": 4,
   "id": "df1d03e0",
   "metadata": {},
   "outputs": [],
   "source": [
    "spark = SparkSession.builder.getOrCreate()"
   ]
  },
  {
   "cell_type": "code",
   "execution_count": null,
   "id": "560c85c4",
   "metadata": {},
   "outputs": [],
   "source": [
    "df = spark.read.parquet(\"../datasets/google asl/train_landmark_files/2044/*.parquet\")"
   ]
  },
  {
   "cell_type": "code",
   "execution_count": 8,
   "id": "4b968ab1",
   "metadata": {},
   "outputs": [
    {
     "data": {
      "text/plain": [
       "DataFrame[frame: smallint, row_id: string, type: string, landmark_index: smallint, x: double, y: double, z: double]"
      ]
     },
     "execution_count": 8,
     "metadata": {},
     "output_type": "execute_result"
    }
   ],
   "source": [
    "df"
   ]
  },
  {
   "cell_type": "code",
   "execution_count": 9,
   "id": "4be6c6bc",
   "metadata": {},
   "outputs": [
    {
     "name": "stdout",
     "output_type": "stream",
     "text": [
      "+-----+----------+----+--------------+-------------------+-------------------+--------------------+\n",
      "|frame|    row_id|type|landmark_index|                  x|                  y|                   z|\n",
      "+-----+----------+----+--------------+-------------------+-------------------+--------------------+\n",
      "|   22| 22-face-0|face|             0|0.43825069069862366|  0.449452668428421|-0.04782642051577568|\n",
      "|   22| 22-face-1|face|             1|0.41452744603157043|0.40488025546073914|-0.07199390232563019|\n",
      "|   22| 22-face-2|face|             2|0.42374512553215027| 0.4206811487674713|-0.04214530065655708|\n",
      "|   22| 22-face-3|face|             3| 0.4023492932319641| 0.3720405101776123|-0.04390575364232063|\n",
      "|   22| 22-face-4|face|             4| 0.4118565618991852|0.39301347732543945|-0.07474739104509354|\n",
      "|   22| 22-face-5|face|             5| 0.4115868806838989|0.37933847308158875|-0.06694532930850983|\n",
      "|   22| 22-face-6|face|             6|0.41367414593696594| 0.3478865921497345|-0.02378724701702...|\n",
      "|   22| 22-face-7|face|             7|0.34034112095832825| 0.3615873456001282|0.056790970265865326|\n",
      "|   22| 22-face-8|face|             8|0.41199055314064026|  0.323421448469162|-0.00949243642389...|\n",
      "|   22| 22-face-9|face|             9|0.40913456678390503|0.30853506922721863|-0.00869176816195...|\n",
      "|   22|22-face-10|face|            10| 0.4019249975681305|0.25245386362075806|0.018373779952526093|\n",
      "|   22|22-face-11|face|            11| 0.4391152262687683| 0.4539342522621155|-0.04667719826102257|\n",
      "|   22|22-face-12|face|            12| 0.4402366876602173|0.45845288038253784|-0.04270341247320175|\n",
      "|   22|22-face-13|face|            13|0.44144776463508606|0.46144530177116394|-0.03718314692378044|\n",
      "|   22|22-face-14|face|            14|0.44170790910720825|0.46177101135253906|-0.03929904848337...|\n",
      "|   22|22-face-15|face|            15|  0.442383348941803|0.46582821011543274|-0.04252680391073227|\n",
      "|   22|22-face-16|face|            16|0.44334080815315247| 0.4709368646144867|-0.04684560373425484|\n",
      "|   22|22-face-17|face|            17|0.44476377964019775| 0.4770256578922272|-0.04741421341896057|\n",
      "|   22|22-face-18|face|            18|0.44355374574661255| 0.4935643672943115|-0.03812909126281738|\n",
      "|   22|22-face-19|face|            19|  0.418134868144989| 0.4122675061225891|-0.06613036245107651|\n",
      "+-----+----------+----+--------------+-------------------+-------------------+--------------------+\n",
      "only showing top 20 rows\n",
      "\n"
     ]
    }
   ],
   "source": [
    "df.show()"
   ]
  },
  {
   "cell_type": "code",
   "execution_count": 1,
   "id": "a733368c",
   "metadata": {},
   "outputs": [],
   "source": [
    "import pandas as pd\n",
    "from pathlib import Path\n",
    "import os"
   ]
  },
  {
   "cell_type": "code",
   "execution_count": 2,
   "id": "086094b4",
   "metadata": {},
   "outputs": [],
   "source": [
    "data_path = '../datasets/google asl/train_landmark_files/'\n",
    "participant_ids = os.listdir(data_path)[10]"
   ]
  },
  {
   "cell_type": "code",
   "execution_count": 3,
   "id": "331a911c",
   "metadata": {},
   "outputs": [],
   "source": [
    "data = []"
   ]
  },
  {
   "cell_type": "code",
   "execution_count": 5,
   "id": "6613fb4f",
   "metadata": {},
   "outputs": [],
   "source": [
    "for participant in participant_ids:\n",
    "    data_dir = Path(data_path + participant)\n",
    "    full_df = pd.concat(\n",
    "        pd.read_parquet(parquet_file)\n",
    "        for parquet_file in data_dir.glob('*.parquet')\n",
    "    )\n",
    "    data.append({\n",
    "        \"participant_id\": participant,\n",
    "        \"max_frames\": full_df.frame.max(),\n",
    "        \"min_frames\": full_df.frame.min(),\n",
    "        \"landmarks\": full_df.landmark_index.max()\n",
    "    })\n",
    "# full_df.to_csv('csv_file.csv')"
   ]
  },
  {
   "cell_type": "code",
   "execution_count": 6,
   "id": "72471b31",
   "metadata": {},
   "outputs": [
    {
     "data": {
      "text/plain": [
       "[{'participant_id': '16069',\n",
       "  'max_frames': 536,\n",
       "  'min_frames': 0,\n",
       "  'landmarks': 467},\n",
       " {'participant_id': '18796',\n",
       "  'max_frames': 537,\n",
       "  'min_frames': 0,\n",
       "  'landmarks': 467},\n",
       " {'participant_id': '2044',\n",
       "  'max_frames': 87,\n",
       "  'min_frames': 0,\n",
       "  'landmarks': 467},\n",
       " {'participant_id': '22343',\n",
       "  'max_frames': 347,\n",
       "  'min_frames': 0,\n",
       "  'landmarks': 467},\n",
       " {'participant_id': '25571',\n",
       "  'max_frames': 256,\n",
       "  'min_frames': 0,\n",
       "  'landmarks': 467},\n",
       " {'participant_id': '26734',\n",
       "  'max_frames': 384,\n",
       "  'min_frames': 0,\n",
       "  'landmarks': 467},\n",
       " {'participant_id': '27610',\n",
       "  'max_frames': 354,\n",
       "  'min_frames': 0,\n",
       "  'landmarks': 467},\n",
       " {'participant_id': '28656',\n",
       "  'max_frames': 421,\n",
       "  'min_frames': 0,\n",
       "  'landmarks': 467},\n",
       " {'participant_id': '29302',\n",
       "  'max_frames': 368,\n",
       "  'min_frames': 0,\n",
       "  'landmarks': 467},\n",
       " {'participant_id': '30680',\n",
       "  'max_frames': 248,\n",
       "  'min_frames': 0,\n",
       "  'landmarks': 467}]"
      ]
     },
     "execution_count": 6,
     "metadata": {},
     "output_type": "execute_result"
    }
   ],
   "source": [
    "data"
   ]
  },
  {
   "cell_type": "code",
   "execution_count": 7,
   "id": "ec16114f",
   "metadata": {},
   "outputs": [
    {
     "data": {
      "text/html": [
       "<div>\n",
       "<style scoped>\n",
       "    .dataframe tbody tr th:only-of-type {\n",
       "        vertical-align: middle;\n",
       "    }\n",
       "\n",
       "    .dataframe tbody tr th {\n",
       "        vertical-align: top;\n",
       "    }\n",
       "\n",
       "    .dataframe thead th {\n",
       "        text-align: right;\n",
       "    }\n",
       "</style>\n",
       "<table border=\"1\" class=\"dataframe\">\n",
       "  <thead>\n",
       "    <tr style=\"text-align: right;\">\n",
       "      <th></th>\n",
       "      <th>frame</th>\n",
       "      <th>row_id</th>\n",
       "      <th>type</th>\n",
       "      <th>landmark_index</th>\n",
       "      <th>x</th>\n",
       "      <th>y</th>\n",
       "      <th>z</th>\n",
       "    </tr>\n",
       "  </thead>\n",
       "  <tbody>\n",
       "    <tr>\n",
       "      <th>0</th>\n",
       "      <td>92</td>\n",
       "      <td>92-face-0</td>\n",
       "      <td>face</td>\n",
       "      <td>0</td>\n",
       "      <td>0.492523</td>\n",
       "      <td>0.468774</td>\n",
       "      <td>-0.057683</td>\n",
       "    </tr>\n",
       "    <tr>\n",
       "      <th>1</th>\n",
       "      <td>92</td>\n",
       "      <td>92-face-1</td>\n",
       "      <td>face</td>\n",
       "      <td>1</td>\n",
       "      <td>0.484869</td>\n",
       "      <td>0.442351</td>\n",
       "      <td>-0.061070</td>\n",
       "    </tr>\n",
       "    <tr>\n",
       "      <th>2</th>\n",
       "      <td>92</td>\n",
       "      <td>92-face-2</td>\n",
       "      <td>face</td>\n",
       "      <td>2</td>\n",
       "      <td>0.485326</td>\n",
       "      <td>0.458119</td>\n",
       "      <td>-0.044875</td>\n",
       "    </tr>\n",
       "    <tr>\n",
       "      <th>3</th>\n",
       "      <td>92</td>\n",
       "      <td>92-face-3</td>\n",
       "      <td>face</td>\n",
       "      <td>3</td>\n",
       "      <td>0.479605</td>\n",
       "      <td>0.425289</td>\n",
       "      <td>-0.026963</td>\n",
       "    </tr>\n",
       "    <tr>\n",
       "      <th>4</th>\n",
       "      <td>92</td>\n",
       "      <td>92-face-4</td>\n",
       "      <td>face</td>\n",
       "      <td>4</td>\n",
       "      <td>0.485750</td>\n",
       "      <td>0.434513</td>\n",
       "      <td>-0.059261</td>\n",
       "    </tr>\n",
       "    <tr>\n",
       "      <th>...</th>\n",
       "      <td>...</td>\n",
       "      <td>...</td>\n",
       "      <td>...</td>\n",
       "      <td>...</td>\n",
       "      <td>...</td>\n",
       "      <td>...</td>\n",
       "      <td>...</td>\n",
       "    </tr>\n",
       "    <tr>\n",
       "      <th>11941</th>\n",
       "      <td>39</td>\n",
       "      <td>39-right_hand-16</td>\n",
       "      <td>right_hand</td>\n",
       "      <td>16</td>\n",
       "      <td>0.234996</td>\n",
       "      <td>0.633677</td>\n",
       "      <td>-0.140368</td>\n",
       "    </tr>\n",
       "    <tr>\n",
       "      <th>11942</th>\n",
       "      <td>39</td>\n",
       "      <td>39-right_hand-17</td>\n",
       "      <td>right_hand</td>\n",
       "      <td>17</td>\n",
       "      <td>0.110940</td>\n",
       "      <td>0.547606</td>\n",
       "      <td>-0.153529</td>\n",
       "    </tr>\n",
       "    <tr>\n",
       "      <th>11943</th>\n",
       "      <td>39</td>\n",
       "      <td>39-right_hand-18</td>\n",
       "      <td>right_hand</td>\n",
       "      <td>18</td>\n",
       "      <td>0.189347</td>\n",
       "      <td>0.595378</td>\n",
       "      <td>-0.178484</td>\n",
       "    </tr>\n",
       "    <tr>\n",
       "      <th>11944</th>\n",
       "      <td>39</td>\n",
       "      <td>39-right_hand-19</td>\n",
       "      <td>right_hand</td>\n",
       "      <td>19</td>\n",
       "      <td>0.200662</td>\n",
       "      <td>0.621181</td>\n",
       "      <td>-0.160581</td>\n",
       "    </tr>\n",
       "    <tr>\n",
       "      <th>11945</th>\n",
       "      <td>39</td>\n",
       "      <td>39-right_hand-20</td>\n",
       "      <td>right_hand</td>\n",
       "      <td>20</td>\n",
       "      <td>0.190426</td>\n",
       "      <td>0.629422</td>\n",
       "      <td>-0.142788</td>\n",
       "    </tr>\n",
       "  </tbody>\n",
       "</table>\n",
       "<p>32802087 rows × 7 columns</p>\n",
       "</div>"
      ],
      "text/plain": [
       "       frame            row_id        type  landmark_index         x  \\\n",
       "0         92         92-face-0        face               0  0.492523   \n",
       "1         92         92-face-1        face               1  0.484869   \n",
       "2         92         92-face-2        face               2  0.485326   \n",
       "3         92         92-face-3        face               3  0.479605   \n",
       "4         92         92-face-4        face               4  0.485750   \n",
       "...      ...               ...         ...             ...       ...   \n",
       "11941     39  39-right_hand-16  right_hand              16  0.234996   \n",
       "11942     39  39-right_hand-17  right_hand              17  0.110940   \n",
       "11943     39  39-right_hand-18  right_hand              18  0.189347   \n",
       "11944     39  39-right_hand-19  right_hand              19  0.200662   \n",
       "11945     39  39-right_hand-20  right_hand              20  0.190426   \n",
       "\n",
       "              y         z  \n",
       "0      0.468774 -0.057683  \n",
       "1      0.442351 -0.061070  \n",
       "2      0.458119 -0.044875  \n",
       "3      0.425289 -0.026963  \n",
       "4      0.434513 -0.059261  \n",
       "...         ...       ...  \n",
       "11941  0.633677 -0.140368  \n",
       "11942  0.547606 -0.153529  \n",
       "11943  0.595378 -0.178484  \n",
       "11944  0.621181 -0.160581  \n",
       "11945  0.629422 -0.142788  \n",
       "\n",
       "[32802087 rows x 7 columns]"
      ]
     },
     "execution_count": 7,
     "metadata": {},
     "output_type": "execute_result"
    }
   ],
   "source": [
    "full_df"
   ]
  },
  {
   "cell_type": "code",
   "execution_count": 8,
   "id": "09adcdd5",
   "metadata": {},
   "outputs": [
    {
     "data": {
      "text/plain": [
       "248"
      ]
     },
     "execution_count": 8,
     "metadata": {},
     "output_type": "execute_result"
    }
   ],
   "source": [
    "full_df.frame.max()"
   ]
  },
  {
   "cell_type": "code",
   "execution_count": 9,
   "id": "4968942f",
   "metadata": {},
   "outputs": [
    {
     "data": {
      "text/plain": [
       "0"
      ]
     },
     "execution_count": 9,
     "metadata": {},
     "output_type": "execute_result"
    }
   ],
   "source": [
    "full_df.frame.min()"
   ]
  },
  {
   "cell_type": "code",
   "execution_count": 10,
   "id": "d45fbd1f",
   "metadata": {},
   "outputs": [
    {
     "data": {
      "text/plain": [
       "467"
      ]
     },
     "execution_count": 10,
     "metadata": {},
     "output_type": "execute_result"
    }
   ],
   "source": [
    "full_df.landmark_index.max()"
   ]
  },
  {
   "cell_type": "code",
   "execution_count": 11,
   "id": "d56918fc",
   "metadata": {},
   "outputs": [
    {
     "data": {
      "text/plain": [
       "23     1122381\n",
       "22     1119666\n",
       "21     1105005\n",
       "24     1095231\n",
       "20     1059936\n",
       "        ...   \n",
       "244        543\n",
       "245        543\n",
       "246        543\n",
       "247        543\n",
       "248        543\n",
       "Name: frame, Length: 249, dtype: int64"
      ]
     },
     "execution_count": 11,
     "metadata": {},
     "output_type": "execute_result"
    }
   ],
   "source": [
    "full_df.frame.value_counts()"
   ]
  },
  {
   "cell_type": "code",
   "execution_count": 10,
   "id": "c935a5d1",
   "metadata": {},
   "outputs": [
    {
     "data": {
      "text/plain": [
       "array(['face', 'left_hand', 'pose', 'right_hand'], dtype=object)"
      ]
     },
     "execution_count": 10,
     "metadata": {},
     "output_type": "execute_result"
    }
   ],
   "source": [
    "full_df.type.unique()"
   ]
  }
 ],
 "metadata": {
  "kernelspec": {
   "display_name": "Python 3 (ipykernel)",
   "language": "python",
   "name": "python3"
  },
  "language_info": {
   "codemirror_mode": {
    "name": "ipython",
    "version": 3
   },
   "file_extension": ".py",
   "mimetype": "text/x-python",
   "name": "python",
   "nbconvert_exporter": "python",
   "pygments_lexer": "ipython3",
   "version": "3.10.9"
  }
 },
 "nbformat": 4,
 "nbformat_minor": 5
}
