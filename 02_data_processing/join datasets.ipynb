{
 "cells": [
  {
   "cell_type": "code",
   "execution_count": 1,
   "id": "d59a7206",
   "metadata": {},
   "outputs": [],
   "source": [
    "import pandas as pd\n",
    "import numpy as np\n",
    "import os\n",
    "from matplotlib import pyplot as plt"
   ]
  },
  {
   "cell_type": "code",
   "execution_count": 3,
   "id": "be9b633a",
   "metadata": {},
   "outputs": [
    {
     "data": {
      "text/plain": [
       "['dataset_output/include50/raw/include50_Adjectives.csv',\n",
       " 'dataset_output/include50/raw/include50_Animals.csv',\n",
       " 'dataset_output/include50/raw/include50_Clothes.csv',\n",
       " 'dataset_output/include50/raw/include50_Days_and_Time.csv',\n",
       " 'dataset_output/include50/raw/include50_Electronics.csv',\n",
       " 'dataset_output/include50/raw/include50_Greetings.csv',\n",
       " 'dataset_output/include50/raw/include50_Home.csv',\n",
       " 'dataset_output/include50/raw/include50_Jobs.csv',\n",
       " 'dataset_output/include50/raw/include50_Means_of_Transportation.csv',\n",
       " 'dataset_output/include50/raw/include50_People.csv',\n",
       " 'dataset_output/include50/raw/include50_Places.csv',\n",
       " 'dataset_output/include50/raw/include50_Pronouns.csv',\n",
       " 'dataset_output/include50/raw/include50_Seasons.csv',\n",
       " 'dataset_output/include50/raw/include50_Society.csv']"
      ]
     },
     "execution_count": 3,
     "metadata": {},
     "output_type": "execute_result"
    }
   ],
   "source": [
    "path = \"dataset_output/include50/raw/\"\n",
    "files = [path + i for i in os.listdir(path)]\n",
    "files"
   ]
  },
  {
   "cell_type": "code",
   "execution_count": 4,
   "id": "2a297b47",
   "metadata": {},
   "outputs": [],
   "source": [
    "dfs = [pd.read_csv(f) for f in files]"
   ]
  },
  {
   "cell_type": "code",
   "execution_count": 5,
   "id": "b2876645",
   "metadata": {},
   "outputs": [],
   "source": [
    "i = 0\n",
    "for df in dfs:\n",
    "    hand_columns = [i for i in df.columns if i.startswith(\"hand_\")]\n",
    "    face_columns = [i for i in df.columns if i.startswith(\"face_\")]\n",
    "    df[\"missing_hand\"] = eval(\" & \".join([f\"(df['{h}'] == 0)\" for h in hand_columns]))\n",
    "    df[\"missing_face\"] = eval(\" & \".join([f\"(df['{h}'] == 0)\" for h in face_columns]))"
   ]
  },
  {
   "cell_type": "code",
   "execution_count": 6,
   "id": "d22a1b36",
   "metadata": {},
   "outputs": [],
   "source": [
    "categories_loss = []\n",
    "for df in dfs:\n",
    "    for category in df[\"category\"].unique():\n",
    "        missing = len(df[(df[\"category\"] == category) & (df[\"missing_hand\"] == True)])\n",
    "        categories_loss.append((category, missing,))"
   ]
  },
  {
   "cell_type": "code",
   "execution_count": 7,
   "id": "74bf2d04",
   "metadata": {},
   "outputs": [],
   "source": [
    "categories_loss.sort(key=lambda i: i[1])"
   ]
  },
  {
   "cell_type": "code",
   "execution_count": 14,
   "id": "151f3f3e",
   "metadata": {},
   "outputs": [],
   "source": [
    "# All Datasets\n",
    "df_best = pd.DataFrame(columns=df.columns)\n",
    "for df in dfs:\n",
    "    df_best = pd.concat([df_best, df])"
   ]
  },
  {
   "cell_type": "code",
   "execution_count": 15,
   "id": "584f93ff",
   "metadata": {},
   "outputs": [
    {
     "data": {
      "text/html": [
       "<div>\n",
       "<style scoped>\n",
       "    .dataframe tbody tr th:only-of-type {\n",
       "        vertical-align: middle;\n",
       "    }\n",
       "\n",
       "    .dataframe tbody tr th {\n",
       "        vertical-align: top;\n",
       "    }\n",
       "\n",
       "    .dataframe thead th {\n",
       "        text-align: right;\n",
       "    }\n",
       "</style>\n",
       "<table border=\"1\" class=\"dataframe\">\n",
       "  <thead>\n",
       "    <tr style=\"text-align: right;\">\n",
       "      <th></th>\n",
       "      <th>Unnamed: 0</th>\n",
       "      <th>category</th>\n",
       "      <th>video_name</th>\n",
       "      <th>frame</th>\n",
       "      <th>hand_0_0_x</th>\n",
       "      <th>hand_0_0_y</th>\n",
       "      <th>hand_0_0_z</th>\n",
       "      <th>hand_0_1_x</th>\n",
       "      <th>hand_0_1_y</th>\n",
       "      <th>hand_0_1_z</th>\n",
       "      <th>...</th>\n",
       "      <th>pose_22_y</th>\n",
       "      <th>pose_22_z</th>\n",
       "      <th>pose_23_x</th>\n",
       "      <th>pose_23_y</th>\n",
       "      <th>pose_23_z</th>\n",
       "      <th>pose_24_x</th>\n",
       "      <th>pose_24_y</th>\n",
       "      <th>pose_24_z</th>\n",
       "      <th>missing_hand</th>\n",
       "      <th>missing_face</th>\n",
       "    </tr>\n",
       "  </thead>\n",
       "  <tbody>\n",
       "    <tr>\n",
       "      <th>0</th>\n",
       "      <td>0</td>\n",
       "      <td>1. loud</td>\n",
       "      <td>Adjectives\\1. loud\\MVI_5177.MOV</td>\n",
       "      <td>0</td>\n",
       "      <td>0.603778</td>\n",
       "      <td>0.780583</td>\n",
       "      <td>0.480388</td>\n",
       "      <td>0.592084</td>\n",
       "      <td>0.807487</td>\n",
       "      <td>0.617630</td>\n",
       "      <td>...</td>\n",
       "      <td>0.0</td>\n",
       "      <td>0.0</td>\n",
       "      <td>0.0</td>\n",
       "      <td>0.0</td>\n",
       "      <td>0.0</td>\n",
       "      <td>0.0</td>\n",
       "      <td>0.0</td>\n",
       "      <td>0.0</td>\n",
       "      <td>False</td>\n",
       "      <td>False</td>\n",
       "    </tr>\n",
       "    <tr>\n",
       "      <th>1</th>\n",
       "      <td>1</td>\n",
       "      <td>1. loud</td>\n",
       "      <td>Adjectives\\1. loud\\MVI_5177.MOV</td>\n",
       "      <td>1</td>\n",
       "      <td>0.604534</td>\n",
       "      <td>0.776111</td>\n",
       "      <td>0.442055</td>\n",
       "      <td>0.592222</td>\n",
       "      <td>0.806510</td>\n",
       "      <td>0.592538</td>\n",
       "      <td>...</td>\n",
       "      <td>0.0</td>\n",
       "      <td>0.0</td>\n",
       "      <td>0.0</td>\n",
       "      <td>0.0</td>\n",
       "      <td>0.0</td>\n",
       "      <td>0.0</td>\n",
       "      <td>0.0</td>\n",
       "      <td>0.0</td>\n",
       "      <td>False</td>\n",
       "      <td>False</td>\n",
       "    </tr>\n",
       "    <tr>\n",
       "      <th>2</th>\n",
       "      <td>2</td>\n",
       "      <td>1. loud</td>\n",
       "      <td>Adjectives\\1. loud\\MVI_5177.MOV</td>\n",
       "      <td>2</td>\n",
       "      <td>0.604657</td>\n",
       "      <td>0.776053</td>\n",
       "      <td>0.368984</td>\n",
       "      <td>0.593692</td>\n",
       "      <td>0.805293</td>\n",
       "      <td>0.564590</td>\n",
       "      <td>...</td>\n",
       "      <td>0.0</td>\n",
       "      <td>0.0</td>\n",
       "      <td>0.0</td>\n",
       "      <td>0.0</td>\n",
       "      <td>0.0</td>\n",
       "      <td>0.0</td>\n",
       "      <td>0.0</td>\n",
       "      <td>0.0</td>\n",
       "      <td>False</td>\n",
       "      <td>False</td>\n",
       "    </tr>\n",
       "    <tr>\n",
       "      <th>3</th>\n",
       "      <td>3</td>\n",
       "      <td>1. loud</td>\n",
       "      <td>Adjectives\\1. loud\\MVI_5177.MOV</td>\n",
       "      <td>3</td>\n",
       "      <td>0.605113</td>\n",
       "      <td>0.782622</td>\n",
       "      <td>0.439367</td>\n",
       "      <td>0.592575</td>\n",
       "      <td>0.807389</td>\n",
       "      <td>0.602473</td>\n",
       "      <td>...</td>\n",
       "      <td>0.0</td>\n",
       "      <td>0.0</td>\n",
       "      <td>0.0</td>\n",
       "      <td>0.0</td>\n",
       "      <td>0.0</td>\n",
       "      <td>0.0</td>\n",
       "      <td>0.0</td>\n",
       "      <td>0.0</td>\n",
       "      <td>False</td>\n",
       "      <td>False</td>\n",
       "    </tr>\n",
       "    <tr>\n",
       "      <th>4</th>\n",
       "      <td>4</td>\n",
       "      <td>1. loud</td>\n",
       "      <td>Adjectives\\1. loud\\MVI_5177.MOV</td>\n",
       "      <td>4</td>\n",
       "      <td>0.604073</td>\n",
       "      <td>0.775711</td>\n",
       "      <td>0.410089</td>\n",
       "      <td>0.593221</td>\n",
       "      <td>0.804651</td>\n",
       "      <td>0.586852</td>\n",
       "      <td>...</td>\n",
       "      <td>0.0</td>\n",
       "      <td>0.0</td>\n",
       "      <td>0.0</td>\n",
       "      <td>0.0</td>\n",
       "      <td>0.0</td>\n",
       "      <td>0.0</td>\n",
       "      <td>0.0</td>\n",
       "      <td>0.0</td>\n",
       "      <td>False</td>\n",
       "      <td>False</td>\n",
       "    </tr>\n",
       "    <tr>\n",
       "      <th>...</th>\n",
       "      <td>...</td>\n",
       "      <td>...</td>\n",
       "      <td>...</td>\n",
       "      <td>...</td>\n",
       "      <td>...</td>\n",
       "      <td>...</td>\n",
       "      <td>...</td>\n",
       "      <td>...</td>\n",
       "      <td>...</td>\n",
       "      <td>...</td>\n",
       "      <td>...</td>\n",
       "      <td>...</td>\n",
       "      <td>...</td>\n",
       "      <td>...</td>\n",
       "      <td>...</td>\n",
       "      <td>...</td>\n",
       "      <td>...</td>\n",
       "      <td>...</td>\n",
       "      <td>...</td>\n",
       "      <td>...</td>\n",
       "      <td>...</td>\n",
       "    </tr>\n",
       "    <tr>\n",
       "      <th>21555</th>\n",
       "      <td>21555</td>\n",
       "      <td>9. Technology</td>\n",
       "      <td>Society\\9. Technology\\MVI_8953.MP4</td>\n",
       "      <td>68</td>\n",
       "      <td>0.563570</td>\n",
       "      <td>0.755437</td>\n",
       "      <td>0.627365</td>\n",
       "      <td>0.557872</td>\n",
       "      <td>0.776711</td>\n",
       "      <td>0.703555</td>\n",
       "      <td>...</td>\n",
       "      <td>0.0</td>\n",
       "      <td>0.0</td>\n",
       "      <td>0.0</td>\n",
       "      <td>0.0</td>\n",
       "      <td>0.0</td>\n",
       "      <td>0.0</td>\n",
       "      <td>0.0</td>\n",
       "      <td>0.0</td>\n",
       "      <td>False</td>\n",
       "      <td>False</td>\n",
       "    </tr>\n",
       "    <tr>\n",
       "      <th>21556</th>\n",
       "      <td>21556</td>\n",
       "      <td>9. Technology</td>\n",
       "      <td>Society\\9. Technology\\MVI_8953.MP4</td>\n",
       "      <td>69</td>\n",
       "      <td>0.563596</td>\n",
       "      <td>0.753441</td>\n",
       "      <td>0.634955</td>\n",
       "      <td>0.557900</td>\n",
       "      <td>0.775720</td>\n",
       "      <td>0.713277</td>\n",
       "      <td>...</td>\n",
       "      <td>0.0</td>\n",
       "      <td>0.0</td>\n",
       "      <td>0.0</td>\n",
       "      <td>0.0</td>\n",
       "      <td>0.0</td>\n",
       "      <td>0.0</td>\n",
       "      <td>0.0</td>\n",
       "      <td>0.0</td>\n",
       "      <td>False</td>\n",
       "      <td>False</td>\n",
       "    </tr>\n",
       "    <tr>\n",
       "      <th>21557</th>\n",
       "      <td>21557</td>\n",
       "      <td>9. Technology</td>\n",
       "      <td>Society\\9. Technology\\MVI_8953.MP4</td>\n",
       "      <td>70</td>\n",
       "      <td>0.563717</td>\n",
       "      <td>0.754597</td>\n",
       "      <td>0.639043</td>\n",
       "      <td>0.557472</td>\n",
       "      <td>0.775792</td>\n",
       "      <td>0.697004</td>\n",
       "      <td>...</td>\n",
       "      <td>0.0</td>\n",
       "      <td>0.0</td>\n",
       "      <td>0.0</td>\n",
       "      <td>0.0</td>\n",
       "      <td>0.0</td>\n",
       "      <td>0.0</td>\n",
       "      <td>0.0</td>\n",
       "      <td>0.0</td>\n",
       "      <td>False</td>\n",
       "      <td>False</td>\n",
       "    </tr>\n",
       "    <tr>\n",
       "      <th>21558</th>\n",
       "      <td>21558</td>\n",
       "      <td>9. Technology</td>\n",
       "      <td>Society\\9. Technology\\MVI_8953.MP4</td>\n",
       "      <td>71</td>\n",
       "      <td>0.563079</td>\n",
       "      <td>0.754502</td>\n",
       "      <td>0.645077</td>\n",
       "      <td>0.556370</td>\n",
       "      <td>0.774380</td>\n",
       "      <td>0.675116</td>\n",
       "      <td>...</td>\n",
       "      <td>0.0</td>\n",
       "      <td>0.0</td>\n",
       "      <td>0.0</td>\n",
       "      <td>0.0</td>\n",
       "      <td>0.0</td>\n",
       "      <td>0.0</td>\n",
       "      <td>0.0</td>\n",
       "      <td>0.0</td>\n",
       "      <td>False</td>\n",
       "      <td>False</td>\n",
       "    </tr>\n",
       "    <tr>\n",
       "      <th>21559</th>\n",
       "      <td>21559</td>\n",
       "      <td>9. Technology</td>\n",
       "      <td>Society\\9. Technology\\MVI_8953.MP4</td>\n",
       "      <td>72</td>\n",
       "      <td>0.563117</td>\n",
       "      <td>0.753585</td>\n",
       "      <td>0.654216</td>\n",
       "      <td>0.556303</td>\n",
       "      <td>0.775795</td>\n",
       "      <td>0.681779</td>\n",
       "      <td>...</td>\n",
       "      <td>0.0</td>\n",
       "      <td>0.0</td>\n",
       "      <td>0.0</td>\n",
       "      <td>0.0</td>\n",
       "      <td>0.0</td>\n",
       "      <td>0.0</td>\n",
       "      <td>0.0</td>\n",
       "      <td>0.0</td>\n",
       "      <td>False</td>\n",
       "      <td>False</td>\n",
       "    </tr>\n",
       "  </tbody>\n",
       "</table>\n",
       "<p>260616 rows × 417 columns</p>\n",
       "</div>"
      ],
      "text/plain": [
       "      Unnamed: 0       category                          video_name frame  \\\n",
       "0              0        1. loud     Adjectives\\1. loud\\MVI_5177.MOV     0   \n",
       "1              1        1. loud     Adjectives\\1. loud\\MVI_5177.MOV     1   \n",
       "2              2        1. loud     Adjectives\\1. loud\\MVI_5177.MOV     2   \n",
       "3              3        1. loud     Adjectives\\1. loud\\MVI_5177.MOV     3   \n",
       "4              4        1. loud     Adjectives\\1. loud\\MVI_5177.MOV     4   \n",
       "...          ...            ...                                 ...   ...   \n",
       "21555      21555  9. Technology  Society\\9. Technology\\MVI_8953.MP4    68   \n",
       "21556      21556  9. Technology  Society\\9. Technology\\MVI_8953.MP4    69   \n",
       "21557      21557  9. Technology  Society\\9. Technology\\MVI_8953.MP4    70   \n",
       "21558      21558  9. Technology  Society\\9. Technology\\MVI_8953.MP4    71   \n",
       "21559      21559  9. Technology  Society\\9. Technology\\MVI_8953.MP4    72   \n",
       "\n",
       "       hand_0_0_x  hand_0_0_y  hand_0_0_z  hand_0_1_x  hand_0_1_y  hand_0_1_z  \\\n",
       "0        0.603778    0.780583    0.480388    0.592084    0.807487    0.617630   \n",
       "1        0.604534    0.776111    0.442055    0.592222    0.806510    0.592538   \n",
       "2        0.604657    0.776053    0.368984    0.593692    0.805293    0.564590   \n",
       "3        0.605113    0.782622    0.439367    0.592575    0.807389    0.602473   \n",
       "4        0.604073    0.775711    0.410089    0.593221    0.804651    0.586852   \n",
       "...           ...         ...         ...         ...         ...         ...   \n",
       "21555    0.563570    0.755437    0.627365    0.557872    0.776711    0.703555   \n",
       "21556    0.563596    0.753441    0.634955    0.557900    0.775720    0.713277   \n",
       "21557    0.563717    0.754597    0.639043    0.557472    0.775792    0.697004   \n",
       "21558    0.563079    0.754502    0.645077    0.556370    0.774380    0.675116   \n",
       "21559    0.563117    0.753585    0.654216    0.556303    0.775795    0.681779   \n",
       "\n",
       "       ...  pose_22_y  pose_22_z  pose_23_x  pose_23_y  pose_23_z  pose_24_x  \\\n",
       "0      ...        0.0        0.0        0.0        0.0        0.0        0.0   \n",
       "1      ...        0.0        0.0        0.0        0.0        0.0        0.0   \n",
       "2      ...        0.0        0.0        0.0        0.0        0.0        0.0   \n",
       "3      ...        0.0        0.0        0.0        0.0        0.0        0.0   \n",
       "4      ...        0.0        0.0        0.0        0.0        0.0        0.0   \n",
       "...    ...        ...        ...        ...        ...        ...        ...   \n",
       "21555  ...        0.0        0.0        0.0        0.0        0.0        0.0   \n",
       "21556  ...        0.0        0.0        0.0        0.0        0.0        0.0   \n",
       "21557  ...        0.0        0.0        0.0        0.0        0.0        0.0   \n",
       "21558  ...        0.0        0.0        0.0        0.0        0.0        0.0   \n",
       "21559  ...        0.0        0.0        0.0        0.0        0.0        0.0   \n",
       "\n",
       "       pose_24_y  pose_24_z  missing_hand  missing_face  \n",
       "0            0.0        0.0         False         False  \n",
       "1            0.0        0.0         False         False  \n",
       "2            0.0        0.0         False         False  \n",
       "3            0.0        0.0         False         False  \n",
       "4            0.0        0.0         False         False  \n",
       "...          ...        ...           ...           ...  \n",
       "21555        0.0        0.0         False         False  \n",
       "21556        0.0        0.0         False         False  \n",
       "21557        0.0        0.0         False         False  \n",
       "21558        0.0        0.0         False         False  \n",
       "21559        0.0        0.0         False         False  \n",
       "\n",
       "[260616 rows x 417 columns]"
      ]
     },
     "execution_count": 15,
     "metadata": {},
     "output_type": "execute_result"
    }
   ],
   "source": [
    "df_best"
   ]
  },
  {
   "cell_type": "code",
   "execution_count": 16,
   "id": "504b28ac",
   "metadata": {},
   "outputs": [
    {
     "data": {
      "text/plain": [
       "260616"
      ]
     },
     "execution_count": 16,
     "metadata": {},
     "output_type": "execute_result"
    }
   ],
   "source": [
    "len(df_best)"
   ]
  },
  {
   "cell_type": "code",
   "execution_count": 17,
   "id": "59748638",
   "metadata": {},
   "outputs": [
    {
     "data": {
      "text/plain": [
       "4035"
      ]
     },
     "execution_count": 17,
     "metadata": {},
     "output_type": "execute_result"
    }
   ],
   "source": [
    "len(df_best[\"video_name\"].unique())"
   ]
  },
  {
   "cell_type": "code",
   "execution_count": 18,
   "id": "e303ddd1",
   "metadata": {},
   "outputs": [
    {
     "data": {
      "text/plain": [
       "1"
      ]
     },
     "execution_count": 18,
     "metadata": {},
     "output_type": "execute_result"
    }
   ],
   "source": [
    "len(df_best[df_best[\"missing_hand\"] == True])"
   ]
  },
  {
   "cell_type": "code",
   "execution_count": 19,
   "id": "c6849ceb",
   "metadata": {},
   "outputs": [
    {
     "data": {
      "text/plain": [
       "3.8370629585290235e-06"
      ]
     },
     "execution_count": 19,
     "metadata": {},
     "output_type": "execute_result"
    }
   ],
   "source": [
    "len(df_best[df_best[\"missing_hand\"] == True]) / len(df_best)"
   ]
  },
  {
   "cell_type": "code",
   "execution_count": 20,
   "id": "a4fee71a",
   "metadata": {},
   "outputs": [
    {
     "data": {
      "text/plain": [
       "1"
      ]
     },
     "execution_count": 20,
     "metadata": {},
     "output_type": "execute_result"
    }
   ],
   "source": [
    "len(df_best[df_best[\"missing_hand\"] == True][\"video_name\"].unique())"
   ]
  },
  {
   "cell_type": "code",
   "execution_count": 21,
   "id": "8fd932f6",
   "metadata": {},
   "outputs": [
    {
     "data": {
      "text/plain": [
       "0"
      ]
     },
     "execution_count": 21,
     "metadata": {},
     "output_type": "execute_result"
    }
   ],
   "source": [
    "len(df_best[df_best[\"missing_face\"] == True])"
   ]
  },
  {
   "cell_type": "code",
   "execution_count": 22,
   "id": "a2b4c812",
   "metadata": {},
   "outputs": [
    {
     "data": {
      "text/plain": [
       "0.0"
      ]
     },
     "execution_count": 22,
     "metadata": {},
     "output_type": "execute_result"
    }
   ],
   "source": [
    "len(df_best[df_best[\"missing_face\"] == True]) / len(df_best)"
   ]
  },
  {
   "cell_type": "code",
   "execution_count": 23,
   "id": "1c46d5f2",
   "metadata": {},
   "outputs": [],
   "source": [
    "df_best.drop(\"Unnamed: 0\", axis=1).to_csv(\"dataset_output/include50/include50_openpose.csv\")"
   ]
  },
  {
   "cell_type": "code",
   "execution_count": null,
   "id": "9eb61b8a",
   "metadata": {},
   "outputs": [],
   "source": []
  }
 ],
 "metadata": {
  "kernelspec": {
   "display_name": "Python 3 (ipykernel)",
   "language": "python",
   "name": "python3"
  },
  "language_info": {
   "codemirror_mode": {
    "name": "ipython",
    "version": 3
   },
   "file_extension": ".py",
   "mimetype": "text/x-python",
   "name": "python",
   "nbconvert_exporter": "python",
   "pygments_lexer": "ipython3",
   "version": "3.9.16"
  }
 },
 "nbformat": 4,
 "nbformat_minor": 5
}
