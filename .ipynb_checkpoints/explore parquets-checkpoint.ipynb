{
 "cells": [
  {
   "cell_type": "code",
   "execution_count": 1,
   "id": "31a32cdb",
   "metadata": {},
   "outputs": [],
   "source": [
    "from pyspark.sql import SparkSession"
   ]
  },
  {
   "cell_type": "code",
   "execution_count": 4,
   "id": "df1d03e0",
   "metadata": {},
   "outputs": [],
   "source": [
    "spark = SparkSession.builder.getOrCreate()"
   ]
  },
  {
   "cell_type": "code",
   "execution_count": null,
   "id": "560c85c4",
   "metadata": {},
   "outputs": [],
   "source": [
    "df = spark.read.parquet(\"../datasets/google asl/train_landmark_files/2044/*.parquet\")"
   ]
  },
  {
   "cell_type": "code",
   "execution_count": 8,
   "id": "4b968ab1",
   "metadata": {},
   "outputs": [
    {
     "data": {
      "text/plain": [
       "DataFrame[frame: smallint, row_id: string, type: string, landmark_index: smallint, x: double, y: double, z: double]"
      ]
     },
     "execution_count": 8,
     "metadata": {},
     "output_type": "execute_result"
    }
   ],
   "source": [
    "df"
   ]
  },
  {
   "cell_type": "code",
   "execution_count": 9,
   "id": "4be6c6bc",
   "metadata": {},
   "outputs": [
    {
     "name": "stdout",
     "output_type": "stream",
     "text": [
      "+-----+----------+----+--------------+-------------------+-------------------+--------------------+\n",
      "|frame|    row_id|type|landmark_index|                  x|                  y|                   z|\n",
      "+-----+----------+----+--------------+-------------------+-------------------+--------------------+\n",
      "|   22| 22-face-0|face|             0|0.43825069069862366|  0.449452668428421|-0.04782642051577568|\n",
      "|   22| 22-face-1|face|             1|0.41452744603157043|0.40488025546073914|-0.07199390232563019|\n",
      "|   22| 22-face-2|face|             2|0.42374512553215027| 0.4206811487674713|-0.04214530065655708|\n",
      "|   22| 22-face-3|face|             3| 0.4023492932319641| 0.3720405101776123|-0.04390575364232063|\n",
      "|   22| 22-face-4|face|             4| 0.4118565618991852|0.39301347732543945|-0.07474739104509354|\n",
      "|   22| 22-face-5|face|             5| 0.4115868806838989|0.37933847308158875|-0.06694532930850983|\n",
      "|   22| 22-face-6|face|             6|0.41367414593696594| 0.3478865921497345|-0.02378724701702...|\n",
      "|   22| 22-face-7|face|             7|0.34034112095832825| 0.3615873456001282|0.056790970265865326|\n",
      "|   22| 22-face-8|face|             8|0.41199055314064026|  0.323421448469162|-0.00949243642389...|\n",
      "|   22| 22-face-9|face|             9|0.40913456678390503|0.30853506922721863|-0.00869176816195...|\n",
      "|   22|22-face-10|face|            10| 0.4019249975681305|0.25245386362075806|0.018373779952526093|\n",
      "|   22|22-face-11|face|            11| 0.4391152262687683| 0.4539342522621155|-0.04667719826102257|\n",
      "|   22|22-face-12|face|            12| 0.4402366876602173|0.45845288038253784|-0.04270341247320175|\n",
      "|   22|22-face-13|face|            13|0.44144776463508606|0.46144530177116394|-0.03718314692378044|\n",
      "|   22|22-face-14|face|            14|0.44170790910720825|0.46177101135253906|-0.03929904848337...|\n",
      "|   22|22-face-15|face|            15|  0.442383348941803|0.46582821011543274|-0.04252680391073227|\n",
      "|   22|22-face-16|face|            16|0.44334080815315247| 0.4709368646144867|-0.04684560373425484|\n",
      "|   22|22-face-17|face|            17|0.44476377964019775| 0.4770256578922272|-0.04741421341896057|\n",
      "|   22|22-face-18|face|            18|0.44355374574661255| 0.4935643672943115|-0.03812909126281738|\n",
      "|   22|22-face-19|face|            19|  0.418134868144989| 0.4122675061225891|-0.06613036245107651|\n",
      "+-----+----------+----+--------------+-------------------+-------------------+--------------------+\n",
      "only showing top 20 rows\n",
      "\n"
     ]
    }
   ],
   "source": [
    "df.show()"
   ]
  },
  {
   "cell_type": "code",
   "execution_count": 11,
   "id": "a733368c",
   "metadata": {},
   "outputs": [],
   "source": [
    "import pandas as pd\n",
    "from pathlib import Path\n",
    "import os"
   ]
  },
  {
   "cell_type": "code",
   "execution_count": 16,
   "id": "8fc3059d",
   "metadata": {},
   "outputs": [],
   "source": [
    "data_path = '../datasets/google asl/train_landmark_files/'\n",
    "participant_ids = os.listdir(data_dir)[:10]"
   ]
  },
  {
   "cell_type": "code",
   "execution_count": 21,
   "id": "4e48dd31",
   "metadata": {},
   "outputs": [],
   "source": [
    "data = []"
   ]
  },
  {
   "cell_type": "code",
   "execution_count": 22,
   "id": "8d2f1a90",
   "metadata": {},
   "outputs": [],
   "source": [
    "for participant in participant_ids:\n",
    "    data_dir = Path(data_path + participant)\n",
    "    full_df = pd.concat(\n",
    "        pd.read_parquet(parquet_file)\n",
    "        for parquet_file in data_dir.glob('*.parquet')\n",
    "    )\n",
    "    data.append({\n",
    "        \"participant_id\": participant,\n",
    "        \"max_frames\": full_df.frame.max(),\n",
    "        \"landmarks\": full_df.landmark_index.max()\n",
    "    })\n",
    "# full_df.to_csv('csv_file.csv')"
   ]
  },
  {
   "cell_type": "code",
   "execution_count": 23,
   "id": "3ae0996c",
   "metadata": {},
   "outputs": [
    {
     "data": {
      "text/plain": [
       "[{'participant_id': '16069', 'max_frames': 536, 'landmarks': 467},\n",
       " {'participant_id': '18796', 'max_frames': 537, 'landmarks': 467},\n",
       " {'participant_id': '2044', 'max_frames': 87, 'landmarks': 467},\n",
       " {'participant_id': '22343', 'max_frames': 347, 'landmarks': 467},\n",
       " {'participant_id': '25571', 'max_frames': 256, 'landmarks': 467},\n",
       " {'participant_id': '26734', 'max_frames': 384, 'landmarks': 467},\n",
       " {'participant_id': '27610', 'max_frames': 354, 'landmarks': 467},\n",
       " {'participant_id': '28656', 'max_frames': 421, 'landmarks': 467},\n",
       " {'participant_id': '29302', 'max_frames': 368, 'landmarks': 467},\n",
       " {'participant_id': '30680', 'max_frames': 248, 'landmarks': 467}]"
      ]
     },
     "execution_count": 23,
     "metadata": {},
     "output_type": "execute_result"
    }
   ],
   "source": [
    "data"
   ]
  },
  {
   "cell_type": "code",
   "execution_count": 8,
   "id": "939a9850",
   "metadata": {},
   "outputs": [
    {
     "data": {
      "text/plain": [
       "87"
      ]
     },
     "execution_count": 8,
     "metadata": {},
     "output_type": "execute_result"
    }
   ],
   "source": [
    "full_df.frame.max()"
   ]
  },
  {
   "cell_type": "code",
   "execution_count": 9,
   "id": "37e5384f",
   "metadata": {},
   "outputs": [
    {
     "data": {
      "text/plain": [
       "467"
      ]
     },
     "execution_count": 9,
     "metadata": {},
     "output_type": "execute_result"
    }
   ],
   "source": [
    "full_df.landmark_index.max()"
   ]
  },
  {
   "cell_type": "code",
   "execution_count": 10,
   "id": "1d13b684",
   "metadata": {},
   "outputs": [
    {
     "data": {
      "text/plain": [
       "array(['face', 'left_hand', 'pose', 'right_hand'], dtype=object)"
      ]
     },
     "execution_count": 10,
     "metadata": {},
     "output_type": "execute_result"
    }
   ],
   "source": [
    "full_df.type.unique()"
   ]
  }
 ],
 "metadata": {
  "kernelspec": {
   "display_name": "Python 3 (ipykernel)",
   "language": "python",
   "name": "python3"
  },
  "language_info": {
   "codemirror_mode": {
    "name": "ipython",
    "version": 3
   },
   "file_extension": ".py",
   "mimetype": "text/x-python",
   "name": "python",
   "nbconvert_exporter": "python",
   "pygments_lexer": "ipython3",
   "version": "3.10.9"
  }
 },
 "nbformat": 4,
 "nbformat_minor": 5
}
