{
 "cells": [
  {
   "cell_type": "code",
   "execution_count": 1,
   "id": "5814923a",
   "metadata": {},
   "outputs": [],
   "source": [
    "import pandas as pd"
   ]
  },
  {
   "cell_type": "code",
   "execution_count": 4,
   "id": "689211fb",
   "metadata": {},
   "outputs": [],
   "source": [
    "data = pd.read_csv(\"./datasets/libras_minds_dataset_openpose_augmented.csv\")"
   ]
  },
  {
   "cell_type": "code",
   "execution_count": 6,
   "id": "6a0d3fb0",
   "metadata": {},
   "outputs": [],
   "source": [
    "hand_columns = [i for i in list(data.columns) if i.startswith(\"hand_\")]\n",
    "hand_0_columns_x = [i for i in list(data.columns) if i.startswith(\"hand_0_\") and i.endswith(\"_x\")]\n",
    "hand_0_columns_y = [i for i in list(data.columns) if i.startswith(\"hand_0_\") and i.endswith(\"_y\")]\n",
    "hand_1_columns_x = [i for i in list(data.columns) if i.startswith(\"hand_1_\") and i.endswith(\"_x\")]\n",
    "hand_1_columns_y = [i for i in list(data.columns) if i.startswith(\"hand_1_\") and i.endswith(\"_y\")]"
   ]
  },
  {
   "cell_type": "code",
   "execution_count": 7,
   "id": "9073b8f0",
   "metadata": {},
   "outputs": [],
   "source": [
    "pose_columns = [i for i in list(data.columns) if i.startswith(\"pose_\")]\n",
    "pose_columns_x = [i for i in list(data.columns) if i.startswith(\"pose_\") and i.endswith(\"_x\")]\n",
    "pose_columns_y = [i for i in list(data.columns) if i.startswith(\"pose_\") and i.endswith(\"_y\")]"
   ]
  },
  {
   "cell_type": "code",
   "execution_count": 8,
   "id": "114a7c8c",
   "metadata": {},
   "outputs": [],
   "source": [
    "face_columns = [i for i in list(data.columns) if i.startswith(\"face_\")]\n",
    "face_columns_x = [i for i in list(data.columns) if i.startswith(\"face_\") and i.endswith(\"_x\")]\n",
    "face_columns_y = [i for i in list(data.columns) if i.startswith(\"face_\") and i.endswith(\"_y\")]"
   ]
  },
  {
   "cell_type": "code",
   "execution_count": 9,
   "id": "610aa448",
   "metadata": {},
   "outputs": [],
   "source": [
    "def normalize_hand_columns(df):\n",
    "    df[hand_0_columns_x] -= df[\"hand_0_2_x\"]\n",
    "    df[hand_0_columns_y] -= df[\"hand_0_2_y\"]\n",
    "    df[hand_1_columns_x] -= df[\"hand_1_2_x\"]\n",
    "    df[hand_1_columns_y] -= df[\"hand_1_2_y\"]\n",
    "    return df\n",
    "    \n",
    "def normalize_pose_columns(df):\n",
    "    df[pose_columns_x] -= df[\"pose_0_x\"]\n",
    "    df[pose_columns_y] -= df[\"pose_0_y\"]\n",
    "    return df\n",
    "\n",
    "def normalize_face_columns(df):\n",
    "    df[face_columns_x] -= df[\"face_30_x\"]\n",
    "    df[face_columns_y] -= df[\"face_30_y\"]\n",
    "    return df"
   ]
  },
  {
   "cell_type": "code",
   "execution_count": 10,
   "id": "c087d914",
   "metadata": {},
   "outputs": [
    {
     "ename": "ValueError",
     "evalue": "Columns must be same length as key",
     "output_type": "error",
     "traceback": [
      "\u001b[1;31m---------------------------------------------------------------------------\u001b[0m",
      "\u001b[1;31mValueError\u001b[0m                                Traceback (most recent call last)",
      "Cell \u001b[1;32mIn[10], line 1\u001b[0m\n\u001b[1;32m----> 1\u001b[0m data \u001b[38;5;241m=\u001b[39m \u001b[43mnormalize_hand_columns\u001b[49m\u001b[43m(\u001b[49m\u001b[43mdata\u001b[49m\u001b[43m)\u001b[49m\n",
      "Cell \u001b[1;32mIn[9], line 2\u001b[0m, in \u001b[0;36mnormalize_hand_columns\u001b[1;34m(df)\u001b[0m\n\u001b[0;32m      1\u001b[0m \u001b[38;5;28;01mdef\u001b[39;00m \u001b[38;5;21mnormalize_hand_columns\u001b[39m(df):\n\u001b[1;32m----> 2\u001b[0m     df[hand_0_columns_x] \u001b[38;5;241m=\u001b[39m df[hand_0_columns_x] \u001b[38;5;241m-\u001b[39m df[\u001b[38;5;124m\"\u001b[39m\u001b[38;5;124mhand_0_2_x\u001b[39m\u001b[38;5;124m\"\u001b[39m]\n\u001b[0;32m      3\u001b[0m     df[hand_0_columns_y] \u001b[38;5;241m=\u001b[39m df[hand_0_columns_y] \u001b[38;5;241m-\u001b[39m df[\u001b[38;5;124m\"\u001b[39m\u001b[38;5;124mhand_0_2_y\u001b[39m\u001b[38;5;124m\"\u001b[39m]\n\u001b[0;32m      4\u001b[0m     df[hand_1_columns_x] \u001b[38;5;241m=\u001b[39m df[hand_1_columns_x] \u001b[38;5;241m-\u001b[39m df[\u001b[38;5;124m\"\u001b[39m\u001b[38;5;124mhand_1_2_x\u001b[39m\u001b[38;5;124m\"\u001b[39m]\n",
      "File \u001b[1;32m~\\anaconda3\\lib\\site-packages\\pandas\\core\\frame.py:3968\u001b[0m, in \u001b[0;36mDataFrame.__setitem__\u001b[1;34m(self, key, value)\u001b[0m\n\u001b[0;32m   3966\u001b[0m     \u001b[38;5;28mself\u001b[39m\u001b[38;5;241m.\u001b[39m_setitem_frame(key, value)\n\u001b[0;32m   3967\u001b[0m \u001b[38;5;28;01melif\u001b[39;00m \u001b[38;5;28misinstance\u001b[39m(key, (Series, np\u001b[38;5;241m.\u001b[39mndarray, \u001b[38;5;28mlist\u001b[39m, Index)):\n\u001b[1;32m-> 3968\u001b[0m     \u001b[38;5;28;43mself\u001b[39;49m\u001b[38;5;241;43m.\u001b[39;49m\u001b[43m_setitem_array\u001b[49m\u001b[43m(\u001b[49m\u001b[43mkey\u001b[49m\u001b[43m,\u001b[49m\u001b[43m \u001b[49m\u001b[43mvalue\u001b[49m\u001b[43m)\u001b[49m\n\u001b[0;32m   3969\u001b[0m \u001b[38;5;28;01melif\u001b[39;00m \u001b[38;5;28misinstance\u001b[39m(value, DataFrame):\n\u001b[0;32m   3970\u001b[0m     \u001b[38;5;28mself\u001b[39m\u001b[38;5;241m.\u001b[39m_set_item_frame_value(key, value)\n",
      "File \u001b[1;32m~\\anaconda3\\lib\\site-packages\\pandas\\core\\frame.py:4010\u001b[0m, in \u001b[0;36mDataFrame._setitem_array\u001b[1;34m(self, key, value)\u001b[0m\n\u001b[0;32m   4005\u001b[0m \u001b[38;5;28;01melse\u001b[39;00m:\n\u001b[0;32m   4006\u001b[0m     \u001b[38;5;66;03m# Note: unlike self.iloc[:, indexer] = value, this will\u001b[39;00m\n\u001b[0;32m   4007\u001b[0m     \u001b[38;5;66;03m#  never try to overwrite values inplace\u001b[39;00m\n\u001b[0;32m   4009\u001b[0m     \u001b[38;5;28;01mif\u001b[39;00m \u001b[38;5;28misinstance\u001b[39m(value, DataFrame):\n\u001b[1;32m-> 4010\u001b[0m         \u001b[43mcheck_key_length\u001b[49m\u001b[43m(\u001b[49m\u001b[38;5;28;43mself\u001b[39;49m\u001b[38;5;241;43m.\u001b[39;49m\u001b[43mcolumns\u001b[49m\u001b[43m,\u001b[49m\u001b[43m \u001b[49m\u001b[43mkey\u001b[49m\u001b[43m,\u001b[49m\u001b[43m \u001b[49m\u001b[43mvalue\u001b[49m\u001b[43m)\u001b[49m\n\u001b[0;32m   4011\u001b[0m         \u001b[38;5;28;01mfor\u001b[39;00m k1, k2 \u001b[38;5;129;01min\u001b[39;00m \u001b[38;5;28mzip\u001b[39m(key, value\u001b[38;5;241m.\u001b[39mcolumns):\n\u001b[0;32m   4012\u001b[0m             \u001b[38;5;28mself\u001b[39m[k1] \u001b[38;5;241m=\u001b[39m value[k2]\n",
      "File \u001b[1;32m~\\anaconda3\\lib\\site-packages\\pandas\\core\\indexers\\utils.py:401\u001b[0m, in \u001b[0;36mcheck_key_length\u001b[1;34m(columns, key, value)\u001b[0m\n\u001b[0;32m    399\u001b[0m \u001b[38;5;28;01mif\u001b[39;00m columns\u001b[38;5;241m.\u001b[39mis_unique:\n\u001b[0;32m    400\u001b[0m     \u001b[38;5;28;01mif\u001b[39;00m \u001b[38;5;28mlen\u001b[39m(value\u001b[38;5;241m.\u001b[39mcolumns) \u001b[38;5;241m!=\u001b[39m \u001b[38;5;28mlen\u001b[39m(key):\n\u001b[1;32m--> 401\u001b[0m         \u001b[38;5;28;01mraise\u001b[39;00m \u001b[38;5;167;01mValueError\u001b[39;00m(\u001b[38;5;124m\"\u001b[39m\u001b[38;5;124mColumns must be same length as key\u001b[39m\u001b[38;5;124m\"\u001b[39m)\n\u001b[0;32m    402\u001b[0m \u001b[38;5;28;01melse\u001b[39;00m:\n\u001b[0;32m    403\u001b[0m     \u001b[38;5;66;03m# Missing keys in columns are represented as -1\u001b[39;00m\n\u001b[0;32m    404\u001b[0m     \u001b[38;5;28;01mif\u001b[39;00m \u001b[38;5;28mlen\u001b[39m(columns\u001b[38;5;241m.\u001b[39mget_indexer_non_unique(key)[\u001b[38;5;241m0\u001b[39m]) \u001b[38;5;241m!=\u001b[39m \u001b[38;5;28mlen\u001b[39m(value\u001b[38;5;241m.\u001b[39mcolumns):\n",
      "\u001b[1;31mValueError\u001b[0m: Columns must be same length as key"
     ]
    }
   ],
   "source": [
    "data = normalize_hand_columns(data)"
   ]
  },
  {
   "cell_type": "code",
   "execution_count": null,
   "id": "3c3fa576",
   "metadata": {},
   "outputs": [],
   "source": []
  }
 ],
 "metadata": {
  "kernelspec": {
   "display_name": "Python 3 (ipykernel)",
   "language": "python",
   "name": "python3"
  },
  "language_info": {
   "codemirror_mode": {
    "name": "ipython",
    "version": 3
   },
   "file_extension": ".py",
   "mimetype": "text/x-python",
   "name": "python",
   "nbconvert_exporter": "python",
   "pygments_lexer": "ipython3",
   "version": "3.10.9"
  }
 },
 "nbformat": 4,
 "nbformat_minor": 5
}
