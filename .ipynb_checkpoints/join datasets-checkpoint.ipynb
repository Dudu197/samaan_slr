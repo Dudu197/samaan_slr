{
 "cells": [
  {
   "cell_type": "code",
   "execution_count": 1,
   "id": "d59a7206",
   "metadata": {},
   "outputs": [],
   "source": [
    "import pandas as pd\n",
    "import numpy as np\n",
    "import os\n",
    "from matplotlib import pyplot as plt"
   ]
  },
  {
   "cell_type": "code",
   "execution_count": 2,
   "id": "9b1c6008",
   "metadata": {},
   "outputs": [],
   "source": [
    "files = [\n",
    "    \"lsa64_dataset.csv\",\n",
    "    \"lsa64_dataset_part_2.csv\",\n",
    "    \"lsa64_dataset_part_3.csv\",\n",
    "]"
   ]
  },
  {
   "cell_type": "code",
   "execution_count": 7,
   "id": "be9b633a",
   "metadata": {},
   "outputs": [
    {
     "data": {
      "text/plain": [
       "['dataset_output/KSL/raw/KSL_01.csv',\n",
       " 'dataset_output/KSL/raw/KSL_02.csv',\n",
       " 'dataset_output/KSL/raw/KSL_03.csv',\n",
       " 'dataset_output/KSL/raw/KSL_04.csv',\n",
       " 'dataset_output/KSL/raw/KSL_05.csv',\n",
       " 'dataset_output/KSL/raw/KSL_06.csv',\n",
       " 'dataset_output/KSL/raw/KSL_07.csv',\n",
       " 'dataset_output/KSL/raw/KSL_08.csv',\n",
       " 'dataset_output/KSL/raw/KSL_09.csv',\n",
       " 'dataset_output/KSL/raw/KSL_10.csv',\n",
       " 'dataset_output/KSL/raw/KSL_11.csv',\n",
       " 'dataset_output/KSL/raw/KSL_13.csv',\n",
       " 'dataset_output/KSL/raw/KSL_14.csv',\n",
       " 'dataset_output/KSL/raw/KSL_15.csv',\n",
       " 'dataset_output/KSL/raw/KSL_16.csv',\n",
       " 'dataset_output/KSL/raw/KSL_17.csv',\n",
       " 'dataset_output/KSL/raw/KSL_18.csv',\n",
       " 'dataset_output/KSL/raw/KSL_20.csv',\n",
       " 'dataset_output/KSL/raw/KSL_21.csv',\n",
       " 'dataset_output/KSL/raw/KSL_22.csv',\n",
       " 'dataset_output/KSL/raw/KSL_23.csv',\n",
       " 'dataset_output/KSL/raw/KSL_24.csv',\n",
       " 'dataset_output/KSL/raw/KSL_25.csv',\n",
       " 'dataset_output/KSL/raw/KSL_26.csv',\n",
       " 'dataset_output/KSL/raw/KSL_27.csv',\n",
       " 'dataset_output/KSL/raw/KSL_29.csv',\n",
       " 'dataset_output/KSL/raw/KSL_30.csv',\n",
       " 'dataset_output/KSL/raw/KSL_31.csv',\n",
       " 'dataset_output/KSL/raw/KSL_32.csv',\n",
       " 'dataset_output/KSL/raw/KSL_34.csv',\n",
       " 'dataset_output/KSL/raw/KSL_36.csv',\n",
       " 'dataset_output/KSL/raw/KSL_37.csv',\n",
       " 'dataset_output/KSL/raw/KSL_38.csv',\n",
       " 'dataset_output/KSL/raw/KSL_39.csv',\n",
       " 'dataset_output/KSL/raw/KSL_40.csv',\n",
       " 'dataset_output/KSL/raw/KSL_41.csv',\n",
       " 'dataset_output/KSL/raw/KSL_42.csv',\n",
       " 'dataset_output/KSL/raw/KSL_43.csv',\n",
       " 'dataset_output/KSL/raw/KSL_44.csv',\n",
       " 'dataset_output/KSL/raw/KSL_47.csv',\n",
       " 'dataset_output/KSL/raw/KSL_48.csv',\n",
       " 'dataset_output/KSL/raw/KSL_49.csv',\n",
       " 'dataset_output/KSL/raw/KSL_50.csv',\n",
       " 'dataset_output/KSL/raw/KSL_51.csv',\n",
       " 'dataset_output/KSL/raw/KSL_52.csv',\n",
       " 'dataset_output/KSL/raw/KSL_54.csv',\n",
       " 'dataset_output/KSL/raw/KSL_55.csv',\n",
       " 'dataset_output/KSL/raw/KSL_56.csv',\n",
       " 'dataset_output/KSL/raw/KSL_57.csv',\n",
       " 'dataset_output/KSL/raw/KSL_58.csv',\n",
       " 'dataset_output/KSL/raw/KSL_59.csv',\n",
       " 'dataset_output/KSL/raw/KSL_60.csv',\n",
       " 'dataset_output/KSL/raw/KSL_61.csv',\n",
       " 'dataset_output/KSL/raw/KSL_62.csv',\n",
       " 'dataset_output/KSL/raw/KSL_63.csv',\n",
       " 'dataset_output/KSL/raw/KSL_64.csv',\n",
       " 'dataset_output/KSL/raw/KSL_65.csv',\n",
       " 'dataset_output/KSL/raw/KSL_66.csv',\n",
       " 'dataset_output/KSL/raw/KSL_67.csv',\n",
       " 'dataset_output/KSL/raw/KSL_68.csv',\n",
       " 'dataset_output/KSL/raw/KSL_69.csv',\n",
       " 'dataset_output/KSL/raw/KSL_70.csv',\n",
       " 'dataset_output/KSL/raw/KSL_71.csv',\n",
       " 'dataset_output/KSL/raw/KSL_72.csv',\n",
       " 'dataset_output/KSL/raw/KSL_74.csv',\n",
       " 'dataset_output/KSL/raw/KSL_76.csv',\n",
       " 'dataset_output/KSL/raw/KSL_77.csv']"
      ]
     },
     "execution_count": 7,
     "metadata": {},
     "output_type": "execute_result"
    }
   ],
   "source": [
    "path = \"dataset_output/KSL/raw/\"\n",
    "files = [path + i for i in os.listdir(path)]\n",
    "files"
   ]
  },
  {
   "cell_type": "code",
   "execution_count": 8,
   "id": "2a297b47",
   "metadata": {},
   "outputs": [],
   "source": [
    "dfs = [pd.read_csv(f) for f in files]"
   ]
  },
  {
   "cell_type": "code",
   "execution_count": 9,
   "id": "b2876645",
   "metadata": {},
   "outputs": [],
   "source": [
    "i = 0\n",
    "for df in dfs:\n",
    "    hand_columns = [i for i in df.columns if i.startswith(\"hand_\")]\n",
    "    face_columns = [i for i in df.columns if i.startswith(\"face_\")]\n",
    "    df[\"missing_hand\"] = eval(\" & \".join([f\"(df['{h}'] == 0)\" for h in hand_columns]))\n",
    "    df[\"missing_face\"] = eval(\" & \".join([f\"(df['{h}'] == 0)\" for h in face_columns]))"
   ]
  },
  {
   "cell_type": "code",
   "execution_count": 10,
   "id": "d22a1b36",
   "metadata": {},
   "outputs": [],
   "source": [
    "categories_loss = []\n",
    "for df in dfs:\n",
    "    for category in df[\"category\"].unique():\n",
    "        missing = len(df[(df[\"category\"] == category) & (df[\"missing_hand\"] == True)])\n",
    "        categories_loss.append((category, missing,))"
   ]
  },
  {
   "cell_type": "code",
   "execution_count": 11,
   "id": "74bf2d04",
   "metadata": {},
   "outputs": [],
   "source": [
    "categories_loss.sort(key=lambda i: i[1])"
   ]
  },
  {
   "cell_type": "code",
   "execution_count": 12,
   "id": "9876de2c",
   "metadata": {},
   "outputs": [],
   "source": [
    "df_best = pd.DataFrame(columns=df.columns)\n",
    "for category in categories_loss: #[:10]:\n",
    "    df = dfs[(category[0] + 1) // 11]\n",
    "    df = df[df[\"category\"] == category[0]]\n",
    "    df_best = pd.concat([df_best, df])"
   ]
  },
  {
   "cell_type": "code",
   "execution_count": 13,
   "id": "151f3f3e",
   "metadata": {},
   "outputs": [],
   "source": [
    "# All Datasets\n",
    "df_best = pd.DataFrame(columns=df.columns)\n",
    "for df in dfs:\n",
    "    df_best = pd.concat([df_best, df])"
   ]
  },
  {
   "cell_type": "code",
   "execution_count": 14,
   "id": "584f93ff",
   "metadata": {},
   "outputs": [
    {
     "data": {
      "text/html": [
       "<div>\n",
       "<style scoped>\n",
       "    .dataframe tbody tr th:only-of-type {\n",
       "        vertical-align: middle;\n",
       "    }\n",
       "\n",
       "    .dataframe tbody tr th {\n",
       "        vertical-align: top;\n",
       "    }\n",
       "\n",
       "    .dataframe thead th {\n",
       "        text-align: right;\n",
       "    }\n",
       "</style>\n",
       "<table border=\"1\" class=\"dataframe\">\n",
       "  <thead>\n",
       "    <tr style=\"text-align: right;\">\n",
       "      <th></th>\n",
       "      <th>Unnamed: 0</th>\n",
       "      <th>category</th>\n",
       "      <th>video_name</th>\n",
       "      <th>frame</th>\n",
       "      <th>hand_0_0_x</th>\n",
       "      <th>hand_0_0_y</th>\n",
       "      <th>hand_0_0_z</th>\n",
       "      <th>hand_0_1_x</th>\n",
       "      <th>hand_0_1_y</th>\n",
       "      <th>hand_0_1_z</th>\n",
       "      <th>...</th>\n",
       "      <th>pose_22_y</th>\n",
       "      <th>pose_22_z</th>\n",
       "      <th>pose_23_x</th>\n",
       "      <th>pose_23_y</th>\n",
       "      <th>pose_23_z</th>\n",
       "      <th>pose_24_x</th>\n",
       "      <th>pose_24_y</th>\n",
       "      <th>pose_24_z</th>\n",
       "      <th>missing_hand</th>\n",
       "      <th>missing_face</th>\n",
       "    </tr>\n",
       "  </thead>\n",
       "  <tbody>\n",
       "    <tr>\n",
       "      <th>0</th>\n",
       "      <td>0</td>\n",
       "      <td>1</td>\n",
       "      <td>01\\00_01.MP4</td>\n",
       "      <td>0</td>\n",
       "      <td>0.582001</td>\n",
       "      <td>0.962902</td>\n",
       "      <td>0.546266</td>\n",
       "      <td>0.556157</td>\n",
       "      <td>0.949455</td>\n",
       "      <td>0.509521</td>\n",
       "      <td>...</td>\n",
       "      <td>0.0</td>\n",
       "      <td>0.0</td>\n",
       "      <td>0.0</td>\n",
       "      <td>0.0</td>\n",
       "      <td>0.0</td>\n",
       "      <td>0.0</td>\n",
       "      <td>0.0</td>\n",
       "      <td>0.0</td>\n",
       "      <td>False</td>\n",
       "      <td>False</td>\n",
       "    </tr>\n",
       "    <tr>\n",
       "      <th>1</th>\n",
       "      <td>1</td>\n",
       "      <td>1</td>\n",
       "      <td>01\\00_01.MP4</td>\n",
       "      <td>1</td>\n",
       "      <td>0.580137</td>\n",
       "      <td>0.966008</td>\n",
       "      <td>0.477088</td>\n",
       "      <td>0.553618</td>\n",
       "      <td>0.948864</td>\n",
       "      <td>0.412830</td>\n",
       "      <td>...</td>\n",
       "      <td>0.0</td>\n",
       "      <td>0.0</td>\n",
       "      <td>0.0</td>\n",
       "      <td>0.0</td>\n",
       "      <td>0.0</td>\n",
       "      <td>0.0</td>\n",
       "      <td>0.0</td>\n",
       "      <td>0.0</td>\n",
       "      <td>False</td>\n",
       "      <td>False</td>\n",
       "    </tr>\n",
       "    <tr>\n",
       "      <th>2</th>\n",
       "      <td>2</td>\n",
       "      <td>1</td>\n",
       "      <td>01\\00_01.MP4</td>\n",
       "      <td>2</td>\n",
       "      <td>0.583498</td>\n",
       "      <td>0.959376</td>\n",
       "      <td>0.528047</td>\n",
       "      <td>0.556080</td>\n",
       "      <td>0.946377</td>\n",
       "      <td>0.515564</td>\n",
       "      <td>...</td>\n",
       "      <td>0.0</td>\n",
       "      <td>0.0</td>\n",
       "      <td>0.0</td>\n",
       "      <td>0.0</td>\n",
       "      <td>0.0</td>\n",
       "      <td>0.0</td>\n",
       "      <td>0.0</td>\n",
       "      <td>0.0</td>\n",
       "      <td>False</td>\n",
       "      <td>False</td>\n",
       "    </tr>\n",
       "    <tr>\n",
       "      <th>3</th>\n",
       "      <td>3</td>\n",
       "      <td>1</td>\n",
       "      <td>01\\00_01.MP4</td>\n",
       "      <td>3</td>\n",
       "      <td>0.581389</td>\n",
       "      <td>0.965206</td>\n",
       "      <td>0.442375</td>\n",
       "      <td>0.558085</td>\n",
       "      <td>0.947148</td>\n",
       "      <td>0.481095</td>\n",
       "      <td>...</td>\n",
       "      <td>0.0</td>\n",
       "      <td>0.0</td>\n",
       "      <td>0.0</td>\n",
       "      <td>0.0</td>\n",
       "      <td>0.0</td>\n",
       "      <td>0.0</td>\n",
       "      <td>0.0</td>\n",
       "      <td>0.0</td>\n",
       "      <td>False</td>\n",
       "      <td>False</td>\n",
       "    </tr>\n",
       "    <tr>\n",
       "      <th>4</th>\n",
       "      <td>4</td>\n",
       "      <td>1</td>\n",
       "      <td>01\\00_01.MP4</td>\n",
       "      <td>4</td>\n",
       "      <td>0.583501</td>\n",
       "      <td>0.963653</td>\n",
       "      <td>0.462050</td>\n",
       "      <td>0.558553</td>\n",
       "      <td>0.948509</td>\n",
       "      <td>0.505293</td>\n",
       "      <td>...</td>\n",
       "      <td>0.0</td>\n",
       "      <td>0.0</td>\n",
       "      <td>0.0</td>\n",
       "      <td>0.0</td>\n",
       "      <td>0.0</td>\n",
       "      <td>0.0</td>\n",
       "      <td>0.0</td>\n",
       "      <td>0.0</td>\n",
       "      <td>False</td>\n",
       "      <td>False</td>\n",
       "    </tr>\n",
       "    <tr>\n",
       "      <th>...</th>\n",
       "      <td>...</td>\n",
       "      <td>...</td>\n",
       "      <td>...</td>\n",
       "      <td>...</td>\n",
       "      <td>...</td>\n",
       "      <td>...</td>\n",
       "      <td>...</td>\n",
       "      <td>...</td>\n",
       "      <td>...</td>\n",
       "      <td>...</td>\n",
       "      <td>...</td>\n",
       "      <td>...</td>\n",
       "      <td>...</td>\n",
       "      <td>...</td>\n",
       "      <td>...</td>\n",
       "      <td>...</td>\n",
       "      <td>...</td>\n",
       "      <td>...</td>\n",
       "      <td>...</td>\n",
       "      <td>...</td>\n",
       "      <td>...</td>\n",
       "    </tr>\n",
       "    <tr>\n",
       "      <th>1744</th>\n",
       "      <td>1744</td>\n",
       "      <td>77</td>\n",
       "      <td>77\\19_77.MP4</td>\n",
       "      <td>120</td>\n",
       "      <td>0.000000</td>\n",
       "      <td>0.000000</td>\n",
       "      <td>0.000000</td>\n",
       "      <td>0.000000</td>\n",
       "      <td>0.000000</td>\n",
       "      <td>0.000000</td>\n",
       "      <td>...</td>\n",
       "      <td>0.0</td>\n",
       "      <td>0.0</td>\n",
       "      <td>0.0</td>\n",
       "      <td>0.0</td>\n",
       "      <td>0.0</td>\n",
       "      <td>0.0</td>\n",
       "      <td>0.0</td>\n",
       "      <td>0.0</td>\n",
       "      <td>True</td>\n",
       "      <td>False</td>\n",
       "    </tr>\n",
       "    <tr>\n",
       "      <th>1745</th>\n",
       "      <td>1745</td>\n",
       "      <td>77</td>\n",
       "      <td>77\\19_77.MP4</td>\n",
       "      <td>121</td>\n",
       "      <td>0.000000</td>\n",
       "      <td>0.000000</td>\n",
       "      <td>0.000000</td>\n",
       "      <td>0.000000</td>\n",
       "      <td>0.000000</td>\n",
       "      <td>0.000000</td>\n",
       "      <td>...</td>\n",
       "      <td>0.0</td>\n",
       "      <td>0.0</td>\n",
       "      <td>0.0</td>\n",
       "      <td>0.0</td>\n",
       "      <td>0.0</td>\n",
       "      <td>0.0</td>\n",
       "      <td>0.0</td>\n",
       "      <td>0.0</td>\n",
       "      <td>True</td>\n",
       "      <td>False</td>\n",
       "    </tr>\n",
       "    <tr>\n",
       "      <th>1746</th>\n",
       "      <td>1746</td>\n",
       "      <td>77</td>\n",
       "      <td>77\\19_77.MP4</td>\n",
       "      <td>122</td>\n",
       "      <td>0.000000</td>\n",
       "      <td>0.000000</td>\n",
       "      <td>0.000000</td>\n",
       "      <td>0.000000</td>\n",
       "      <td>0.000000</td>\n",
       "      <td>0.000000</td>\n",
       "      <td>...</td>\n",
       "      <td>0.0</td>\n",
       "      <td>0.0</td>\n",
       "      <td>0.0</td>\n",
       "      <td>0.0</td>\n",
       "      <td>0.0</td>\n",
       "      <td>0.0</td>\n",
       "      <td>0.0</td>\n",
       "      <td>0.0</td>\n",
       "      <td>True</td>\n",
       "      <td>False</td>\n",
       "    </tr>\n",
       "    <tr>\n",
       "      <th>1747</th>\n",
       "      <td>1747</td>\n",
       "      <td>77</td>\n",
       "      <td>77\\19_77.MP4</td>\n",
       "      <td>123</td>\n",
       "      <td>0.000000</td>\n",
       "      <td>0.000000</td>\n",
       "      <td>0.000000</td>\n",
       "      <td>0.000000</td>\n",
       "      <td>0.000000</td>\n",
       "      <td>0.000000</td>\n",
       "      <td>...</td>\n",
       "      <td>0.0</td>\n",
       "      <td>0.0</td>\n",
       "      <td>0.0</td>\n",
       "      <td>0.0</td>\n",
       "      <td>0.0</td>\n",
       "      <td>0.0</td>\n",
       "      <td>0.0</td>\n",
       "      <td>0.0</td>\n",
       "      <td>True</td>\n",
       "      <td>False</td>\n",
       "    </tr>\n",
       "    <tr>\n",
       "      <th>1748</th>\n",
       "      <td>1748</td>\n",
       "      <td>77</td>\n",
       "      <td>77\\19_77.MP4</td>\n",
       "      <td>124</td>\n",
       "      <td>0.000000</td>\n",
       "      <td>0.000000</td>\n",
       "      <td>0.000000</td>\n",
       "      <td>0.000000</td>\n",
       "      <td>0.000000</td>\n",
       "      <td>0.000000</td>\n",
       "      <td>...</td>\n",
       "      <td>0.0</td>\n",
       "      <td>0.0</td>\n",
       "      <td>0.0</td>\n",
       "      <td>0.0</td>\n",
       "      <td>0.0</td>\n",
       "      <td>0.0</td>\n",
       "      <td>0.0</td>\n",
       "      <td>0.0</td>\n",
       "      <td>True</td>\n",
       "      <td>False</td>\n",
       "    </tr>\n",
       "  </tbody>\n",
       "</table>\n",
       "<p>108373 rows × 417 columns</p>\n",
       "</div>"
      ],
      "text/plain": [
       "     Unnamed: 0 category    video_name frame  hand_0_0_x  hand_0_0_y  \\\n",
       "0             0        1  01\\00_01.MP4     0    0.582001    0.962902   \n",
       "1             1        1  01\\00_01.MP4     1    0.580137    0.966008   \n",
       "2             2        1  01\\00_01.MP4     2    0.583498    0.959376   \n",
       "3             3        1  01\\00_01.MP4     3    0.581389    0.965206   \n",
       "4             4        1  01\\00_01.MP4     4    0.583501    0.963653   \n",
       "...         ...      ...           ...   ...         ...         ...   \n",
       "1744       1744       77  77\\19_77.MP4   120    0.000000    0.000000   \n",
       "1745       1745       77  77\\19_77.MP4   121    0.000000    0.000000   \n",
       "1746       1746       77  77\\19_77.MP4   122    0.000000    0.000000   \n",
       "1747       1747       77  77\\19_77.MP4   123    0.000000    0.000000   \n",
       "1748       1748       77  77\\19_77.MP4   124    0.000000    0.000000   \n",
       "\n",
       "      hand_0_0_z  hand_0_1_x  hand_0_1_y  hand_0_1_z  ...  pose_22_y  \\\n",
       "0       0.546266    0.556157    0.949455    0.509521  ...        0.0   \n",
       "1       0.477088    0.553618    0.948864    0.412830  ...        0.0   \n",
       "2       0.528047    0.556080    0.946377    0.515564  ...        0.0   \n",
       "3       0.442375    0.558085    0.947148    0.481095  ...        0.0   \n",
       "4       0.462050    0.558553    0.948509    0.505293  ...        0.0   \n",
       "...          ...         ...         ...         ...  ...        ...   \n",
       "1744    0.000000    0.000000    0.000000    0.000000  ...        0.0   \n",
       "1745    0.000000    0.000000    0.000000    0.000000  ...        0.0   \n",
       "1746    0.000000    0.000000    0.000000    0.000000  ...        0.0   \n",
       "1747    0.000000    0.000000    0.000000    0.000000  ...        0.0   \n",
       "1748    0.000000    0.000000    0.000000    0.000000  ...        0.0   \n",
       "\n",
       "      pose_22_z  pose_23_x  pose_23_y  pose_23_z  pose_24_x  pose_24_y  \\\n",
       "0           0.0        0.0        0.0        0.0        0.0        0.0   \n",
       "1           0.0        0.0        0.0        0.0        0.0        0.0   \n",
       "2           0.0        0.0        0.0        0.0        0.0        0.0   \n",
       "3           0.0        0.0        0.0        0.0        0.0        0.0   \n",
       "4           0.0        0.0        0.0        0.0        0.0        0.0   \n",
       "...         ...        ...        ...        ...        ...        ...   \n",
       "1744        0.0        0.0        0.0        0.0        0.0        0.0   \n",
       "1745        0.0        0.0        0.0        0.0        0.0        0.0   \n",
       "1746        0.0        0.0        0.0        0.0        0.0        0.0   \n",
       "1747        0.0        0.0        0.0        0.0        0.0        0.0   \n",
       "1748        0.0        0.0        0.0        0.0        0.0        0.0   \n",
       "\n",
       "      pose_24_z  missing_hand  missing_face  \n",
       "0           0.0         False         False  \n",
       "1           0.0         False         False  \n",
       "2           0.0         False         False  \n",
       "3           0.0         False         False  \n",
       "4           0.0         False         False  \n",
       "...         ...           ...           ...  \n",
       "1744        0.0          True         False  \n",
       "1745        0.0          True         False  \n",
       "1746        0.0          True         False  \n",
       "1747        0.0          True         False  \n",
       "1748        0.0          True         False  \n",
       "\n",
       "[108373 rows x 417 columns]"
      ]
     },
     "execution_count": 14,
     "metadata": {},
     "output_type": "execute_result"
    }
   ],
   "source": [
    "df_best"
   ]
  },
  {
   "cell_type": "code",
   "execution_count": 15,
   "id": "504b28ac",
   "metadata": {},
   "outputs": [
    {
     "data": {
      "text/plain": [
       "108373"
      ]
     },
     "execution_count": 15,
     "metadata": {},
     "output_type": "execute_result"
    }
   ],
   "source": [
    "len(df_best)"
   ]
  },
  {
   "cell_type": "code",
   "execution_count": 5,
   "id": "59748638",
   "metadata": {},
   "outputs": [
    {
     "data": {
      "text/plain": [
       "1229"
      ]
     },
     "execution_count": 5,
     "metadata": {},
     "output_type": "execute_result"
    }
   ],
   "source": [
    "len(df_best[\"video_name\"].unique())"
   ]
  },
  {
   "cell_type": "code",
   "execution_count": 2,
   "id": "f7a3142c",
   "metadata": {},
   "outputs": [],
   "source": [
    "df_best = pd.read_csv(\"dataset_output/KSL/ksl_openpose.csv\")"
   ]
  },
  {
   "cell_type": "code",
   "execution_count": 16,
   "id": "e303ddd1",
   "metadata": {},
   "outputs": [
    {
     "data": {
      "text/plain": [
       "28023"
      ]
     },
     "execution_count": 16,
     "metadata": {},
     "output_type": "execute_result"
    }
   ],
   "source": [
    "len(df_best[df_best[\"missing_hand\"] == True])"
   ]
  },
  {
   "cell_type": "code",
   "execution_count": 17,
   "id": "c6849ceb",
   "metadata": {},
   "outputs": [
    {
     "data": {
      "text/plain": [
       "0.2585791663975344"
      ]
     },
     "execution_count": 17,
     "metadata": {},
     "output_type": "execute_result"
    }
   ],
   "source": [
    "len(df_best[df_best[\"missing_hand\"] == True]) / len(df_best)"
   ]
  },
  {
   "cell_type": "code",
   "execution_count": 4,
   "id": "a4fee71a",
   "metadata": {},
   "outputs": [
    {
     "data": {
      "text/plain": [
       "808"
      ]
     },
     "execution_count": 4,
     "metadata": {},
     "output_type": "execute_result"
    }
   ],
   "source": [
    "len(df_best[df_best[\"missing_hand\"] == True][\"video_name\"].unique())"
   ]
  },
  {
   "cell_type": "code",
   "execution_count": 18,
   "id": "8fd932f6",
   "metadata": {},
   "outputs": [
    {
     "data": {
      "text/plain": [
       "82"
      ]
     },
     "execution_count": 18,
     "metadata": {},
     "output_type": "execute_result"
    }
   ],
   "source": [
    "len(df_best[df_best[\"missing_face\"] == True])"
   ]
  },
  {
   "cell_type": "code",
   "execution_count": 19,
   "id": "a2b4c812",
   "metadata": {},
   "outputs": [
    {
     "data": {
      "text/plain": [
       "0.0007566460280697221"
      ]
     },
     "execution_count": 19,
     "metadata": {},
     "output_type": "execute_result"
    }
   ],
   "source": [
    "len(df_best[df_best[\"missing_face\"] == True]) / len(df_best)"
   ]
  },
  {
   "cell_type": "code",
   "execution_count": null,
   "id": "1c46d5f2",
   "metadata": {},
   "outputs": [],
   "source": [
    "df_best.drop(\"Unnamed: 0\", axis=1).to_csv(\"dataset_output/KSL/ksl_openpose.csv\")"
   ]
  },
  {
   "cell_type": "code",
   "execution_count": null,
   "id": "9eb61b8a",
   "metadata": {},
   "outputs": [],
   "source": []
  }
 ],
 "metadata": {
  "kernelspec": {
   "display_name": "Python 3 (ipykernel)",
   "language": "python",
   "name": "python3"
  },
  "language_info": {
   "codemirror_mode": {
    "name": "ipython",
    "version": 3
   },
   "file_extension": ".py",
   "mimetype": "text/x-python",
   "name": "python",
   "nbconvert_exporter": "python",
   "pygments_lexer": "ipython3",
   "version": "3.9.16"
  }
 },
 "nbformat": 4,
 "nbformat_minor": 5
}
