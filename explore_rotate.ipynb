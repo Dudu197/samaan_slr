{
 "cells": [
  {
   "cell_type": "code",
   "execution_count": 63,
   "id": "00f039e6",
   "metadata": {},
   "outputs": [],
   "source": [
    "import cv2\n",
    "import numpy as np\n",
    "import pandas as pd\n",
    "import matplotlib.pyplot as plt\n",
    "import math"
   ]
  },
  {
   "cell_type": "code",
   "execution_count": 2,
   "id": "7380b5fd",
   "metadata": {},
   "outputs": [],
   "source": [
    "df = pd.read_csv(\"dataset_output/lsa64_openpose/lsa64_dataset_cat_1.csv\")"
   ]
  },
  {
   "cell_type": "code",
   "execution_count": 3,
   "id": "70c8903d",
   "metadata": {},
   "outputs": [
    {
     "data": {
      "text/html": [
       "<div>\n",
       "<style scoped>\n",
       "    .dataframe tbody tr th:only-of-type {\n",
       "        vertical-align: middle;\n",
       "    }\n",
       "\n",
       "    .dataframe tbody tr th {\n",
       "        vertical-align: top;\n",
       "    }\n",
       "\n",
       "    .dataframe thead th {\n",
       "        text-align: right;\n",
       "    }\n",
       "</style>\n",
       "<table border=\"1\" class=\"dataframe\">\n",
       "  <thead>\n",
       "    <tr style=\"text-align: right;\">\n",
       "      <th></th>\n",
       "      <th>Unnamed: 0</th>\n",
       "      <th>category</th>\n",
       "      <th>video_name</th>\n",
       "      <th>frame</th>\n",
       "      <th>hand_0_0_x</th>\n",
       "      <th>hand_0_0_y</th>\n",
       "      <th>hand_0_0_z</th>\n",
       "      <th>hand_0_1_x</th>\n",
       "      <th>hand_0_1_y</th>\n",
       "      <th>hand_0_1_z</th>\n",
       "      <th>...</th>\n",
       "      <th>pose_21_z</th>\n",
       "      <th>pose_22_x</th>\n",
       "      <th>pose_22_y</th>\n",
       "      <th>pose_22_z</th>\n",
       "      <th>pose_23_x</th>\n",
       "      <th>pose_23_y</th>\n",
       "      <th>pose_23_z</th>\n",
       "      <th>pose_24_x</th>\n",
       "      <th>pose_24_y</th>\n",
       "      <th>pose_24_z</th>\n",
       "    </tr>\n",
       "  </thead>\n",
       "  <tbody>\n",
       "    <tr>\n",
       "      <th>0</th>\n",
       "      <td>0</td>\n",
       "      <td>1</td>\n",
       "      <td>001_001_001.mp4</td>\n",
       "      <td>0</td>\n",
       "      <td>0.559302</td>\n",
       "      <td>0.943834</td>\n",
       "      <td>0.361916</td>\n",
       "      <td>0.539392</td>\n",
       "      <td>0.984436</td>\n",
       "      <td>0.072649</td>\n",
       "      <td>...</td>\n",
       "      <td>0.0</td>\n",
       "      <td>0.0</td>\n",
       "      <td>0.0</td>\n",
       "      <td>0.0</td>\n",
       "      <td>0.0</td>\n",
       "      <td>0.0</td>\n",
       "      <td>0.0</td>\n",
       "      <td>0.0</td>\n",
       "      <td>0.0</td>\n",
       "      <td>0.0</td>\n",
       "    </tr>\n",
       "    <tr>\n",
       "      <th>1</th>\n",
       "      <td>1</td>\n",
       "      <td>1</td>\n",
       "      <td>001_001_001.mp4</td>\n",
       "      <td>1</td>\n",
       "      <td>0.557995</td>\n",
       "      <td>0.944853</td>\n",
       "      <td>0.363025</td>\n",
       "      <td>0.538670</td>\n",
       "      <td>0.990662</td>\n",
       "      <td>0.072256</td>\n",
       "      <td>...</td>\n",
       "      <td>0.0</td>\n",
       "      <td>0.0</td>\n",
       "      <td>0.0</td>\n",
       "      <td>0.0</td>\n",
       "      <td>0.0</td>\n",
       "      <td>0.0</td>\n",
       "      <td>0.0</td>\n",
       "      <td>0.0</td>\n",
       "      <td>0.0</td>\n",
       "      <td>0.0</td>\n",
       "    </tr>\n",
       "    <tr>\n",
       "      <th>2</th>\n",
       "      <td>2</td>\n",
       "      <td>1</td>\n",
       "      <td>001_001_001.mp4</td>\n",
       "      <td>2</td>\n",
       "      <td>0.557992</td>\n",
       "      <td>0.945950</td>\n",
       "      <td>0.366478</td>\n",
       "      <td>0.539255</td>\n",
       "      <td>0.989671</td>\n",
       "      <td>0.074984</td>\n",
       "      <td>...</td>\n",
       "      <td>0.0</td>\n",
       "      <td>0.0</td>\n",
       "      <td>0.0</td>\n",
       "      <td>0.0</td>\n",
       "      <td>0.0</td>\n",
       "      <td>0.0</td>\n",
       "      <td>0.0</td>\n",
       "      <td>0.0</td>\n",
       "      <td>0.0</td>\n",
       "      <td>0.0</td>\n",
       "    </tr>\n",
       "    <tr>\n",
       "      <th>3</th>\n",
       "      <td>3</td>\n",
       "      <td>1</td>\n",
       "      <td>001_001_001.mp4</td>\n",
       "      <td>3</td>\n",
       "      <td>0.557876</td>\n",
       "      <td>0.945462</td>\n",
       "      <td>0.389607</td>\n",
       "      <td>0.538725</td>\n",
       "      <td>0.984666</td>\n",
       "      <td>0.079201</td>\n",
       "      <td>...</td>\n",
       "      <td>0.0</td>\n",
       "      <td>0.0</td>\n",
       "      <td>0.0</td>\n",
       "      <td>0.0</td>\n",
       "      <td>0.0</td>\n",
       "      <td>0.0</td>\n",
       "      <td>0.0</td>\n",
       "      <td>0.0</td>\n",
       "      <td>0.0</td>\n",
       "      <td>0.0</td>\n",
       "    </tr>\n",
       "    <tr>\n",
       "      <th>4</th>\n",
       "      <td>4</td>\n",
       "      <td>1</td>\n",
       "      <td>001_001_001.mp4</td>\n",
       "      <td>4</td>\n",
       "      <td>0.557848</td>\n",
       "      <td>0.945605</td>\n",
       "      <td>0.395565</td>\n",
       "      <td>0.538737</td>\n",
       "      <td>0.980610</td>\n",
       "      <td>0.080987</td>\n",
       "      <td>...</td>\n",
       "      <td>0.0</td>\n",
       "      <td>0.0</td>\n",
       "      <td>0.0</td>\n",
       "      <td>0.0</td>\n",
       "      <td>0.0</td>\n",
       "      <td>0.0</td>\n",
       "      <td>0.0</td>\n",
       "      <td>0.0</td>\n",
       "      <td>0.0</td>\n",
       "      <td>0.0</td>\n",
       "    </tr>\n",
       "    <tr>\n",
       "      <th>...</th>\n",
       "      <td>...</td>\n",
       "      <td>...</td>\n",
       "      <td>...</td>\n",
       "      <td>...</td>\n",
       "      <td>...</td>\n",
       "      <td>...</td>\n",
       "      <td>...</td>\n",
       "      <td>...</td>\n",
       "      <td>...</td>\n",
       "      <td>...</td>\n",
       "      <td>...</td>\n",
       "      <td>...</td>\n",
       "      <td>...</td>\n",
       "      <td>...</td>\n",
       "      <td>...</td>\n",
       "      <td>...</td>\n",
       "      <td>...</td>\n",
       "      <td>...</td>\n",
       "      <td>...</td>\n",
       "      <td>...</td>\n",
       "      <td>...</td>\n",
       "    </tr>\n",
       "    <tr>\n",
       "      <th>5895</th>\n",
       "      <td>5895</td>\n",
       "      <td>1</td>\n",
       "      <td>001_010_005.mp4</td>\n",
       "      <td>113</td>\n",
       "      <td>0.000000</td>\n",
       "      <td>0.000000</td>\n",
       "      <td>0.000000</td>\n",
       "      <td>0.000000</td>\n",
       "      <td>0.000000</td>\n",
       "      <td>0.000000</td>\n",
       "      <td>...</td>\n",
       "      <td>0.0</td>\n",
       "      <td>0.0</td>\n",
       "      <td>0.0</td>\n",
       "      <td>0.0</td>\n",
       "      <td>0.0</td>\n",
       "      <td>0.0</td>\n",
       "      <td>0.0</td>\n",
       "      <td>0.0</td>\n",
       "      <td>0.0</td>\n",
       "      <td>0.0</td>\n",
       "    </tr>\n",
       "    <tr>\n",
       "      <th>5896</th>\n",
       "      <td>5896</td>\n",
       "      <td>1</td>\n",
       "      <td>001_010_005.mp4</td>\n",
       "      <td>114</td>\n",
       "      <td>0.000000</td>\n",
       "      <td>0.000000</td>\n",
       "      <td>0.000000</td>\n",
       "      <td>0.000000</td>\n",
       "      <td>0.000000</td>\n",
       "      <td>0.000000</td>\n",
       "      <td>...</td>\n",
       "      <td>0.0</td>\n",
       "      <td>0.0</td>\n",
       "      <td>0.0</td>\n",
       "      <td>0.0</td>\n",
       "      <td>0.0</td>\n",
       "      <td>0.0</td>\n",
       "      <td>0.0</td>\n",
       "      <td>0.0</td>\n",
       "      <td>0.0</td>\n",
       "      <td>0.0</td>\n",
       "    </tr>\n",
       "    <tr>\n",
       "      <th>5897</th>\n",
       "      <td>5897</td>\n",
       "      <td>1</td>\n",
       "      <td>001_010_005.mp4</td>\n",
       "      <td>115</td>\n",
       "      <td>0.000000</td>\n",
       "      <td>0.000000</td>\n",
       "      <td>0.000000</td>\n",
       "      <td>0.000000</td>\n",
       "      <td>0.000000</td>\n",
       "      <td>0.000000</td>\n",
       "      <td>...</td>\n",
       "      <td>0.0</td>\n",
       "      <td>0.0</td>\n",
       "      <td>0.0</td>\n",
       "      <td>0.0</td>\n",
       "      <td>0.0</td>\n",
       "      <td>0.0</td>\n",
       "      <td>0.0</td>\n",
       "      <td>0.0</td>\n",
       "      <td>0.0</td>\n",
       "      <td>0.0</td>\n",
       "    </tr>\n",
       "    <tr>\n",
       "      <th>5898</th>\n",
       "      <td>5898</td>\n",
       "      <td>1</td>\n",
       "      <td>001_010_005.mp4</td>\n",
       "      <td>116</td>\n",
       "      <td>0.000000</td>\n",
       "      <td>0.000000</td>\n",
       "      <td>0.000000</td>\n",
       "      <td>0.000000</td>\n",
       "      <td>0.000000</td>\n",
       "      <td>0.000000</td>\n",
       "      <td>...</td>\n",
       "      <td>0.0</td>\n",
       "      <td>0.0</td>\n",
       "      <td>0.0</td>\n",
       "      <td>0.0</td>\n",
       "      <td>0.0</td>\n",
       "      <td>0.0</td>\n",
       "      <td>0.0</td>\n",
       "      <td>0.0</td>\n",
       "      <td>0.0</td>\n",
       "      <td>0.0</td>\n",
       "    </tr>\n",
       "    <tr>\n",
       "      <th>5899</th>\n",
       "      <td>5899</td>\n",
       "      <td>1</td>\n",
       "      <td>001_010_005.mp4</td>\n",
       "      <td>117</td>\n",
       "      <td>0.000000</td>\n",
       "      <td>0.000000</td>\n",
       "      <td>0.000000</td>\n",
       "      <td>0.000000</td>\n",
       "      <td>0.000000</td>\n",
       "      <td>0.000000</td>\n",
       "      <td>...</td>\n",
       "      <td>0.0</td>\n",
       "      <td>0.0</td>\n",
       "      <td>0.0</td>\n",
       "      <td>0.0</td>\n",
       "      <td>0.0</td>\n",
       "      <td>0.0</td>\n",
       "      <td>0.0</td>\n",
       "      <td>0.0</td>\n",
       "      <td>0.0</td>\n",
       "      <td>0.0</td>\n",
       "    </tr>\n",
       "  </tbody>\n",
       "</table>\n",
       "<p>5900 rows × 415 columns</p>\n",
       "</div>"
      ],
      "text/plain": [
       "      Unnamed: 0  category       video_name  frame  hand_0_0_x  hand_0_0_y  \\\n",
       "0              0         1  001_001_001.mp4      0    0.559302    0.943834   \n",
       "1              1         1  001_001_001.mp4      1    0.557995    0.944853   \n",
       "2              2         1  001_001_001.mp4      2    0.557992    0.945950   \n",
       "3              3         1  001_001_001.mp4      3    0.557876    0.945462   \n",
       "4              4         1  001_001_001.mp4      4    0.557848    0.945605   \n",
       "...          ...       ...              ...    ...         ...         ...   \n",
       "5895        5895         1  001_010_005.mp4    113    0.000000    0.000000   \n",
       "5896        5896         1  001_010_005.mp4    114    0.000000    0.000000   \n",
       "5897        5897         1  001_010_005.mp4    115    0.000000    0.000000   \n",
       "5898        5898         1  001_010_005.mp4    116    0.000000    0.000000   \n",
       "5899        5899         1  001_010_005.mp4    117    0.000000    0.000000   \n",
       "\n",
       "      hand_0_0_z  hand_0_1_x  hand_0_1_y  hand_0_1_z  ...  pose_21_z  \\\n",
       "0       0.361916    0.539392    0.984436    0.072649  ...        0.0   \n",
       "1       0.363025    0.538670    0.990662    0.072256  ...        0.0   \n",
       "2       0.366478    0.539255    0.989671    0.074984  ...        0.0   \n",
       "3       0.389607    0.538725    0.984666    0.079201  ...        0.0   \n",
       "4       0.395565    0.538737    0.980610    0.080987  ...        0.0   \n",
       "...          ...         ...         ...         ...  ...        ...   \n",
       "5895    0.000000    0.000000    0.000000    0.000000  ...        0.0   \n",
       "5896    0.000000    0.000000    0.000000    0.000000  ...        0.0   \n",
       "5897    0.000000    0.000000    0.000000    0.000000  ...        0.0   \n",
       "5898    0.000000    0.000000    0.000000    0.000000  ...        0.0   \n",
       "5899    0.000000    0.000000    0.000000    0.000000  ...        0.0   \n",
       "\n",
       "      pose_22_x  pose_22_y  pose_22_z  pose_23_x  pose_23_y  pose_23_z  \\\n",
       "0           0.0        0.0        0.0        0.0        0.0        0.0   \n",
       "1           0.0        0.0        0.0        0.0        0.0        0.0   \n",
       "2           0.0        0.0        0.0        0.0        0.0        0.0   \n",
       "3           0.0        0.0        0.0        0.0        0.0        0.0   \n",
       "4           0.0        0.0        0.0        0.0        0.0        0.0   \n",
       "...         ...        ...        ...        ...        ...        ...   \n",
       "5895        0.0        0.0        0.0        0.0        0.0        0.0   \n",
       "5896        0.0        0.0        0.0        0.0        0.0        0.0   \n",
       "5897        0.0        0.0        0.0        0.0        0.0        0.0   \n",
       "5898        0.0        0.0        0.0        0.0        0.0        0.0   \n",
       "5899        0.0        0.0        0.0        0.0        0.0        0.0   \n",
       "\n",
       "      pose_24_x  pose_24_y  pose_24_z  \n",
       "0           0.0        0.0        0.0  \n",
       "1           0.0        0.0        0.0  \n",
       "2           0.0        0.0        0.0  \n",
       "3           0.0        0.0        0.0  \n",
       "4           0.0        0.0        0.0  \n",
       "...         ...        ...        ...  \n",
       "5895        0.0        0.0        0.0  \n",
       "5896        0.0        0.0        0.0  \n",
       "5897        0.0        0.0        0.0  \n",
       "5898        0.0        0.0        0.0  \n",
       "5899        0.0        0.0        0.0  \n",
       "\n",
       "[5900 rows x 415 columns]"
      ]
     },
     "execution_count": 3,
     "metadata": {},
     "output_type": "execute_result"
    }
   ],
   "source": [
    "df"
   ]
  },
  {
   "cell_type": "code",
   "execution_count": 145,
   "id": "0a598db5",
   "metadata": {},
   "outputs": [],
   "source": [
    "frame = df.iloc[0]"
   ]
  },
  {
   "cell_type": "code",
   "execution_count": 10,
   "id": "dcf20eb3",
   "metadata": {},
   "outputs": [
    {
     "data": {
      "text/plain": [
       "Unnamed: 0                  0\n",
       "category                    1\n",
       "video_name    001_001_001.mp4\n",
       "frame                       0\n",
       "hand_0_0_x           0.559302\n",
       "                   ...       \n",
       "pose_23_y                 0.0\n",
       "pose_23_z                 0.0\n",
       "pose_24_x                 0.0\n",
       "pose_24_y                 0.0\n",
       "pose_24_z                 0.0\n",
       "Name: 0, Length: 415, dtype: object"
      ]
     },
     "execution_count": 10,
     "metadata": {},
     "output_type": "execute_result"
    }
   ],
   "source": [
    "frame"
   ]
  },
  {
   "cell_type": "code",
   "execution_count": 11,
   "id": "d9a00261",
   "metadata": {},
   "outputs": [],
   "source": [
    "landmarks_name = np.array([i for i in list(df.columns) if i not in [\"Unnamed: 0\", \"Unnamed: 0.1\", \"Unnamed: 0.2\", \"category\", \"category_index\", \"video_name\", \"frame\", \"missing_hand\", \"missing_face\"]])"
   ]
  },
  {
   "cell_type": "code",
   "execution_count": 14,
   "id": "72e060ad",
   "metadata": {},
   "outputs": [],
   "source": [
    "landmarks_name = landmarks_name.reshape((int(landmarks_name.shape[0]/3), 3))"
   ]
  },
  {
   "cell_type": "code",
   "execution_count": 13,
   "id": "84af9a4b",
   "metadata": {},
   "outputs": [],
   "source": [
    "video_size = (720, 1280)"
   ]
  },
  {
   "cell_type": "code",
   "execution_count": 164,
   "id": "2862447f",
   "metadata": {},
   "outputs": [],
   "source": [
    "df_test = pd.DataFrame(columns=df.columns)"
   ]
  },
  {
   "cell_type": "code",
   "execution_count": 167,
   "id": "562c0bd9",
   "metadata": {},
   "outputs": [
    {
     "name": "stdout",
     "output_type": "stream",
     "text": [
      "Unnamed: 0                  0\n",
      "category                    1\n",
      "video_name    001_001_001.mp4\n",
      "frame                      -1\n",
      "hand_0_0_x           0.559302\n",
      "                   ...       \n",
      "pose_23_y                 0.0\n",
      "pose_23_z                 0.0\n",
      "pose_24_x                 0.0\n",
      "pose_24_y                 0.0\n",
      "pose_24_z                 0.0\n",
      "Name: 0, Length: 415, dtype: object\n"
     ]
    }
   ],
   "source": [
    "for index, value in df.iterrows():\n",
    "    value[\"frame\"] = -1\n",
    "    df_test = df_test.append(value, ignore_index=True)\n",
    "    print(value)\n",
    "    \n",
    "    break"
   ]
  },
  {
   "cell_type": "code",
   "execution_count": 168,
   "id": "ef3a3d5c",
   "metadata": {},
   "outputs": [
    {
     "data": {
      "text/html": [
       "<div>\n",
       "<style scoped>\n",
       "    .dataframe tbody tr th:only-of-type {\n",
       "        vertical-align: middle;\n",
       "    }\n",
       "\n",
       "    .dataframe tbody tr th {\n",
       "        vertical-align: top;\n",
       "    }\n",
       "\n",
       "    .dataframe thead th {\n",
       "        text-align: right;\n",
       "    }\n",
       "</style>\n",
       "<table border=\"1\" class=\"dataframe\">\n",
       "  <thead>\n",
       "    <tr style=\"text-align: right;\">\n",
       "      <th></th>\n",
       "      <th>Unnamed: 0</th>\n",
       "      <th>category</th>\n",
       "      <th>video_name</th>\n",
       "      <th>frame</th>\n",
       "      <th>hand_0_0_x</th>\n",
       "      <th>hand_0_0_y</th>\n",
       "      <th>hand_0_0_z</th>\n",
       "      <th>hand_0_1_x</th>\n",
       "      <th>hand_0_1_y</th>\n",
       "      <th>hand_0_1_z</th>\n",
       "      <th>...</th>\n",
       "      <th>pose_21_z</th>\n",
       "      <th>pose_22_x</th>\n",
       "      <th>pose_22_y</th>\n",
       "      <th>pose_22_z</th>\n",
       "      <th>pose_23_x</th>\n",
       "      <th>pose_23_y</th>\n",
       "      <th>pose_23_z</th>\n",
       "      <th>pose_24_x</th>\n",
       "      <th>pose_24_y</th>\n",
       "      <th>pose_24_z</th>\n",
       "    </tr>\n",
       "  </thead>\n",
       "  <tbody>\n",
       "    <tr>\n",
       "      <th>0</th>\n",
       "      <td>0</td>\n",
       "      <td>1</td>\n",
       "      <td>001_001_001.mp4</td>\n",
       "      <td>-1</td>\n",
       "      <td>0.559302</td>\n",
       "      <td>0.943834</td>\n",
       "      <td>0.361916</td>\n",
       "      <td>0.539392</td>\n",
       "      <td>0.984436</td>\n",
       "      <td>0.072649</td>\n",
       "      <td>...</td>\n",
       "      <td>0.0</td>\n",
       "      <td>0.0</td>\n",
       "      <td>0.0</td>\n",
       "      <td>0.0</td>\n",
       "      <td>0.0</td>\n",
       "      <td>0.0</td>\n",
       "      <td>0.0</td>\n",
       "      <td>0.0</td>\n",
       "      <td>0.0</td>\n",
       "      <td>0.0</td>\n",
       "    </tr>\n",
       "    <tr>\n",
       "      <th>1</th>\n",
       "      <td>0</td>\n",
       "      <td>1</td>\n",
       "      <td>001_001_001.mp4</td>\n",
       "      <td>-1</td>\n",
       "      <td>0.559302</td>\n",
       "      <td>0.943834</td>\n",
       "      <td>0.361916</td>\n",
       "      <td>0.539392</td>\n",
       "      <td>0.984436</td>\n",
       "      <td>0.072649</td>\n",
       "      <td>...</td>\n",
       "      <td>0.0</td>\n",
       "      <td>0.0</td>\n",
       "      <td>0.0</td>\n",
       "      <td>0.0</td>\n",
       "      <td>0.0</td>\n",
       "      <td>0.0</td>\n",
       "      <td>0.0</td>\n",
       "      <td>0.0</td>\n",
       "      <td>0.0</td>\n",
       "      <td>0.0</td>\n",
       "    </tr>\n",
       "  </tbody>\n",
       "</table>\n",
       "<p>2 rows × 415 columns</p>\n",
       "</div>"
      ],
      "text/plain": [
       "  Unnamed: 0 category       video_name frame  hand_0_0_x  hand_0_0_y  \\\n",
       "0          0        1  001_001_001.mp4    -1    0.559302    0.943834   \n",
       "1          0        1  001_001_001.mp4    -1    0.559302    0.943834   \n",
       "\n",
       "   hand_0_0_z  hand_0_1_x  hand_0_1_y  hand_0_1_z  ...  pose_21_z  pose_22_x  \\\n",
       "0    0.361916    0.539392    0.984436    0.072649  ...        0.0        0.0   \n",
       "1    0.361916    0.539392    0.984436    0.072649  ...        0.0        0.0   \n",
       "\n",
       "   pose_22_y  pose_22_z  pose_23_x  pose_23_y  pose_23_z  pose_24_x  \\\n",
       "0        0.0        0.0        0.0        0.0        0.0        0.0   \n",
       "1        0.0        0.0        0.0        0.0        0.0        0.0   \n",
       "\n",
       "   pose_24_y  pose_24_z  \n",
       "0        0.0        0.0  \n",
       "1        0.0        0.0  \n",
       "\n",
       "[2 rows x 415 columns]"
      ]
     },
     "execution_count": 168,
     "metadata": {},
     "output_type": "execute_result"
    }
   ],
   "source": [
    "df_test"
   ]
  },
  {
   "cell_type": "code",
   "execution_count": 156,
   "id": "4693940d",
   "metadata": {},
   "outputs": [
    {
     "data": {
      "text/plain": [
       "Unnamed: 0                  0\n",
       "category                    1\n",
       "video_name    001_001_001.mp4\n",
       "frame                       0\n",
       "hand_0_0_x           0.559302\n",
       "                   ...       \n",
       "pose_23_y                 0.0\n",
       "pose_23_z                 0.0\n",
       "pose_24_x                 0.0\n",
       "pose_24_y                 0.0\n",
       "pose_24_z                 0.0\n",
       "Name: 0, Length: 415, dtype: object"
      ]
     },
     "execution_count": 156,
     "metadata": {},
     "output_type": "execute_result"
    }
   ],
   "source": [
    "df.iloc[0]"
   ]
  },
  {
   "cell_type": "code",
   "execution_count": 146,
   "id": "0834e136",
   "metadata": {},
   "outputs": [
    {
     "name": "stdout",
     "output_type": "stream",
     "text": [
      "Deu ruim\n",
      "Deu ruim\n",
      "Deu ruim\n",
      "Deu ruim\n",
      "Deu ruim\n",
      "Deu ruim\n",
      "Deu ruim\n",
      "Deu ruim\n",
      "Deu ruim\n",
      "Deu ruim\n",
      "Deu ruim\n",
      "Deu ruim\n",
      "Deu ruim\n",
      "Deu ruim\n",
      "Deu ruim\n",
      "Deu ruim\n",
      "Deu ruim\n",
      "Deu ruim\n",
      "Deu ruim\n"
     ]
    },
    {
     "data": {
      "text/plain": [
       "<matplotlib.image.AxesImage at 0x17aaf5b44c8>"
      ]
     },
     "execution_count": 146,
     "metadata": {},
     "output_type": "execute_result"
    },
    {
     "data": {
      "image/png": "[encoded data removed]",
      "text/plain": [
       "<Figure size 640x480 with 1 Axes>"
      ]
     },
     "metadata": {},
     "output_type": "display_data"
    }
   ],
   "source": [
    "img = np.zeros(video_size, np.float32)\n",
    "for lx, ly, lz in landmarks_name:\n",
    "    if frame[lx] < 1 and frame[ly] < 1:\n",
    "        rx, ry, rz = rotate_landmarks(frame[[lx, ly, lz]], math.radians(20))\n",
    "        frame[[lx, ly, lz]] = rx, ry, rz\n",
    "        rx, ry, rz = zoom_landmarks(frame[[lx, ly, lz]], 1.5)\n",
    "        frame[[lx, ly, lz]] = rx, ry, rz\n",
    "        rx, ry, rz = translate_landmarks(frame[[lx, ly, lz]], [0.2, -0.2, 0])\n",
    "        x = int(rx * video_size[1])\n",
    "        y = int(ry * video_size[0])\n",
    "        if x < video_size[1] and y < video_size[0]:\n",
    "            img[y, x] = 1\n",
    "    else:\n",
    "        print(\"Deu ruim\")\n",
    "plt.imshow(img * 255, cmap='gray')\n",
    "# cv2.imshow(f\"image_{video}\", cv2.cvtColor(img, cv2.COLOR_GRAY2BGR))"
   ]
  },
  {
   "cell_type": "code",
   "execution_count": 20,
   "id": "855c7959",
   "metadata": {},
   "outputs": [
    {
     "data": {
      "text/plain": [
       "array([[1., 0., 0., ..., 0., 0., 0.],\n",
       "       [0., 0., 0., ..., 0., 0., 0.],\n",
       "       [0., 0., 0., ..., 0., 0., 0.],\n",
       "       ...,\n",
       "       [0., 0., 0., ..., 0., 0., 0.],\n",
       "       [0., 0., 0., ..., 0., 0., 0.],\n",
       "       [0., 0., 0., ..., 0., 0., 0.]], dtype=float32)"
      ]
     },
     "execution_count": 20,
     "metadata": {},
     "output_type": "execute_result"
    }
   ],
   "source": [
    "img"
   ]
  },
  {
   "cell_type": "code",
   "execution_count": 84,
   "id": "0a45341f",
   "metadata": {},
   "outputs": [],
   "source": [
    "# GPT Code\n",
    "def rotate_landmarks(landmarks, rotation_angle):\n",
    "    # Assuming landmarks are in (x, y, z) format\n",
    "    \n",
    "    # Calculate the centroid (center) of the landmarks\n",
    "#     centroid = np.mean(landmarks, axis=0)\n",
    "    centroid = 0.5\n",
    "\n",
    "    # Translate landmarks to the origin (center)\n",
    "    translated_landmarks = landmarks - centroid\n",
    "    # Create a rotation matrix for the given angle (in radians)\n",
    "    rotation_matrix = np.array([[np.cos(rotation_angle), -np.sin(rotation_angle), 0],\n",
    "                                 [np.sin(rotation_angle), np.cos(rotation_angle), 0],\n",
    "                                 [0, 0, 1]])\n",
    "    \n",
    "    # Apply the rotation to each landmark\n",
    "#     print(rotation_matrix)\n",
    "    rotated_landmarks = np.dot(translated_landmarks, rotation_matrix)\n",
    "    \n",
    "    return rotated_landmarks + centroid"
   ]
  },
  {
   "cell_type": "code",
   "execution_count": 99,
   "id": "b5e16cc3",
   "metadata": {},
   "outputs": [],
   "source": [
    "# GPT Code\n",
    "def rotate_landmarks_x(landmarks, rotation_angle):\n",
    "    # Assuming landmarks are in (x, y, z) format\n",
    "    \n",
    "    # Calculate the centroid (center) of the landmarks\n",
    "#     centroid = np.mean(landmarks, axis=0)\n",
    "    centroid = 0.5\n",
    "\n",
    "    # Translate landmarks to the origin (center)\n",
    "    translated_landmarks = landmarks - centroid\n",
    "    # Create a rotation matrix for the given angle (in radians)\n",
    "    rotation_matrix = np.array([np.cos(rotation_angle), -np.sin(rotation_angle)])\n",
    "    \n",
    "    # Apply the rotation to each landmark\n",
    "#     print(rotation_matrix)\n",
    "    rotated_landmarks = np.dot(translated_landmarks, rotation_matrix)\n",
    "    \n",
    "    return rotated_landmarks + centroid"
   ]
  },
  {
   "cell_type": "code",
   "execution_count": 88,
   "id": "d6619f08",
   "metadata": {},
   "outputs": [],
   "source": [
    "def zoom_landmarks(landmarks, zoom_factor):\n",
    "    # Scale the landmarks by the zoom factor\n",
    "    zoomed_landmarks = landmarks * zoom_factor\n",
    "    \n",
    "    return zoomed_landmarks"
   ]
  },
  {
   "cell_type": "code",
   "execution_count": 89,
   "id": "6174bee4",
   "metadata": {},
   "outputs": [],
   "source": [
    "def translate_landmarks(landmarks, translation_vector):\n",
    "    # Translate the landmarks by the given vector\n",
    "    translated_landmarks = landmarks + translation_vector\n",
    "    \n",
    "    return translated_landmarks"
   ]
  },
  {
   "cell_type": "code",
   "execution_count": 33,
   "id": "c5aa52ef",
   "metadata": {},
   "outputs": [
    {
     "data": {
      "text/plain": [
       "(411,)"
      ]
     },
     "execution_count": 33,
     "metadata": {},
     "output_type": "execute_result"
    }
   ],
   "source": [
    "landmarks_name.flatten().shape"
   ]
  },
  {
   "cell_type": "code",
   "execution_count": 44,
   "id": "60ef47a9",
   "metadata": {},
   "outputs": [
    {
     "data": {
      "text/plain": [
       "array(['hand_0_0_x', 'hand_0_0_y', 'hand_0_0_z'], dtype='<U11')"
      ]
     },
     "execution_count": 44,
     "metadata": {},
     "output_type": "execute_result"
    }
   ],
   "source": [
    "landmarks_name[0]"
   ]
  },
  {
   "cell_type": "code",
   "execution_count": 172,
   "id": "235aae8e",
   "metadata": {},
   "outputs": [
    {
     "data": {
      "text/html": [
       "<div>\n",
       "<style scoped>\n",
       "    .dataframe tbody tr th:only-of-type {\n",
       "        vertical-align: middle;\n",
       "    }\n",
       "\n",
       "    .dataframe tbody tr th {\n",
       "        vertical-align: top;\n",
       "    }\n",
       "\n",
       "    .dataframe thead th {\n",
       "        text-align: right;\n",
       "    }\n",
       "</style>\n",
       "<table border=\"1\" class=\"dataframe\">\n",
       "  <thead>\n",
       "    <tr style=\"text-align: right;\">\n",
       "      <th></th>\n",
       "      <th>hand_0_0_x</th>\n",
       "      <th>hand_0_0_y</th>\n",
       "      <th>hand_0_0_z</th>\n",
       "    </tr>\n",
       "  </thead>\n",
       "  <tbody>\n",
       "    <tr>\n",
       "      <th>0</th>\n",
       "      <td>0.559302</td>\n",
       "      <td>0.943834</td>\n",
       "      <td>0.361916</td>\n",
       "    </tr>\n",
       "    <tr>\n",
       "      <th>1</th>\n",
       "      <td>0.557995</td>\n",
       "      <td>0.944853</td>\n",
       "      <td>0.363025</td>\n",
       "    </tr>\n",
       "    <tr>\n",
       "      <th>2</th>\n",
       "      <td>0.557992</td>\n",
       "      <td>0.945950</td>\n",
       "      <td>0.366478</td>\n",
       "    </tr>\n",
       "    <tr>\n",
       "      <th>3</th>\n",
       "      <td>0.557876</td>\n",
       "      <td>0.945462</td>\n",
       "      <td>0.389607</td>\n",
       "    </tr>\n",
       "    <tr>\n",
       "      <th>4</th>\n",
       "      <td>0.557848</td>\n",
       "      <td>0.945605</td>\n",
       "      <td>0.395565</td>\n",
       "    </tr>\n",
       "    <tr>\n",
       "      <th>...</th>\n",
       "      <td>...</td>\n",
       "      <td>...</td>\n",
       "      <td>...</td>\n",
       "    </tr>\n",
       "    <tr>\n",
       "      <th>5895</th>\n",
       "      <td>0.000000</td>\n",
       "      <td>0.000000</td>\n",
       "      <td>0.000000</td>\n",
       "    </tr>\n",
       "    <tr>\n",
       "      <th>5896</th>\n",
       "      <td>0.000000</td>\n",
       "      <td>0.000000</td>\n",
       "      <td>0.000000</td>\n",
       "    </tr>\n",
       "    <tr>\n",
       "      <th>5897</th>\n",
       "      <td>0.000000</td>\n",
       "      <td>0.000000</td>\n",
       "      <td>0.000000</td>\n",
       "    </tr>\n",
       "    <tr>\n",
       "      <th>5898</th>\n",
       "      <td>0.000000</td>\n",
       "      <td>0.000000</td>\n",
       "      <td>0.000000</td>\n",
       "    </tr>\n",
       "    <tr>\n",
       "      <th>5899</th>\n",
       "      <td>0.000000</td>\n",
       "      <td>0.000000</td>\n",
       "      <td>0.000000</td>\n",
       "    </tr>\n",
       "  </tbody>\n",
       "</table>\n",
       "<p>5900 rows × 3 columns</p>\n",
       "</div>"
      ],
      "text/plain": [
       "      hand_0_0_x  hand_0_0_y  hand_0_0_z\n",
       "0       0.559302    0.943834    0.361916\n",
       "1       0.557995    0.944853    0.363025\n",
       "2       0.557992    0.945950    0.366478\n",
       "3       0.557876    0.945462    0.389607\n",
       "4       0.557848    0.945605    0.395565\n",
       "...          ...         ...         ...\n",
       "5895    0.000000    0.000000    0.000000\n",
       "5896    0.000000    0.000000    0.000000\n",
       "5897    0.000000    0.000000    0.000000\n",
       "5898    0.000000    0.000000    0.000000\n",
       "5899    0.000000    0.000000    0.000000\n",
       "\n",
       "[5900 rows x 3 columns]"
      ]
     },
     "execution_count": 172,
     "metadata": {},
     "output_type": "execute_result"
    }
   ],
   "source": [
    "df[landmarks_name[0]]"
   ]
  },
  {
   "cell_type": "code",
   "execution_count": 174,
   "id": "163903a4",
   "metadata": {},
   "outputs": [
    {
     "data": {
      "text/plain": [
       "(5900, 3)"
      ]
     },
     "execution_count": 174,
     "metadata": {},
     "output_type": "execute_result"
    }
   ],
   "source": [
    "rotate_landmarks(df[landmarks_name[0]], math.radians(10)).shape"
   ]
  },
  {
   "cell_type": "code",
   "execution_count": 59,
   "id": "c940c38e",
   "metadata": {},
   "outputs": [
    {
     "data": {
      "text/plain": [
       "array([1.59157467, 0.07867705, 0.67874885])"
      ]
     },
     "execution_count": 59,
     "metadata": {},
     "output_type": "execute_result"
    }
   ],
   "source": [
    "rotate_landmarks(np.array([1, 1, 1]), (1, 1, 1))"
   ]
  },
  {
   "cell_type": "code",
   "execution_count": 100,
   "id": "c40a7bb5",
   "metadata": {},
   "outputs": [
    {
     "ename": "ValueError",
     "evalue": "shapes (3,) and (2,) not aligned: 3 (dim 0) != 2 (dim 0)",
     "output_type": "error",
     "traceback": [
      "\u001b[1;31m---------------------------------------------------------------------------\u001b[0m",
      "\u001b[1;31mValueError\u001b[0m                                Traceback (most recent call last)",
      "\u001b[1;32m~\\AppData\\Local\\Temp\\ipykernel_18732\\3239718095.py\u001b[0m in \u001b[0;36m<module>\u001b[1;34m\u001b[0m\n\u001b[1;32m----> 1\u001b[1;33m \u001b[0mrotate_landmarks_x\u001b[0m\u001b[1;33m(\u001b[0m\u001b[0mnp\u001b[0m\u001b[1;33m.\u001b[0m\u001b[0marray\u001b[0m\u001b[1;33m(\u001b[0m\u001b[1;33m[\u001b[0m\u001b[1;36m1\u001b[0m\u001b[1;33m,\u001b[0m \u001b[1;36m1\u001b[0m\u001b[1;33m,\u001b[0m \u001b[1;36m1\u001b[0m\u001b[1;33m]\u001b[0m\u001b[1;33m)\u001b[0m\u001b[1;33m,\u001b[0m \u001b[0mmath\u001b[0m\u001b[1;33m.\u001b[0m\u001b[0mradians\u001b[0m\u001b[1;33m(\u001b[0m\u001b[1;36m10\u001b[0m\u001b[1;33m)\u001b[0m\u001b[1;33m)\u001b[0m\u001b[1;33m\u001b[0m\u001b[1;33m\u001b[0m\u001b[0m\n\u001b[0m",
      "\u001b[1;32m~\\AppData\\Local\\Temp\\ipykernel_18732\\841292181.py\u001b[0m in \u001b[0;36mrotate_landmarks_x\u001b[1;34m(landmarks, rotation_angle)\u001b[0m\n\u001b[0;32m     14\u001b[0m     \u001b[1;31m# Apply the rotation to each landmark\u001b[0m\u001b[1;33m\u001b[0m\u001b[1;33m\u001b[0m\u001b[1;33m\u001b[0m\u001b[0m\n\u001b[0;32m     15\u001b[0m \u001b[1;31m#     print(rotation_matrix)\u001b[0m\u001b[1;33m\u001b[0m\u001b[1;33m\u001b[0m\u001b[1;33m\u001b[0m\u001b[0m\n\u001b[1;32m---> 16\u001b[1;33m     \u001b[0mrotated_landmarks\u001b[0m \u001b[1;33m=\u001b[0m \u001b[0mnp\u001b[0m\u001b[1;33m.\u001b[0m\u001b[0mdot\u001b[0m\u001b[1;33m(\u001b[0m\u001b[0mtranslated_landmarks\u001b[0m\u001b[1;33m,\u001b[0m \u001b[0mrotation_matrix\u001b[0m\u001b[1;33m)\u001b[0m\u001b[1;33m\u001b[0m\u001b[1;33m\u001b[0m\u001b[0m\n\u001b[0m\u001b[0;32m     17\u001b[0m \u001b[1;33m\u001b[0m\u001b[0m\n\u001b[0;32m     18\u001b[0m     \u001b[1;32mreturn\u001b[0m \u001b[0mrotated_landmarks\u001b[0m \u001b[1;33m+\u001b[0m \u001b[0mcentroid\u001b[0m\u001b[1;33m\u001b[0m\u001b[1;33m\u001b[0m\u001b[0m\n",
      "\u001b[1;32m<__array_function__ internals>\u001b[0m in \u001b[0;36mdot\u001b[1;34m(*args, **kwargs)\u001b[0m\n",
      "\u001b[1;31mValueError\u001b[0m: shapes (3,) and (2,) not aligned: 3 (dim 0) != 2 (dim 0)"
     ]
    }
   ],
   "source": [
    "rotate_landmarks_x(np.array([1, 1, 1]), math.radians(10))"
   ]
  },
  {
   "cell_type": "code",
   "execution_count": 136,
   "id": "57d6bf6f",
   "metadata": {},
   "outputs": [],
   "source": [
    "def rotate_x(landmarks, angle_x):\n",
    "    rotation_matrix_x = np.array([0, np.cos(angle_x), -np.sin(angle_x)])\n",
    "#     rotated_landmarks = np.dot(landmarks, rotation_matrix_x)\n",
    "    rotated_landmarks = landmarks * rotation_matrix_x[1] + landmarks * rotation_matrix_x[2]\n",
    "    return rotated_landmarks"
   ]
  },
  {
   "cell_type": "code",
   "execution_count": 137,
   "id": "17a05c87",
   "metadata": {},
   "outputs": [
    {
     "data": {
      "text/plain": [
       "0.4536833350416795"
      ]
     },
     "execution_count": 137,
     "metadata": {},
     "output_type": "execute_result"
    }
   ],
   "source": [
    "rotate_x(frame[landmarks_name[0]][0], math.radians(10))"
   ]
  },
  {
   "cell_type": "code",
   "execution_count": 132,
   "id": "6dfe5bd3",
   "metadata": {},
   "outputs": [
    {
     "data": {
      "text/plain": [
       "array([0.81115958, 0.81115958, 0.81115958, 0.81115958])"
      ]
     },
     "execution_count": 132,
     "metadata": {},
     "output_type": "execute_result"
    }
   ],
   "source": [
    "rotate_x(np.array([1, 1, 1, 1]), math.radians(10))"
   ]
  },
  {
   "cell_type": "code",
   "execution_count": 109,
   "id": "5957e8ac",
   "metadata": {},
   "outputs": [
    {
     "data": {
      "text/plain": [
       "(4,)"
      ]
     },
     "execution_count": 109,
     "metadata": {},
     "output_type": "execute_result"
    }
   ],
   "source": [
    "np.array([1, 1, 1, 1]).shape"
   ]
  }
 ],
 "metadata": {
  "kernelspec": {
   "display_name": "Python 3 (ipykernel)",
   "language": "python",
   "name": "python3"
  },
  "language_info": {
   "codemirror_mode": {
    "name": "ipython",
    "version": 3
   },
   "file_extension": ".py",
   "mimetype": "text/x-python",
   "name": "python",
   "nbconvert_exporter": "python",
   "pygments_lexer": "ipython3",
   "version": "3.7.16"
  }
 },
 "nbformat": 4,
 "nbformat_minor": 5
}
