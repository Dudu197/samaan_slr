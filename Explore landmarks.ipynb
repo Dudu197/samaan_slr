{
 "cells": [
  {
   "cell_type": "code",
   "execution_count": 1,
   "id": "d364f6d1",
   "metadata": {},
   "outputs": [],
   "source": [
    "import pandas as pd\n",
    "import numpy as np\n",
    "from matplotlib import pyplot as plt"
   ]
  },
  {
   "cell_type": "code",
   "execution_count": 2,
   "id": "44cfcf61",
   "metadata": {},
   "outputs": [],
   "source": [
    "df = pd.read_csv(\"dataset_output/libras_minds/libras_minds_openpose.csv\")"
   ]
  },
  {
   "cell_type": "code",
   "execution_count": 3,
   "id": "3c5c1df1",
   "metadata": {},
   "outputs": [
    {
     "data": {
      "text/html": [
       "<div>\n",
       "<style scoped>\n",
       "    .dataframe tbody tr th:only-of-type {\n",
       "        vertical-align: middle;\n",
       "    }\n",
       "\n",
       "    .dataframe tbody tr th {\n",
       "        vertical-align: top;\n",
       "    }\n",
       "\n",
       "    .dataframe thead th {\n",
       "        text-align: right;\n",
       "    }\n",
       "</style>\n",
       "<table border=\"1\" class=\"dataframe\">\n",
       "  <thead>\n",
       "    <tr style=\"text-align: right;\">\n",
       "      <th></th>\n",
       "      <th>Unnamed: 0</th>\n",
       "      <th>category</th>\n",
       "      <th>video_name</th>\n",
       "      <th>frame</th>\n",
       "      <th>hand_0_0_x</th>\n",
       "      <th>hand_0_0_y</th>\n",
       "      <th>hand_0_0_z</th>\n",
       "      <th>hand_0_1_x</th>\n",
       "      <th>hand_0_1_y</th>\n",
       "      <th>hand_0_1_z</th>\n",
       "      <th>...</th>\n",
       "      <th>pose_22_y</th>\n",
       "      <th>pose_22_z</th>\n",
       "      <th>pose_23_x</th>\n",
       "      <th>pose_23_y</th>\n",
       "      <th>pose_23_z</th>\n",
       "      <th>pose_24_x</th>\n",
       "      <th>pose_24_y</th>\n",
       "      <th>pose_24_z</th>\n",
       "      <th>missing_hand</th>\n",
       "      <th>missing_face</th>\n",
       "    </tr>\n",
       "  </thead>\n",
       "  <tbody>\n",
       "    <tr>\n",
       "      <th>0</th>\n",
       "      <td>0</td>\n",
       "      <td>Acontecer</td>\n",
       "      <td>01AcontecerSinalizador01-1.mp4</td>\n",
       "      <td>0</td>\n",
       "      <td>0.000000</td>\n",
       "      <td>0.000000</td>\n",
       "      <td>0.000000</td>\n",
       "      <td>0.000000</td>\n",
       "      <td>0.000000</td>\n",
       "      <td>0.000000</td>\n",
       "      <td>...</td>\n",
       "      <td>0.0</td>\n",
       "      <td>0.0</td>\n",
       "      <td>0.0</td>\n",
       "      <td>0.0</td>\n",
       "      <td>0.0</td>\n",
       "      <td>0.0</td>\n",
       "      <td>0.0</td>\n",
       "      <td>0.0</td>\n",
       "      <td>False</td>\n",
       "      <td>False</td>\n",
       "    </tr>\n",
       "    <tr>\n",
       "      <th>1</th>\n",
       "      <td>1</td>\n",
       "      <td>Acontecer</td>\n",
       "      <td>01AcontecerSinalizador01-1.mp4</td>\n",
       "      <td>1</td>\n",
       "      <td>0.000000</td>\n",
       "      <td>0.000000</td>\n",
       "      <td>0.000000</td>\n",
       "      <td>0.000000</td>\n",
       "      <td>0.000000</td>\n",
       "      <td>0.000000</td>\n",
       "      <td>...</td>\n",
       "      <td>0.0</td>\n",
       "      <td>0.0</td>\n",
       "      <td>0.0</td>\n",
       "      <td>0.0</td>\n",
       "      <td>0.0</td>\n",
       "      <td>0.0</td>\n",
       "      <td>0.0</td>\n",
       "      <td>0.0</td>\n",
       "      <td>False</td>\n",
       "      <td>False</td>\n",
       "    </tr>\n",
       "    <tr>\n",
       "      <th>2</th>\n",
       "      <td>2</td>\n",
       "      <td>Acontecer</td>\n",
       "      <td>01AcontecerSinalizador01-1.mp4</td>\n",
       "      <td>2</td>\n",
       "      <td>0.000000</td>\n",
       "      <td>0.000000</td>\n",
       "      <td>0.000000</td>\n",
       "      <td>0.000000</td>\n",
       "      <td>0.000000</td>\n",
       "      <td>0.000000</td>\n",
       "      <td>...</td>\n",
       "      <td>0.0</td>\n",
       "      <td>0.0</td>\n",
       "      <td>0.0</td>\n",
       "      <td>0.0</td>\n",
       "      <td>0.0</td>\n",
       "      <td>0.0</td>\n",
       "      <td>0.0</td>\n",
       "      <td>0.0</td>\n",
       "      <td>False</td>\n",
       "      <td>False</td>\n",
       "    </tr>\n",
       "    <tr>\n",
       "      <th>3</th>\n",
       "      <td>3</td>\n",
       "      <td>Acontecer</td>\n",
       "      <td>01AcontecerSinalizador01-1.mp4</td>\n",
       "      <td>3</td>\n",
       "      <td>0.000000</td>\n",
       "      <td>0.000000</td>\n",
       "      <td>0.000000</td>\n",
       "      <td>0.000000</td>\n",
       "      <td>0.000000</td>\n",
       "      <td>0.000000</td>\n",
       "      <td>...</td>\n",
       "      <td>0.0</td>\n",
       "      <td>0.0</td>\n",
       "      <td>0.0</td>\n",
       "      <td>0.0</td>\n",
       "      <td>0.0</td>\n",
       "      <td>0.0</td>\n",
       "      <td>0.0</td>\n",
       "      <td>0.0</td>\n",
       "      <td>True</td>\n",
       "      <td>False</td>\n",
       "    </tr>\n",
       "    <tr>\n",
       "      <th>4</th>\n",
       "      <td>4</td>\n",
       "      <td>Acontecer</td>\n",
       "      <td>01AcontecerSinalizador01-1.mp4</td>\n",
       "      <td>4</td>\n",
       "      <td>0.000000</td>\n",
       "      <td>0.000000</td>\n",
       "      <td>0.000000</td>\n",
       "      <td>0.000000</td>\n",
       "      <td>0.000000</td>\n",
       "      <td>0.000000</td>\n",
       "      <td>...</td>\n",
       "      <td>0.0</td>\n",
       "      <td>0.0</td>\n",
       "      <td>0.0</td>\n",
       "      <td>0.0</td>\n",
       "      <td>0.0</td>\n",
       "      <td>0.0</td>\n",
       "      <td>0.0</td>\n",
       "      <td>0.0</td>\n",
       "      <td>True</td>\n",
       "      <td>False</td>\n",
       "    </tr>\n",
       "    <tr>\n",
       "      <th>...</th>\n",
       "      <td>...</td>\n",
       "      <td>...</td>\n",
       "      <td>...</td>\n",
       "      <td>...</td>\n",
       "      <td>...</td>\n",
       "      <td>...</td>\n",
       "      <td>...</td>\n",
       "      <td>...</td>\n",
       "      <td>...</td>\n",
       "      <td>...</td>\n",
       "      <td>...</td>\n",
       "      <td>...</td>\n",
       "      <td>...</td>\n",
       "      <td>...</td>\n",
       "      <td>...</td>\n",
       "      <td>...</td>\n",
       "      <td>...</td>\n",
       "      <td>...</td>\n",
       "      <td>...</td>\n",
       "      <td>...</td>\n",
       "      <td>...</td>\n",
       "    </tr>\n",
       "    <tr>\n",
       "      <th>161434</th>\n",
       "      <td>8670</td>\n",
       "      <td>Vontade</td>\n",
       "      <td>20VontadeSinalizador12-5.mp4</td>\n",
       "      <td>162</td>\n",
       "      <td>0.614689</td>\n",
       "      <td>0.910987</td>\n",
       "      <td>0.588928</td>\n",
       "      <td>0.598457</td>\n",
       "      <td>0.922928</td>\n",
       "      <td>0.627919</td>\n",
       "      <td>...</td>\n",
       "      <td>0.0</td>\n",
       "      <td>0.0</td>\n",
       "      <td>0.0</td>\n",
       "      <td>0.0</td>\n",
       "      <td>0.0</td>\n",
       "      <td>0.0</td>\n",
       "      <td>0.0</td>\n",
       "      <td>0.0</td>\n",
       "      <td>False</td>\n",
       "      <td>False</td>\n",
       "    </tr>\n",
       "    <tr>\n",
       "      <th>161435</th>\n",
       "      <td>8671</td>\n",
       "      <td>Vontade</td>\n",
       "      <td>20VontadeSinalizador12-5.mp4</td>\n",
       "      <td>163</td>\n",
       "      <td>0.614785</td>\n",
       "      <td>0.908597</td>\n",
       "      <td>0.584819</td>\n",
       "      <td>0.598921</td>\n",
       "      <td>0.922699</td>\n",
       "      <td>0.580145</td>\n",
       "      <td>...</td>\n",
       "      <td>0.0</td>\n",
       "      <td>0.0</td>\n",
       "      <td>0.0</td>\n",
       "      <td>0.0</td>\n",
       "      <td>0.0</td>\n",
       "      <td>0.0</td>\n",
       "      <td>0.0</td>\n",
       "      <td>0.0</td>\n",
       "      <td>False</td>\n",
       "      <td>False</td>\n",
       "    </tr>\n",
       "    <tr>\n",
       "      <th>161436</th>\n",
       "      <td>8672</td>\n",
       "      <td>Vontade</td>\n",
       "      <td>20VontadeSinalizador12-5.mp4</td>\n",
       "      <td>164</td>\n",
       "      <td>0.614690</td>\n",
       "      <td>0.911093</td>\n",
       "      <td>0.602180</td>\n",
       "      <td>0.598085</td>\n",
       "      <td>0.925853</td>\n",
       "      <td>0.639054</td>\n",
       "      <td>...</td>\n",
       "      <td>0.0</td>\n",
       "      <td>0.0</td>\n",
       "      <td>0.0</td>\n",
       "      <td>0.0</td>\n",
       "      <td>0.0</td>\n",
       "      <td>0.0</td>\n",
       "      <td>0.0</td>\n",
       "      <td>0.0</td>\n",
       "      <td>False</td>\n",
       "      <td>False</td>\n",
       "    </tr>\n",
       "    <tr>\n",
       "      <th>161437</th>\n",
       "      <td>8673</td>\n",
       "      <td>Vontade</td>\n",
       "      <td>20VontadeSinalizador12-5.mp4</td>\n",
       "      <td>165</td>\n",
       "      <td>0.614768</td>\n",
       "      <td>0.910723</td>\n",
       "      <td>0.575162</td>\n",
       "      <td>0.599248</td>\n",
       "      <td>0.924518</td>\n",
       "      <td>0.586799</td>\n",
       "      <td>...</td>\n",
       "      <td>0.0</td>\n",
       "      <td>0.0</td>\n",
       "      <td>0.0</td>\n",
       "      <td>0.0</td>\n",
       "      <td>0.0</td>\n",
       "      <td>0.0</td>\n",
       "      <td>0.0</td>\n",
       "      <td>0.0</td>\n",
       "      <td>False</td>\n",
       "      <td>False</td>\n",
       "    </tr>\n",
       "    <tr>\n",
       "      <th>161438</th>\n",
       "      <td>8674</td>\n",
       "      <td>Vontade</td>\n",
       "      <td>20VontadeSinalizador12-5.mp4</td>\n",
       "      <td>166</td>\n",
       "      <td>0.615364</td>\n",
       "      <td>0.908623</td>\n",
       "      <td>0.619772</td>\n",
       "      <td>0.600634</td>\n",
       "      <td>0.920709</td>\n",
       "      <td>0.600283</td>\n",
       "      <td>...</td>\n",
       "      <td>0.0</td>\n",
       "      <td>0.0</td>\n",
       "      <td>0.0</td>\n",
       "      <td>0.0</td>\n",
       "      <td>0.0</td>\n",
       "      <td>0.0</td>\n",
       "      <td>0.0</td>\n",
       "      <td>0.0</td>\n",
       "      <td>False</td>\n",
       "      <td>False</td>\n",
       "    </tr>\n",
       "  </tbody>\n",
       "</table>\n",
       "<p>161439 rows × 417 columns</p>\n",
       "</div>"
      ],
      "text/plain": [
       "        Unnamed: 0   category                      video_name  frame  \\\n",
       "0                0  Acontecer  01AcontecerSinalizador01-1.mp4      0   \n",
       "1                1  Acontecer  01AcontecerSinalizador01-1.mp4      1   \n",
       "2                2  Acontecer  01AcontecerSinalizador01-1.mp4      2   \n",
       "3                3  Acontecer  01AcontecerSinalizador01-1.mp4      3   \n",
       "4                4  Acontecer  01AcontecerSinalizador01-1.mp4      4   \n",
       "...            ...        ...                             ...    ...   \n",
       "161434        8670    Vontade    20VontadeSinalizador12-5.mp4    162   \n",
       "161435        8671    Vontade    20VontadeSinalizador12-5.mp4    163   \n",
       "161436        8672    Vontade    20VontadeSinalizador12-5.mp4    164   \n",
       "161437        8673    Vontade    20VontadeSinalizador12-5.mp4    165   \n",
       "161438        8674    Vontade    20VontadeSinalizador12-5.mp4    166   \n",
       "\n",
       "        hand_0_0_x  hand_0_0_y  hand_0_0_z  hand_0_1_x  hand_0_1_y  \\\n",
       "0         0.000000    0.000000    0.000000    0.000000    0.000000   \n",
       "1         0.000000    0.000000    0.000000    0.000000    0.000000   \n",
       "2         0.000000    0.000000    0.000000    0.000000    0.000000   \n",
       "3         0.000000    0.000000    0.000000    0.000000    0.000000   \n",
       "4         0.000000    0.000000    0.000000    0.000000    0.000000   \n",
       "...            ...         ...         ...         ...         ...   \n",
       "161434    0.614689    0.910987    0.588928    0.598457    0.922928   \n",
       "161435    0.614785    0.908597    0.584819    0.598921    0.922699   \n",
       "161436    0.614690    0.911093    0.602180    0.598085    0.925853   \n",
       "161437    0.614768    0.910723    0.575162    0.599248    0.924518   \n",
       "161438    0.615364    0.908623    0.619772    0.600634    0.920709   \n",
       "\n",
       "        hand_0_1_z  ...  pose_22_y  pose_22_z  pose_23_x  pose_23_y  \\\n",
       "0         0.000000  ...        0.0        0.0        0.0        0.0   \n",
       "1         0.000000  ...        0.0        0.0        0.0        0.0   \n",
       "2         0.000000  ...        0.0        0.0        0.0        0.0   \n",
       "3         0.000000  ...        0.0        0.0        0.0        0.0   \n",
       "4         0.000000  ...        0.0        0.0        0.0        0.0   \n",
       "...            ...  ...        ...        ...        ...        ...   \n",
       "161434    0.627919  ...        0.0        0.0        0.0        0.0   \n",
       "161435    0.580145  ...        0.0        0.0        0.0        0.0   \n",
       "161436    0.639054  ...        0.0        0.0        0.0        0.0   \n",
       "161437    0.586799  ...        0.0        0.0        0.0        0.0   \n",
       "161438    0.600283  ...        0.0        0.0        0.0        0.0   \n",
       "\n",
       "        pose_23_z  pose_24_x  pose_24_y  pose_24_z  missing_hand  missing_face  \n",
       "0             0.0        0.0        0.0        0.0         False         False  \n",
       "1             0.0        0.0        0.0        0.0         False         False  \n",
       "2             0.0        0.0        0.0        0.0         False         False  \n",
       "3             0.0        0.0        0.0        0.0          True         False  \n",
       "4             0.0        0.0        0.0        0.0          True         False  \n",
       "...           ...        ...        ...        ...           ...           ...  \n",
       "161434        0.0        0.0        0.0        0.0         False         False  \n",
       "161435        0.0        0.0        0.0        0.0         False         False  \n",
       "161436        0.0        0.0        0.0        0.0         False         False  \n",
       "161437        0.0        0.0        0.0        0.0         False         False  \n",
       "161438        0.0        0.0        0.0        0.0         False         False  \n",
       "\n",
       "[161439 rows x 417 columns]"
      ]
     },
     "execution_count": 3,
     "metadata": {},
     "output_type": "execute_result"
    }
   ],
   "source": [
    "df"
   ]
  },
  {
   "cell_type": "code",
   "execution_count": 4,
   "id": "bc78930b",
   "metadata": {},
   "outputs": [
    {
     "data": {
      "text/plain": [
       "Index(['Unnamed: 0', 'category', 'video_name', 'frame', 'hand_0_0_x',\n",
       "       'hand_0_0_y', 'hand_0_0_z', 'hand_0_1_x', 'hand_0_1_y', 'hand_0_1_z',\n",
       "       ...\n",
       "       'pose_22_y', 'pose_22_z', 'pose_23_x', 'pose_23_y', 'pose_23_z',\n",
       "       'pose_24_x', 'pose_24_y', 'pose_24_z', 'missing_hand', 'missing_face'],\n",
       "      dtype='object', length=417)"
      ]
     },
     "execution_count": 4,
     "metadata": {},
     "output_type": "execute_result"
    }
   ],
   "source": [
    "df.columns"
   ]
  },
  {
   "cell_type": "code",
   "execution_count": 57,
   "id": "90da89f6",
   "metadata": {},
   "outputs": [],
   "source": [
    "hand_columns = [i for i in df.columns if i.startswith(\"hand_\")]\n",
    "face_columns = [i for i in df.columns if i.startswith(\"face_\")]"
   ]
  },
  {
   "cell_type": "code",
   "execution_count": 58,
   "id": "7faf0831",
   "metadata": {},
   "outputs": [],
   "source": [
    "df[\"missing_hand\"] = eval(\" & \".join([f\"(df['{h}'] == 0)\" for h in hand_columns]))"
   ]
  },
  {
   "cell_type": "code",
   "execution_count": 59,
   "id": "43acbbf1",
   "metadata": {},
   "outputs": [],
   "source": [
    "df[\"missing_face\"] = eval(\" & \".join([f\"(df['{h}'] == 0)\" for h in face_columns]))"
   ]
  },
  {
   "cell_type": "code",
   "execution_count": 5,
   "id": "350aea96",
   "metadata": {},
   "outputs": [
    {
     "data": {
      "text/plain": [
       "missing_hand  missing_face\n",
       "False         False           160066\n",
       "True          False             1371\n",
       "False         True                 2\n",
       "Name: count, dtype: int64"
      ]
     },
     "execution_count": 5,
     "metadata": {},
     "output_type": "execute_result"
    }
   ],
   "source": [
    "df[[\"missing_hand\", \"missing_face\"]].value_counts()"
   ]
  },
  {
   "cell_type": "code",
   "execution_count": 6,
   "id": "790e192f",
   "metadata": {},
   "outputs": [
    {
     "name": "stdout",
     "output_type": "stream",
     "text": [
      "Total frames: 161439\n",
      "Total videos: 1158\n",
      "\n",
      "Frames missing face: 2 (0.0%)\n",
      "Median Frame missing face: 65.0\n",
      "Videos missing face: 2 (0.17%)\n",
      "\n",
      "Frames missing hand: 1371 (0.85%)\n",
      "Median Frame missing hand: 89.0\n",
      "Videos missing hand: 97 (8.38%)\n"
     ]
    }
   ],
   "source": [
    "total_frames = len(df)\n",
    "total_videos = len(df[\"video_name\"].unique())\n",
    "\n",
    "missing_face = len(df[df[\"missing_face\"]])\n",
    "missing_face_percent = round(missing_face/total_frames * 100, 2)\n",
    "missing_face_frame_median = df[df[\"missing_face\"] == True][\"frame\"].median()\n",
    "missing_face_video_count = len(df[df[\"missing_face\"] == True][\"video_name\"].unique())\n",
    "missing_face_video_percent = round(missing_face_video_count/total_videos * 100, 2)\n",
    "\n",
    "missing_hand = len(df[df[\"missing_hand\"]])\n",
    "missing_hand_percent = round(missing_hand/total_frames * 100, 2)\n",
    "missing_hand_frame_median = df[df[\"missing_hand\"] == True][\"frame\"].median()\n",
    "missing_hand_video_count = len(df[df[\"missing_hand\"] == True][\"video_name\"].unique())\n",
    "missing_hand_video_percent = round(missing_hand_video_count/total_videos * 100, 2)\n",
    "\n",
    "\n",
    "print(\"Total frames:\", total_frames)\n",
    "print(\"Total videos:\", total_videos)\n",
    "print()\n",
    "print(f\"Frames missing face: {missing_face} ({missing_face_percent}%)\")\n",
    "print(f\"Median Frame missing face: {missing_face_frame_median}\")\n",
    "print(f\"Videos missing face: {missing_face_video_count} ({missing_face_video_percent}%)\")\n",
    "print()\n",
    "print(f\"Frames missing hand: {missing_hand} ({missing_hand_percent}%)\")\n",
    "print(f\"Median Frame missing hand: {missing_hand_frame_median}\")\n",
    "print(f\"Videos missing hand: {missing_hand_video_count} ({missing_hand_video_percent}%)\")"
   ]
  },
  {
   "cell_type": "code",
   "execution_count": 7,
   "id": "13ab8f32",
   "metadata": {},
   "outputs": [
    {
     "data": {
      "text/plain": [
       "Text(0, 0.5, 'Video Count')"
      ]
     },
     "execution_count": 7,
     "metadata": {},
     "output_type": "execute_result"
    },
    {
     "data": {
      "image/png": "[encoded data removed]",
      "text/plain": [
       "<Figure size 640x480 with 1 Axes>"
      ]
     },
     "metadata": {},
     "output_type": "display_data"
    }
   ],
   "source": [
    "df[df[\"missing_face\"] == True][\"frame\"].hist()\n",
    "plt.title(\"Frames missing face landmarks\")\n",
    "plt.xlabel(\"Video Frame\")\n",
    "plt.ylabel(\"Video Count\")"
   ]
  },
  {
   "cell_type": "code",
   "execution_count": 8,
   "id": "1399c4fd",
   "metadata": {},
   "outputs": [
    {
     "data": {
      "text/plain": [
       "Text(0, 0.5, 'Video Count')"
      ]
     },
     "execution_count": 8,
     "metadata": {},
     "output_type": "execute_result"
    },
    {
     "data": {
      "image/png": "[encoded data removed]",
      "text/plain": [
       "<Figure size 640x480 with 1 Axes>"
      ]
     },
     "metadata": {},
     "output_type": "display_data"
    }
   ],
   "source": [
    "df[df[\"missing_hand\"] == True][\"frame\"].hist()\n",
    "plt.title(\"Frames missing hand landmarks\")\n",
    "plt.xlabel(\"Video Frame\")\n",
    "plt.ylabel(\"Video Count\")"
   ]
  },
  {
   "cell_type": "code",
   "execution_count": 9,
   "id": "ca762310",
   "metadata": {},
   "outputs": [
    {
     "data": {
      "text/plain": [
       "Text(0, 0.5, 'Frame Count')"
      ]
     },
     "execution_count": 9,
     "metadata": {},
     "output_type": "execute_result"
    },
    {
     "data": {
      "image/png": "[encoded data removed]",
      "text/plain": [
       "<Figure size 640x480 with 1 Axes>"
      ]
     },
     "metadata": {},
     "output_type": "display_data"
    }
   ],
   "source": [
    "df[df[\"missing_face\"] == True][\"category\"].hist()\n",
    "plt.title(\"Category missing face landmarks\")\n",
    "plt.xlabel(\"Category\")\n",
    "plt.ylabel(\"Frame Count\")"
   ]
  },
  {
   "cell_type": "code",
   "execution_count": 10,
   "id": "80c790a1",
   "metadata": {},
   "outputs": [
    {
     "data": {
      "text/plain": [
       "Text(0, 0.5, 'Frame Count')"
      ]
     },
     "execution_count": 10,
     "metadata": {},
     "output_type": "execute_result"
    },
    {
     "data": {
      "image/png": "[encoded data removed]",
      "text/plain": [
       "<Figure size 640x480 with 1 Axes>"
      ]
     },
     "metadata": {},
     "output_type": "display_data"
    }
   ],
   "source": [
    "df[df[\"missing_hand\"] == True][\"category\"].hist()\n",
    "plt.title(\"Category missing hand landmarks\")\n",
    "plt.xlabel(\"Category\")\n",
    "plt.ylabel(\"Frame Count\")"
   ]
  },
  {
   "cell_type": "code",
   "execution_count": 11,
   "id": "d7107c0d",
   "metadata": {},
   "outputs": [
    {
     "name": "stdout",
     "output_type": "stream",
     "text": [
      "Classes without hand problems: -10\n"
     ]
    }
   ],
   "source": [
    "print(\"Classes without hand problems:\", 10 - len(df[df[\"missing_hand\"] == True][\"category\"].unique()))"
   ]
  },
  {
   "cell_type": "code",
   "execution_count": null,
   "id": "5da24bf8",
   "metadata": {},
   "outputs": [],
   "source": []
  }
 ],
 "metadata": {
  "kernelspec": {
   "display_name": "Python 3 (ipykernel)",
   "language": "python",
   "name": "python3"
  },
  "language_info": {
   "codemirror_mode": {
    "name": "ipython",
    "version": 3
   },
   "file_extension": ".py",
   "mimetype": "text/x-python",
   "name": "python",
   "nbconvert_exporter": "python",
   "pygments_lexer": "ipython3",
   "version": "3.9.16"
  }
 },
 "nbformat": 4,
 "nbformat_minor": 5
}
