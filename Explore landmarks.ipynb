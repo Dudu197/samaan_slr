{
 "cells": [
  {
   "cell_type": "code",
   "execution_count": 1,
   "id": "d364f6d1",
   "metadata": {},
   "outputs": [],
   "source": [
    "import pandas as pd\n",
    "import numpy as np\n",
    "from matplotlib import pyplot as plt"
   ]
  },
  {
   "cell_type": "code",
   "execution_count": 54,
   "id": "44cfcf61",
   "metadata": {},
   "outputs": [],
   "source": [
    "df = pd.read_csv(\"lsa64_dataset_best.csv\")"
   ]
  },
  {
   "cell_type": "code",
   "execution_count": 55,
   "id": "3c5c1df1",
   "metadata": {},
   "outputs": [
    {
     "data": {
      "text/html": [
       "<div>\n",
       "<style scoped>\n",
       "    .dataframe tbody tr th:only-of-type {\n",
       "        vertical-align: middle;\n",
       "    }\n",
       "\n",
       "    .dataframe tbody tr th {\n",
       "        vertical-align: top;\n",
       "    }\n",
       "\n",
       "    .dataframe thead th {\n",
       "        text-align: right;\n",
       "    }\n",
       "</style>\n",
       "<table border=\"1\" class=\"dataframe\">\n",
       "  <thead>\n",
       "    <tr style=\"text-align: right;\">\n",
       "      <th></th>\n",
       "      <th>Unnamed: 0.1</th>\n",
       "      <th>Unnamed: 0</th>\n",
       "      <th>category</th>\n",
       "      <th>video_name</th>\n",
       "      <th>frame</th>\n",
       "      <th>hand_0_wrist_x</th>\n",
       "      <th>hand_0_wrist_y</th>\n",
       "      <th>hand_0_wrist_z</th>\n",
       "      <th>hand_0_thumb_cmc_x</th>\n",
       "      <th>hand_0_thumb_cmc_y</th>\n",
       "      <th>...</th>\n",
       "      <th>pose_left_heel_y</th>\n",
       "      <th>pose_left_heel_z</th>\n",
       "      <th>pose_right_foot_index_x</th>\n",
       "      <th>pose_right_foot_index_y</th>\n",
       "      <th>pose_right_foot_index_z</th>\n",
       "      <th>pose_left_foot_index_x</th>\n",
       "      <th>pose_left_foot_index_y</th>\n",
       "      <th>pose_left_foot_index_z</th>\n",
       "      <th>missing_hand</th>\n",
       "      <th>missing_face</th>\n",
       "    </tr>\n",
       "  </thead>\n",
       "  <tbody>\n",
       "    <tr>\n",
       "      <th>0</th>\n",
       "      <td>23150</td>\n",
       "      <td>23150</td>\n",
       "      <td>5</td>\n",
       "      <td>005_001_001.mp4</td>\n",
       "      <td>0</td>\n",
       "      <td>0.420772</td>\n",
       "      <td>0.550836</td>\n",
       "      <td>1.636182e-07</td>\n",
       "      <td>0.443854</td>\n",
       "      <td>0.542178</td>\n",
       "      <td>...</td>\n",
       "      <td>1.827304</td>\n",
       "      <td>0.441803</td>\n",
       "      <td>0.538584</td>\n",
       "      <td>1.896927</td>\n",
       "      <td>0.008400</td>\n",
       "      <td>0.443128</td>\n",
       "      <td>1.888999</td>\n",
       "      <td>0.146504</td>\n",
       "      <td>False</td>\n",
       "      <td>False</td>\n",
       "    </tr>\n",
       "    <tr>\n",
       "      <th>1</th>\n",
       "      <td>23151</td>\n",
       "      <td>23151</td>\n",
       "      <td>5</td>\n",
       "      <td>005_001_001.mp4</td>\n",
       "      <td>1</td>\n",
       "      <td>0.421121</td>\n",
       "      <td>0.563831</td>\n",
       "      <td>1.745975e-07</td>\n",
       "      <td>0.440999</td>\n",
       "      <td>0.549937</td>\n",
       "      <td>...</td>\n",
       "      <td>1.824616</td>\n",
       "      <td>0.554366</td>\n",
       "      <td>0.534780</td>\n",
       "      <td>1.899688</td>\n",
       "      <td>0.126206</td>\n",
       "      <td>0.439994</td>\n",
       "      <td>1.889553</td>\n",
       "      <td>0.243100</td>\n",
       "      <td>False</td>\n",
       "      <td>False</td>\n",
       "    </tr>\n",
       "    <tr>\n",
       "      <th>2</th>\n",
       "      <td>23152</td>\n",
       "      <td>23152</td>\n",
       "      <td>5</td>\n",
       "      <td>005_001_001.mp4</td>\n",
       "      <td>2</td>\n",
       "      <td>0.420025</td>\n",
       "      <td>0.567050</td>\n",
       "      <td>1.688192e-07</td>\n",
       "      <td>0.440097</td>\n",
       "      <td>0.550066</td>\n",
       "      <td>...</td>\n",
       "      <td>1.828198</td>\n",
       "      <td>0.650777</td>\n",
       "      <td>0.546780</td>\n",
       "      <td>1.903675</td>\n",
       "      <td>0.207621</td>\n",
       "      <td>0.449782</td>\n",
       "      <td>1.897125</td>\n",
       "      <td>0.322711</td>\n",
       "      <td>False</td>\n",
       "      <td>False</td>\n",
       "    </tr>\n",
       "    <tr>\n",
       "      <th>3</th>\n",
       "      <td>23153</td>\n",
       "      <td>23153</td>\n",
       "      <td>5</td>\n",
       "      <td>005_001_001.mp4</td>\n",
       "      <td>3</td>\n",
       "      <td>0.419329</td>\n",
       "      <td>0.569760</td>\n",
       "      <td>1.583114e-07</td>\n",
       "      <td>0.440057</td>\n",
       "      <td>0.551531</td>\n",
       "      <td>...</td>\n",
       "      <td>1.828721</td>\n",
       "      <td>0.657948</td>\n",
       "      <td>0.549568</td>\n",
       "      <td>1.905399</td>\n",
       "      <td>0.212084</td>\n",
       "      <td>0.451675</td>\n",
       "      <td>1.900439</td>\n",
       "      <td>0.327484</td>\n",
       "      <td>False</td>\n",
       "      <td>False</td>\n",
       "    </tr>\n",
       "    <tr>\n",
       "      <th>4</th>\n",
       "      <td>23154</td>\n",
       "      <td>23154</td>\n",
       "      <td>5</td>\n",
       "      <td>005_001_001.mp4</td>\n",
       "      <td>4</td>\n",
       "      <td>0.418654</td>\n",
       "      <td>0.571615</td>\n",
       "      <td>1.575574e-07</td>\n",
       "      <td>0.439785</td>\n",
       "      <td>0.553101</td>\n",
       "      <td>...</td>\n",
       "      <td>1.829020</td>\n",
       "      <td>0.602851</td>\n",
       "      <td>0.554763</td>\n",
       "      <td>1.906695</td>\n",
       "      <td>0.182242</td>\n",
       "      <td>0.456765</td>\n",
       "      <td>1.902547</td>\n",
       "      <td>0.282989</td>\n",
       "      <td>False</td>\n",
       "      <td>False</td>\n",
       "    </tr>\n",
       "    <tr>\n",
       "      <th>...</th>\n",
       "      <td>...</td>\n",
       "      <td>...</td>\n",
       "      <td>...</td>\n",
       "      <td>...</td>\n",
       "      <td>...</td>\n",
       "      <td>...</td>\n",
       "      <td>...</td>\n",
       "      <td>...</td>\n",
       "      <td>...</td>\n",
       "      <td>...</td>\n",
       "      <td>...</td>\n",
       "      <td>...</td>\n",
       "      <td>...</td>\n",
       "      <td>...</td>\n",
       "      <td>...</td>\n",
       "      <td>...</td>\n",
       "      <td>...</td>\n",
       "      <td>...</td>\n",
       "      <td>...</td>\n",
       "      <td>...</td>\n",
       "      <td>...</td>\n",
       "    </tr>\n",
       "    <tr>\n",
       "      <th>61615</th>\n",
       "      <td>18055</td>\n",
       "      <td>18055</td>\n",
       "      <td>3</td>\n",
       "      <td>003_010_005.mp4</td>\n",
       "      <td>113</td>\n",
       "      <td>0.425657</td>\n",
       "      <td>0.534980</td>\n",
       "      <td>1.647184e-07</td>\n",
       "      <td>0.441462</td>\n",
       "      <td>0.565812</td>\n",
       "      <td>...</td>\n",
       "      <td>1.912102</td>\n",
       "      <td>0.448031</td>\n",
       "      <td>0.470084</td>\n",
       "      <td>2.008406</td>\n",
       "      <td>-0.060018</td>\n",
       "      <td>0.377270</td>\n",
       "      <td>1.979426</td>\n",
       "      <td>0.118266</td>\n",
       "      <td>False</td>\n",
       "      <td>False</td>\n",
       "    </tr>\n",
       "    <tr>\n",
       "      <th>61616</th>\n",
       "      <td>18056</td>\n",
       "      <td>18056</td>\n",
       "      <td>3</td>\n",
       "      <td>003_010_005.mp4</td>\n",
       "      <td>114</td>\n",
       "      <td>0.425624</td>\n",
       "      <td>0.535997</td>\n",
       "      <td>1.647716e-07</td>\n",
       "      <td>0.441336</td>\n",
       "      <td>0.566124</td>\n",
       "      <td>...</td>\n",
       "      <td>1.911224</td>\n",
       "      <td>0.435046</td>\n",
       "      <td>0.468588</td>\n",
       "      <td>2.008240</td>\n",
       "      <td>-0.058428</td>\n",
       "      <td>0.375483</td>\n",
       "      <td>1.978823</td>\n",
       "      <td>0.112068</td>\n",
       "      <td>False</td>\n",
       "      <td>False</td>\n",
       "    </tr>\n",
       "    <tr>\n",
       "      <th>61617</th>\n",
       "      <td>18057</td>\n",
       "      <td>18057</td>\n",
       "      <td>3</td>\n",
       "      <td>003_010_005.mp4</td>\n",
       "      <td>115</td>\n",
       "      <td>0.424986</td>\n",
       "      <td>0.536302</td>\n",
       "      <td>1.625014e-07</td>\n",
       "      <td>0.440926</td>\n",
       "      <td>0.566188</td>\n",
       "      <td>...</td>\n",
       "      <td>1.911721</td>\n",
       "      <td>0.403390</td>\n",
       "      <td>0.467247</td>\n",
       "      <td>2.008238</td>\n",
       "      <td>-0.061164</td>\n",
       "      <td>0.372336</td>\n",
       "      <td>1.978815</td>\n",
       "      <td>0.085725</td>\n",
       "      <td>False</td>\n",
       "      <td>False</td>\n",
       "    </tr>\n",
       "    <tr>\n",
       "      <th>61618</th>\n",
       "      <td>18058</td>\n",
       "      <td>18058</td>\n",
       "      <td>3</td>\n",
       "      <td>003_010_005.mp4</td>\n",
       "      <td>116</td>\n",
       "      <td>0.424861</td>\n",
       "      <td>0.536518</td>\n",
       "      <td>1.643235e-07</td>\n",
       "      <td>0.441036</td>\n",
       "      <td>0.566482</td>\n",
       "      <td>...</td>\n",
       "      <td>1.910918</td>\n",
       "      <td>0.399239</td>\n",
       "      <td>0.466432</td>\n",
       "      <td>2.007564</td>\n",
       "      <td>-0.060832</td>\n",
       "      <td>0.371874</td>\n",
       "      <td>1.977763</td>\n",
       "      <td>0.078122</td>\n",
       "      <td>False</td>\n",
       "      <td>False</td>\n",
       "    </tr>\n",
       "    <tr>\n",
       "      <th>61619</th>\n",
       "      <td>18059</td>\n",
       "      <td>18059</td>\n",
       "      <td>3</td>\n",
       "      <td>003_010_005.mp4</td>\n",
       "      <td>117</td>\n",
       "      <td>0.423886</td>\n",
       "      <td>0.537137</td>\n",
       "      <td>1.613287e-07</td>\n",
       "      <td>0.440315</td>\n",
       "      <td>0.566899</td>\n",
       "      <td>...</td>\n",
       "      <td>1.910889</td>\n",
       "      <td>0.383239</td>\n",
       "      <td>0.466071</td>\n",
       "      <td>2.007416</td>\n",
       "      <td>-0.061003</td>\n",
       "      <td>0.371401</td>\n",
       "      <td>1.977552</td>\n",
       "      <td>0.056029</td>\n",
       "      <td>False</td>\n",
       "      <td>False</td>\n",
       "    </tr>\n",
       "  </tbody>\n",
       "</table>\n",
       "<p>61620 rows × 1630 columns</p>\n",
       "</div>"
      ],
      "text/plain": [
       "       Unnamed: 0.1  Unnamed: 0  category       video_name  frame  \\\n",
       "0             23150       23150         5  005_001_001.mp4      0   \n",
       "1             23151       23151         5  005_001_001.mp4      1   \n",
       "2             23152       23152         5  005_001_001.mp4      2   \n",
       "3             23153       23153         5  005_001_001.mp4      3   \n",
       "4             23154       23154         5  005_001_001.mp4      4   \n",
       "...             ...         ...       ...              ...    ...   \n",
       "61615         18055       18055         3  003_010_005.mp4    113   \n",
       "61616         18056       18056         3  003_010_005.mp4    114   \n",
       "61617         18057       18057         3  003_010_005.mp4    115   \n",
       "61618         18058       18058         3  003_010_005.mp4    116   \n",
       "61619         18059       18059         3  003_010_005.mp4    117   \n",
       "\n",
       "       hand_0_wrist_x  hand_0_wrist_y  hand_0_wrist_z  hand_0_thumb_cmc_x  \\\n",
       "0            0.420772        0.550836    1.636182e-07            0.443854   \n",
       "1            0.421121        0.563831    1.745975e-07            0.440999   \n",
       "2            0.420025        0.567050    1.688192e-07            0.440097   \n",
       "3            0.419329        0.569760    1.583114e-07            0.440057   \n",
       "4            0.418654        0.571615    1.575574e-07            0.439785   \n",
       "...               ...             ...             ...                 ...   \n",
       "61615        0.425657        0.534980    1.647184e-07            0.441462   \n",
       "61616        0.425624        0.535997    1.647716e-07            0.441336   \n",
       "61617        0.424986        0.536302    1.625014e-07            0.440926   \n",
       "61618        0.424861        0.536518    1.643235e-07            0.441036   \n",
       "61619        0.423886        0.537137    1.613287e-07            0.440315   \n",
       "\n",
       "       hand_0_thumb_cmc_y  ...  pose_left_heel_y  pose_left_heel_z  \\\n",
       "0                0.542178  ...          1.827304          0.441803   \n",
       "1                0.549937  ...          1.824616          0.554366   \n",
       "2                0.550066  ...          1.828198          0.650777   \n",
       "3                0.551531  ...          1.828721          0.657948   \n",
       "4                0.553101  ...          1.829020          0.602851   \n",
       "...                   ...  ...               ...               ...   \n",
       "61615            0.565812  ...          1.912102          0.448031   \n",
       "61616            0.566124  ...          1.911224          0.435046   \n",
       "61617            0.566188  ...          1.911721          0.403390   \n",
       "61618            0.566482  ...          1.910918          0.399239   \n",
       "61619            0.566899  ...          1.910889          0.383239   \n",
       "\n",
       "       pose_right_foot_index_x  pose_right_foot_index_y  \\\n",
       "0                     0.538584                 1.896927   \n",
       "1                     0.534780                 1.899688   \n",
       "2                     0.546780                 1.903675   \n",
       "3                     0.549568                 1.905399   \n",
       "4                     0.554763                 1.906695   \n",
       "...                        ...                      ...   \n",
       "61615                 0.470084                 2.008406   \n",
       "61616                 0.468588                 2.008240   \n",
       "61617                 0.467247                 2.008238   \n",
       "61618                 0.466432                 2.007564   \n",
       "61619                 0.466071                 2.007416   \n",
       "\n",
       "       pose_right_foot_index_z  pose_left_foot_index_x  \\\n",
       "0                     0.008400                0.443128   \n",
       "1                     0.126206                0.439994   \n",
       "2                     0.207621                0.449782   \n",
       "3                     0.212084                0.451675   \n",
       "4                     0.182242                0.456765   \n",
       "...                        ...                     ...   \n",
       "61615                -0.060018                0.377270   \n",
       "61616                -0.058428                0.375483   \n",
       "61617                -0.061164                0.372336   \n",
       "61618                -0.060832                0.371874   \n",
       "61619                -0.061003                0.371401   \n",
       "\n",
       "       pose_left_foot_index_y  pose_left_foot_index_z  missing_hand  \\\n",
       "0                    1.888999                0.146504         False   \n",
       "1                    1.889553                0.243100         False   \n",
       "2                    1.897125                0.322711         False   \n",
       "3                    1.900439                0.327484         False   \n",
       "4                    1.902547                0.282989         False   \n",
       "...                       ...                     ...           ...   \n",
       "61615                1.979426                0.118266         False   \n",
       "61616                1.978823                0.112068         False   \n",
       "61617                1.978815                0.085725         False   \n",
       "61618                1.977763                0.078122         False   \n",
       "61619                1.977552                0.056029         False   \n",
       "\n",
       "       missing_face  \n",
       "0             False  \n",
       "1             False  \n",
       "2             False  \n",
       "3             False  \n",
       "4             False  \n",
       "...             ...  \n",
       "61615         False  \n",
       "61616         False  \n",
       "61617         False  \n",
       "61618         False  \n",
       "61619         False  \n",
       "\n",
       "[61620 rows x 1630 columns]"
      ]
     },
     "execution_count": 55,
     "metadata": {},
     "output_type": "execute_result"
    }
   ],
   "source": [
    "df"
   ]
  },
  {
   "cell_type": "code",
   "execution_count": 56,
   "id": "bc78930b",
   "metadata": {},
   "outputs": [
    {
     "data": {
      "text/plain": [
       "Index(['Unnamed: 0.1', 'Unnamed: 0', 'category', 'video_name', 'frame',\n",
       "       'hand_0_wrist_x', 'hand_0_wrist_y', 'hand_0_wrist_z',\n",
       "       'hand_0_thumb_cmc_x', 'hand_0_thumb_cmc_y',\n",
       "       ...\n",
       "       'pose_left_heel_y', 'pose_left_heel_z', 'pose_right_foot_index_x',\n",
       "       'pose_right_foot_index_y', 'pose_right_foot_index_z',\n",
       "       'pose_left_foot_index_x', 'pose_left_foot_index_y',\n",
       "       'pose_left_foot_index_z', 'missing_hand', 'missing_face'],\n",
       "      dtype='object', length=1630)"
      ]
     },
     "execution_count": 56,
     "metadata": {},
     "output_type": "execute_result"
    }
   ],
   "source": [
    "df.columns"
   ]
  },
  {
   "cell_type": "code",
   "execution_count": 57,
   "id": "90da89f6",
   "metadata": {},
   "outputs": [],
   "source": [
    "hand_columns = [i for i in df.columns if i.startswith(\"hand_\")]\n",
    "face_columns = [i for i in df.columns if i.startswith(\"face_\")]"
   ]
  },
  {
   "cell_type": "code",
   "execution_count": 58,
   "id": "7faf0831",
   "metadata": {},
   "outputs": [],
   "source": [
    "df[\"missing_hand\"] = eval(\" & \".join([f\"(df['{h}'] == 0)\" for h in hand_columns]))"
   ]
  },
  {
   "cell_type": "code",
   "execution_count": 59,
   "id": "43acbbf1",
   "metadata": {},
   "outputs": [],
   "source": [
    "df[\"missing_face\"] = eval(\" & \".join([f\"(df['{h}'] == 0)\" for h in face_columns]))"
   ]
  },
  {
   "cell_type": "code",
   "execution_count": 60,
   "id": "350aea96",
   "metadata": {},
   "outputs": [
    {
     "data": {
      "text/plain": [
       "missing_hand  missing_face\n",
       "False         False           61146\n",
       "True          False             309\n",
       "False         True              165\n",
       "dtype: int64"
      ]
     },
     "execution_count": 60,
     "metadata": {},
     "output_type": "execute_result"
    }
   ],
   "source": [
    "df[[\"missing_hand\", \"missing_face\"]].value_counts()"
   ]
  },
  {
   "cell_type": "code",
   "execution_count": 61,
   "id": "790e192f",
   "metadata": {},
   "outputs": [
    {
     "name": "stdout",
     "output_type": "stream",
     "text": [
      "Total frames: 61620\n",
      "Total videos: 500\n",
      "\n",
      "Frames missing face: 165 (0.27%)\n",
      "Median Frame missing face: 73.0\n",
      "Videos missing face: 27 (5.4%)\n",
      "\n",
      "Frames missing hand: 309 (0.5%)\n",
      "Median Frame missing hand: 43.0\n",
      "Videos missing hand: 25 (5.0%)\n"
     ]
    }
   ],
   "source": [
    "total_frames = len(df)\n",
    "total_videos = len(df[\"video_name\"].unique())\n",
    "\n",
    "missing_face = len(df[df[\"missing_face\"]])\n",
    "missing_face_percent = round(missing_face/total_frames * 100, 2)\n",
    "missing_face_frame_median = df[df[\"missing_face\"] == True][\"frame\"].median()\n",
    "missing_face_video_count = len(df[df[\"missing_face\"] == True][\"video_name\"].unique())\n",
    "missing_face_video_percent = round(missing_face_video_count/total_videos * 100, 2)\n",
    "\n",
    "missing_hand = len(df[df[\"missing_hand\"]])\n",
    "missing_hand_percent = round(missing_hand/total_frames * 100, 2)\n",
    "missing_hand_frame_median = df[df[\"missing_hand\"] == True][\"frame\"].median()\n",
    "missing_hand_video_count = len(df[df[\"missing_hand\"] == True][\"video_name\"].unique())\n",
    "missing_hand_video_percent = round(missing_hand_video_count/total_videos * 100, 2)\n",
    "\n",
    "\n",
    "print(\"Total frames:\", total_frames)\n",
    "print(\"Total videos:\", total_videos)\n",
    "print()\n",
    "print(f\"Frames missing face: {missing_face} ({missing_face_percent}%)\")\n",
    "print(f\"Median Frame missing face: {missing_face_frame_median}\")\n",
    "print(f\"Videos missing face: {missing_face_video_count} ({missing_face_video_percent}%)\")\n",
    "print()\n",
    "print(f\"Frames missing hand: {missing_hand} ({missing_hand_percent}%)\")\n",
    "print(f\"Median Frame missing hand: {missing_hand_frame_median}\")\n",
    "print(f\"Videos missing hand: {missing_hand_video_count} ({missing_hand_video_percent}%)\")"
   ]
  },
  {
   "cell_type": "code",
   "execution_count": 62,
   "id": "13ab8f32",
   "metadata": {},
   "outputs": [
    {
     "data": {
      "text/plain": [
       "Text(0, 0.5, 'Video Count')"
      ]
     },
     "execution_count": 62,
     "metadata": {},
     "output_type": "execute_result"
    },
    {
     "data": {
      "image/png": "[encoded data removed]",
      "text/plain": [
       "<Figure size 640x480 with 1 Axes>"
      ]
     },
     "metadata": {},
     "output_type": "display_data"
    }
   ],
   "source": [
    "df[df[\"missing_face\"] == True][\"frame\"].hist()\n",
    "plt.title(\"Frames missing face landmarks\")\n",
    "plt.xlabel(\"Video Frame\")\n",
    "plt.ylabel(\"Video Count\")"
   ]
  },
  {
   "cell_type": "code",
   "execution_count": 63,
   "id": "1399c4fd",
   "metadata": {},
   "outputs": [
    {
     "data": {
      "text/plain": [
       "Text(0, 0.5, 'Video Count')"
      ]
     },
     "execution_count": 63,
     "metadata": {},
     "output_type": "execute_result"
    },
    {
     "data": {
      "image/png": "[encoded data removed]",
      "text/plain": [
       "<Figure size 640x480 with 1 Axes>"
      ]
     },
     "metadata": {},
     "output_type": "display_data"
    }
   ],
   "source": [
    "df[df[\"missing_hand\"] == True][\"frame\"].hist()\n",
    "plt.title(\"Frames missing hand landmarks\")\n",
    "plt.xlabel(\"Video Frame\")\n",
    "plt.ylabel(\"Video Count\")"
   ]
  },
  {
   "cell_type": "code",
   "execution_count": 64,
   "id": "ca762310",
   "metadata": {},
   "outputs": [
    {
     "data": {
      "text/plain": [
       "Text(0, 0.5, 'Frame Count')"
      ]
     },
     "execution_count": 64,
     "metadata": {},
     "output_type": "execute_result"
    },
    {
     "data": {
      "image/png": "[encoded data removed]",
      "text/plain": [
       "<Figure size 640x480 with 1 Axes>"
      ]
     },
     "metadata": {},
     "output_type": "display_data"
    }
   ],
   "source": [
    "df[df[\"missing_face\"] == True][\"category\"].hist()\n",
    "plt.title(\"Category missing face landmarks\")\n",
    "plt.xlabel(\"Category\")\n",
    "plt.ylabel(\"Frame Count\")"
   ]
  },
  {
   "cell_type": "code",
   "execution_count": 65,
   "id": "80c790a1",
   "metadata": {},
   "outputs": [
    {
     "data": {
      "text/plain": [
       "Text(0, 0.5, 'Frame Count')"
      ]
     },
     "execution_count": 65,
     "metadata": {},
     "output_type": "execute_result"
    },
    {
     "data": {
      "image/png": "[encoded data removed]",
      "text/plain": [
       "<Figure size 640x480 with 1 Axes>"
      ]
     },
     "metadata": {},
     "output_type": "display_data"
    }
   ],
   "source": [
    "df[df[\"missing_hand\"] == True][\"category\"].hist()\n",
    "plt.title(\"Category missing hand landmarks\")\n",
    "plt.xlabel(\"Category\")\n",
    "plt.ylabel(\"Frame Count\")"
   ]
  },
  {
   "cell_type": "code",
   "execution_count": 66,
   "id": "d7107c0d",
   "metadata": {},
   "outputs": [
    {
     "name": "stdout",
     "output_type": "stream",
     "text": [
      "Classes without hand problems: 2\n"
     ]
    }
   ],
   "source": [
    "print(\"Classes without hand problems:\", 10 - len(df[df[\"missing_hand\"] == True][\"category\"].unique()))"
   ]
  },
  {
   "cell_type": "code",
   "execution_count": null,
   "id": "5da24bf8",
   "metadata": {},
   "outputs": [],
   "source": []
  }
 ],
 "metadata": {
  "kernelspec": {
   "display_name": "Python 3 (ipykernel)",
   "language": "python",
   "name": "python3"
  },
  "language_info": {
   "codemirror_mode": {
    "name": "ipython",
    "version": 3
   },
   "file_extension": ".py",
   "mimetype": "text/x-python",
   "name": "python",
   "nbconvert_exporter": "python",
   "pygments_lexer": "ipython3",
   "version": "3.10.9"
  }
 },
 "nbformat": 4,
 "nbformat_minor": 5
}
