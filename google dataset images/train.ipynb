{
 "cells": [
  {
   "cell_type": "code",
   "execution_count": 1,
   "id": "24f765c5",
   "metadata": {},
   "outputs": [
    {
     "name": "stderr",
     "output_type": "stream",
     "text": [
      "2024-03-06 21:12:30.846448: I tensorflow/core/util/port.cc:110] oneDNN custom operations are on. You may see slightly different numerical results due to floating-point round-off errors from different computation orders. To turn them off, set the environment variable `TF_ENABLE_ONEDNN_OPTS=0`.\n",
      "2024-03-06 21:12:30.870084: I tensorflow/core/platform/cpu_feature_guard.cc:182] This TensorFlow binary is optimized to use available CPU instructions in performance-critical operations.\n",
      "To enable the following instructions: AVX2 AVX_VNNI FMA, in other operations, rebuild TensorFlow with the appropriate compiler flags.\n",
      "2024-03-06 21:12:31.197038: W tensorflow/compiler/tf2tensorrt/utils/py_utils.cc:38] TF-TRT Warning: Could not find TensorRT\n"
     ]
    }
   ],
   "source": [
    "import os\n",
    "import numpy as np\n",
    "from sklearn.model_selection import train_test_split\n",
    "from keras.preprocessing.image import ImageDataGenerator\n",
    "# from keras.applications import ResNet18\n",
    "from keras.models import Sequential\n",
    "from keras.layers import Dense, Flatten, Dropout\n",
    "from keras.optimizers import Adam"
   ]
  },
  {
   "cell_type": "code",
   "execution_count": 2,
   "id": "85b95e1d",
   "metadata": {},
   "outputs": [],
   "source": [
    "from keras.applications import ResNet50"
   ]
  },
  {
   "cell_type": "code",
   "execution_count": 3,
   "id": "01541078",
   "metadata": {},
   "outputs": [],
   "source": [
    "dataset_dir = \"../dataset_output/google_asl/imgs/\""
   ]
  },
  {
   "cell_type": "code",
   "execution_count": 4,
   "id": "50bc5196",
   "metadata": {},
   "outputs": [],
   "source": [
    "img_size = (224, 224)\n",
    "batch_size = 64"
   ]
  },
  {
   "cell_type": "code",
   "execution_count": 5,
   "id": "ded43a51",
   "metadata": {},
   "outputs": [],
   "source": [
    "datagen = ImageDataGenerator(\n",
    "#     rescale=1./255,\n",
    "    validation_split=0.3,  # Splitting data into train and validation\n",
    ")"
   ]
  },
  {
   "cell_type": "code",
   "execution_count": 6,
   "id": "5021bb62",
   "metadata": {},
   "outputs": [
    {
     "name": "stdout",
     "output_type": "stream",
     "text": [
      "Found 18511 images belonging to 70 classes.\n"
     ]
    }
   ],
   "source": [
    "train_generator = datagen.flow_from_directory(\n",
    "    dataset_dir,\n",
    "    target_size=img_size,\n",
    "    batch_size=batch_size,\n",
    "    class_mode='categorical',\n",
    "    subset='training'  # Training data subset\n",
    ")"
   ]
  },
  {
   "cell_type": "code",
   "execution_count": 7,
   "id": "15e35b47",
   "metadata": {},
   "outputs": [
    {
     "name": "stdout",
     "output_type": "stream",
     "text": [
      "Found 7892 images belonging to 70 classes.\n"
     ]
    }
   ],
   "source": [
    "validation_generator = datagen.flow_from_directory(\n",
    "    dataset_dir,\n",
    "    target_size=img_size,\n",
    "    batch_size=batch_size,\n",
    "    class_mode='categorical',\n",
    "    subset='validation'  # Validation data subset\n",
    ")"
   ]
  },
  {
   "cell_type": "code",
   "execution_count": 8,
   "id": "a802be9d",
   "metadata": {},
   "outputs": [
    {
     "name": "stderr",
     "output_type": "stream",
     "text": [
      "2024-03-06 21:12:41.551844: I tensorflow/compiler/xla/stream_executor/cuda/cuda_gpu_executor.cc:981] could not open file to read NUMA node: /sys/bus/pci/devices/0000:01:00.0/numa_node\n",
      "Your kernel may have been built without NUMA support.\n",
      "2024-03-06 21:12:41.570839: I tensorflow/compiler/xla/stream_executor/cuda/cuda_gpu_executor.cc:981] could not open file to read NUMA node: /sys/bus/pci/devices/0000:01:00.0/numa_node\n",
      "Your kernel may have been built without NUMA support.\n",
      "2024-03-06 21:12:41.571015: I tensorflow/compiler/xla/stream_executor/cuda/cuda_gpu_executor.cc:981] could not open file to read NUMA node: /sys/bus/pci/devices/0000:01:00.0/numa_node\n",
      "Your kernel may have been built without NUMA support.\n",
      "2024-03-06 21:12:41.573977: I tensorflow/compiler/xla/stream_executor/cuda/cuda_gpu_executor.cc:981] could not open file to read NUMA node: /sys/bus/pci/devices/0000:01:00.0/numa_node\n",
      "Your kernel may have been built without NUMA support.\n",
      "2024-03-06 21:12:41.574286: I tensorflow/compiler/xla/stream_executor/cuda/cuda_gpu_executor.cc:981] could not open file to read NUMA node: /sys/bus/pci/devices/0000:01:00.0/numa_node\n",
      "Your kernel may have been built without NUMA support.\n",
      "2024-03-06 21:12:41.574487: I tensorflow/compiler/xla/stream_executor/cuda/cuda_gpu_executor.cc:981] could not open file to read NUMA node: /sys/bus/pci/devices/0000:01:00.0/numa_node\n",
      "Your kernel may have been built without NUMA support.\n",
      "2024-03-06 21:12:41.654823: I tensorflow/compiler/xla/stream_executor/cuda/cuda_gpu_executor.cc:981] could not open file to read NUMA node: /sys/bus/pci/devices/0000:01:00.0/numa_node\n",
      "Your kernel may have been built without NUMA support.\n",
      "2024-03-06 21:12:41.654995: I tensorflow/compiler/xla/stream_executor/cuda/cuda_gpu_executor.cc:981] could not open file to read NUMA node: /sys/bus/pci/devices/0000:01:00.0/numa_node\n",
      "Your kernel may have been built without NUMA support.\n",
      "2024-03-06 21:12:41.655001: I tensorflow/core/common_runtime/gpu/gpu_device.cc:1726] Could not identify NUMA node of platform GPU id 0, defaulting to 0.  Your kernel may not have been built with NUMA support.\n",
      "2024-03-06 21:12:41.655089: I tensorflow/compiler/xla/stream_executor/cuda/cuda_gpu_executor.cc:981] could not open file to read NUMA node: /sys/bus/pci/devices/0000:01:00.0/numa_node\n",
      "Your kernel may have been built without NUMA support.\n",
      "2024-03-06 21:12:41.655112: I tensorflow/core/common_runtime/gpu/gpu_device.cc:1639] Created device /job:localhost/replica:0/task:0/device:GPU:0 with 9558 MB memory:  -> device: 0, name: NVIDIA GeForce RTX 4070, pci bus id: 0000:01:00.0, compute capability: 8.9\n"
     ]
    }
   ],
   "source": [
    "resnet = ResNet50(weights='imagenet', include_top=False, input_shape=(img_size[0], img_size[1], 3))"
   ]
  },
  {
   "cell_type": "code",
   "execution_count": 9,
   "id": "2ef206e5",
   "metadata": {},
   "outputs": [],
   "source": [
    "# Freeze the convolutional base\n",
    "for layer in resnet.layers:\n",
    "    layer.trainable = False"
   ]
  },
  {
   "cell_type": "code",
   "execution_count": 16,
   "id": "ec776334",
   "metadata": {},
   "outputs": [],
   "source": [
    "model = Sequential([\n",
    "    resnet,\n",
    "    Flatten(),\n",
    "    Dense(256, activation='relu'),\n",
    "    Dropout(0.5),\n",
    "    Dense(70, activation='softmax')  # 70 output classes\n",
    "])"
   ]
  },
  {
   "cell_type": "code",
   "execution_count": 17,
   "id": "b689ea09",
   "metadata": {},
   "outputs": [],
   "source": [
    "model.compile(optimizer=Adam(learning_rate=10e-4),\n",
    "              loss='categorical_crossentropy',\n",
    "              metrics=['accuracy'])"
   ]
  },
  {
   "cell_type": "code",
   "execution_count": null,
   "id": "2239f212",
   "metadata": {},
   "outputs": [
    {
     "name": "stdout",
     "output_type": "stream",
     "text": [
      "Epoch 1/50\n",
      "289/289 [==============================] - 73s 249ms/step - loss: 4.8822 - accuracy: 0.0147 - val_loss: 4.2483 - val_accuracy: 0.0158\n",
      "Epoch 2/50\n",
      "289/289 [==============================] - 75s 258ms/step - loss: 4.2485 - accuracy: 0.0156 - val_loss: 4.2476 - val_accuracy: 0.0158\n",
      "Epoch 3/50\n",
      "289/289 [==============================] - 73s 252ms/step - loss: 4.2491 - accuracy: 0.0152 - val_loss: 4.2473 - val_accuracy: 0.0158\n",
      "Epoch 4/50\n",
      "289/289 [==============================] - 69s 238ms/step - loss: 4.2475 - accuracy: 0.0157 - val_loss: 4.2471 - val_accuracy: 0.0158\n",
      "Epoch 5/50\n",
      "289/289 [==============================] - 68s 237ms/step - loss: 4.2473 - accuracy: 0.0146 - val_loss: 4.2471 - val_accuracy: 0.0158\n",
      "Epoch 6/50\n",
      "289/289 [==============================] - 68s 234ms/step - loss: 4.2492 - accuracy: 0.0157 - val_loss: 4.2470 - val_accuracy: 0.0156\n",
      "Epoch 7/50\n",
      "289/289 [==============================] - 69s 241ms/step - loss: 4.2472 - accuracy: 0.0154 - val_loss: 4.2470 - val_accuracy: 0.0158\n",
      "Epoch 8/50\n",
      "289/289 [==============================] - 72s 249ms/step - loss: 4.2474 - accuracy: 0.0157 - val_loss: 4.2470 - val_accuracy: 0.0158\n",
      "Epoch 9/50\n",
      "289/289 [==============================] - 68s 234ms/step - loss: 4.2472 - accuracy: 0.0138 - val_loss: 4.2470 - val_accuracy: 0.0156\n",
      "Epoch 10/50\n",
      "289/289 [==============================] - 69s 238ms/step - loss: 4.2472 - accuracy: 0.0142 - val_loss: 4.2470 - val_accuracy: 0.0158\n",
      "Epoch 11/50\n",
      "289/289 [==============================] - 68s 236ms/step - loss: 4.2471 - accuracy: 0.0157 - val_loss: 4.2470 - val_accuracy: 0.0158\n",
      "Epoch 12/50\n",
      "289/289 [==============================] - 71s 245ms/step - loss: 4.2474 - accuracy: 0.0152 - val_loss: 4.2470 - val_accuracy: 0.0158\n",
      "Epoch 13/50\n",
      "289/289 [==============================] - 69s 240ms/step - loss: 4.2472 - accuracy: 0.0156 - val_loss: 4.2469 - val_accuracy: 0.0158\n",
      "Epoch 14/50\n",
      "289/289 [==============================] - 68s 235ms/step - loss: 4.2472 - accuracy: 0.0157 - val_loss: 4.2470 - val_accuracy: 0.0158\n",
      "Epoch 15/50\n",
      "289/289 [==============================] - 68s 234ms/step - loss: 4.2474 - accuracy: 0.0157 - val_loss: 4.2469 - val_accuracy: 0.0158\n",
      "Epoch 16/50\n",
      "289/289 [==============================] - 68s 234ms/step - loss: 4.2474 - accuracy: 0.0157 - val_loss: 4.2469 - val_accuracy: 0.0158\n",
      "Epoch 17/50\n",
      "289/289 [==============================] - 69s 239ms/step - loss: 4.2471 - accuracy: 0.0157 - val_loss: 4.2469 - val_accuracy: 0.0156\n",
      "Epoch 18/50\n",
      "289/289 [==============================] - 69s 239ms/step - loss: 4.2474 - accuracy: 0.0156 - val_loss: 4.2470 - val_accuracy: 0.0156\n",
      "Epoch 19/50\n",
      "289/289 [==============================] - 69s 239ms/step - loss: 4.2474 - accuracy: 0.0143 - val_loss: 4.2470 - val_accuracy: 0.0158\n",
      "Epoch 20/50\n",
      "289/289 [==============================] - 68s 235ms/step - loss: 4.2472 - accuracy: 0.0148 - val_loss: 4.2469 - val_accuracy: 0.0158\n",
      "Epoch 21/50\n",
      "289/289 [==============================] - 68s 234ms/step - loss: 4.2472 - accuracy: 0.0153 - val_loss: 4.2470 - val_accuracy: 0.0156\n",
      "Epoch 22/50\n",
      "289/289 [==============================] - 68s 237ms/step - loss: 4.2474 - accuracy: 0.0156 - val_loss: 4.2470 - val_accuracy: 0.0158\n",
      "Epoch 23/50\n",
      "289/289 [==============================] - 68s 234ms/step - loss: 4.2474 - accuracy: 0.0157 - val_loss: 4.2469 - val_accuracy: 0.0158\n",
      "Epoch 24/50\n",
      "289/289 [==============================] - 69s 239ms/step - loss: 4.2472 - accuracy: 0.0147 - val_loss: 4.2470 - val_accuracy: 0.0158\n",
      "Epoch 25/50\n",
      "289/289 [==============================] - 67s 231ms/step - loss: 4.2474 - accuracy: 0.0147 - val_loss: 4.2469 - val_accuracy: 0.0156\n",
      "Epoch 26/50\n",
      "289/289 [==============================] - 68s 235ms/step - loss: 4.2474 - accuracy: 0.0152 - val_loss: 4.2469 - val_accuracy: 0.0156\n",
      "Epoch 27/50\n",
      "289/289 [==============================] - 67s 232ms/step - loss: 4.2472 - accuracy: 0.0156 - val_loss: 4.2470 - val_accuracy: 0.0156\n",
      "Epoch 28/50\n",
      "289/289 [==============================] - 69s 239ms/step - loss: 4.2472 - accuracy: 0.0152 - val_loss: 4.2469 - val_accuracy: 0.0158\n",
      "Epoch 29/50\n",
      "289/289 [==============================] - 67s 233ms/step - loss: 4.2474 - accuracy: 0.0153 - val_loss: 4.2469 - val_accuracy: 0.0158\n",
      "Epoch 30/50\n",
      "289/289 [==============================] - 68s 235ms/step - loss: 4.2474 - accuracy: 0.0139 - val_loss: 4.2470 - val_accuracy: 0.0156\n",
      "Epoch 31/50\n",
      "289/289 [==============================] - 67s 231ms/step - loss: 4.2472 - accuracy: 0.0157 - val_loss: 4.2470 - val_accuracy: 0.0158\n",
      "Epoch 32/50\n",
      "289/289 [==============================] - 67s 232ms/step - loss: 4.2472 - accuracy: 0.0152 - val_loss: 4.2470 - val_accuracy: 0.0158\n",
      "Epoch 33/50\n",
      "289/289 [==============================] - 68s 237ms/step - loss: 4.2471 - accuracy: 0.0158 - val_loss: 4.2469 - val_accuracy: 0.0158\n",
      "Epoch 34/50\n",
      "289/289 [==============================] - 70s 243ms/step - loss: 4.2474 - accuracy: 0.0156 - val_loss: 4.2469 - val_accuracy: 0.0158\n",
      "Epoch 35/50\n",
      "289/289 [==============================] - 68s 235ms/step - loss: 4.2474 - accuracy: 0.0157 - val_loss: 4.2470 - val_accuracy: 0.0158\n",
      "Epoch 36/50\n",
      "289/289 [==============================] - 68s 236ms/step - loss: 4.2474 - accuracy: 0.0157 - val_loss: 4.2469 - val_accuracy: 0.0158\n",
      "Epoch 37/50\n",
      "289/289 [==============================] - 68s 236ms/step - loss: 4.2472 - accuracy: 0.0144 - val_loss: 4.2470 - val_accuracy: 0.0155\n",
      "Epoch 38/50\n",
      "289/289 [==============================] - 69s 238ms/step - loss: 4.2472 - accuracy: 0.0157 - val_loss: 4.2470 - val_accuracy: 0.0155\n",
      "Epoch 39/50\n",
      "289/289 [==============================] - 68s 235ms/step - loss: 4.2475 - accuracy: 0.0155 - val_loss: 4.2470 - val_accuracy: 0.0158\n",
      "Epoch 40/50\n",
      "289/289 [==============================] - 68s 237ms/step - loss: 4.2474 - accuracy: 0.0153 - val_loss: 4.2470 - val_accuracy: 0.0156\n",
      "Epoch 41/50\n",
      "289/289 [==============================] - 66s 230ms/step - loss: 4.2472 - accuracy: 0.0151 - val_loss: 4.2469 - val_accuracy: 0.0156\n",
      "Epoch 42/50\n",
      "289/289 [==============================] - 70s 241ms/step - loss: 4.2474 - accuracy: 0.0143 - val_loss: 4.2469 - val_accuracy: 0.0158\n",
      "Epoch 43/50\n",
      "289/289 [==============================] - 69s 238ms/step - loss: 4.2472 - accuracy: 0.0157 - val_loss: 4.2469 - val_accuracy: 0.0156\n",
      "Epoch 44/50\n",
      "289/289 [==============================] - 68s 236ms/step - loss: 4.2474 - accuracy: 0.0156 - val_loss: 4.2469 - val_accuracy: 0.0158\n",
      "Epoch 45/50\n",
      "289/289 [==============================] - 70s 243ms/step - loss: 4.2474 - accuracy: 0.0149 - val_loss: 4.2470 - val_accuracy: 0.0158\n",
      "Epoch 46/50\n",
      "174/289 [=================>............] - ETA: 19s - loss: 4.2468 - accuracy: 0.0142"
     ]
    }
   ],
   "source": [
    "history = model.fit(\n",
    "    train_generator,\n",
    "    steps_per_epoch=train_generator.samples // batch_size,\n",
    "    epochs=50,\n",
    "    validation_data=validation_generator,\n",
    "    validation_steps=validation_generator.samples // batch_size\n",
    ")"
   ]
  },
  {
   "cell_type": "code",
   "execution_count": 13,
   "id": "be0e0918",
   "metadata": {},
   "outputs": [],
   "source": [
    "from matplotlib import pyplot as plt"
   ]
  },
  {
   "cell_type": "code",
   "execution_count": 14,
   "id": "42253bed",
   "metadata": {},
   "outputs": [
    {
     "data": {
      "text/plain": [
       "[<matplotlib.lines.Line2D at 0x7f0064640850>]"
      ]
     },
     "execution_count": 14,
     "metadata": {},
     "output_type": "execute_result"
    },
    {
     "data": {
      "image/png": "[encoded data removed]",
      "text/plain": [
       "<Figure size 640x480 with 1 Axes>"
      ]
     },
     "metadata": {},
     "output_type": "display_data"
    }
   ],
   "source": [
    "plt.plot(history.history[\"loss\"])"
   ]
  },
  {
   "cell_type": "code",
   "execution_count": null,
   "id": "fe1abeb5",
   "metadata": {},
   "outputs": [],
   "source": []
  }
 ],
 "metadata": {
  "kernelspec": {
   "display_name": "Python 3 (ipykernel)",
   "language": "python",
   "name": "python3"
  },
  "language_info": {
   "codemirror_mode": {
    "name": "ipython",
    "version": 3
   },
   "file_extension": ".py",
   "mimetype": "text/x-python",
   "name": "python",
   "nbconvert_exporter": "python",
   "pygments_lexer": "ipython3",
   "version": "3.9.16"
  }
 },
 "nbformat": 4,
 "nbformat_minor": 5
}
