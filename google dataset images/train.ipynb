{
 "cells": [
  {
   "cell_type": "code",
   "execution_count": 2,
   "id": "24f765c5",
   "metadata": {},
   "outputs": [
    {
     "name": "stderr",
     "output_type": "stream",
     "text": [
      "2024-02-25 18:45:26.516553: I tensorflow/core/util/port.cc:110] oneDNN custom operations are on. You may see slightly different numerical results due to floating-point round-off errors from different computation orders. To turn them off, set the environment variable `TF_ENABLE_ONEDNN_OPTS=0`.\n",
      "2024-02-25 18:45:26.542613: I tensorflow/core/platform/cpu_feature_guard.cc:182] This TensorFlow binary is optimized to use available CPU instructions in performance-critical operations.\n",
      "To enable the following instructions: AVX2 AVX_VNNI FMA, in other operations, rebuild TensorFlow with the appropriate compiler flags.\n",
      "2024-02-25 18:45:26.893304: W tensorflow/compiler/tf2tensorrt/utils/py_utils.cc:38] TF-TRT Warning: Could not find TensorRT\n"
     ]
    }
   ],
   "source": [
    "import os\n",
    "import numpy as np\n",
    "from sklearn.model_selection import train_test_split\n",
    "from keras.preprocessing.image import ImageDataGenerator\n",
    "# from keras.applications import ResNet18\n",
    "from keras.models import Sequential\n",
    "from keras.layers import Dense, Flatten, Dropout\n",
    "from keras.optimizers import Adam"
   ]
  },
  {
   "cell_type": "code",
   "execution_count": 3,
   "id": "85b95e1d",
   "metadata": {},
   "outputs": [],
   "source": [
    "from keras.applications import ResNet50"
   ]
  },
  {
   "cell_type": "code",
   "execution_count": 4,
   "id": "01541078",
   "metadata": {},
   "outputs": [],
   "source": [
    "dataset_dir = \"../dataset_output/google_asl/imgs/\""
   ]
  },
  {
   "cell_type": "code",
   "execution_count": 5,
   "id": "50bc5196",
   "metadata": {},
   "outputs": [],
   "source": [
    "img_size = (224, 224)\n",
    "batch_size = 64"
   ]
  },
  {
   "cell_type": "code",
   "execution_count": 6,
   "id": "ded43a51",
   "metadata": {},
   "outputs": [],
   "source": [
    "datagen = ImageDataGenerator(\n",
    "    rescale=1./255,\n",
    "    validation_split=0.3,  # Splitting data into train and validation\n",
    ")"
   ]
  },
  {
   "cell_type": "code",
   "execution_count": 7,
   "id": "5021bb62",
   "metadata": {},
   "outputs": [
    {
     "name": "stdout",
     "output_type": "stream",
     "text": [
      "Found 18511 images belonging to 70 classes.\n"
     ]
    }
   ],
   "source": [
    "train_generator = datagen.flow_from_directory(\n",
    "    dataset_dir,\n",
    "    target_size=img_size,\n",
    "    batch_size=batch_size,\n",
    "    class_mode='categorical',\n",
    "    subset='training'  # Training data subset\n",
    ")"
   ]
  },
  {
   "cell_type": "code",
   "execution_count": 8,
   "id": "15e35b47",
   "metadata": {},
   "outputs": [
    {
     "name": "stdout",
     "output_type": "stream",
     "text": [
      "Found 7892 images belonging to 70 classes.\n"
     ]
    }
   ],
   "source": [
    "validation_generator = datagen.flow_from_directory(\n",
    "    dataset_dir,\n",
    "    target_size=img_size,\n",
    "    batch_size=batch_size,\n",
    "    class_mode='categorical',\n",
    "    subset='validation'  # Validation data subset\n",
    ")"
   ]
  },
  {
   "cell_type": "code",
   "execution_count": 9,
   "id": "a802be9d",
   "metadata": {},
   "outputs": [
    {
     "name": "stderr",
     "output_type": "stream",
     "text": [
      "2024-02-25 18:45:34.176571: I tensorflow/compiler/xla/stream_executor/cuda/cuda_gpu_executor.cc:981] could not open file to read NUMA node: /sys/bus/pci/devices/0000:01:00.0/numa_node\n",
      "Your kernel may have been built without NUMA support.\n",
      "2024-02-25 18:45:34.194017: I tensorflow/compiler/xla/stream_executor/cuda/cuda_gpu_executor.cc:981] could not open file to read NUMA node: /sys/bus/pci/devices/0000:01:00.0/numa_node\n",
      "Your kernel may have been built without NUMA support.\n",
      "2024-02-25 18:45:34.194180: I tensorflow/compiler/xla/stream_executor/cuda/cuda_gpu_executor.cc:981] could not open file to read NUMA node: /sys/bus/pci/devices/0000:01:00.0/numa_node\n",
      "Your kernel may have been built without NUMA support.\n",
      "2024-02-25 18:45:34.196244: I tensorflow/compiler/xla/stream_executor/cuda/cuda_gpu_executor.cc:981] could not open file to read NUMA node: /sys/bus/pci/devices/0000:01:00.0/numa_node\n",
      "Your kernel may have been built without NUMA support.\n",
      "2024-02-25 18:45:34.196378: I tensorflow/compiler/xla/stream_executor/cuda/cuda_gpu_executor.cc:981] could not open file to read NUMA node: /sys/bus/pci/devices/0000:01:00.0/numa_node\n",
      "Your kernel may have been built without NUMA support.\n",
      "2024-02-25 18:45:34.196524: I tensorflow/compiler/xla/stream_executor/cuda/cuda_gpu_executor.cc:981] could not open file to read NUMA node: /sys/bus/pci/devices/0000:01:00.0/numa_node\n",
      "Your kernel may have been built without NUMA support.\n",
      "2024-02-25 18:45:34.315031: I tensorflow/compiler/xla/stream_executor/cuda/cuda_gpu_executor.cc:981] could not open file to read NUMA node: /sys/bus/pci/devices/0000:01:00.0/numa_node\n",
      "Your kernel may have been built without NUMA support.\n",
      "2024-02-25 18:45:34.315159: I tensorflow/compiler/xla/stream_executor/cuda/cuda_gpu_executor.cc:981] could not open file to read NUMA node: /sys/bus/pci/devices/0000:01:00.0/numa_node\n",
      "Your kernel may have been built without NUMA support.\n",
      "2024-02-25 18:45:34.315166: I tensorflow/core/common_runtime/gpu/gpu_device.cc:1726] Could not identify NUMA node of platform GPU id 0, defaulting to 0.  Your kernel may not have been built with NUMA support.\n",
      "2024-02-25 18:45:34.315266: I tensorflow/compiler/xla/stream_executor/cuda/cuda_gpu_executor.cc:981] could not open file to read NUMA node: /sys/bus/pci/devices/0000:01:00.0/numa_node\n",
      "Your kernel may have been built without NUMA support.\n",
      "2024-02-25 18:45:34.315288: I tensorflow/core/common_runtime/gpu/gpu_device.cc:1639] Created device /job:localhost/replica:0/task:0/device:GPU:0 with 9572 MB memory:  -> device: 0, name: NVIDIA GeForce RTX 4070, pci bus id: 0000:01:00.0, compute capability: 8.9\n"
     ]
    }
   ],
   "source": [
    "resnet = ResNet50(weights='imagenet', include_top=False, input_shape=(img_size[0], img_size[1], 3))"
   ]
  },
  {
   "cell_type": "code",
   "execution_count": 10,
   "id": "2ef206e5",
   "metadata": {},
   "outputs": [],
   "source": [
    "# Freeze the convolutional base\n",
    "for layer in resnet.layers:\n",
    "    layer.trainable = False"
   ]
  },
  {
   "cell_type": "code",
   "execution_count": 11,
   "id": "ec776334",
   "metadata": {},
   "outputs": [],
   "source": [
    "model = Sequential([\n",
    "    resnet,\n",
    "    Flatten(),\n",
    "    Dense(256, activation='relu'),\n",
    "    Dropout(0.5),\n",
    "    Dense(70, activation='softmax')  # 70 output classes\n",
    "])"
   ]
  },
  {
   "cell_type": "code",
   "execution_count": 12,
   "id": "b689ea09",
   "metadata": {},
   "outputs": [],
   "source": [
    "model.compile(optimizer=Adam(),\n",
    "              loss='categorical_crossentropy',\n",
    "              metrics=['accuracy'])"
   ]
  },
  {
   "cell_type": "code",
   "execution_count": 13,
   "id": "2239f212",
   "metadata": {},
   "outputs": [
    {
     "name": "stdout",
     "output_type": "stream",
     "text": [
      "Epoch 1/100\n"
     ]
    },
    {
     "name": "stderr",
     "output_type": "stream",
     "text": [
      "2024-02-25 18:45:41.332266: I tensorflow/compiler/xla/stream_executor/cuda/cuda_dnn.cc:432] Loaded cuDNN version 8600\n",
      "2024-02-25 18:45:41.441266: I tensorflow/tsl/platform/default/subprocess.cc:304] Start cannot spawn child process: Permission denied\n",
      "2024-02-25 18:45:41.807729: I tensorflow/compiler/xla/stream_executor/cuda/cuda_blas.cc:606] TensorFloat-32 will be used for the matrix multiplication. This will only be logged once.\n",
      "2024-02-25 18:45:42.489624: I tensorflow/compiler/xla/service/service.cc:168] XLA service 0x88f30d0 initialized for platform CUDA (this does not guarantee that XLA will be used). Devices:\n",
      "2024-02-25 18:45:42.489654: I tensorflow/compiler/xla/service/service.cc:176]   StreamExecutor device (0): NVIDIA GeForce RTX 4070, Compute Capability 8.9\n",
      "2024-02-25 18:45:42.493055: I tensorflow/compiler/mlir/tensorflow/utils/dump_mlir_util.cc:255] disabling MLIR crash reproducer, set env var `MLIR_CRASH_REPRODUCER_DIRECTORY` to enable.\n",
      "2024-02-25 18:45:42.569133: I tensorflow/tsl/platform/default/subprocess.cc:304] Start cannot spawn child process: Permission denied\n",
      "2024-02-25 18:45:42.600376: I ./tensorflow/compiler/jit/device_compiler.h:186] Compiled cluster using XLA!  This line is logged at most once for the lifetime of the process.\n"
     ]
    },
    {
     "name": "stdout",
     "output_type": "stream",
     "text": [
      "289/289 [==============================] - 75s 250ms/step - loss: 4.3862 - accuracy: 0.0141 - val_loss: 4.2479 - val_accuracy: 0.0158\n",
      "Epoch 2/100\n",
      "289/289 [==============================] - 72s 249ms/step - loss: 4.2500 - accuracy: 0.0145 - val_loss: 4.2475 - val_accuracy: 0.0158\n",
      "Epoch 3/100\n",
      "289/289 [==============================] - 70s 243ms/step - loss: 4.2478 - accuracy: 0.0152 - val_loss: 4.2472 - val_accuracy: 0.0158\n",
      "Epoch 4/100\n",
      "289/289 [==============================] - 71s 245ms/step - loss: 4.2476 - accuracy: 0.0154 - val_loss: 4.2471 - val_accuracy: 0.0158\n",
      "Epoch 5/100\n",
      "289/289 [==============================] - 76s 265ms/step - loss: 4.2476 - accuracy: 0.0142 - val_loss: 4.2471 - val_accuracy: 0.0155\n",
      "Epoch 6/100\n",
      "289/289 [==============================] - 74s 256ms/step - loss: 4.2475 - accuracy: 0.0157 - val_loss: 4.2470 - val_accuracy: 0.0158\n",
      "Epoch 7/100\n",
      "289/289 [==============================] - 70s 243ms/step - loss: 4.2474 - accuracy: 0.0150 - val_loss: 4.2470 - val_accuracy: 0.0158\n",
      "Epoch 8/100\n",
      "289/289 [==============================] - 75s 260ms/step - loss: 4.2474 - accuracy: 0.0154 - val_loss: 4.2470 - val_accuracy: 0.0155\n",
      "Epoch 9/100\n",
      "289/289 [==============================] - 72s 248ms/step - loss: 4.2474 - accuracy: 0.0156 - val_loss: 4.2470 - val_accuracy: 0.0158\n",
      "Epoch 10/100\n",
      "289/289 [==============================] - 71s 247ms/step - loss: 4.2474 - accuracy: 0.0157 - val_loss: 4.2470 - val_accuracy: 0.0158\n",
      "Epoch 11/100\n",
      "289/289 [==============================] - 70s 241ms/step - loss: 4.2474 - accuracy: 0.0149 - val_loss: 4.2470 - val_accuracy: 0.0158\n",
      "Epoch 12/100\n",
      "289/289 [==============================] - 73s 251ms/step - loss: 4.2474 - accuracy: 0.0157 - val_loss: 4.2469 - val_accuracy: 0.0156\n",
      "Epoch 13/100\n",
      "289/289 [==============================] - 70s 243ms/step - loss: 4.2474 - accuracy: 0.0151 - val_loss: 4.2470 - val_accuracy: 0.0158\n",
      "Epoch 14/100\n",
      "289/289 [==============================] - 71s 246ms/step - loss: 4.2474 - accuracy: 0.0157 - val_loss: 4.2470 - val_accuracy: 0.0158\n",
      "Epoch 15/100\n",
      "289/289 [==============================] - 72s 250ms/step - loss: 4.2474 - accuracy: 0.0157 - val_loss: 4.2470 - val_accuracy: 0.0158\n",
      "Epoch 16/100\n",
      "289/289 [==============================] - 70s 241ms/step - loss: 4.2474 - accuracy: 0.0156 - val_loss: 4.2470 - val_accuracy: 0.0156\n",
      "Epoch 17/100\n",
      "289/289 [==============================] - 69s 239ms/step - loss: 4.2475 - accuracy: 0.0147 - val_loss: 4.2469 - val_accuracy: 0.0156\n",
      "Epoch 18/100\n",
      "289/289 [==============================] - 70s 243ms/step - loss: 4.2474 - accuracy: 0.0156 - val_loss: 4.2470 - val_accuracy: 0.0158\n",
      "Epoch 19/100\n",
      "289/289 [==============================] - 69s 238ms/step - loss: 4.2475 - accuracy: 0.0153 - val_loss: 4.2469 - val_accuracy: 0.0158\n",
      "Epoch 20/100\n",
      "289/289 [==============================] - 68s 236ms/step - loss: 4.2474 - accuracy: 0.0155 - val_loss: 4.2470 - val_accuracy: 0.0158\n",
      "Epoch 21/100\n",
      "289/289 [==============================] - 70s 242ms/step - loss: 4.2474 - accuracy: 0.0157 - val_loss: 4.2469 - val_accuracy: 0.0158\n",
      "Epoch 22/100\n",
      "289/289 [==============================] - 71s 245ms/step - loss: 4.2474 - accuracy: 0.0157 - val_loss: 4.2470 - val_accuracy: 0.0158\n",
      "Epoch 23/100\n",
      "289/289 [==============================] - 68s 236ms/step - loss: 4.2474 - accuracy: 0.0153 - val_loss: 4.2470 - val_accuracy: 0.0158\n",
      "Epoch 24/100\n",
      "289/289 [==============================] - 69s 239ms/step - loss: 4.2474 - accuracy: 0.0149 - val_loss: 4.2469 - val_accuracy: 0.0158\n",
      "Epoch 25/100\n",
      "289/289 [==============================] - 71s 246ms/step - loss: 4.2474 - accuracy: 0.0138 - val_loss: 4.2470 - val_accuracy: 0.0158\n",
      "Epoch 26/100\n",
      "289/289 [==============================] - 71s 245ms/step - loss: 4.2474 - accuracy: 0.0150 - val_loss: 4.2470 - val_accuracy: 0.0156\n",
      "Epoch 27/100\n",
      "289/289 [==============================] - 70s 243ms/step - loss: 4.2474 - accuracy: 0.0146 - val_loss: 4.2469 - val_accuracy: 0.0156\n",
      "Epoch 28/100\n",
      "289/289 [==============================] - 68s 236ms/step - loss: 4.2474 - accuracy: 0.0151 - val_loss: 4.2469 - val_accuracy: 0.0158\n",
      "Epoch 29/100\n",
      "289/289 [==============================] - 69s 237ms/step - loss: 4.2474 - accuracy: 0.0150 - val_loss: 4.2469 - val_accuracy: 0.0156\n",
      "Epoch 30/100\n",
      "289/289 [==============================] - 69s 239ms/step - loss: 4.2474 - accuracy: 0.0149 - val_loss: 4.2468 - val_accuracy: 0.0158\n",
      "Epoch 31/100\n",
      "289/289 [==============================] - 70s 243ms/step - loss: 4.2474 - accuracy: 0.0145 - val_loss: 4.2469 - val_accuracy: 0.0158\n",
      "Epoch 32/100\n",
      "289/289 [==============================] - 72s 250ms/step - loss: 4.2474 - accuracy: 0.0151 - val_loss: 4.2469 - val_accuracy: 0.0158\n",
      "Epoch 33/100\n",
      "289/289 [==============================] - 68s 237ms/step - loss: 4.2474 - accuracy: 0.0136 - val_loss: 4.2469 - val_accuracy: 0.0158\n",
      "Epoch 34/100\n",
      "289/289 [==============================] - 68s 236ms/step - loss: 4.2474 - accuracy: 0.0153 - val_loss: 4.2469 - val_accuracy: 0.0156\n",
      "Epoch 35/100\n",
      "289/289 [==============================] - 69s 239ms/step - loss: 4.2474 - accuracy: 0.0156 - val_loss: 4.2469 - val_accuracy: 0.0158\n",
      "Epoch 36/100\n",
      "289/289 [==============================] - 69s 240ms/step - loss: 4.2473 - accuracy: 0.0149 - val_loss: 4.2469 - val_accuracy: 0.0155\n",
      "Epoch 37/100\n",
      "289/289 [==============================] - 71s 244ms/step - loss: 4.2474 - accuracy: 0.0150 - val_loss: 4.2469 - val_accuracy: 0.0158\n",
      "Epoch 38/100\n",
      "289/289 [==============================] - 68s 237ms/step - loss: 4.2473 - accuracy: 0.0147 - val_loss: 4.2469 - val_accuracy: 0.0158\n",
      "Epoch 39/100\n",
      "289/289 [==============================] - 69s 237ms/step - loss: 4.2474 - accuracy: 0.0150 - val_loss: 4.2469 - val_accuracy: 0.0158\n",
      "Epoch 40/100\n",
      "289/289 [==============================] - 68s 236ms/step - loss: 4.2474 - accuracy: 0.0157 - val_loss: 4.2470 - val_accuracy: 0.0158\n",
      "Epoch 41/100\n",
      "289/289 [==============================] - 70s 243ms/step - loss: 4.2474 - accuracy: 0.0157 - val_loss: 4.2469 - val_accuracy: 0.0158\n",
      "Epoch 42/100\n",
      "289/289 [==============================] - 70s 241ms/step - loss: 4.2474 - accuracy: 0.0143 - val_loss: 4.2470 - val_accuracy: 0.0158\n",
      "Epoch 43/100\n",
      "289/289 [==============================] - 70s 242ms/step - loss: 4.2474 - accuracy: 0.0154 - val_loss: 4.2469 - val_accuracy: 0.0158\n",
      "Epoch 44/100\n",
      "289/289 [==============================] - 68s 235ms/step - loss: 4.2475 - accuracy: 0.0157 - val_loss: 4.2469 - val_accuracy: 0.0158\n",
      "Epoch 45/100\n",
      "289/289 [==============================] - 68s 237ms/step - loss: 4.2474 - accuracy: 0.0157 - val_loss: 4.2469 - val_accuracy: 0.0158\n",
      "Epoch 46/100\n",
      "289/289 [==============================] - 71s 245ms/step - loss: 4.2474 - accuracy: 0.0149 - val_loss: 4.2469 - val_accuracy: 0.0158\n",
      "Epoch 47/100\n",
      "289/289 [==============================] - 70s 242ms/step - loss: 4.2474 - accuracy: 0.0157 - val_loss: 4.2470 - val_accuracy: 0.0158\n",
      "Epoch 48/100\n",
      "289/289 [==============================] - 72s 250ms/step - loss: 4.2474 - accuracy: 0.0149 - val_loss: 4.2469 - val_accuracy: 0.0158\n",
      "Epoch 49/100\n",
      "289/289 [==============================] - 73s 253ms/step - loss: 4.2474 - accuracy: 0.0151 - val_loss: 4.2469 - val_accuracy: 0.0158\n",
      "Epoch 50/100\n",
      "289/289 [==============================] - 72s 249ms/step - loss: 4.2473 - accuracy: 0.0157 - val_loss: 4.2470 - val_accuracy: 0.0158\n",
      "Epoch 51/100\n",
      "289/289 [==============================] - 70s 242ms/step - loss: 4.2474 - accuracy: 0.0157 - val_loss: 4.2470 - val_accuracy: 0.0156\n",
      "Epoch 52/100\n",
      "289/289 [==============================] - 69s 239ms/step - loss: 4.2474 - accuracy: 0.0154 - val_loss: 4.2470 - val_accuracy: 0.0156\n",
      "Epoch 53/100\n",
      "289/289 [==============================] - 69s 239ms/step - loss: 4.2474 - accuracy: 0.0153 - val_loss: 4.2469 - val_accuracy: 0.0158\n",
      "Epoch 54/100\n",
      "289/289 [==============================] - 69s 239ms/step - loss: 4.2474 - accuracy: 0.0157 - val_loss: 4.2470 - val_accuracy: 0.0156\n",
      "Epoch 55/100\n",
      "289/289 [==============================] - 68s 237ms/step - loss: 4.2474 - accuracy: 0.0146 - val_loss: 4.2469 - val_accuracy: 0.0158\n",
      "Epoch 56/100\n",
      "289/289 [==============================] - 71s 246ms/step - loss: 4.2474 - accuracy: 0.0157 - val_loss: 4.2470 - val_accuracy: 0.0158\n"
     ]
    },
    {
     "name": "stdout",
     "output_type": "stream",
     "text": [
      "Epoch 57/100\n",
      "289/289 [==============================] - 72s 250ms/step - loss: 4.2474 - accuracy: 0.0157 - val_loss: 4.2469 - val_accuracy: 0.0158\n",
      "Epoch 58/100\n",
      "289/289 [==============================] - 72s 250ms/step - loss: 4.2474 - accuracy: 0.0152 - val_loss: 4.2470 - val_accuracy: 0.0158\n",
      "Epoch 59/100\n",
      "289/289 [==============================] - 69s 240ms/step - loss: 4.2474 - accuracy: 0.0153 - val_loss: 4.2469 - val_accuracy: 0.0158\n",
      "Epoch 60/100\n",
      "289/289 [==============================] - 71s 245ms/step - loss: 4.2474 - accuracy: 0.0149 - val_loss: 4.2470 - val_accuracy: 0.0156\n",
      "Epoch 61/100\n",
      "289/289 [==============================] - 71s 245ms/step - loss: 4.2474 - accuracy: 0.0153 - val_loss: 4.2470 - val_accuracy: 0.0158\n",
      "Epoch 62/100\n",
      "289/289 [==============================] - 76s 262ms/step - loss: 4.2474 - accuracy: 0.0157 - val_loss: 4.2470 - val_accuracy: 0.0158\n",
      "Epoch 63/100\n",
      "289/289 [==============================] - 72s 248ms/step - loss: 4.2474 - accuracy: 0.0154 - val_loss: 4.2469 - val_accuracy: 0.0158\n",
      "Epoch 64/100\n",
      "289/289 [==============================] - 70s 244ms/step - loss: 4.2474 - accuracy: 0.0151 - val_loss: 4.2469 - val_accuracy: 0.0158\n",
      "Epoch 65/100\n",
      "289/289 [==============================] - 69s 239ms/step - loss: 4.2474 - accuracy: 0.0157 - val_loss: 4.2469 - val_accuracy: 0.0158\n",
      "Epoch 66/100\n",
      "289/289 [==============================] - 69s 239ms/step - loss: 4.2474 - accuracy: 0.0149 - val_loss: 4.2469 - val_accuracy: 0.0156\n",
      "Epoch 67/100\n",
      "289/289 [==============================] - 70s 242ms/step - loss: 4.2474 - accuracy: 0.0157 - val_loss: 4.2470 - val_accuracy: 0.0158\n",
      "Epoch 68/100\n",
      "289/289 [==============================] - 69s 239ms/step - loss: 4.2475 - accuracy: 0.0151 - val_loss: 4.2470 - val_accuracy: 0.0158\n",
      "Epoch 69/100\n",
      "289/289 [==============================] - 69s 238ms/step - loss: 4.2474 - accuracy: 0.0151 - val_loss: 4.2469 - val_accuracy: 0.0158\n",
      "Epoch 70/100\n",
      "289/289 [==============================] - 70s 243ms/step - loss: 4.2474 - accuracy: 0.0152 - val_loss: 4.2469 - val_accuracy: 0.0155\n",
      "Epoch 71/100\n",
      "289/289 [==============================] - 69s 239ms/step - loss: 4.2474 - accuracy: 0.0156 - val_loss: 4.2469 - val_accuracy: 0.0158\n",
      "Epoch 72/100\n",
      "289/289 [==============================] - 71s 244ms/step - loss: 4.2474 - accuracy: 0.0153 - val_loss: 4.2469 - val_accuracy: 0.0156\n",
      "Epoch 73/100\n",
      "289/289 [==============================] - 72s 250ms/step - loss: 4.2474 - accuracy: 0.0156 - val_loss: 4.2470 - val_accuracy: 0.0158\n",
      "Epoch 74/100\n",
      "289/289 [==============================] - 71s 247ms/step - loss: 4.2474 - accuracy: 0.0157 - val_loss: 4.2469 - val_accuracy: 0.0156\n",
      "Epoch 75/100\n",
      "289/289 [==============================] - 69s 240ms/step - loss: 4.2474 - accuracy: 0.0157 - val_loss: 4.2470 - val_accuracy: 0.0158\n",
      "Epoch 76/100\n",
      "289/289 [==============================] - 72s 250ms/step - loss: 4.2473 - accuracy: 0.0149 - val_loss: 4.2470 - val_accuracy: 0.0158\n",
      "Epoch 77/100\n",
      "289/289 [==============================] - 96s 333ms/step - loss: 4.2474 - accuracy: 0.0157 - val_loss: 4.2470 - val_accuracy: 0.0158\n",
      "Epoch 78/100\n",
      "289/289 [==============================] - 102s 354ms/step - loss: 4.2474 - accuracy: 0.0154 - val_loss: 4.2470 - val_accuracy: 0.0158\n",
      "Epoch 79/100\n",
      "289/289 [==============================] - 67s 232ms/step - loss: 4.2474 - accuracy: 0.0148 - val_loss: 4.2469 - val_accuracy: 0.0158\n",
      "Epoch 80/100\n",
      "289/289 [==============================] - 67s 231ms/step - loss: 4.2475 - accuracy: 0.0154 - val_loss: 4.2469 - val_accuracy: 0.0158\n",
      "Epoch 81/100\n",
      "289/289 [==============================] - 69s 237ms/step - loss: 4.2474 - accuracy: 0.0152 - val_loss: 4.2470 - val_accuracy: 0.0156\n",
      "Epoch 82/100\n",
      "289/289 [==============================] - 68s 234ms/step - loss: 4.2474 - accuracy: 0.0146 - val_loss: 4.2469 - val_accuracy: 0.0158\n",
      "Epoch 83/100\n",
      "289/289 [==============================] - 68s 237ms/step - loss: 4.2474 - accuracy: 0.0149 - val_loss: 4.2470 - val_accuracy: 0.0156\n",
      "Epoch 84/100\n",
      "289/289 [==============================] - 67s 233ms/step - loss: 4.2474 - accuracy: 0.0148 - val_loss: 4.2469 - val_accuracy: 0.0158\n",
      "Epoch 85/100\n",
      "289/289 [==============================] - 67s 233ms/step - loss: 4.2474 - accuracy: 0.0149 - val_loss: 4.2470 - val_accuracy: 0.0158\n",
      "Epoch 86/100\n",
      "289/289 [==============================] - 67s 233ms/step - loss: 4.2474 - accuracy: 0.0150 - val_loss: 4.2470 - val_accuracy: 0.0158\n",
      "Epoch 87/100\n",
      "289/289 [==============================] - 68s 234ms/step - loss: 4.2474 - accuracy: 0.0156 - val_loss: 4.2469 - val_accuracy: 0.0158\n",
      "Epoch 88/100\n",
      "289/289 [==============================] - 68s 235ms/step - loss: 4.2475 - accuracy: 0.0156 - val_loss: 4.2470 - val_accuracy: 0.0158\n",
      "Epoch 89/100\n",
      "289/289 [==============================] - 66s 230ms/step - loss: 4.2474 - accuracy: 0.0152 - val_loss: 4.2470 - val_accuracy: 0.0158\n",
      "Epoch 90/100\n",
      "289/289 [==============================] - 67s 233ms/step - loss: 4.2474 - accuracy: 0.0150 - val_loss: 4.2470 - val_accuracy: 0.0156\n",
      "Epoch 91/100\n",
      "289/289 [==============================] - 67s 233ms/step - loss: 4.2474 - accuracy: 0.0157 - val_loss: 4.2469 - val_accuracy: 0.0158\n",
      "Epoch 92/100\n",
      "289/289 [==============================] - 68s 234ms/step - loss: 4.2474 - accuracy: 0.0146 - val_loss: 4.2470 - val_accuracy: 0.0156\n",
      "Epoch 93/100\n",
      "289/289 [==============================] - 68s 236ms/step - loss: 4.2474 - accuracy: 0.0153 - val_loss: 4.2470 - val_accuracy: 0.0158\n",
      "Epoch 94/100\n",
      "289/289 [==============================] - 66s 229ms/step - loss: 4.2474 - accuracy: 0.0153 - val_loss: 4.2470 - val_accuracy: 0.0158\n",
      "Epoch 95/100\n",
      "289/289 [==============================] - 67s 233ms/step - loss: 4.2474 - accuracy: 0.0152 - val_loss: 4.2469 - val_accuracy: 0.0158\n",
      "Epoch 96/100\n",
      "289/289 [==============================] - 67s 231ms/step - loss: 4.2475 - accuracy: 0.0156 - val_loss: 4.2469 - val_accuracy: 0.0158\n",
      "Epoch 97/100\n",
      "289/289 [==============================] - 68s 235ms/step - loss: 4.2474 - accuracy: 0.0156 - val_loss: 4.2470 - val_accuracy: 0.0158\n",
      "Epoch 98/100\n",
      "289/289 [==============================] - 68s 237ms/step - loss: 4.2474 - accuracy: 0.0151 - val_loss: 4.2470 - val_accuracy: 0.0158\n",
      "Epoch 99/100\n",
      "289/289 [==============================] - 67s 233ms/step - loss: 4.2474 - accuracy: 0.0151 - val_loss: 4.2469 - val_accuracy: 0.0158\n",
      "Epoch 100/100\n",
      "289/289 [==============================] - 67s 231ms/step - loss: 4.2474 - accuracy: 0.0157 - val_loss: 4.2469 - val_accuracy: 0.0158\n"
     ]
    }
   ],
   "source": [
    "history = model.fit(\n",
    "    train_generator,\n",
    "    steps_per_epoch=train_generator.samples // batch_size,\n",
    "    epochs=100,\n",
    "    validation_data=validation_generator,\n",
    "    validation_steps=validation_generator.samples // batch_size\n",
    ")"
   ]
  },
  {
   "cell_type": "code",
   "execution_count": 1,
   "id": "be0e0918",
   "metadata": {},
   "outputs": [
    {
     "data": {
      "text/plain": [
       "0"
      ]
     },
     "execution_count": 1,
     "metadata": {},
     "output_type": "execute_result"
    }
   ],
   "source": [
    "0"
   ]
  }
 ],
 "metadata": {
  "kernelspec": {
   "display_name": "Python 3 (ipykernel)",
   "language": "python",
   "name": "python3"
  },
  "language_info": {
   "codemirror_mode": {
    "name": "ipython",
    "version": 3
   },
   "file_extension": ".py",
   "mimetype": "text/x-python",
   "name": "python",
   "nbconvert_exporter": "python",
   "pygments_lexer": "ipython3",
   "version": "3.9.16"
  }
 },
 "nbformat": 4,
 "nbformat_minor": 5
}
