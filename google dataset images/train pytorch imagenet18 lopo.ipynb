{
 "cells": [
  {
   "cell_type": "code",
   "execution_count": 1,
   "id": "0dddc785",
   "metadata": {},
   "outputs": [],
   "source": [
    "%load_ext autoreload\n",
    "%autoreload 2"
   ]
  },
  {
   "cell_type": "code",
   "execution_count": 316,
   "id": "8368cec1",
   "metadata": {},
   "outputs": [],
   "source": [
    "import torch\n",
    "import torchvision\n",
    "from torchvision import transforms, datasets\n",
    "import torch.nn as nn\n",
    "import torch.optim as optim\n",
    "from torch.utils.data import DataLoader, random_split\n",
    "from torchvision.models import resnet18\n",
    "from sklearn.metrics import confusion_matrix, f1_score, precision_score, recall_score\n",
    "import seaborn as sns\n",
    "import os\n",
    "import pandas as pd\n",
    "from datetime importa datetime\n",
    "from matplotlib import pyplot as plt\n",
    "from lopo_dataset import LopoDataset"
   ]
  },
  {
   "cell_type": "code",
   "execution_count": 3,
   "id": "6637829c",
   "metadata": {},
   "outputs": [],
   "source": [
    "df = pd.read_csv(\"../dataset_output/libras_minds/libras_minds_openpose_80_frames.csv\")"
   ]
  },
  {
   "cell_type": "code",
   "execution_count": 4,
   "id": "9bd1cb9f",
   "metadata": {},
   "outputs": [
    {
     "data": {
      "text/html": [
       "<div>\n",
       "<style scoped>\n",
       "    .dataframe tbody tr th:only-of-type {\n",
       "        vertical-align: middle;\n",
       "    }\n",
       "\n",
       "    .dataframe tbody tr th {\n",
       "        vertical-align: top;\n",
       "    }\n",
       "\n",
       "    .dataframe thead th {\n",
       "        text-align: right;\n",
       "    }\n",
       "</style>\n",
       "<table border=\"1\" class=\"dataframe\">\n",
       "  <thead>\n",
       "    <tr style=\"text-align: right;\">\n",
       "      <th></th>\n",
       "      <th>Unnamed: 0.1</th>\n",
       "      <th>Unnamed: 0</th>\n",
       "      <th>category</th>\n",
       "      <th>video_name</th>\n",
       "      <th>frame</th>\n",
       "      <th>hand_0_0_x</th>\n",
       "      <th>hand_0_0_y</th>\n",
       "      <th>hand_0_0_z</th>\n",
       "      <th>hand_0_1_x</th>\n",
       "      <th>hand_0_1_y</th>\n",
       "      <th>...</th>\n",
       "      <th>pose_22_y</th>\n",
       "      <th>pose_22_z</th>\n",
       "      <th>pose_23_x</th>\n",
       "      <th>pose_23_y</th>\n",
       "      <th>pose_23_z</th>\n",
       "      <th>pose_24_x</th>\n",
       "      <th>pose_24_y</th>\n",
       "      <th>pose_24_z</th>\n",
       "      <th>missing_hand</th>\n",
       "      <th>missing_face</th>\n",
       "    </tr>\n",
       "  </thead>\n",
       "  <tbody>\n",
       "    <tr>\n",
       "      <th>0</th>\n",
       "      <td>1</td>\n",
       "      <td>1</td>\n",
       "      <td>Acontecer</td>\n",
       "      <td>01AcontecerSinalizador01-1.mp4</td>\n",
       "      <td>1</td>\n",
       "      <td>0.000000</td>\n",
       "      <td>0.000000</td>\n",
       "      <td>0.000000</td>\n",
       "      <td>0.000000</td>\n",
       "      <td>0.000000</td>\n",
       "      <td>...</td>\n",
       "      <td>0.0</td>\n",
       "      <td>0.0</td>\n",
       "      <td>0.0</td>\n",
       "      <td>0.0</td>\n",
       "      <td>0.0</td>\n",
       "      <td>0.0</td>\n",
       "      <td>0.0</td>\n",
       "      <td>0.0</td>\n",
       "      <td>False</td>\n",
       "      <td>False</td>\n",
       "    </tr>\n",
       "    <tr>\n",
       "      <th>1</th>\n",
       "      <td>2</td>\n",
       "      <td>2</td>\n",
       "      <td>Acontecer</td>\n",
       "      <td>01AcontecerSinalizador01-1.mp4</td>\n",
       "      <td>2</td>\n",
       "      <td>0.000000</td>\n",
       "      <td>0.000000</td>\n",
       "      <td>0.000000</td>\n",
       "      <td>0.000000</td>\n",
       "      <td>0.000000</td>\n",
       "      <td>...</td>\n",
       "      <td>0.0</td>\n",
       "      <td>0.0</td>\n",
       "      <td>0.0</td>\n",
       "      <td>0.0</td>\n",
       "      <td>0.0</td>\n",
       "      <td>0.0</td>\n",
       "      <td>0.0</td>\n",
       "      <td>0.0</td>\n",
       "      <td>False</td>\n",
       "      <td>False</td>\n",
       "    </tr>\n",
       "    <tr>\n",
       "      <th>2</th>\n",
       "      <td>3</td>\n",
       "      <td>3</td>\n",
       "      <td>Acontecer</td>\n",
       "      <td>01AcontecerSinalizador01-1.mp4</td>\n",
       "      <td>3</td>\n",
       "      <td>0.000000</td>\n",
       "      <td>0.000000</td>\n",
       "      <td>0.000000</td>\n",
       "      <td>0.000000</td>\n",
       "      <td>0.000000</td>\n",
       "      <td>...</td>\n",
       "      <td>0.0</td>\n",
       "      <td>0.0</td>\n",
       "      <td>0.0</td>\n",
       "      <td>0.0</td>\n",
       "      <td>0.0</td>\n",
       "      <td>0.0</td>\n",
       "      <td>0.0</td>\n",
       "      <td>0.0</td>\n",
       "      <td>True</td>\n",
       "      <td>False</td>\n",
       "    </tr>\n",
       "    <tr>\n",
       "      <th>3</th>\n",
       "      <td>5</td>\n",
       "      <td>5</td>\n",
       "      <td>Acontecer</td>\n",
       "      <td>01AcontecerSinalizador01-1.mp4</td>\n",
       "      <td>5</td>\n",
       "      <td>0.000000</td>\n",
       "      <td>0.000000</td>\n",
       "      <td>0.000000</td>\n",
       "      <td>0.000000</td>\n",
       "      <td>0.000000</td>\n",
       "      <td>...</td>\n",
       "      <td>0.0</td>\n",
       "      <td>0.0</td>\n",
       "      <td>0.0</td>\n",
       "      <td>0.0</td>\n",
       "      <td>0.0</td>\n",
       "      <td>0.0</td>\n",
       "      <td>0.0</td>\n",
       "      <td>0.0</td>\n",
       "      <td>True</td>\n",
       "      <td>False</td>\n",
       "    </tr>\n",
       "    <tr>\n",
       "      <th>4</th>\n",
       "      <td>6</td>\n",
       "      <td>6</td>\n",
       "      <td>Acontecer</td>\n",
       "      <td>01AcontecerSinalizador01-1.mp4</td>\n",
       "      <td>6</td>\n",
       "      <td>0.000000</td>\n",
       "      <td>0.000000</td>\n",
       "      <td>0.000000</td>\n",
       "      <td>0.000000</td>\n",
       "      <td>0.000000</td>\n",
       "      <td>...</td>\n",
       "      <td>0.0</td>\n",
       "      <td>0.0</td>\n",
       "      <td>0.0</td>\n",
       "      <td>0.0</td>\n",
       "      <td>0.0</td>\n",
       "      <td>0.0</td>\n",
       "      <td>0.0</td>\n",
       "      <td>0.0</td>\n",
       "      <td>True</td>\n",
       "      <td>False</td>\n",
       "    </tr>\n",
       "    <tr>\n",
       "      <th>...</th>\n",
       "      <td>...</td>\n",
       "      <td>...</td>\n",
       "      <td>...</td>\n",
       "      <td>...</td>\n",
       "      <td>...</td>\n",
       "      <td>...</td>\n",
       "      <td>...</td>\n",
       "      <td>...</td>\n",
       "      <td>...</td>\n",
       "      <td>...</td>\n",
       "      <td>...</td>\n",
       "      <td>...</td>\n",
       "      <td>...</td>\n",
       "      <td>...</td>\n",
       "      <td>...</td>\n",
       "      <td>...</td>\n",
       "      <td>...</td>\n",
       "      <td>...</td>\n",
       "      <td>...</td>\n",
       "      <td>...</td>\n",
       "      <td>...</td>\n",
       "    </tr>\n",
       "    <tr>\n",
       "      <th>92635</th>\n",
       "      <td>161434</td>\n",
       "      <td>8670</td>\n",
       "      <td>Vontade</td>\n",
       "      <td>20VontadeSinalizador12-5.mp4</td>\n",
       "      <td>162</td>\n",
       "      <td>0.614689</td>\n",
       "      <td>0.910987</td>\n",
       "      <td>0.588928</td>\n",
       "      <td>0.598457</td>\n",
       "      <td>0.922928</td>\n",
       "      <td>...</td>\n",
       "      <td>0.0</td>\n",
       "      <td>0.0</td>\n",
       "      <td>0.0</td>\n",
       "      <td>0.0</td>\n",
       "      <td>0.0</td>\n",
       "      <td>0.0</td>\n",
       "      <td>0.0</td>\n",
       "      <td>0.0</td>\n",
       "      <td>False</td>\n",
       "      <td>False</td>\n",
       "    </tr>\n",
       "    <tr>\n",
       "      <th>92636</th>\n",
       "      <td>161435</td>\n",
       "      <td>8671</td>\n",
       "      <td>Vontade</td>\n",
       "      <td>20VontadeSinalizador12-5.mp4</td>\n",
       "      <td>163</td>\n",
       "      <td>0.614785</td>\n",
       "      <td>0.908597</td>\n",
       "      <td>0.584819</td>\n",
       "      <td>0.598921</td>\n",
       "      <td>0.922699</td>\n",
       "      <td>...</td>\n",
       "      <td>0.0</td>\n",
       "      <td>0.0</td>\n",
       "      <td>0.0</td>\n",
       "      <td>0.0</td>\n",
       "      <td>0.0</td>\n",
       "      <td>0.0</td>\n",
       "      <td>0.0</td>\n",
       "      <td>0.0</td>\n",
       "      <td>False</td>\n",
       "      <td>False</td>\n",
       "    </tr>\n",
       "    <tr>\n",
       "      <th>92637</th>\n",
       "      <td>161436</td>\n",
       "      <td>8672</td>\n",
       "      <td>Vontade</td>\n",
       "      <td>20VontadeSinalizador12-5.mp4</td>\n",
       "      <td>164</td>\n",
       "      <td>0.614690</td>\n",
       "      <td>0.911093</td>\n",
       "      <td>0.602180</td>\n",
       "      <td>0.598085</td>\n",
       "      <td>0.925853</td>\n",
       "      <td>...</td>\n",
       "      <td>0.0</td>\n",
       "      <td>0.0</td>\n",
       "      <td>0.0</td>\n",
       "      <td>0.0</td>\n",
       "      <td>0.0</td>\n",
       "      <td>0.0</td>\n",
       "      <td>0.0</td>\n",
       "      <td>0.0</td>\n",
       "      <td>False</td>\n",
       "      <td>False</td>\n",
       "    </tr>\n",
       "    <tr>\n",
       "      <th>92638</th>\n",
       "      <td>161437</td>\n",
       "      <td>8673</td>\n",
       "      <td>Vontade</td>\n",
       "      <td>20VontadeSinalizador12-5.mp4</td>\n",
       "      <td>165</td>\n",
       "      <td>0.614768</td>\n",
       "      <td>0.910723</td>\n",
       "      <td>0.575162</td>\n",
       "      <td>0.599248</td>\n",
       "      <td>0.924518</td>\n",
       "      <td>...</td>\n",
       "      <td>0.0</td>\n",
       "      <td>0.0</td>\n",
       "      <td>0.0</td>\n",
       "      <td>0.0</td>\n",
       "      <td>0.0</td>\n",
       "      <td>0.0</td>\n",
       "      <td>0.0</td>\n",
       "      <td>0.0</td>\n",
       "      <td>False</td>\n",
       "      <td>False</td>\n",
       "    </tr>\n",
       "    <tr>\n",
       "      <th>92639</th>\n",
       "      <td>161438</td>\n",
       "      <td>8674</td>\n",
       "      <td>Vontade</td>\n",
       "      <td>20VontadeSinalizador12-5.mp4</td>\n",
       "      <td>166</td>\n",
       "      <td>0.615364</td>\n",
       "      <td>0.908623</td>\n",
       "      <td>0.619772</td>\n",
       "      <td>0.600634</td>\n",
       "      <td>0.920709</td>\n",
       "      <td>...</td>\n",
       "      <td>0.0</td>\n",
       "      <td>0.0</td>\n",
       "      <td>0.0</td>\n",
       "      <td>0.0</td>\n",
       "      <td>0.0</td>\n",
       "      <td>0.0</td>\n",
       "      <td>0.0</td>\n",
       "      <td>0.0</td>\n",
       "      <td>False</td>\n",
       "      <td>False</td>\n",
       "    </tr>\n",
       "  </tbody>\n",
       "</table>\n",
       "<p>92640 rows × 418 columns</p>\n",
       "</div>"
      ],
      "text/plain": [
       "       Unnamed: 0.1  Unnamed: 0   category                      video_name  \\\n",
       "0                 1           1  Acontecer  01AcontecerSinalizador01-1.mp4   \n",
       "1                 2           2  Acontecer  01AcontecerSinalizador01-1.mp4   \n",
       "2                 3           3  Acontecer  01AcontecerSinalizador01-1.mp4   \n",
       "3                 5           5  Acontecer  01AcontecerSinalizador01-1.mp4   \n",
       "4                 6           6  Acontecer  01AcontecerSinalizador01-1.mp4   \n",
       "...             ...         ...        ...                             ...   \n",
       "92635        161434        8670    Vontade    20VontadeSinalizador12-5.mp4   \n",
       "92636        161435        8671    Vontade    20VontadeSinalizador12-5.mp4   \n",
       "92637        161436        8672    Vontade    20VontadeSinalizador12-5.mp4   \n",
       "92638        161437        8673    Vontade    20VontadeSinalizador12-5.mp4   \n",
       "92639        161438        8674    Vontade    20VontadeSinalizador12-5.mp4   \n",
       "\n",
       "       frame  hand_0_0_x  hand_0_0_y  hand_0_0_z  hand_0_1_x  hand_0_1_y  ...  \\\n",
       "0          1    0.000000    0.000000    0.000000    0.000000    0.000000  ...   \n",
       "1          2    0.000000    0.000000    0.000000    0.000000    0.000000  ...   \n",
       "2          3    0.000000    0.000000    0.000000    0.000000    0.000000  ...   \n",
       "3          5    0.000000    0.000000    0.000000    0.000000    0.000000  ...   \n",
       "4          6    0.000000    0.000000    0.000000    0.000000    0.000000  ...   \n",
       "...      ...         ...         ...         ...         ...         ...  ...   \n",
       "92635    162    0.614689    0.910987    0.588928    0.598457    0.922928  ...   \n",
       "92636    163    0.614785    0.908597    0.584819    0.598921    0.922699  ...   \n",
       "92637    164    0.614690    0.911093    0.602180    0.598085    0.925853  ...   \n",
       "92638    165    0.614768    0.910723    0.575162    0.599248    0.924518  ...   \n",
       "92639    166    0.615364    0.908623    0.619772    0.600634    0.920709  ...   \n",
       "\n",
       "       pose_22_y  pose_22_z  pose_23_x  pose_23_y  pose_23_z  pose_24_x  \\\n",
       "0            0.0        0.0        0.0        0.0        0.0        0.0   \n",
       "1            0.0        0.0        0.0        0.0        0.0        0.0   \n",
       "2            0.0        0.0        0.0        0.0        0.0        0.0   \n",
       "3            0.0        0.0        0.0        0.0        0.0        0.0   \n",
       "4            0.0        0.0        0.0        0.0        0.0        0.0   \n",
       "...          ...        ...        ...        ...        ...        ...   \n",
       "92635        0.0        0.0        0.0        0.0        0.0        0.0   \n",
       "92636        0.0        0.0        0.0        0.0        0.0        0.0   \n",
       "92637        0.0        0.0        0.0        0.0        0.0        0.0   \n",
       "92638        0.0        0.0        0.0        0.0        0.0        0.0   \n",
       "92639        0.0        0.0        0.0        0.0        0.0        0.0   \n",
       "\n",
       "       pose_24_y  pose_24_z  missing_hand  missing_face  \n",
       "0            0.0        0.0         False         False  \n",
       "1            0.0        0.0         False         False  \n",
       "2            0.0        0.0          True         False  \n",
       "3            0.0        0.0          True         False  \n",
       "4            0.0        0.0          True         False  \n",
       "...          ...        ...           ...           ...  \n",
       "92635        0.0        0.0         False         False  \n",
       "92636        0.0        0.0         False         False  \n",
       "92637        0.0        0.0         False         False  \n",
       "92638        0.0        0.0         False         False  \n",
       "92639        0.0        0.0         False         False  \n",
       "\n",
       "[92640 rows x 418 columns]"
      ]
     },
     "execution_count": 4,
     "metadata": {},
     "output_type": "execute_result"
    }
   ],
   "source": [
    "df"
   ]
  },
  {
   "cell_type": "code",
   "execution_count": 5,
   "id": "89e6b99f",
   "metadata": {},
   "outputs": [],
   "source": [
    "# Minds only\n",
    "if \"person\" not in df.columns:\n",
    "    import re\n",
    "    df[\"person\"] = df[\"video_name\"].apply(lambda i: int(re.findall(r\".*Sinalizador(\\d+)-.+.mp4\", i)[0]))"
   ]
  },
  {
   "cell_type": "code",
   "execution_count": 6,
   "id": "6ebc9b09",
   "metadata": {},
   "outputs": [],
   "source": [
    "frames = 80\n",
    "people = df[\"person\"].unique()\n",
    "validate_people = people[-1:]\n",
    "test_people = people[-2:-1]\n",
    "train_people = people[:-2]"
   ]
  },
  {
   "cell_type": "code",
   "execution_count": 184,
   "id": "2f7f647a",
   "metadata": {},
   "outputs": [],
   "source": [
    "# dataset_dir = \"../dataset_output/libras_minds/imgs_lopo/train\"\n",
    "train_dir = \"../dataset_output/libras_minds/imgs_lopo/train/\"\n",
    "test_dir = \"../dataset_output/libras_minds/imgs_lopo/test/\"\n",
    "validate_dir = \"../dataset_output/libras_minds/imgs_lopo/validate/\""
   ]
  },
  {
   "cell_type": "code",
   "execution_count": 8,
   "id": "0e610bc7",
   "metadata": {},
   "outputs": [],
   "source": [
    "# Define image transformations\n",
    "transform = transforms.Compose([\n",
    "    transforms.Resize((224, 224)),\n",
    "    transforms.ToTensor(),\n",
    "#     transforms.Normalize(mean=[0.485, 0.456, 0.406], std=[0.229, 0.224, 0.225])\n",
    "])"
   ]
  },
  {
   "cell_type": "code",
   "execution_count": 269,
   "id": "0262ca15",
   "metadata": {},
   "outputs": [
    {
     "name": "stdout",
     "output_type": "stream",
     "text": [
      "Processing train\n",
      "Processing test\n",
      "Processing validate\n",
      "Data loaded\n"
     ]
    }
   ],
   "source": [
    "print(\"Processing train\")\n",
    "train_dataset = LopoDataset(df, frames, transform, person_in=train_people)\n",
    "print(\"Processing test\")\n",
    "test_dataset = LopoDataset(df, frames, transform, augment=False, person_in=test_people)\n",
    "print(\"Processing validate\")\n",
    "validate_dataset = LopoDataset(df, frames, transform, augment=False, person_in=validate_people)\n",
    "print(\"Data loaded\")"
   ]
  },
  {
   "cell_type": "code",
   "execution_count": 126,
   "id": "a4d2a4a3",
   "metadata": {},
   "outputs": [],
   "source": [
    "# Load dataset\n",
    "# train_dataset = datasets.ImageFolder(root=train_dir, transform=transform)\n",
    "# test_dataset = datasets.ImageFolder(root=test_dir, transform=transform)\n",
    "# validate_dataset = datasets.ImageFolder(root=validate_dir, transform=transform)"
   ]
  },
  {
   "cell_type": "code",
   "execution_count": 97,
   "id": "d7056c5f",
   "metadata": {},
   "outputs": [],
   "source": [
    "# # Split dataset into train and test\n",
    "# train_size = int(0.8 * len(dataset))\n",
    "# test_size = len(dataset) - train_size\n",
    "# train_dataset, test_dataset = random_split(dataset, [train_size, test_size])"
   ]
  },
  {
   "cell_type": "code",
   "execution_count": 270,
   "id": "80fe95c1",
   "metadata": {},
   "outputs": [],
   "source": [
    "# Define data loaders\n",
    "train_loader = DataLoader(train_dataset, batch_size=32, shuffle=True)\n",
    "test_loader = DataLoader(test_dataset, batch_size=32, shuffle=False)\n",
    "validate_loader = DataLoader(validate_dataset, batch_size=32, shuffle=False)"
   ]
  },
  {
   "cell_type": "code",
   "execution_count": 418,
   "id": "a6cde8b8",
   "metadata": {},
   "outputs": [
    {
     "name": "stderr",
     "output_type": "stream",
     "text": [
      "/home/dudu/anaconda3/envs/tf/lib/python3.9/site-packages/torchvision/models/_utils.py:208: UserWarning: The parameter 'pretrained' is deprecated since 0.13 and may be removed in the future, please use 'weights' instead.\n",
      "  warnings.warn(\n",
      "/home/dudu/anaconda3/envs/tf/lib/python3.9/site-packages/torchvision/models/_utils.py:223: UserWarning: Arguments other than a weight enum or `None` for 'weights' are deprecated since 0.13 and may be removed in the future. The current behavior is equivalent to passing `weights=ResNet18_Weights.IMAGENET1K_V1`. You can also use `weights=ResNet18_Weights.DEFAULT` to get the most up-to-date weights.\n",
      "  warnings.warn(msg)\n"
     ]
    }
   ],
   "source": [
    "# Load pre-trained ResNet18 model\n",
    "resnet = resnet18(pretrained=True)"
   ]
  },
  {
   "cell_type": "code",
   "execution_count": 419,
   "id": "e795ef32",
   "metadata": {},
   "outputs": [],
   "source": [
    "num_ftrs = resnet.fc.in_features"
   ]
  },
  {
   "cell_type": "code",
   "execution_count": 420,
   "id": "075bad20",
   "metadata": {},
   "outputs": [
    {
     "data": {
      "text/plain": [
       "20"
      ]
     },
     "execution_count": 420,
     "metadata": {},
     "output_type": "execute_result"
    }
   ],
   "source": [
    "num_features = len(df[\"category\"].unique())\n",
    "num_features"
   ]
  },
  {
   "cell_type": "code",
   "execution_count": 378,
   "id": "40a2af0b",
   "metadata": {},
   "outputs": [],
   "source": [
    "# Modify the fully connected layer to match the number of classes\n",
    "resnet.fc = nn.Linear(num_ftrs, num_features)"
   ]
  },
  {
   "cell_type": "code",
   "execution_count": 421,
   "id": "616974b0",
   "metadata": {},
   "outputs": [],
   "source": [
    "# Add an extra dense layer\n",
    "resnet.fc = nn.Sequential(\n",
    "    nn.Linear(num_ftrs, 128),\n",
    "    nn.ReLU(),\n",
    "    nn.Dropout(0.5),\n",
    "    nn.Linear(128, num_features)\n",
    ")"
   ]
  },
  {
   "cell_type": "code",
   "execution_count": 422,
   "id": "fb189a4f",
   "metadata": {},
   "outputs": [],
   "source": [
    "# Define loss function and optimizer\n",
    "criterion = nn.CrossEntropyLoss()\n",
    "# optimizer = optim.Adam(resnet.parameters(), lr=10e-5)\n",
    "optimizer = optim.Adam(resnet.parameters(), lr=10e-5, weight_decay=1e-5)"
   ]
  },
  {
   "cell_type": "code",
   "execution_count": 423,
   "id": "f21ef0e5",
   "metadata": {},
   "outputs": [
    {
     "data": {
      "text/plain": [
       "ResNet(\n",
       "  (conv1): Conv2d(3, 64, kernel_size=(7, 7), stride=(2, 2), padding=(3, 3), bias=False)\n",
       "  (bn1): BatchNorm2d(64, eps=1e-05, momentum=0.1, affine=True, track_running_stats=True)\n",
       "  (relu): ReLU(inplace=True)\n",
       "  (maxpool): MaxPool2d(kernel_size=3, stride=2, padding=1, dilation=1, ceil_mode=False)\n",
       "  (layer1): Sequential(\n",
       "    (0): BasicBlock(\n",
       "      (conv1): Conv2d(64, 64, kernel_size=(3, 3), stride=(1, 1), padding=(1, 1), bias=False)\n",
       "      (bn1): BatchNorm2d(64, eps=1e-05, momentum=0.1, affine=True, track_running_stats=True)\n",
       "      (relu): ReLU(inplace=True)\n",
       "      (conv2): Conv2d(64, 64, kernel_size=(3, 3), stride=(1, 1), padding=(1, 1), bias=False)\n",
       "      (bn2): BatchNorm2d(64, eps=1e-05, momentum=0.1, affine=True, track_running_stats=True)\n",
       "    )\n",
       "    (1): BasicBlock(\n",
       "      (conv1): Conv2d(64, 64, kernel_size=(3, 3), stride=(1, 1), padding=(1, 1), bias=False)\n",
       "      (bn1): BatchNorm2d(64, eps=1e-05, momentum=0.1, affine=True, track_running_stats=True)\n",
       "      (relu): ReLU(inplace=True)\n",
       "      (conv2): Conv2d(64, 64, kernel_size=(3, 3), stride=(1, 1), padding=(1, 1), bias=False)\n",
       "      (bn2): BatchNorm2d(64, eps=1e-05, momentum=0.1, affine=True, track_running_stats=True)\n",
       "    )\n",
       "  )\n",
       "  (layer2): Sequential(\n",
       "    (0): BasicBlock(\n",
       "      (conv1): Conv2d(64, 128, kernel_size=(3, 3), stride=(2, 2), padding=(1, 1), bias=False)\n",
       "      (bn1): BatchNorm2d(128, eps=1e-05, momentum=0.1, affine=True, track_running_stats=True)\n",
       "      (relu): ReLU(inplace=True)\n",
       "      (conv2): Conv2d(128, 128, kernel_size=(3, 3), stride=(1, 1), padding=(1, 1), bias=False)\n",
       "      (bn2): BatchNorm2d(128, eps=1e-05, momentum=0.1, affine=True, track_running_stats=True)\n",
       "      (downsample): Sequential(\n",
       "        (0): Conv2d(64, 128, kernel_size=(1, 1), stride=(2, 2), bias=False)\n",
       "        (1): BatchNorm2d(128, eps=1e-05, momentum=0.1, affine=True, track_running_stats=True)\n",
       "      )\n",
       "    )\n",
       "    (1): BasicBlock(\n",
       "      (conv1): Conv2d(128, 128, kernel_size=(3, 3), stride=(1, 1), padding=(1, 1), bias=False)\n",
       "      (bn1): BatchNorm2d(128, eps=1e-05, momentum=0.1, affine=True, track_running_stats=True)\n",
       "      (relu): ReLU(inplace=True)\n",
       "      (conv2): Conv2d(128, 128, kernel_size=(3, 3), stride=(1, 1), padding=(1, 1), bias=False)\n",
       "      (bn2): BatchNorm2d(128, eps=1e-05, momentum=0.1, affine=True, track_running_stats=True)\n",
       "    )\n",
       "  )\n",
       "  (layer3): Sequential(\n",
       "    (0): BasicBlock(\n",
       "      (conv1): Conv2d(128, 256, kernel_size=(3, 3), stride=(2, 2), padding=(1, 1), bias=False)\n",
       "      (bn1): BatchNorm2d(256, eps=1e-05, momentum=0.1, affine=True, track_running_stats=True)\n",
       "      (relu): ReLU(inplace=True)\n",
       "      (conv2): Conv2d(256, 256, kernel_size=(3, 3), stride=(1, 1), padding=(1, 1), bias=False)\n",
       "      (bn2): BatchNorm2d(256, eps=1e-05, momentum=0.1, affine=True, track_running_stats=True)\n",
       "      (downsample): Sequential(\n",
       "        (0): Conv2d(128, 256, kernel_size=(1, 1), stride=(2, 2), bias=False)\n",
       "        (1): BatchNorm2d(256, eps=1e-05, momentum=0.1, affine=True, track_running_stats=True)\n",
       "      )\n",
       "    )\n",
       "    (1): BasicBlock(\n",
       "      (conv1): Conv2d(256, 256, kernel_size=(3, 3), stride=(1, 1), padding=(1, 1), bias=False)\n",
       "      (bn1): BatchNorm2d(256, eps=1e-05, momentum=0.1, affine=True, track_running_stats=True)\n",
       "      (relu): ReLU(inplace=True)\n",
       "      (conv2): Conv2d(256, 256, kernel_size=(3, 3), stride=(1, 1), padding=(1, 1), bias=False)\n",
       "      (bn2): BatchNorm2d(256, eps=1e-05, momentum=0.1, affine=True, track_running_stats=True)\n",
       "    )\n",
       "  )\n",
       "  (layer4): Sequential(\n",
       "    (0): BasicBlock(\n",
       "      (conv1): Conv2d(256, 512, kernel_size=(3, 3), stride=(2, 2), padding=(1, 1), bias=False)\n",
       "      (bn1): BatchNorm2d(512, eps=1e-05, momentum=0.1, affine=True, track_running_stats=True)\n",
       "      (relu): ReLU(inplace=True)\n",
       "      (conv2): Conv2d(512, 512, kernel_size=(3, 3), stride=(1, 1), padding=(1, 1), bias=False)\n",
       "      (bn2): BatchNorm2d(512, eps=1e-05, momentum=0.1, affine=True, track_running_stats=True)\n",
       "      (downsample): Sequential(\n",
       "        (0): Conv2d(256, 512, kernel_size=(1, 1), stride=(2, 2), bias=False)\n",
       "        (1): BatchNorm2d(512, eps=1e-05, momentum=0.1, affine=True, track_running_stats=True)\n",
       "      )\n",
       "    )\n",
       "    (1): BasicBlock(\n",
       "      (conv1): Conv2d(512, 512, kernel_size=(3, 3), stride=(1, 1), padding=(1, 1), bias=False)\n",
       "      (bn1): BatchNorm2d(512, eps=1e-05, momentum=0.1, affine=True, track_running_stats=True)\n",
       "      (relu): ReLU(inplace=True)\n",
       "      (conv2): Conv2d(512, 512, kernel_size=(3, 3), stride=(1, 1), padding=(1, 1), bias=False)\n",
       "      (bn2): BatchNorm2d(512, eps=1e-05, momentum=0.1, affine=True, track_running_stats=True)\n",
       "    )\n",
       "  )\n",
       "  (avgpool): AdaptiveAvgPool2d(output_size=(1, 1))\n",
       "  (fc): Sequential(\n",
       "    (0): Linear(in_features=512, out_features=128, bias=True)\n",
       "    (1): ReLU()\n",
       "    (2): Dropout(p=0.5, inplace=False)\n",
       "    (3): Linear(in_features=128, out_features=20, bias=True)\n",
       "  )\n",
       ")"
      ]
     },
     "execution_count": 423,
     "metadata": {},
     "output_type": "execute_result"
    }
   ],
   "source": [
    "# Train the model\n",
    "device = torch.device(\"cuda\" if torch.cuda.is_available() else \"cpu\")\n",
    "resnet.to(device)"
   ]
  },
  {
   "cell_type": "code",
   "execution_count": 424,
   "id": "205cfb15",
   "metadata": {},
   "outputs": [
    {
     "data": {
      "text/plain": [
       "100"
      ]
     },
     "execution_count": 424,
     "metadata": {},
     "output_type": "execute_result"
    }
   ],
   "source": [
    "len(test_loader.dataset)"
   ]
  },
  {
   "cell_type": "code",
   "execution_count": 425,
   "id": "09ec3864",
   "metadata": {},
   "outputs": [
    {
     "name": "stdout",
     "output_type": "stream",
     "text": [
      "Epoch 1/15, Train Loss: 2.9080, Train Accuracy: 0.1148, Validation Loss: 2.7529, Validation Accuracy: 0.1700\n",
      "2024-03-30 17:14:12.962912\n",
      "Epoch 2/15, Train Loss: 2.4319, Train Accuracy: 0.3539, Validation Loss: 2.0113, Validation Accuracy: 0.5000\n",
      "2024-03-30 17:14:14.761402\n",
      "Epoch 3/15, Train Loss: 1.7964, Train Accuracy: 0.6221, Validation Loss: 1.5057, Validation Accuracy: 0.6500\n",
      "2024-03-30 17:14:16.583641\n",
      "Epoch 4/15, Train Loss: 1.1865, Train Accuracy: 0.7891, Validation Loss: 1.1817, Validation Accuracy: 0.7300\n",
      "2024-03-30 17:14:18.344095\n",
      "Epoch 5/15, Train Loss: 0.7165, Train Accuracy: 0.9029, Validation Loss: 0.8937, Validation Accuracy: 0.7700\n",
      "2024-03-30 17:14:20.177138\n",
      "Epoch 6/15, Train Loss: 0.4466, Train Accuracy: 0.9520, Validation Loss: 0.4275, Validation Accuracy: 0.7700\n",
      "2024-03-30 17:14:21.995526\n",
      "Epoch 7/15, Train Loss: 0.2525, Train Accuracy: 0.9843, Validation Loss: 0.4875, Validation Accuracy: 0.8100\n",
      "2024-03-30 17:14:23.798868\n",
      "Epoch 8/15, Train Loss: 0.2082, Train Accuracy: 0.9843, Validation Loss: 0.0994, Validation Accuracy: 0.8200\n",
      "2024-03-30 17:14:25.610082\n",
      "Epoch 9/15, Train Loss: 0.1532, Train Accuracy: 0.9896, Validation Loss: 0.1655, Validation Accuracy: 0.8000\n",
      "2024-03-30 17:14:27.415550\n",
      "Epoch 10/15, Train Loss: 0.1261, Train Accuracy: 0.9896, Validation Loss: 0.4441, Validation Accuracy: 0.8700\n",
      "2024-03-30 17:14:29.247631\n",
      "Epoch 11/15, Train Loss: 0.0996, Train Accuracy: 0.9927, Validation Loss: 0.3449, Validation Accuracy: 0.8300\n",
      "2024-03-30 17:14:31.049631\n",
      "Epoch 12/15, Train Loss: 0.0696, Train Accuracy: 0.9990, Validation Loss: 0.0740, Validation Accuracy: 0.8500\n",
      "2024-03-30 17:14:32.886318\n",
      "Epoch 13/15, Train Loss: 0.0701, Train Accuracy: 0.9948, Validation Loss: 0.1042, Validation Accuracy: 0.8800\n",
      "2024-03-30 17:14:34.689126\n",
      "Epoch 14/15, Train Loss: 0.0527, Train Accuracy: 0.9990, Validation Loss: 0.0215, Validation Accuracy: 0.8200\n",
      "2024-03-30 17:14:36.523813\n",
      "Epoch 15/15, Train Loss: 0.0410, Train Accuracy: 1.0000, Validation Loss: 0.0329, Validation Accuracy: 0.8700\n",
      "2024-03-30 17:14:38.382536\n"
     ]
    }
   ],
   "source": [
    "epochs = 15\n",
    "history = {\"loss\": [], \"accuracy\": [], \"val_accuracy\": []}\n",
    "best_val_loss = float('inf')\n",
    "best_val_accuracy = 0\n",
    "best_model_weights = resnet.state_dict()\n",
    "patience = 5\n",
    "counter = 0\n",
    "for epoch in range(epochs):\n",
    "    resnet.train()\n",
    "    running_loss = 0.0\n",
    "    correct_train = 0\n",
    "    total_train = 0\n",
    "    for inputs, labels in train_loader:\n",
    "        inputs, labels = inputs.to(device), labels.to(device)\n",
    "        optimizer.zero_grad()\n",
    "        outputs = resnet(inputs)\n",
    "        loss = criterion(outputs, labels)\n",
    "        loss.backward()\n",
    "        optimizer.step()\n",
    "        running_loss += loss.item() * inputs.size(0)\n",
    "        \n",
    "        _, predicted = torch.max(outputs, 1)\n",
    "        total_train += labels.size(0)\n",
    "        correct_train += (predicted == labels).sum().item()\n",
    "        \n",
    "    epoch_loss = running_loss / len(train_loader.dataset)\n",
    "    train_accuracy = correct_train / total_train\n",
    "    \n",
    "    resnet.eval()\n",
    "    correct = 0\n",
    "    total = 0\n",
    "    with torch.no_grad():\n",
    "        for inputs, labels in validate_loader:\n",
    "            inputs, labels = inputs.to(device), labels.to(device)\n",
    "            outputs = resnet(inputs)\n",
    "            _, predicted = torch.max(outputs, 1)\n",
    "            total += labels.size(0)\n",
    "            correct += (predicted == labels).sum().item()\n",
    "        val_accuracy = correct / total\n",
    "        val_loss = criterion(outputs, labels)\n",
    "        history[\"loss\"].append(float(loss))\n",
    "        history[\"accuracy\"].append(float(train_accuracy))\n",
    "        history[\"val_accuracy\"].append(float(val_accuracy))\n",
    "        \n",
    "    if val_accuracy > best_val_accuracy:\n",
    "        best_val_accuracy = val_accuracy\n",
    "        best_model_weights = resnet.state_dict()\n",
    "        \n",
    "    if val_loss < best_val_loss:\n",
    "        best_val_loss = val_loss\n",
    "        counter = 0\n",
    "    else:\n",
    "        counter += 1\n",
    "        if counter >= patience:\n",
    "            print(\"Early stopping triggered. No improvement in validation loss.\")\n",
    "            break\n",
    "\n",
    "    \n",
    "    print(f\"Epoch {epoch+1}/{epochs}, Train Loss: {epoch_loss:.4f}, Train Accuracy: {train_accuracy:.4f}, Validation Loss: {val_loss:.4f}, Validation Accuracy: {val_accuracy:.4f}\")\n",
    "    print(str(datetime.now()))"
   ]
  },
  {
   "cell_type": "code",
   "execution_count": 426,
   "id": "5a91c2dd",
   "metadata": {},
   "outputs": [
    {
     "name": "stdout",
     "output_type": "stream",
     "text": [
      "Best val accuracy: 0.88\n"
     ]
    }
   ],
   "source": [
    "# Load the best model weights\n",
    "resnet.load_state_dict(best_model_weights)\n",
    "print(\"Best val accuracy:\", best_val_accuracy)"
   ]
  },
  {
   "cell_type": "code",
   "execution_count": 427,
   "id": "d88487be",
   "metadata": {},
   "outputs": [],
   "source": [
    "resnet.eval()\n",
    "correct = 0\n",
    "total = 0\n",
    "class_correct = list(0. for _ in range(num_features))\n",
    "class_total = list(0. for _ in range(num_features))"
   ]
  },
  {
   "cell_type": "code",
   "execution_count": 428,
   "id": "5460faef",
   "metadata": {},
   "outputs": [],
   "source": [
    "with torch.no_grad():\n",
    "    for inputs, labels in test_loader:\n",
    "        inputs, labels = inputs.to(device), labels.to(device)\n",
    "        outputs = resnet(inputs)\n",
    "        _, predicted = torch.max(outputs, 1)\n",
    "        total += labels.size(0)\n",
    "        correct += (predicted == labels).sum().item()\n",
    "        \n",
    "        c = (predicted == labels).squeeze()\n",
    "        for i in range(len(labels)):\n",
    "            label = labels[i]\n",
    "            class_correct[label] += c[i].item()\n",
    "            class_total[label] += 1"
   ]
  },
  {
   "cell_type": "code",
   "execution_count": 429,
   "id": "9d598370",
   "metadata": {},
   "outputs": [],
   "source": [
    "# Evaluate on test set\n",
    "resnet.eval()\n",
    "correct = 0\n",
    "total = 0\n",
    "predicted_labels = []\n",
    "true_labels = []\n",
    "\n",
    "with torch.no_grad():\n",
    "    for inputs, labels in test_loader:\n",
    "        inputs, labels = inputs.to(device), labels.to(device)\n",
    "        outputs = resnet(inputs)\n",
    "        _, predicted = torch.max(outputs, 1)\n",
    "        total += labels.size(0)\n",
    "        correct += (predicted == labels).sum().item()\n",
    "        predicted_labels.extend(predicted.cpu().numpy())\n",
    "        true_labels.extend(labels.cpu().numpy())\n",
    "\n",
    "accuracy = correct / total\n",
    "precision = precision_score(true_labels, predicted_labels, average='macro')\n",
    "recall = recall_score(true_labels, predicted_labels, average='macro')\n",
    "f1 = f1_score(true_labels, predicted_labels, average='macro')"
   ]
  },
  {
   "cell_type": "code",
   "execution_count": 430,
   "id": "c50b3cc8",
   "metadata": {},
   "outputs": [
    {
     "name": "stdout",
     "output_type": "stream",
     "text": [
      "Accuracy on the test set: 0.9300\n",
      "Precision: 0.9479, Recall: 0.9300, F1 Score: 0.9229\n"
     ]
    }
   ],
   "source": [
    "print(f\"Accuracy on the test set: {accuracy:.4f}\")\n",
    "print(f\"Precision: {precision:.4f}, Recall: {recall:.4f}, F1 Score: {f1:.4f}\")"
   ]
  },
  {
   "cell_type": "code",
   "execution_count": 431,
   "id": "20d9b8eb",
   "metadata": {},
   "outputs": [
    {
     "name": "stdout",
     "output_type": "stream",
     "text": [
      "Accuracy on the test set: 0.9300\n"
     ]
    }
   ],
   "source": [
    "accuracy = correct / total\n",
    "print(f\"Accuracy on the test set: {accuracy:.4f}\")"
   ]
  },
  {
   "cell_type": "code",
   "execution_count": 432,
   "id": "254a40c8",
   "metadata": {},
   "outputs": [],
   "source": [
    "categories = [i+1 for i in range(num_features)]"
   ]
  },
  {
   "cell_type": "code",
   "execution_count": 433,
   "id": "d4d4879f",
   "metadata": {},
   "outputs": [
    {
     "name": "stdout",
     "output_type": "stream",
     "text": [
      "Precision of class 2: 0.4000\n",
      "Precision of class 7: 0.4000\n",
      "Precision of class 12: 0.8000\n"
     ]
    }
   ],
   "source": [
    "precisions = []\n",
    "for i in range(num_features):\n",
    "    precision = class_correct[i] / class_total[i]\n",
    "    precisions.append(precision)\n",
    "    if precision < 1:\n",
    "        print(f\"Precision of class {i}: {precision:.4f}\")\n",
    "# plt.bar(categories, precision)"
   ]
  },
  {
   "cell_type": "code",
   "execution_count": 434,
   "id": "7e3b2bf3",
   "metadata": {},
   "outputs": [
    {
     "data": {
      "image/png": "[encoded data removed]",
      "text/plain": [
       "<Figure size 1200x1000 with 2 Axes>"
      ]
     },
     "metadata": {},
     "output_type": "display_data"
    }
   ],
   "source": [
    "conf_matrix = confusion_matrix(true_labels, predicted_labels)\n",
    "plt.figure(figsize=(12, 10))\n",
    "sns.heatmap(conf_matrix, annot=True, fmt=\"d\", cmap=\"Blues\")\n",
    "plt.xlabel(\"Predicted Label\")\n",
    "plt.ylabel(\"True Label\")\n",
    "plt.title(\"Confusion Matrix\")\n",
    "plt.show()"
   ]
  },
  {
   "cell_type": "code",
   "execution_count": 435,
   "id": "b2599491",
   "metadata": {},
   "outputs": [
    {
     "data": {
      "text/plain": [
       "-0.020000000000000018"
      ]
     },
     "execution_count": 435,
     "metadata": {},
     "output_type": "execute_result"
    }
   ],
   "source": [
    "0.91 - accuracy"
   ]
  },
  {
   "cell_type": "code",
   "execution_count": 436,
   "id": "04cb8794",
   "metadata": {},
   "outputs": [
    {
     "data": {
      "text/plain": [
       "[<matplotlib.lines.Line2D at 0x7fb143074040>]"
      ]
     },
     "execution_count": 436,
     "metadata": {},
     "output_type": "execute_result"
    },
    {
     "data": {
      "image/png": "[encoded data removed]",
      "text/plain": [
       "<Figure size 640x480 with 1 Axes>"
      ]
     },
     "metadata": {},
     "output_type": "display_data"
    }
   ],
   "source": [
    "plt.plot(history[\"loss\"])"
   ]
  },
  {
   "cell_type": "code",
   "execution_count": 437,
   "id": "a79c7c8e",
   "metadata": {},
   "outputs": [
    {
     "data": {
      "text/plain": [
       "[<matplotlib.lines.Line2D at 0x7fb142feb700>]"
      ]
     },
     "execution_count": 437,
     "metadata": {},
     "output_type": "execute_result"
    },
    {
     "data": {
      "image/png": "[encoded data removed]",
      "text/plain": [
       "<Figure size 640x480 with 1 Axes>"
      ]
     },
     "metadata": {},
     "output_type": "display_data"
    }
   ],
   "source": [
    "plt.plot(history[\"val_accuracy\"])"
   ]
  },
  {
   "cell_type": "code",
   "execution_count": null,
   "id": "ca60be1d",
   "metadata": {},
   "outputs": [],
   "source": []
  }
 ],
 "metadata": {
  "kernelspec": {
   "display_name": "Python 3 (ipykernel)",
   "language": "python",
   "name": "python3"
  },
  "language_info": {
   "codemirror_mode": {
    "name": "ipython",
    "version": 3
   },
   "file_extension": ".py",
   "mimetype": "text/x-python",
   "name": "python",
   "nbconvert_exporter": "python",
   "pygments_lexer": "ipython3",
   "version": "3.9.16"
  }
 },
 "nbformat": 4,
 "nbformat_minor": 5
}
