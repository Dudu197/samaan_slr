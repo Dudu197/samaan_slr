{
 "cells": [
  {
   "cell_type": "code",
   "execution_count": 1,
   "id": "2042037b",
   "metadata": {},
   "outputs": [],
   "source": [
    "%load_ext autoreload\n",
    "%autoreload 2"
   ]
  },
  {
   "cell_type": "code",
   "execution_count": 40,
   "id": "8368cec1",
   "metadata": {},
   "outputs": [],
   "source": [
    "import torch\n",
    "import torchvision\n",
    "from torchvision import transforms, datasets\n",
    "import torch.nn as nn\n",
    "import torch.optim as optim\n",
    "from torch.utils.data import DataLoader, random_split\n",
    "from torchvision.models import resnet18,resnet50\n",
    "from sklearn.metrics import confusion_matrix, f1_score, precision_score, recall_score\n",
    "import seaborn as sns\n",
    "import os\n",
    "import sys\n",
    "import json\n",
    "import pandas as pd\n",
    "import numpy as np\n",
    "from datetime import datetime\n",
    "import time\n",
    "from matplotlib import pyplot as plt\n",
    "from lopo_dataset import LopoDataset"
   ]
  },
  {
   "cell_type": "code",
   "execution_count": 3,
   "id": "2b8b2970",
   "metadata": {},
   "outputs": [],
   "source": [
    "dataset_name = \"ufop\"\n",
    "seed = int(np.random.rand() * 100000000)"
   ]
  },
  {
   "cell_type": "code",
   "execution_count": 4,
   "id": "783cbad5",
   "metadata": {},
   "outputs": [
    {
     "data": {
      "text/plain": [
       "<torch._C.Generator at 0x7f012de485f0>"
      ]
     },
     "execution_count": 4,
     "metadata": {},
     "output_type": "execute_result"
    }
   ],
   "source": [
    "torch.manual_seed(seed)"
   ]
  },
  {
   "cell_type": "code",
   "execution_count": 5,
   "id": "9916d08b",
   "metadata": {},
   "outputs": [],
   "source": [
    "# df = pd.read_csv(\"../dataset_output/libras_minds/libras_minds_openpose_80_frames.csv\")\n",
    "df = pd.read_csv(\"../dataset_output/libras_ufop/libras_ufop_openpose_60_frames.csv\")"
   ]
  },
  {
   "cell_type": "code",
   "execution_count": 6,
   "id": "90cb2c2e",
   "metadata": {},
   "outputs": [
    {
     "data": {
      "text/html": [
       "<div>\n",
       "<style scoped>\n",
       "    .dataframe tbody tr th:only-of-type {\n",
       "        vertical-align: middle;\n",
       "    }\n",
       "\n",
       "    .dataframe tbody tr th {\n",
       "        vertical-align: top;\n",
       "    }\n",
       "\n",
       "    .dataframe thead th {\n",
       "        text-align: right;\n",
       "    }\n",
       "</style>\n",
       "<table border=\"1\" class=\"dataframe\">\n",
       "  <thead>\n",
       "    <tr style=\"text-align: right;\">\n",
       "      <th></th>\n",
       "      <th>category</th>\n",
       "      <th>video_name</th>\n",
       "      <th>frame</th>\n",
       "      <th>hand_0_0_x</th>\n",
       "      <th>hand_0_0_y</th>\n",
       "      <th>hand_0_0_z</th>\n",
       "      <th>hand_0_1_x</th>\n",
       "      <th>hand_0_1_y</th>\n",
       "      <th>hand_0_1_z</th>\n",
       "      <th>hand_0_2_x</th>\n",
       "      <th>...</th>\n",
       "      <th>pose_22_z</th>\n",
       "      <th>pose_23_x</th>\n",
       "      <th>pose_23_y</th>\n",
       "      <th>pose_23_z</th>\n",
       "      <th>pose_24_x</th>\n",
       "      <th>pose_24_y</th>\n",
       "      <th>pose_24_z</th>\n",
       "      <th>missing_hand</th>\n",
       "      <th>missing_face</th>\n",
       "      <th>person</th>\n",
       "    </tr>\n",
       "  </thead>\n",
       "  <tbody>\n",
       "    <tr>\n",
       "      <th>0</th>\n",
       "      <td>1</td>\n",
       "      <td>p1_c1_s1_0</td>\n",
       "      <td>1</td>\n",
       "      <td>0.555086</td>\n",
       "      <td>0.561309</td>\n",
       "      <td>0.396433</td>\n",
       "      <td>0.547985</td>\n",
       "      <td>0.570326</td>\n",
       "      <td>0.402954</td>\n",
       "      <td>0.542236</td>\n",
       "      <td>...</td>\n",
       "      <td>0.751818</td>\n",
       "      <td>0.433051</td>\n",
       "      <td>0.966384</td>\n",
       "      <td>0.792620</td>\n",
       "      <td>0.449503</td>\n",
       "      <td>0.930953</td>\n",
       "      <td>0.673173</td>\n",
       "      <td>False</td>\n",
       "      <td>False</td>\n",
       "      <td>1.0</td>\n",
       "    </tr>\n",
       "    <tr>\n",
       "      <th>1</th>\n",
       "      <td>1</td>\n",
       "      <td>p1_c1_s1_0</td>\n",
       "      <td>2</td>\n",
       "      <td>0.552441</td>\n",
       "      <td>0.554763</td>\n",
       "      <td>0.376937</td>\n",
       "      <td>0.544950</td>\n",
       "      <td>0.563844</td>\n",
       "      <td>0.328017</td>\n",
       "      <td>0.539501</td>\n",
       "      <td>...</td>\n",
       "      <td>0.721404</td>\n",
       "      <td>0.431155</td>\n",
       "      <td>0.966412</td>\n",
       "      <td>0.771990</td>\n",
       "      <td>0.449501</td>\n",
       "      <td>0.928337</td>\n",
       "      <td>0.667928</td>\n",
       "      <td>False</td>\n",
       "      <td>False</td>\n",
       "      <td>1.0</td>\n",
       "    </tr>\n",
       "    <tr>\n",
       "      <th>2</th>\n",
       "      <td>1</td>\n",
       "      <td>p1_c1_s1_0</td>\n",
       "      <td>3</td>\n",
       "      <td>0.540484</td>\n",
       "      <td>0.558278</td>\n",
       "      <td>0.014662</td>\n",
       "      <td>0.539830</td>\n",
       "      <td>0.565252</td>\n",
       "      <td>0.043459</td>\n",
       "      <td>0.532311</td>\n",
       "      <td>...</td>\n",
       "      <td>0.745815</td>\n",
       "      <td>0.433046</td>\n",
       "      <td>0.966367</td>\n",
       "      <td>0.777363</td>\n",
       "      <td>0.449523</td>\n",
       "      <td>0.928312</td>\n",
       "      <td>0.661847</td>\n",
       "      <td>False</td>\n",
       "      <td>False</td>\n",
       "      <td>1.0</td>\n",
       "    </tr>\n",
       "    <tr>\n",
       "      <th>3</th>\n",
       "      <td>1</td>\n",
       "      <td>p1_c1_s1_0</td>\n",
       "      <td>4</td>\n",
       "      <td>0.539812</td>\n",
       "      <td>0.537244</td>\n",
       "      <td>0.100900</td>\n",
       "      <td>0.534094</td>\n",
       "      <td>0.548904</td>\n",
       "      <td>0.083215</td>\n",
       "      <td>0.531067</td>\n",
       "      <td>...</td>\n",
       "      <td>0.697552</td>\n",
       "      <td>0.433064</td>\n",
       "      <td>0.966390</td>\n",
       "      <td>0.749232</td>\n",
       "      <td>0.449475</td>\n",
       "      <td>0.930948</td>\n",
       "      <td>0.649300</td>\n",
       "      <td>False</td>\n",
       "      <td>False</td>\n",
       "      <td>1.0</td>\n",
       "    </tr>\n",
       "    <tr>\n",
       "      <th>4</th>\n",
       "      <td>1</td>\n",
       "      <td>p1_c1_s1_0</td>\n",
       "      <td>5</td>\n",
       "      <td>0.530725</td>\n",
       "      <td>0.526807</td>\n",
       "      <td>0.142478</td>\n",
       "      <td>0.524336</td>\n",
       "      <td>0.534430</td>\n",
       "      <td>0.150466</td>\n",
       "      <td>0.517610</td>\n",
       "      <td>...</td>\n",
       "      <td>0.727615</td>\n",
       "      <td>0.433072</td>\n",
       "      <td>0.966384</td>\n",
       "      <td>0.772875</td>\n",
       "      <td>0.449477</td>\n",
       "      <td>0.928342</td>\n",
       "      <td>0.647910</td>\n",
       "      <td>False</td>\n",
       "      <td>False</td>\n",
       "      <td>1.0</td>\n",
       "    </tr>\n",
       "    <tr>\n",
       "      <th>...</th>\n",
       "      <td>...</td>\n",
       "      <td>...</td>\n",
       "      <td>...</td>\n",
       "      <td>...</td>\n",
       "      <td>...</td>\n",
       "      <td>...</td>\n",
       "      <td>...</td>\n",
       "      <td>...</td>\n",
       "      <td>...</td>\n",
       "      <td>...</td>\n",
       "      <td>...</td>\n",
       "      <td>...</td>\n",
       "      <td>...</td>\n",
       "      <td>...</td>\n",
       "      <td>...</td>\n",
       "      <td>...</td>\n",
       "      <td>...</td>\n",
       "      <td>...</td>\n",
       "      <td>...</td>\n",
       "      <td>...</td>\n",
       "      <td>...</td>\n",
       "    </tr>\n",
       "    <tr>\n",
       "      <th>182395</th>\n",
       "      <td>47</td>\n",
       "      <td>p5_c4_s9_10</td>\n",
       "      <td>55</td>\n",
       "      <td>0.522440</td>\n",
       "      <td>0.436927</td>\n",
       "      <td>0.275950</td>\n",
       "      <td>0.533989</td>\n",
       "      <td>0.446403</td>\n",
       "      <td>0.045277</td>\n",
       "      <td>0.532805</td>\n",
       "      <td>...</td>\n",
       "      <td>0.705954</td>\n",
       "      <td>0.426990</td>\n",
       "      <td>0.950059</td>\n",
       "      <td>0.665721</td>\n",
       "      <td>0.437205</td>\n",
       "      <td>0.898362</td>\n",
       "      <td>0.538676</td>\n",
       "      <td>False</td>\n",
       "      <td>False</td>\n",
       "      <td>5.0</td>\n",
       "    </tr>\n",
       "    <tr>\n",
       "      <th>182396</th>\n",
       "      <td>47</td>\n",
       "      <td>p5_c4_s9_10</td>\n",
       "      <td>56</td>\n",
       "      <td>0.522440</td>\n",
       "      <td>0.436927</td>\n",
       "      <td>0.275950</td>\n",
       "      <td>0.533989</td>\n",
       "      <td>0.446403</td>\n",
       "      <td>0.045277</td>\n",
       "      <td>0.532805</td>\n",
       "      <td>...</td>\n",
       "      <td>0.705954</td>\n",
       "      <td>0.426990</td>\n",
       "      <td>0.950059</td>\n",
       "      <td>0.665721</td>\n",
       "      <td>0.437205</td>\n",
       "      <td>0.898362</td>\n",
       "      <td>0.538676</td>\n",
       "      <td>False</td>\n",
       "      <td>False</td>\n",
       "      <td>5.0</td>\n",
       "    </tr>\n",
       "    <tr>\n",
       "      <th>182397</th>\n",
       "      <td>47</td>\n",
       "      <td>p5_c4_s9_10</td>\n",
       "      <td>57</td>\n",
       "      <td>0.522440</td>\n",
       "      <td>0.436927</td>\n",
       "      <td>0.275950</td>\n",
       "      <td>0.533989</td>\n",
       "      <td>0.446403</td>\n",
       "      <td>0.045277</td>\n",
       "      <td>0.532805</td>\n",
       "      <td>...</td>\n",
       "      <td>0.705954</td>\n",
       "      <td>0.426990</td>\n",
       "      <td>0.950059</td>\n",
       "      <td>0.665721</td>\n",
       "      <td>0.437205</td>\n",
       "      <td>0.898362</td>\n",
       "      <td>0.538676</td>\n",
       "      <td>False</td>\n",
       "      <td>False</td>\n",
       "      <td>5.0</td>\n",
       "    </tr>\n",
       "    <tr>\n",
       "      <th>182398</th>\n",
       "      <td>47</td>\n",
       "      <td>p5_c4_s9_10</td>\n",
       "      <td>58</td>\n",
       "      <td>0.522440</td>\n",
       "      <td>0.436927</td>\n",
       "      <td>0.275950</td>\n",
       "      <td>0.533989</td>\n",
       "      <td>0.446403</td>\n",
       "      <td>0.045277</td>\n",
       "      <td>0.532805</td>\n",
       "      <td>...</td>\n",
       "      <td>0.705954</td>\n",
       "      <td>0.426990</td>\n",
       "      <td>0.950059</td>\n",
       "      <td>0.665721</td>\n",
       "      <td>0.437205</td>\n",
       "      <td>0.898362</td>\n",
       "      <td>0.538676</td>\n",
       "      <td>False</td>\n",
       "      <td>False</td>\n",
       "      <td>5.0</td>\n",
       "    </tr>\n",
       "    <tr>\n",
       "      <th>182399</th>\n",
       "      <td>47</td>\n",
       "      <td>p5_c4_s9_10</td>\n",
       "      <td>59</td>\n",
       "      <td>0.522440</td>\n",
       "      <td>0.436927</td>\n",
       "      <td>0.275950</td>\n",
       "      <td>0.533989</td>\n",
       "      <td>0.446403</td>\n",
       "      <td>0.045277</td>\n",
       "      <td>0.532805</td>\n",
       "      <td>...</td>\n",
       "      <td>0.705954</td>\n",
       "      <td>0.426990</td>\n",
       "      <td>0.950059</td>\n",
       "      <td>0.665721</td>\n",
       "      <td>0.437205</td>\n",
       "      <td>0.898362</td>\n",
       "      <td>0.538676</td>\n",
       "      <td>False</td>\n",
       "      <td>False</td>\n",
       "      <td>5.0</td>\n",
       "    </tr>\n",
       "  </tbody>\n",
       "</table>\n",
       "<p>182400 rows × 417 columns</p>\n",
       "</div>"
      ],
      "text/plain": [
       "        category   video_name  frame  hand_0_0_x  hand_0_0_y  hand_0_0_z  \\\n",
       "0              1   p1_c1_s1_0      1    0.555086    0.561309    0.396433   \n",
       "1              1   p1_c1_s1_0      2    0.552441    0.554763    0.376937   \n",
       "2              1   p1_c1_s1_0      3    0.540484    0.558278    0.014662   \n",
       "3              1   p1_c1_s1_0      4    0.539812    0.537244    0.100900   \n",
       "4              1   p1_c1_s1_0      5    0.530725    0.526807    0.142478   \n",
       "...          ...          ...    ...         ...         ...         ...   \n",
       "182395        47  p5_c4_s9_10     55    0.522440    0.436927    0.275950   \n",
       "182396        47  p5_c4_s9_10     56    0.522440    0.436927    0.275950   \n",
       "182397        47  p5_c4_s9_10     57    0.522440    0.436927    0.275950   \n",
       "182398        47  p5_c4_s9_10     58    0.522440    0.436927    0.275950   \n",
       "182399        47  p5_c4_s9_10     59    0.522440    0.436927    0.275950   \n",
       "\n",
       "        hand_0_1_x  hand_0_1_y  hand_0_1_z  hand_0_2_x  ...  pose_22_z  \\\n",
       "0         0.547985    0.570326    0.402954    0.542236  ...   0.751818   \n",
       "1         0.544950    0.563844    0.328017    0.539501  ...   0.721404   \n",
       "2         0.539830    0.565252    0.043459    0.532311  ...   0.745815   \n",
       "3         0.534094    0.548904    0.083215    0.531067  ...   0.697552   \n",
       "4         0.524336    0.534430    0.150466    0.517610  ...   0.727615   \n",
       "...            ...         ...         ...         ...  ...        ...   \n",
       "182395    0.533989    0.446403    0.045277    0.532805  ...   0.705954   \n",
       "182396    0.533989    0.446403    0.045277    0.532805  ...   0.705954   \n",
       "182397    0.533989    0.446403    0.045277    0.532805  ...   0.705954   \n",
       "182398    0.533989    0.446403    0.045277    0.532805  ...   0.705954   \n",
       "182399    0.533989    0.446403    0.045277    0.532805  ...   0.705954   \n",
       "\n",
       "        pose_23_x  pose_23_y  pose_23_z  pose_24_x  pose_24_y  pose_24_z  \\\n",
       "0        0.433051   0.966384   0.792620   0.449503   0.930953   0.673173   \n",
       "1        0.431155   0.966412   0.771990   0.449501   0.928337   0.667928   \n",
       "2        0.433046   0.966367   0.777363   0.449523   0.928312   0.661847   \n",
       "3        0.433064   0.966390   0.749232   0.449475   0.930948   0.649300   \n",
       "4        0.433072   0.966384   0.772875   0.449477   0.928342   0.647910   \n",
       "...           ...        ...        ...        ...        ...        ...   \n",
       "182395   0.426990   0.950059   0.665721   0.437205   0.898362   0.538676   \n",
       "182396   0.426990   0.950059   0.665721   0.437205   0.898362   0.538676   \n",
       "182397   0.426990   0.950059   0.665721   0.437205   0.898362   0.538676   \n",
       "182398   0.426990   0.950059   0.665721   0.437205   0.898362   0.538676   \n",
       "182399   0.426990   0.950059   0.665721   0.437205   0.898362   0.538676   \n",
       "\n",
       "        missing_hand  missing_face  person  \n",
       "0              False         False     1.0  \n",
       "1              False         False     1.0  \n",
       "2              False         False     1.0  \n",
       "3              False         False     1.0  \n",
       "4              False         False     1.0  \n",
       "...              ...           ...     ...  \n",
       "182395         False         False     5.0  \n",
       "182396         False         False     5.0  \n",
       "182397         False         False     5.0  \n",
       "182398         False         False     5.0  \n",
       "182399         False         False     5.0  \n",
       "\n",
       "[182400 rows x 417 columns]"
      ]
     },
     "execution_count": 6,
     "metadata": {},
     "output_type": "execute_result"
    }
   ],
   "source": [
    "df"
   ]
  },
  {
   "cell_type": "code",
   "execution_count": 7,
   "id": "5573ed7f",
   "metadata": {},
   "outputs": [],
   "source": [
    "# Minds only\n",
    "if \"person\" not in df.columns:\n",
    "    import re\n",
    "    df[\"person\"] = df[\"video_name\"].apply(lambda i: int(re.findall(r\".*Sinalizador(\\d+)-.+.mp4\", i)[0]))"
   ]
  },
  {
   "cell_type": "code",
   "execution_count": 8,
   "id": "9c0bc6a0",
   "metadata": {},
   "outputs": [],
   "source": [
    "frames = 60\n",
    "people = df[\"person\"].unique()\n",
    "validate_people = people[-1:]\n",
    "test_people = people[-2:-1]\n",
    "train_people = people[:-2]"
   ]
  },
  {
   "cell_type": "code",
   "execution_count": 9,
   "id": "6b57c54e",
   "metadata": {},
   "outputs": [
    {
     "data": {
      "text/plain": [
       "array([1., 2., 3., 4., 5.])"
      ]
     },
     "execution_count": 9,
     "metadata": {},
     "output_type": "execute_result"
    }
   ],
   "source": [
    "people"
   ]
  },
  {
   "cell_type": "code",
   "execution_count": 10,
   "id": "0e610bc7",
   "metadata": {},
   "outputs": [],
   "source": [
    "# Define image transformations\n",
    "transform = transforms.Compose([\n",
    "    transforms.Resize((224, 224)),\n",
    "    transforms.ToTensor(),\n",
    "#     transforms.Normalize(mean=[0.485, 0.456, 0.406], std=[0.229, 0.224, 0.225])\n",
    "])"
   ]
  },
  {
   "cell_type": "code",
   "execution_count": 41,
   "id": "7a9af574",
   "metadata": {},
   "outputs": [
    {
     "name": "stdout",
     "output_type": "stream",
     "text": [
      "Processing train\n",
      "Processing test\n",
      "Processing validate\n",
      "Data loaded\n"
     ]
    }
   ],
   "source": [
    "print(\"Processing train\")\n",
    "train_dataset = LopoDataset(df, frames, transform, transform_distance=False, person_in=train_people, seed=seed)\n",
    "print(\"Processing test\")\n",
    "test_dataset = LopoDataset(df, frames, transform, transform_distance=False, augment=False, person_in=test_people, seed=seed)\n",
    "print(\"Processing validate\")\n",
    "validate_dataset = LopoDataset(df, frames, transform, transform_distance=False, augment=False, person_in=validate_people, seed=seed)\n",
    "print(\"Data loaded\")"
   ]
  },
  {
   "cell_type": "code",
   "execution_count": 154,
   "id": "a4d2a4a3",
   "metadata": {},
   "outputs": [],
   "source": [
    "# Load dataset\n",
    "# train_dataset = datasets.ImageFolder(root=train_dir, transform=transform)\n",
    "# test_dataset = datasets.ImageFolder(root=test_dir, transform=transform)\n",
    "# validate_dataset = datasets.ImageFolder(root=validate_dir, transform=transform)"
   ]
  },
  {
   "cell_type": "code",
   "execution_count": 155,
   "id": "d7056c5f",
   "metadata": {},
   "outputs": [],
   "source": [
    "# # Split dataset into train and test\n",
    "# train_size = int(0.8 * len(dataset))\n",
    "# test_size = len(dataset) - train_size\n",
    "# train_dataset, test_dataset = random_split(dataset, [train_size, test_size])"
   ]
  },
  {
   "cell_type": "code",
   "execution_count": 42,
   "id": "80fe95c1",
   "metadata": {},
   "outputs": [],
   "source": [
    "# Define data loaders\n",
    "train_loader = DataLoader(train_dataset, batch_size=64, shuffle=True)\n",
    "test_loader = DataLoader(test_dataset, batch_size=64, shuffle=False)\n",
    "validate_loader = DataLoader(validate_dataset, batch_size=64, shuffle=False)"
   ]
  },
  {
   "cell_type": "code",
   "execution_count": 13,
   "id": "a6cde8b8",
   "metadata": {},
   "outputs": [
    {
     "name": "stderr",
     "output_type": "stream",
     "text": [
      "/home/dudu/anaconda3/envs/tf/lib/python3.9/site-packages/torchvision/models/_utils.py:208: UserWarning: The parameter 'pretrained' is deprecated since 0.13 and may be removed in the future, please use 'weights' instead.\n",
      "  warnings.warn(\n",
      "/home/dudu/anaconda3/envs/tf/lib/python3.9/site-packages/torchvision/models/_utils.py:223: UserWarning: Arguments other than a weight enum or `None` for 'weights' are deprecated since 0.13 and may be removed in the future. The current behavior is equivalent to passing `weights=ResNet18_Weights.IMAGENET1K_V1`. You can also use `weights=ResNet18_Weights.DEFAULT` to get the most up-to-date weights.\n",
      "  warnings.warn(msg)\n"
     ]
    }
   ],
   "source": [
    "# Load pre-trained ResNet18 model\n",
    "resnet = resnet18(pretrained=True)"
   ]
  },
  {
   "cell_type": "code",
   "execution_count": 43,
   "id": "807cd496",
   "metadata": {},
   "outputs": [
    {
     "name": "stderr",
     "output_type": "stream",
     "text": [
      "/home/dudu/anaconda3/envs/tf/lib/python3.9/site-packages/torchvision/models/_utils.py:208: UserWarning: The parameter 'pretrained' is deprecated since 0.13 and may be removed in the future, please use 'weights' instead.\n",
      "  warnings.warn(\n",
      "/home/dudu/anaconda3/envs/tf/lib/python3.9/site-packages/torchvision/models/_utils.py:223: UserWarning: Arguments other than a weight enum or `None` for 'weights' are deprecated since 0.13 and may be removed in the future. The current behavior is equivalent to passing `weights=ResNet50_Weights.IMAGENET1K_V1`. You can also use `weights=ResNet50_Weights.DEFAULT` to get the most up-to-date weights.\n",
      "  warnings.warn(msg)\n",
      "Downloading: \"https://download.pytorch.org/models/resnet50-0676ba61.pth\" to /home/dudu/.cache/torch/hub/checkpoints/resnet50-0676ba61.pth\n",
      "100%|██████████████████████████████████████████████████████████████████████████████| 97.8M/97.8M [00:01<00:00, 89.4MB/s]\n"
     ]
    }
   ],
   "source": [
    "# Load pre-trained ResNet18 model\n",
    "resnet = resnet50(pretrained=True)"
   ]
  },
  {
   "cell_type": "code",
   "execution_count": 44,
   "id": "e795ef32",
   "metadata": {},
   "outputs": [],
   "source": [
    "num_ftrs = resnet.fc.in_features"
   ]
  },
  {
   "cell_type": "code",
   "execution_count": 45,
   "id": "075bad20",
   "metadata": {},
   "outputs": [
    {
     "data": {
      "text/plain": [
       "56"
      ]
     },
     "execution_count": 45,
     "metadata": {},
     "output_type": "execute_result"
    }
   ],
   "source": [
    "num_features = len(df[\"category\"].unique())\n",
    "num_features"
   ]
  },
  {
   "cell_type": "code",
   "execution_count": 46,
   "id": "40a2af0b",
   "metadata": {},
   "outputs": [],
   "source": [
    "# Modify the fully connected layer to match the number of classes\n",
    "# resnet.fc = nn.Linear(num_ftrs, num_features)"
   ]
  },
  {
   "cell_type": "code",
   "execution_count": 47,
   "id": "616974b0",
   "metadata": {},
   "outputs": [],
   "source": [
    "# Add an extra dense layer\n",
    "resnet.fc = nn.Sequential(\n",
    "    nn.BatchNorm1d(num_ftrs),\n",
    "    nn.Linear(num_ftrs, 128),\n",
    "    nn.ReLU(),\n",
    "    nn.Dropout(0.5),\n",
    "    nn.Linear(128, num_features)\n",
    ")"
   ]
  },
  {
   "cell_type": "code",
   "execution_count": 48,
   "id": "fb189a4f",
   "metadata": {},
   "outputs": [],
   "source": [
    "# Define loss function and optimizer\n",
    "criterion = nn.CrossEntropyLoss()\n",
    "# optimizer = optim.Adam(resnet.parameters(), lr=10e-5)\n",
    "optimizer_parameters = {\n",
    "    \"lr\": 1e-4,\n",
    "    \"weight_decay\": 1e-5\n",
    "}\n",
    "optimizer = optim.Adam(resnet.parameters(), **optimizer_parameters)"
   ]
  },
  {
   "cell_type": "code",
   "execution_count": 49,
   "id": "f21ef0e5",
   "metadata": {},
   "outputs": [
    {
     "data": {
      "text/plain": [
       "ResNet(\n",
       "  (conv1): Conv2d(3, 64, kernel_size=(7, 7), stride=(2, 2), padding=(3, 3), bias=False)\n",
       "  (bn1): BatchNorm2d(64, eps=1e-05, momentum=0.1, affine=True, track_running_stats=True)\n",
       "  (relu): ReLU(inplace=True)\n",
       "  (maxpool): MaxPool2d(kernel_size=3, stride=2, padding=1, dilation=1, ceil_mode=False)\n",
       "  (layer1): Sequential(\n",
       "    (0): Bottleneck(\n",
       "      (conv1): Conv2d(64, 64, kernel_size=(1, 1), stride=(1, 1), bias=False)\n",
       "      (bn1): BatchNorm2d(64, eps=1e-05, momentum=0.1, affine=True, track_running_stats=True)\n",
       "      (conv2): Conv2d(64, 64, kernel_size=(3, 3), stride=(1, 1), padding=(1, 1), bias=False)\n",
       "      (bn2): BatchNorm2d(64, eps=1e-05, momentum=0.1, affine=True, track_running_stats=True)\n",
       "      (conv3): Conv2d(64, 256, kernel_size=(1, 1), stride=(1, 1), bias=False)\n",
       "      (bn3): BatchNorm2d(256, eps=1e-05, momentum=0.1, affine=True, track_running_stats=True)\n",
       "      (relu): ReLU(inplace=True)\n",
       "      (downsample): Sequential(\n",
       "        (0): Conv2d(64, 256, kernel_size=(1, 1), stride=(1, 1), bias=False)\n",
       "        (1): BatchNorm2d(256, eps=1e-05, momentum=0.1, affine=True, track_running_stats=True)\n",
       "      )\n",
       "    )\n",
       "    (1): Bottleneck(\n",
       "      (conv1): Conv2d(256, 64, kernel_size=(1, 1), stride=(1, 1), bias=False)\n",
       "      (bn1): BatchNorm2d(64, eps=1e-05, momentum=0.1, affine=True, track_running_stats=True)\n",
       "      (conv2): Conv2d(64, 64, kernel_size=(3, 3), stride=(1, 1), padding=(1, 1), bias=False)\n",
       "      (bn2): BatchNorm2d(64, eps=1e-05, momentum=0.1, affine=True, track_running_stats=True)\n",
       "      (conv3): Conv2d(64, 256, kernel_size=(1, 1), stride=(1, 1), bias=False)\n",
       "      (bn3): BatchNorm2d(256, eps=1e-05, momentum=0.1, affine=True, track_running_stats=True)\n",
       "      (relu): ReLU(inplace=True)\n",
       "    )\n",
       "    (2): Bottleneck(\n",
       "      (conv1): Conv2d(256, 64, kernel_size=(1, 1), stride=(1, 1), bias=False)\n",
       "      (bn1): BatchNorm2d(64, eps=1e-05, momentum=0.1, affine=True, track_running_stats=True)\n",
       "      (conv2): Conv2d(64, 64, kernel_size=(3, 3), stride=(1, 1), padding=(1, 1), bias=False)\n",
       "      (bn2): BatchNorm2d(64, eps=1e-05, momentum=0.1, affine=True, track_running_stats=True)\n",
       "      (conv3): Conv2d(64, 256, kernel_size=(1, 1), stride=(1, 1), bias=False)\n",
       "      (bn3): BatchNorm2d(256, eps=1e-05, momentum=0.1, affine=True, track_running_stats=True)\n",
       "      (relu): ReLU(inplace=True)\n",
       "    )\n",
       "  )\n",
       "  (layer2): Sequential(\n",
       "    (0): Bottleneck(\n",
       "      (conv1): Conv2d(256, 128, kernel_size=(1, 1), stride=(1, 1), bias=False)\n",
       "      (bn1): BatchNorm2d(128, eps=1e-05, momentum=0.1, affine=True, track_running_stats=True)\n",
       "      (conv2): Conv2d(128, 128, kernel_size=(3, 3), stride=(2, 2), padding=(1, 1), bias=False)\n",
       "      (bn2): BatchNorm2d(128, eps=1e-05, momentum=0.1, affine=True, track_running_stats=True)\n",
       "      (conv3): Conv2d(128, 512, kernel_size=(1, 1), stride=(1, 1), bias=False)\n",
       "      (bn3): BatchNorm2d(512, eps=1e-05, momentum=0.1, affine=True, track_running_stats=True)\n",
       "      (relu): ReLU(inplace=True)\n",
       "      (downsample): Sequential(\n",
       "        (0): Conv2d(256, 512, kernel_size=(1, 1), stride=(2, 2), bias=False)\n",
       "        (1): BatchNorm2d(512, eps=1e-05, momentum=0.1, affine=True, track_running_stats=True)\n",
       "      )\n",
       "    )\n",
       "    (1): Bottleneck(\n",
       "      (conv1): Conv2d(512, 128, kernel_size=(1, 1), stride=(1, 1), bias=False)\n",
       "      (bn1): BatchNorm2d(128, eps=1e-05, momentum=0.1, affine=True, track_running_stats=True)\n",
       "      (conv2): Conv2d(128, 128, kernel_size=(3, 3), stride=(1, 1), padding=(1, 1), bias=False)\n",
       "      (bn2): BatchNorm2d(128, eps=1e-05, momentum=0.1, affine=True, track_running_stats=True)\n",
       "      (conv3): Conv2d(128, 512, kernel_size=(1, 1), stride=(1, 1), bias=False)\n",
       "      (bn3): BatchNorm2d(512, eps=1e-05, momentum=0.1, affine=True, track_running_stats=True)\n",
       "      (relu): ReLU(inplace=True)\n",
       "    )\n",
       "    (2): Bottleneck(\n",
       "      (conv1): Conv2d(512, 128, kernel_size=(1, 1), stride=(1, 1), bias=False)\n",
       "      (bn1): BatchNorm2d(128, eps=1e-05, momentum=0.1, affine=True, track_running_stats=True)\n",
       "      (conv2): Conv2d(128, 128, kernel_size=(3, 3), stride=(1, 1), padding=(1, 1), bias=False)\n",
       "      (bn2): BatchNorm2d(128, eps=1e-05, momentum=0.1, affine=True, track_running_stats=True)\n",
       "      (conv3): Conv2d(128, 512, kernel_size=(1, 1), stride=(1, 1), bias=False)\n",
       "      (bn3): BatchNorm2d(512, eps=1e-05, momentum=0.1, affine=True, track_running_stats=True)\n",
       "      (relu): ReLU(inplace=True)\n",
       "    )\n",
       "    (3): Bottleneck(\n",
       "      (conv1): Conv2d(512, 128, kernel_size=(1, 1), stride=(1, 1), bias=False)\n",
       "      (bn1): BatchNorm2d(128, eps=1e-05, momentum=0.1, affine=True, track_running_stats=True)\n",
       "      (conv2): Conv2d(128, 128, kernel_size=(3, 3), stride=(1, 1), padding=(1, 1), bias=False)\n",
       "      (bn2): BatchNorm2d(128, eps=1e-05, momentum=0.1, affine=True, track_running_stats=True)\n",
       "      (conv3): Conv2d(128, 512, kernel_size=(1, 1), stride=(1, 1), bias=False)\n",
       "      (bn3): BatchNorm2d(512, eps=1e-05, momentum=0.1, affine=True, track_running_stats=True)\n",
       "      (relu): ReLU(inplace=True)\n",
       "    )\n",
       "  )\n",
       "  (layer3): Sequential(\n",
       "    (0): Bottleneck(\n",
       "      (conv1): Conv2d(512, 256, kernel_size=(1, 1), stride=(1, 1), bias=False)\n",
       "      (bn1): BatchNorm2d(256, eps=1e-05, momentum=0.1, affine=True, track_running_stats=True)\n",
       "      (conv2): Conv2d(256, 256, kernel_size=(3, 3), stride=(2, 2), padding=(1, 1), bias=False)\n",
       "      (bn2): BatchNorm2d(256, eps=1e-05, momentum=0.1, affine=True, track_running_stats=True)\n",
       "      (conv3): Conv2d(256, 1024, kernel_size=(1, 1), stride=(1, 1), bias=False)\n",
       "      (bn3): BatchNorm2d(1024, eps=1e-05, momentum=0.1, affine=True, track_running_stats=True)\n",
       "      (relu): ReLU(inplace=True)\n",
       "      (downsample): Sequential(\n",
       "        (0): Conv2d(512, 1024, kernel_size=(1, 1), stride=(2, 2), bias=False)\n",
       "        (1): BatchNorm2d(1024, eps=1e-05, momentum=0.1, affine=True, track_running_stats=True)\n",
       "      )\n",
       "    )\n",
       "    (1): Bottleneck(\n",
       "      (conv1): Conv2d(1024, 256, kernel_size=(1, 1), stride=(1, 1), bias=False)\n",
       "      (bn1): BatchNorm2d(256, eps=1e-05, momentum=0.1, affine=True, track_running_stats=True)\n",
       "      (conv2): Conv2d(256, 256, kernel_size=(3, 3), stride=(1, 1), padding=(1, 1), bias=False)\n",
       "      (bn2): BatchNorm2d(256, eps=1e-05, momentum=0.1, affine=True, track_running_stats=True)\n",
       "      (conv3): Conv2d(256, 1024, kernel_size=(1, 1), stride=(1, 1), bias=False)\n",
       "      (bn3): BatchNorm2d(1024, eps=1e-05, momentum=0.1, affine=True, track_running_stats=True)\n",
       "      (relu): ReLU(inplace=True)\n",
       "    )\n",
       "    (2): Bottleneck(\n",
       "      (conv1): Conv2d(1024, 256, kernel_size=(1, 1), stride=(1, 1), bias=False)\n",
       "      (bn1): BatchNorm2d(256, eps=1e-05, momentum=0.1, affine=True, track_running_stats=True)\n",
       "      (conv2): Conv2d(256, 256, kernel_size=(3, 3), stride=(1, 1), padding=(1, 1), bias=False)\n",
       "      (bn2): BatchNorm2d(256, eps=1e-05, momentum=0.1, affine=True, track_running_stats=True)\n",
       "      (conv3): Conv2d(256, 1024, kernel_size=(1, 1), stride=(1, 1), bias=False)\n",
       "      (bn3): BatchNorm2d(1024, eps=1e-05, momentum=0.1, affine=True, track_running_stats=True)\n",
       "      (relu): ReLU(inplace=True)\n",
       "    )\n",
       "    (3): Bottleneck(\n",
       "      (conv1): Conv2d(1024, 256, kernel_size=(1, 1), stride=(1, 1), bias=False)\n",
       "      (bn1): BatchNorm2d(256, eps=1e-05, momentum=0.1, affine=True, track_running_stats=True)\n",
       "      (conv2): Conv2d(256, 256, kernel_size=(3, 3), stride=(1, 1), padding=(1, 1), bias=False)\n",
       "      (bn2): BatchNorm2d(256, eps=1e-05, momentum=0.1, affine=True, track_running_stats=True)\n",
       "      (conv3): Conv2d(256, 1024, kernel_size=(1, 1), stride=(1, 1), bias=False)\n",
       "      (bn3): BatchNorm2d(1024, eps=1e-05, momentum=0.1, affine=True, track_running_stats=True)\n",
       "      (relu): ReLU(inplace=True)\n",
       "    )\n",
       "    (4): Bottleneck(\n",
       "      (conv1): Conv2d(1024, 256, kernel_size=(1, 1), stride=(1, 1), bias=False)\n",
       "      (bn1): BatchNorm2d(256, eps=1e-05, momentum=0.1, affine=True, track_running_stats=True)\n",
       "      (conv2): Conv2d(256, 256, kernel_size=(3, 3), stride=(1, 1), padding=(1, 1), bias=False)\n",
       "      (bn2): BatchNorm2d(256, eps=1e-05, momentum=0.1, affine=True, track_running_stats=True)\n",
       "      (conv3): Conv2d(256, 1024, kernel_size=(1, 1), stride=(1, 1), bias=False)\n",
       "      (bn3): BatchNorm2d(1024, eps=1e-05, momentum=0.1, affine=True, track_running_stats=True)\n",
       "      (relu): ReLU(inplace=True)\n",
       "    )\n",
       "    (5): Bottleneck(\n",
       "      (conv1): Conv2d(1024, 256, kernel_size=(1, 1), stride=(1, 1), bias=False)\n",
       "      (bn1): BatchNorm2d(256, eps=1e-05, momentum=0.1, affine=True, track_running_stats=True)\n",
       "      (conv2): Conv2d(256, 256, kernel_size=(3, 3), stride=(1, 1), padding=(1, 1), bias=False)\n",
       "      (bn2): BatchNorm2d(256, eps=1e-05, momentum=0.1, affine=True, track_running_stats=True)\n",
       "      (conv3): Conv2d(256, 1024, kernel_size=(1, 1), stride=(1, 1), bias=False)\n",
       "      (bn3): BatchNorm2d(1024, eps=1e-05, momentum=0.1, affine=True, track_running_stats=True)\n",
       "      (relu): ReLU(inplace=True)\n",
       "    )\n",
       "  )\n",
       "  (layer4): Sequential(\n",
       "    (0): Bottleneck(\n",
       "      (conv1): Conv2d(1024, 512, kernel_size=(1, 1), stride=(1, 1), bias=False)\n",
       "      (bn1): BatchNorm2d(512, eps=1e-05, momentum=0.1, affine=True, track_running_stats=True)\n",
       "      (conv2): Conv2d(512, 512, kernel_size=(3, 3), stride=(2, 2), padding=(1, 1), bias=False)\n",
       "      (bn2): BatchNorm2d(512, eps=1e-05, momentum=0.1, affine=True, track_running_stats=True)\n",
       "      (conv3): Conv2d(512, 2048, kernel_size=(1, 1), stride=(1, 1), bias=False)\n",
       "      (bn3): BatchNorm2d(2048, eps=1e-05, momentum=0.1, affine=True, track_running_stats=True)\n",
       "      (relu): ReLU(inplace=True)\n",
       "      (downsample): Sequential(\n",
       "        (0): Conv2d(1024, 2048, kernel_size=(1, 1), stride=(2, 2), bias=False)\n",
       "        (1): BatchNorm2d(2048, eps=1e-05, momentum=0.1, affine=True, track_running_stats=True)\n",
       "      )\n",
       "    )\n",
       "    (1): Bottleneck(\n",
       "      (conv1): Conv2d(2048, 512, kernel_size=(1, 1), stride=(1, 1), bias=False)\n",
       "      (bn1): BatchNorm2d(512, eps=1e-05, momentum=0.1, affine=True, track_running_stats=True)\n",
       "      (conv2): Conv2d(512, 512, kernel_size=(3, 3), stride=(1, 1), padding=(1, 1), bias=False)\n",
       "      (bn2): BatchNorm2d(512, eps=1e-05, momentum=0.1, affine=True, track_running_stats=True)\n",
       "      (conv3): Conv2d(512, 2048, kernel_size=(1, 1), stride=(1, 1), bias=False)\n",
       "      (bn3): BatchNorm2d(2048, eps=1e-05, momentum=0.1, affine=True, track_running_stats=True)\n",
       "      (relu): ReLU(inplace=True)\n",
       "    )\n",
       "    (2): Bottleneck(\n",
       "      (conv1): Conv2d(2048, 512, kernel_size=(1, 1), stride=(1, 1), bias=False)\n",
       "      (bn1): BatchNorm2d(512, eps=1e-05, momentum=0.1, affine=True, track_running_stats=True)\n",
       "      (conv2): Conv2d(512, 512, kernel_size=(3, 3), stride=(1, 1), padding=(1, 1), bias=False)\n",
       "      (bn2): BatchNorm2d(512, eps=1e-05, momentum=0.1, affine=True, track_running_stats=True)\n",
       "      (conv3): Conv2d(512, 2048, kernel_size=(1, 1), stride=(1, 1), bias=False)\n",
       "      (bn3): BatchNorm2d(2048, eps=1e-05, momentum=0.1, affine=True, track_running_stats=True)\n",
       "      (relu): ReLU(inplace=True)\n",
       "    )\n",
       "  )\n",
       "  (avgpool): AdaptiveAvgPool2d(output_size=(1, 1))\n",
       "  (fc): Sequential(\n",
       "    (0): BatchNorm1d(2048, eps=1e-05, momentum=0.1, affine=True, track_running_stats=True)\n",
       "    (1): Linear(in_features=2048, out_features=128, bias=True)\n",
       "    (2): ReLU()\n",
       "    (3): Dropout(p=0.5, inplace=False)\n",
       "    (4): Linear(in_features=128, out_features=56, bias=True)\n",
       "  )\n",
       ")"
      ]
     },
     "execution_count": 49,
     "metadata": {},
     "output_type": "execute_result"
    }
   ],
   "source": [
    "# Train the model\n",
    "device = torch.device(\"cuda\" if torch.cuda.is_available() else \"cpu\")\n",
    "resnet.to(device)"
   ]
  },
  {
   "cell_type": "code",
   "execution_count": 50,
   "id": "27d7574b",
   "metadata": {},
   "outputs": [
    {
     "data": {
      "text/plain": [
       "583"
      ]
     },
     "execution_count": 50,
     "metadata": {},
     "output_type": "execute_result"
    }
   ],
   "source": [
    "len(test_loader.dataset)"
   ]
  },
  {
   "cell_type": "code",
   "execution_count": 51,
   "id": "09ec3864",
   "metadata": {},
   "outputs": [
    {
     "name": "stdout",
     "output_type": "stream",
     "text": [
      "Epoch 1/25, Train Loss: 3.8436, Train Accuracy: 0.0603, Validation Loss: 3.7248, Validation Accuracy: 0.1083\n",
      "2024-04-02 18:41:06.290669\n",
      "Epoch 2/25, Train Loss: 3.0256, Train Accuracy: 0.2645, Validation Loss: 2.6845, Validation Accuracy: 0.4367\n",
      "2024-04-02 18:41:14.191021\n",
      "Epoch 3/25, Train Loss: 2.0390, Train Accuracy: 0.5350, Validation Loss: 1.3388, Validation Accuracy: 0.6333\n",
      "2024-04-02 18:41:22.145422\n",
      "Epoch 4/25, Train Loss: 1.2652, Train Accuracy: 0.7392, Validation Loss: 1.3324, Validation Accuracy: 0.6767\n",
      "2024-04-02 18:41:30.097462\n",
      "Epoch 5/25, Train Loss: 0.8042, Train Accuracy: 0.8438, Validation Loss: 1.4082, Validation Accuracy: 0.7283\n",
      "2024-04-02 18:41:38.055215\n",
      "Epoch 6/25, Train Loss: 0.5212, Train Accuracy: 0.9127, Validation Loss: 0.7814, Validation Accuracy: 0.8100\n",
      "2024-04-02 18:41:45.990247\n",
      "Epoch 7/25, Train Loss: 0.4040, Train Accuracy: 0.9262, Validation Loss: 1.2912, Validation Accuracy: 0.7767\n",
      "2024-04-02 18:41:53.853252\n",
      "Epoch 8/25, Train Loss: 0.3037, Train Accuracy: 0.9483, Validation Loss: 1.0763, Validation Accuracy: 0.5383\n",
      "2024-04-02 18:42:01.762207\n",
      "Epoch 9/25, Train Loss: 0.2561, Train Accuracy: 0.9504, Validation Loss: 0.6190, Validation Accuracy: 0.7950\n",
      "2024-04-02 18:42:09.721456\n",
      "Epoch 10/25, Train Loss: 0.1990, Train Accuracy: 0.9682, Validation Loss: 0.3703, Validation Accuracy: 0.8217\n",
      "2024-04-02 18:42:17.627553\n",
      "Epoch 11/25, Train Loss: 0.1531, Train Accuracy: 0.9731, Validation Loss: 0.3178, Validation Accuracy: 0.7967\n",
      "2024-04-02 18:42:25.547279\n",
      "Epoch 12/25, Train Loss: 0.1348, Train Accuracy: 0.9817, Validation Loss: 0.9419, Validation Accuracy: 0.7850\n",
      "2024-04-02 18:42:33.480736\n",
      "Epoch 13/25, Train Loss: 0.1309, Train Accuracy: 0.9801, Validation Loss: 0.2807, Validation Accuracy: 0.8233\n",
      "2024-04-02 18:42:41.410651\n",
      "Epoch 14/25, Train Loss: 0.1243, Train Accuracy: 0.9763, Validation Loss: 0.2472, Validation Accuracy: 0.7967\n",
      "2024-04-02 18:42:49.367919\n",
      "Epoch 15/25, Train Loss: 0.1125, Train Accuracy: 0.9828, Validation Loss: 0.4872, Validation Accuracy: 0.7867\n",
      "2024-04-02 18:42:57.312754\n",
      "Epoch 16/25, Train Loss: 0.1052, Train Accuracy: 0.9838, Validation Loss: 0.4169, Validation Accuracy: 0.7633\n",
      "2024-04-02 18:43:05.173082\n",
      "Epoch 17/25, Train Loss: 0.0836, Train Accuracy: 0.9876, Validation Loss: 0.9671, Validation Accuracy: 0.8050\n",
      "2024-04-02 18:43:13.119046\n",
      "Epoch 18/25, Train Loss: 0.0826, Train Accuracy: 0.9887, Validation Loss: 0.3838, Validation Accuracy: 0.8233\n",
      "2024-04-02 18:43:21.044331\n",
      "Epoch 19/25, Train Loss: 0.0755, Train Accuracy: 0.9898, Validation Loss: 0.1372, Validation Accuracy: 0.8067\n",
      "2024-04-02 18:43:28.958363\n",
      "Epoch 20/25, Train Loss: 0.0493, Train Accuracy: 0.9957, Validation Loss: 0.3434, Validation Accuracy: 0.8050\n",
      "2024-04-02 18:43:36.904064\n",
      "Epoch 21/25, Train Loss: 0.0544, Train Accuracy: 0.9919, Validation Loss: 0.3062, Validation Accuracy: 0.8433\n",
      "2024-04-02 18:43:44.809821\n",
      "Epoch 22/25, Train Loss: 0.0415, Train Accuracy: 0.9984, Validation Loss: 0.2135, Validation Accuracy: 0.8550\n",
      "2024-04-02 18:43:52.724904\n",
      "Epoch 23/25, Train Loss: 0.0574, Train Accuracy: 0.9941, Validation Loss: 0.1277, Validation Accuracy: 0.7617\n",
      "2024-04-02 18:44:00.648234\n",
      "Epoch 24/25, Train Loss: 0.0839, Train Accuracy: 0.9855, Validation Loss: 0.2804, Validation Accuracy: 0.8117\n",
      "2024-04-02 18:44:08.585844\n",
      "Epoch 25/25, Train Loss: 0.0729, Train Accuracy: 0.9887, Validation Loss: 0.1337, Validation Accuracy: 0.8183\n",
      "2024-04-02 18:44:16.560009\n"
     ]
    }
   ],
   "source": [
    "epochs = 25\n",
    "history = {\"loss\": [], \"accuracy\": [], \"val_accuracy\": []}\n",
    "best_val_loss = float('inf')\n",
    "best_val_accuracy = 0\n",
    "best_model_weights = resnet.state_dict()\n",
    "patience = 5\n",
    "counter = 0\n",
    "for epoch in range(epochs):\n",
    "    resnet.train()\n",
    "    running_loss = 0.0\n",
    "    correct_train = 0\n",
    "    total_train = 0\n",
    "    for inputs, labels in train_loader:\n",
    "        if len(inputs) == 1:\n",
    "            continue\n",
    "        inputs, labels = inputs.to(device), labels.to(device)\n",
    "        optimizer.zero_grad()\n",
    "        outputs = resnet(inputs)\n",
    "        loss = criterion(outputs, labels)\n",
    "        loss.backward()\n",
    "        optimizer.step()\n",
    "        running_loss += loss.item() * inputs.size(0)\n",
    "        \n",
    "        _, predicted = torch.max(outputs, 1)\n",
    "        total_train += labels.size(0)\n",
    "        correct_train += (predicted == labels).sum().item()\n",
    "        \n",
    "    epoch_loss = running_loss / len(train_loader.dataset)\n",
    "    train_accuracy = correct_train / total_train\n",
    "    \n",
    "    resnet.eval()\n",
    "    correct = 0\n",
    "    total = 0\n",
    "    with torch.no_grad():\n",
    "        for inputs, labels in validate_loader:\n",
    "            inputs, labels = inputs.to(device), labels.to(device)\n",
    "            outputs = resnet(inputs)\n",
    "            _, predicted = torch.max(outputs, 1)\n",
    "            total += labels.size(0)\n",
    "            correct += (predicted == labels).sum().item()\n",
    "        val_accuracy = correct / total\n",
    "        val_loss = criterion(outputs, labels)\n",
    "        history[\"loss\"].append(float(epoch_loss))\n",
    "        history[\"accuracy\"].append(float(train_accuracy))\n",
    "        history[\"val_accuracy\"].append(float(val_accuracy))\n",
    "        \n",
    "    if val_accuracy > best_val_accuracy:\n",
    "        best_val_accuracy = val_accuracy\n",
    "        best_model_weights = resnet.state_dict()\n",
    "        \n",
    "    if val_loss < best_val_loss:\n",
    "        best_val_loss = val_loss\n",
    "        counter = 0\n",
    "    else:\n",
    "        counter += 1\n",
    "        if counter >= patience:\n",
    "            print(\"Early stopping triggered. No improvement in validation loss.\")\n",
    "            break\n",
    "\n",
    "    \n",
    "    print(f\"Epoch {epoch+1}/{epochs}, Train Loss: {epoch_loss:.4f}, Train Accuracy: {train_accuracy:.4f}, Validation Loss: {val_loss:.4f}, Validation Accuracy: {val_accuracy:.4f}\")\n",
    "    print(str(datetime.now()))"
   ]
  },
  {
   "cell_type": "code",
   "execution_count": 52,
   "id": "5a91c2dd",
   "metadata": {},
   "outputs": [
    {
     "name": "stdout",
     "output_type": "stream",
     "text": [
      "Best val accuracy: 0.855\n"
     ]
    }
   ],
   "source": [
    "# Load the best model weights\n",
    "resnet.load_state_dict(best_model_weights)\n",
    "print(\"Best val accuracy:\", best_val_accuracy)"
   ]
  },
  {
   "cell_type": "code",
   "execution_count": 53,
   "id": "ad092647",
   "metadata": {},
   "outputs": [
    {
     "data": {
      "text/plain": [
       "[<matplotlib.lines.Line2D at 0x7eff5d260520>]"
      ]
     },
     "execution_count": 53,
     "metadata": {},
     "output_type": "execute_result"
    },
    {
     "data": {
      "image/png": "[encoded data removed]",
      "text/plain": [
       "<Figure size 640x480 with 1 Axes>"
      ]
     },
     "metadata": {},
     "output_type": "display_data"
    }
   ],
   "source": [
    "plt.plot(history[\"loss\"])"
   ]
  },
  {
   "cell_type": "code",
   "execution_count": 54,
   "id": "d88487be",
   "metadata": {},
   "outputs": [],
   "source": [
    "resnet.eval()\n",
    "correct = 0\n",
    "total = 0\n",
    "class_correct = list(0. for _ in range(num_features))\n",
    "class_total = list(0. for _ in range(num_features))"
   ]
  },
  {
   "cell_type": "code",
   "execution_count": 55,
   "id": "5460faef",
   "metadata": {},
   "outputs": [],
   "source": [
    "with torch.no_grad():\n",
    "    for inputs, labels in test_loader:\n",
    "        inputs, labels = inputs.to(device), labels.to(device)\n",
    "        outputs = resnet(inputs)\n",
    "        _, predicted = torch.max(outputs, 1)\n",
    "        total += labels.size(0)\n",
    "        correct += (predicted == labels).sum().item()\n",
    "        \n",
    "        c = (predicted == labels).squeeze()\n",
    "        for i in range(len(labels)):\n",
    "            label = labels[i]\n",
    "            class_correct[label] += c[i].item()\n",
    "            class_total[label] += 1"
   ]
  },
  {
   "cell_type": "code",
   "execution_count": 56,
   "id": "9d598370",
   "metadata": {},
   "outputs": [
    {
     "name": "stderr",
     "output_type": "stream",
     "text": [
      "/home/dudu/anaconda3/envs/tf/lib/python3.9/site-packages/sklearn/metrics/_classification.py:1469: UndefinedMetricWarning: Precision is ill-defined and being set to 0.0 in labels with no predicted samples. Use `zero_division` parameter to control this behavior.\n",
      "  _warn_prf(average, modifier, msg_start, len(result))\n"
     ]
    }
   ],
   "source": [
    "# Evaluate on test set\n",
    "resnet.eval()\n",
    "correct = 0\n",
    "total = 0\n",
    "predicted_labels = []\n",
    "true_labels = []\n",
    "\n",
    "with torch.no_grad():\n",
    "    for inputs, labels in test_loader:\n",
    "        inputs, labels = inputs.to(device), labels.to(device)\n",
    "        outputs = resnet(inputs)\n",
    "        _, predicted = torch.max(outputs, 1)\n",
    "        total += labels.size(0)\n",
    "        correct += (predicted == labels).sum().item()\n",
    "        predicted_labels.extend(predicted.cpu().numpy())\n",
    "        true_labels.extend(labels.cpu().numpy())\n",
    "\n",
    "accuracy = correct / total\n",
    "precision = precision_score(true_labels, predicted_labels, average='macro')\n",
    "recall = recall_score(true_labels, predicted_labels, average='macro')\n",
    "f1 = f1_score(true_labels, predicted_labels, average='macro')"
   ]
  },
  {
   "cell_type": "code",
   "execution_count": 57,
   "id": "c50b3cc8",
   "metadata": {},
   "outputs": [
    {
     "name": "stdout",
     "output_type": "stream",
     "text": [
      "Accuracy on the test set: 0.8233\n",
      "Precision: 0.8328, Recall: 0.8237, F1 Score: 0.7950\n"
     ]
    }
   ],
   "source": [
    "print(f\"Accuracy on the test set: {accuracy:.4f}\")\n",
    "print(f\"Precision: {precision:.4f}, Recall: {recall:.4f}, F1 Score: {f1:.4f}\")"
   ]
  },
  {
   "cell_type": "code",
   "execution_count": 58,
   "id": "20d9b8eb",
   "metadata": {},
   "outputs": [
    {
     "name": "stdout",
     "output_type": "stream",
     "text": [
      "Accuracy on the test set: 0.8233\n"
     ]
    }
   ],
   "source": [
    "accuracy = correct / total\n",
    "print(f\"Accuracy on the test set: {accuracy:.4f}\")"
   ]
  },
  {
   "cell_type": "code",
   "execution_count": 59,
   "id": "254a40c8",
   "metadata": {},
   "outputs": [],
   "source": [
    "categories = [i+1 for i in range(num_features)]"
   ]
  },
  {
   "cell_type": "code",
   "execution_count": 60,
   "id": "d4d4879f",
   "metadata": {},
   "outputs": [
    {
     "name": "stdout",
     "output_type": "stream",
     "text": [
      "Precision of class 0: 0.0000\n",
      "Precision of class 1: 0.9091\n",
      "Precision of class 2: 0.0000\n",
      "Precision of class 4: 0.6000\n",
      "Precision of class 5: 0.1000\n",
      "Precision of class 8: 0.8000\n",
      "Precision of class 11: 0.8182\n",
      "Precision of class 14: 0.9000\n",
      "Precision of class 20: 0.7692\n",
      "Precision of class 21: 0.9091\n",
      "Precision of class 22: 0.0833\n",
      "Precision of class 23: 0.8000\n",
      "Precision of class 26: 0.9000\n",
      "Precision of class 27: 0.7000\n",
      "Precision of class 29: 0.4000\n",
      "Precision of class 34: 0.0000\n",
      "Precision of class 35: 0.8000\n",
      "Precision of class 42: 0.2727\n",
      "Precision of class 47: 0.3636\n",
      "Precision of class 48: 0.9000\n",
      "Precision of class 50: 0.4000\n",
      "Precision of class 53: 0.7000\n"
     ]
    }
   ],
   "source": [
    "precisions = []\n",
    "for i in range(num_features):\n",
    "    precision = class_correct[i] / class_total[i]\n",
    "    precisions.append(precision)\n",
    "    if precision < 1:\n",
    "        print(f\"Precision of class {i}: {precision:.4f}\")\n",
    "# plt.bar(categories, precision)"
   ]
  },
  {
   "cell_type": "code",
   "execution_count": 61,
   "id": "7e3b2bf3",
   "metadata": {},
   "outputs": [
    {
     "data": {
      "image/png": "[encoded data removed]",
      "text/plain": [
       "<Figure size 1200x1000 with 2 Axes>"
      ]
     },
     "metadata": {},
     "output_type": "display_data"
    }
   ],
   "source": [
    "conf_matrix = confusion_matrix(true_labels, predicted_labels)\n",
    "plt.figure(figsize=(12, 10))\n",
    "sns.heatmap(conf_matrix, annot=True, fmt=\"d\", cmap=\"Blues\")\n",
    "plt.xlabel(\"Predicted Label\")\n",
    "plt.ylabel(\"True Label\")\n",
    "plt.title(\"Confusion Matrix\")\n",
    "plt.show()"
   ]
  },
  {
   "cell_type": "code",
   "execution_count": 62,
   "id": "b2599491",
   "metadata": {},
   "outputs": [
    {
     "data": {
      "text/plain": [
       "0.08667238421955403"
      ]
     },
     "execution_count": 62,
     "metadata": {},
     "output_type": "execute_result"
    }
   ],
   "source": [
    "0.91 - accuracy"
   ]
  },
  {
   "cell_type": "code",
   "execution_count": 63,
   "id": "04cb8794",
   "metadata": {},
   "outputs": [
    {
     "data": {
      "text/plain": [
       "[<matplotlib.lines.Line2D at 0x7eff4d8d67c0>]"
      ]
     },
     "execution_count": 63,
     "metadata": {},
     "output_type": "execute_result"
    },
    {
     "data": {
      "image/png": "[encoded data removed]",
      "text/plain": [
       "<Figure size 640x480 with 1 Axes>"
      ]
     },
     "metadata": {},
     "output_type": "display_data"
    }
   ],
   "source": [
    "plt.plot(history[\"loss\"])"
   ]
  },
  {
   "cell_type": "code",
   "execution_count": 64,
   "id": "a79c7c8e",
   "metadata": {},
   "outputs": [
    {
     "data": {
      "text/plain": [
       "[<matplotlib.lines.Line2D at 0x7eff4d89c460>]"
      ]
     },
     "execution_count": 64,
     "metadata": {},
     "output_type": "execute_result"
    },
    {
     "data": {
      "image/png": "[encoded data removed]",
      "text/plain": [
       "<Figure size 640x480 with 1 Axes>"
      ]
     },
     "metadata": {},
     "output_type": "display_data"
    }
   ],
   "source": [
    "plt.plot(history[\"val_accuracy\"])"
   ]
  },
  {
   "cell_type": "code",
   "execution_count": 136,
   "id": "ca60be1d",
   "metadata": {},
   "outputs": [
    {
     "data": {
      "text/plain": [
       "{'dataset_name': 'minds',\n",
       " 'frames': 80,\n",
       " 'seed': 4321947,\n",
       " 'epochs': 25,\n",
       " 'last_epoch': 24,\n",
       " 'test_people': [11],\n",
       " 'validate_people': [12],\n",
       " 'resnet_fc_layer': 'Sequential(\\n  (0): BatchNorm1d(512, eps=1e-05, momentum=0.1, affine=True, track_running_stats=True)\\n  (1): Linear(in_features=512, out_features=128, bias=True)\\n  (2): ReLU()\\n  (3): Dropout(p=0.5, inplace=False)\\n  (4): Linear(in_features=128, out_features=20, bias=True)\\n)',\n",
       " 'history': {'loss': [2.873230065084947,\n",
       "   2.4439844597356553,\n",
       "   2.006009357209494,\n",
       "   1.57887721584336,\n",
       "   1.1804543098975322,\n",
       "   0.8805239845168367,\n",
       "   0.660664744939585,\n",
       "   0.49992811007887933,\n",
       "   0.3859418735748044,\n",
       "   0.3065069536202138,\n",
       "   0.22762283088643268,\n",
       "   0.18747660629684593,\n",
       "   0.15256743148622534,\n",
       "   0.13782548378678602,\n",
       "   0.1257682118977037,\n",
       "   0.11136088605837932,\n",
       "   0.08912399425978203,\n",
       "   0.09196242581205229,\n",
       "   0.08347909440265071,\n",
       "   0.07801123394286708,\n",
       "   0.06173050956555597,\n",
       "   0.055808823719029635,\n",
       "   0.056105447213684594,\n",
       "   0.053531971046533865,\n",
       "   0.042773686162738564],\n",
       "  'accuracy': [0.12317327766179541,\n",
       "   0.33507306889352817,\n",
       "   0.569937369519833,\n",
       "   0.7400835073068893,\n",
       "   0.8507306889352818,\n",
       "   0.906054279749478,\n",
       "   0.9530271398747391,\n",
       "   0.9718162839248434,\n",
       "   0.9812108559498957,\n",
       "   0.988517745302714,\n",
       "   0.9979123173277662,\n",
       "   0.9968684759916493,\n",
       "   0.9979123173277662,\n",
       "   0.9989561586638831,\n",
       "   1.0,\n",
       "   0.9989561586638831,\n",
       "   1.0,\n",
       "   0.9968684759916493,\n",
       "   0.9989561586638831,\n",
       "   0.9989561586638831,\n",
       "   1.0,\n",
       "   1.0,\n",
       "   1.0,\n",
       "   1.0,\n",
       "   1.0],\n",
       "  'val_accuracy': [0.08,\n",
       "   0.36,\n",
       "   0.51,\n",
       "   0.62,\n",
       "   0.66,\n",
       "   0.64,\n",
       "   0.75,\n",
       "   0.78,\n",
       "   0.7,\n",
       "   0.9,\n",
       "   0.77,\n",
       "   0.74,\n",
       "   0.67,\n",
       "   0.77,\n",
       "   0.83,\n",
       "   0.81,\n",
       "   0.82,\n",
       "   0.81,\n",
       "   0.79,\n",
       "   0.82,\n",
       "   0.81,\n",
       "   0.89,\n",
       "   0.82,\n",
       "   0.79,\n",
       "   0.86]},\n",
       " 'true_labels': [0,\n",
       "  0,\n",
       "  0,\n",
       "  0,\n",
       "  0,\n",
       "  1,\n",
       "  1,\n",
       "  1,\n",
       "  1,\n",
       "  1,\n",
       "  2,\n",
       "  2,\n",
       "  2,\n",
       "  2,\n",
       "  2,\n",
       "  3,\n",
       "  3,\n",
       "  3,\n",
       "  3,\n",
       "  3,\n",
       "  4,\n",
       "  4,\n",
       "  4,\n",
       "  4,\n",
       "  4,\n",
       "  5,\n",
       "  5,\n",
       "  5,\n",
       "  5,\n",
       "  5,\n",
       "  6,\n",
       "  6,\n",
       "  6,\n",
       "  6,\n",
       "  6,\n",
       "  7,\n",
       "  7,\n",
       "  7,\n",
       "  7,\n",
       "  7,\n",
       "  8,\n",
       "  8,\n",
       "  8,\n",
       "  8,\n",
       "  8,\n",
       "  9,\n",
       "  9,\n",
       "  9,\n",
       "  9,\n",
       "  9,\n",
       "  10,\n",
       "  10,\n",
       "  10,\n",
       "  10,\n",
       "  10,\n",
       "  11,\n",
       "  11,\n",
       "  11,\n",
       "  11,\n",
       "  11,\n",
       "  12,\n",
       "  12,\n",
       "  12,\n",
       "  12,\n",
       "  12,\n",
       "  13,\n",
       "  13,\n",
       "  13,\n",
       "  13,\n",
       "  13,\n",
       "  14,\n",
       "  14,\n",
       "  14,\n",
       "  14,\n",
       "  14,\n",
       "  15,\n",
       "  15,\n",
       "  15,\n",
       "  15,\n",
       "  15,\n",
       "  16,\n",
       "  16,\n",
       "  16,\n",
       "  16,\n",
       "  16,\n",
       "  17,\n",
       "  17,\n",
       "  17,\n",
       "  17,\n",
       "  17,\n",
       "  18,\n",
       "  18,\n",
       "  18,\n",
       "  18,\n",
       "  18,\n",
       "  19,\n",
       "  19,\n",
       "  19,\n",
       "  19,\n",
       "  19],\n",
       " 'predicted_labels': [0,\n",
       "  0,\n",
       "  0,\n",
       "  0,\n",
       "  0,\n",
       "  1,\n",
       "  1,\n",
       "  1,\n",
       "  1,\n",
       "  1,\n",
       "  16,\n",
       "  2,\n",
       "  2,\n",
       "  2,\n",
       "  2,\n",
       "  3,\n",
       "  3,\n",
       "  3,\n",
       "  3,\n",
       "  3,\n",
       "  4,\n",
       "  4,\n",
       "  4,\n",
       "  4,\n",
       "  4,\n",
       "  5,\n",
       "  5,\n",
       "  5,\n",
       "  5,\n",
       "  6,\n",
       "  6,\n",
       "  6,\n",
       "  6,\n",
       "  6,\n",
       "  6,\n",
       "  0,\n",
       "  0,\n",
       "  12,\n",
       "  7,\n",
       "  7,\n",
       "  8,\n",
       "  8,\n",
       "  8,\n",
       "  8,\n",
       "  8,\n",
       "  9,\n",
       "  9,\n",
       "  9,\n",
       "  9,\n",
       "  9,\n",
       "  10,\n",
       "  10,\n",
       "  10,\n",
       "  10,\n",
       "  10,\n",
       "  11,\n",
       "  11,\n",
       "  11,\n",
       "  11,\n",
       "  11,\n",
       "  12,\n",
       "  17,\n",
       "  12,\n",
       "  12,\n",
       "  12,\n",
       "  13,\n",
       "  13,\n",
       "  13,\n",
       "  13,\n",
       "  13,\n",
       "  14,\n",
       "  14,\n",
       "  14,\n",
       "  14,\n",
       "  14,\n",
       "  15,\n",
       "  15,\n",
       "  15,\n",
       "  15,\n",
       "  15,\n",
       "  16,\n",
       "  16,\n",
       "  16,\n",
       "  16,\n",
       "  16,\n",
       "  17,\n",
       "  17,\n",
       "  17,\n",
       "  17,\n",
       "  17,\n",
       "  18,\n",
       "  18,\n",
       "  18,\n",
       "  18,\n",
       "  18,\n",
       "  19,\n",
       "  19,\n",
       "  19,\n",
       "  19,\n",
       "  19],\n",
       " 'test_accuracy': 0.94,\n",
       " 'test_precision': 1.0,\n",
       " 'test_recall': 0.9400000000000001,\n",
       " 'test_f1_score': 0.9354906204906204}"
      ]
     },
     "execution_count": 136,
     "metadata": {},
     "output_type": "execute_result"
    }
   ],
   "source": [
    "result = {\n",
    "    \"dataset_name\": dataset_name,\n",
    "    \"frames\": frames,\n",
    "    \"seed\": seed,\n",
    "    \"epochs\": epochs,\n",
    "    \"last_epoch\": epoch,\n",
    "    \"test_people\": test_people.tolist(),\n",
    "    \"validate_people\": validate_people.tolist(),\n",
    "    \"resnet_fc_layer\": str(resnet.fc),\n",
    "    \"history\": history,\n",
    "    \"true_labels\": true_labels,\n",
    "    \"predicted_labels\": predicted_labels,\n",
    "    \"test_accuracy\": accuracy,\n",
    "    \"test_precision\": precision,\n",
    "    \"test_recall\": float(recall),\n",
    "    \"test_f1_score\": float(f1),\n",
    "}\n",
    "result"
   ]
  },
  {
   "cell_type": "code",
   "execution_count": 137,
   "id": "6392ec20",
   "metadata": {},
   "outputs": [
    {
     "data": {
      "text/plain": [
       "12"
      ]
     },
     "execution_count": 137,
     "metadata": {},
     "output_type": "execute_result"
    }
   ],
   "source": [
    "validate_people.item()"
   ]
  },
  {
   "cell_type": "code",
   "execution_count": 138,
   "id": "98e9c50b",
   "metadata": {},
   "outputs": [
    {
     "name": "stdout",
     "output_type": "stream",
     "text": [
      "dataset_name <class 'str'>\n",
      "frames <class 'int'>\n",
      "seed <class 'int'>\n",
      "epochs <class 'int'>\n",
      "last_epoch <class 'int'>\n",
      "test_people <class 'list'>\n",
      "validate_people <class 'list'>\n",
      "resnet_fc_layer <class 'str'>\n",
      "history <class 'dict'>\n",
      "true_labels <class 'list'>\n",
      "predicted_labels <class 'list'>\n",
      "test_accuracy <class 'float'>\n",
      "test_precision <class 'float'>\n",
      "test_recall <class 'float'>\n",
      "test_f1_score <class 'float'>\n"
     ]
    }
   ],
   "source": [
    "for k, v in result.items():\n",
    "    print(k, type(v))"
   ]
  },
  {
   "cell_type": "code",
   "execution_count": 145,
   "id": "55ab63e2",
   "metadata": {},
   "outputs": [],
   "source": [
    "file_name = str(datetime.now()).replace(\":\", \"_\").replace(\" \", \"_\")\n",
    "file_path = os.path.join(\"results\", dataset_name, file_name + \".json\")\n",
    "model_path = os.path.join(\"results\", dataset_name, \"models\", file_name + \".pth\")\n",
    "with open(file_path, \"w\") as f:\n",
    "    json.dump(result, f, default=int)\n",
    "\n",
    "torch.save(resnet.state_dict(), model_path)"
   ]
  },
  {
   "cell_type": "code",
   "execution_count": 143,
   "id": "e63c6dbf",
   "metadata": {},
   "outputs": [
    {
     "data": {
      "text/plain": [
       "'2024-03-31_14_42_11.375710'"
      ]
     },
     "execution_count": 143,
     "metadata": {},
     "output_type": "execute_result"
    }
   ],
   "source": [
    "file_name"
   ]
  },
  {
   "cell_type": "code",
   "execution_count": null,
   "id": "f0b9ee67",
   "metadata": {},
   "outputs": [],
   "source": []
  }
 ],
 "metadata": {
  "kernelspec": {
   "display_name": "Python 3 (ipykernel)",
   "language": "python",
   "name": "python3"
  },
  "language_info": {
   "codemirror_mode": {
    "name": "ipython",
    "version": 3
   },
   "file_extension": ".py",
   "mimetype": "text/x-python",
   "name": "python",
   "nbconvert_exporter": "python",
   "pygments_lexer": "ipython3",
   "version": "3.9.16"
  }
 },
 "nbformat": 4,
 "nbformat_minor": 5
}
