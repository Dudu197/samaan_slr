{
 "cells": [
  {
   "cell_type": "code",
   "execution_count": 1,
   "id": "79fac0f5",
   "metadata": {},
   "outputs": [],
   "source": [
    "import itertools\n",
    "import numpy as np"
   ]
  },
  {
   "cell_type": "code",
   "execution_count": 7,
   "id": "0c7728c7",
   "metadata": {},
   "outputs": [
    {
     "data": {
      "text/plain": [
       "array([ 1,  2,  3,  4,  5,  6,  7,  8,  9, 10, 11, 12])"
      ]
     },
     "execution_count": 7,
     "metadata": {},
     "output_type": "execute_result"
    }
   ],
   "source": [
    "a = np.arange(1, 13)\n",
    "a"
   ]
  },
  {
   "cell_type": "code",
   "execution_count": 8,
   "id": "7d4a6a81",
   "metadata": {},
   "outputs": [
    {
     "data": {
      "text/plain": [
       "array([ 1,  2,  3,  4,  5,  6,  7,  8,  9, 10, 11, 12])"
      ]
     },
     "execution_count": 8,
     "metadata": {},
     "output_type": "execute_result"
    }
   ],
   "source": [
    "a"
   ]
  },
  {
   "cell_type": "code",
   "execution_count": 9,
   "id": "7a5bf336",
   "metadata": {},
   "outputs": [
    {
     "data": {
      "text/plain": [
       "[(1, 2),\n",
       " (1, 3),\n",
       " (1, 4),\n",
       " (1, 5),\n",
       " (1, 6),\n",
       " (1, 7),\n",
       " (1, 8),\n",
       " (1, 9),\n",
       " (1, 10),\n",
       " (1, 11),\n",
       " (1, 12),\n",
       " (2, 1),\n",
       " (2, 3),\n",
       " (2, 4),\n",
       " (2, 5),\n",
       " (2, 6),\n",
       " (2, 7),\n",
       " (2, 8),\n",
       " (2, 9),\n",
       " (2, 10),\n",
       " (2, 11),\n",
       " (2, 12),\n",
       " (3, 1),\n",
       " (3, 2),\n",
       " (3, 4),\n",
       " (3, 5),\n",
       " (3, 6),\n",
       " (3, 7),\n",
       " (3, 8),\n",
       " (3, 9),\n",
       " (3, 10),\n",
       " (3, 11),\n",
       " (3, 12),\n",
       " (4, 1),\n",
       " (4, 2),\n",
       " (4, 3),\n",
       " (4, 5),\n",
       " (4, 6),\n",
       " (4, 7),\n",
       " (4, 8),\n",
       " (4, 9),\n",
       " (4, 10),\n",
       " (4, 11),\n",
       " (4, 12),\n",
       " (5, 1),\n",
       " (5, 2),\n",
       " (5, 3),\n",
       " (5, 4),\n",
       " (5, 6),\n",
       " (5, 7),\n",
       " (5, 8),\n",
       " (5, 9),\n",
       " (5, 10),\n",
       " (5, 11),\n",
       " (5, 12),\n",
       " (6, 1),\n",
       " (6, 2),\n",
       " (6, 3),\n",
       " (6, 4),\n",
       " (6, 5),\n",
       " (6, 7),\n",
       " (6, 8),\n",
       " (6, 9),\n",
       " (6, 10),\n",
       " (6, 11),\n",
       " (6, 12),\n",
       " (7, 1),\n",
       " (7, 2),\n",
       " (7, 3),\n",
       " (7, 4),\n",
       " (7, 5),\n",
       " (7, 6),\n",
       " (7, 8),\n",
       " (7, 9),\n",
       " (7, 10),\n",
       " (7, 11),\n",
       " (7, 12),\n",
       " (8, 1),\n",
       " (8, 2),\n",
       " (8, 3),\n",
       " (8, 4),\n",
       " (8, 5),\n",
       " (8, 6),\n",
       " (8, 7),\n",
       " (8, 9),\n",
       " (8, 10),\n",
       " (8, 11),\n",
       " (8, 12),\n",
       " (9, 1),\n",
       " (9, 2),\n",
       " (9, 3),\n",
       " (9, 4),\n",
       " (9, 5),\n",
       " (9, 6),\n",
       " (9, 7),\n",
       " (9, 8),\n",
       " (9, 10),\n",
       " (9, 11),\n",
       " (9, 12),\n",
       " (10, 1),\n",
       " (10, 2),\n",
       " (10, 3),\n",
       " (10, 4),\n",
       " (10, 5),\n",
       " (10, 6),\n",
       " (10, 7),\n",
       " (10, 8),\n",
       " (10, 9),\n",
       " (10, 11),\n",
       " (10, 12),\n",
       " (11, 1),\n",
       " (11, 2),\n",
       " (11, 3),\n",
       " (11, 4),\n",
       " (11, 5),\n",
       " (11, 6),\n",
       " (11, 7),\n",
       " (11, 8),\n",
       " (11, 9),\n",
       " (11, 10),\n",
       " (11, 12),\n",
       " (12, 1),\n",
       " (12, 2),\n",
       " (12, 3),\n",
       " (12, 4),\n",
       " (12, 5),\n",
       " (12, 6),\n",
       " (12, 7),\n",
       " (12, 8),\n",
       " (12, 9),\n",
       " (12, 10),\n",
       " (12, 11)]"
      ]
     },
     "execution_count": 9,
     "metadata": {},
     "output_type": "execute_result"
    }
   ],
   "source": [
    "result = list(itertools.permutations(a, 2))\n",
    "result"
   ]
  },
  {
   "cell_type": "code",
   "execution_count": 10,
   "id": "1c0f35f7",
   "metadata": {},
   "outputs": [
    {
     "data": {
      "text/plain": [
       "132"
      ]
     },
     "execution_count": 10,
     "metadata": {},
     "output_type": "execute_result"
    }
   ],
   "source": [
    "len(result)"
   ]
  },
  {
   "cell_type": "code",
   "execution_count": 11,
   "id": "62c6deb9",
   "metadata": {},
   "outputs": [],
   "source": [
    "seed = 1638102311"
   ]
  },
  {
   "cell_type": "code",
   "execution_count": 17,
   "id": "627783f4",
   "metadata": {},
   "outputs": [
    {
     "data": {
      "text/plain": [
       "3991310799"
      ]
     },
     "execution_count": 17,
     "metadata": {},
     "output_type": "execute_result"
    }
   ],
   "source": [
    "seed = np.random.randint(2**32 - 1)\n",
    "seed"
   ]
  },
  {
   "cell_type": "code",
   "execution_count": 12,
   "id": "c337687b",
   "metadata": {},
   "outputs": [
    {
     "name": "stdout",
     "output_type": "stream",
     "text": [
      "python train_pytorch_imagenet18_lopo.py 1 2 1638102311\n",
      "python train_pytorch_imagenet18_lopo.py 1 3 1638102311\n",
      "python train_pytorch_imagenet18_lopo.py 1 4 1638102311\n",
      "python train_pytorch_imagenet18_lopo.py 1 5 1638102311\n",
      "python train_pytorch_imagenet18_lopo.py 1 6 1638102311\n",
      "python train_pytorch_imagenet18_lopo.py 1 7 1638102311\n",
      "python train_pytorch_imagenet18_lopo.py 1 8 1638102311\n",
      "python train_pytorch_imagenet18_lopo.py 1 9 1638102311\n",
      "python train_pytorch_imagenet18_lopo.py 1 10 1638102311\n",
      "python train_pytorch_imagenet18_lopo.py 1 11 1638102311\n",
      "python train_pytorch_imagenet18_lopo.py 1 12 1638102311\n",
      "python train_pytorch_imagenet18_lopo.py 2 1 1638102311\n",
      "python train_pytorch_imagenet18_lopo.py 2 3 1638102311\n",
      "python train_pytorch_imagenet18_lopo.py 2 4 1638102311\n",
      "python train_pytorch_imagenet18_lopo.py 2 5 1638102311\n",
      "python train_pytorch_imagenet18_lopo.py 2 6 1638102311\n",
      "python train_pytorch_imagenet18_lopo.py 2 7 1638102311\n",
      "python train_pytorch_imagenet18_lopo.py 2 8 1638102311\n",
      "python train_pytorch_imagenet18_lopo.py 2 9 1638102311\n",
      "python train_pytorch_imagenet18_lopo.py 2 10 1638102311\n",
      "python train_pytorch_imagenet18_lopo.py 2 11 1638102311\n",
      "python train_pytorch_imagenet18_lopo.py 2 12 1638102311\n",
      "python train_pytorch_imagenet18_lopo.py 3 1 1638102311\n",
      "python train_pytorch_imagenet18_lopo.py 3 2 1638102311\n",
      "python train_pytorch_imagenet18_lopo.py 3 4 1638102311\n",
      "python train_pytorch_imagenet18_lopo.py 3 5 1638102311\n",
      "python train_pytorch_imagenet18_lopo.py 3 6 1638102311\n",
      "python train_pytorch_imagenet18_lopo.py 3 7 1638102311\n",
      "python train_pytorch_imagenet18_lopo.py 3 8 1638102311\n",
      "python train_pytorch_imagenet18_lopo.py 3 9 1638102311\n",
      "python train_pytorch_imagenet18_lopo.py 3 10 1638102311\n",
      "python train_pytorch_imagenet18_lopo.py 3 11 1638102311\n",
      "python train_pytorch_imagenet18_lopo.py 3 12 1638102311\n",
      "python train_pytorch_imagenet18_lopo.py 4 1 1638102311\n",
      "python train_pytorch_imagenet18_lopo.py 4 2 1638102311\n",
      "python train_pytorch_imagenet18_lopo.py 4 3 1638102311\n",
      "python train_pytorch_imagenet18_lopo.py 4 5 1638102311\n",
      "python train_pytorch_imagenet18_lopo.py 4 6 1638102311\n",
      "python train_pytorch_imagenet18_lopo.py 4 7 1638102311\n",
      "python train_pytorch_imagenet18_lopo.py 4 8 1638102311\n",
      "python train_pytorch_imagenet18_lopo.py 4 9 1638102311\n",
      "python train_pytorch_imagenet18_lopo.py 4 10 1638102311\n",
      "python train_pytorch_imagenet18_lopo.py 4 11 1638102311\n",
      "python train_pytorch_imagenet18_lopo.py 4 12 1638102311\n",
      "python train_pytorch_imagenet18_lopo.py 5 1 1638102311\n",
      "python train_pytorch_imagenet18_lopo.py 5 2 1638102311\n",
      "python train_pytorch_imagenet18_lopo.py 5 3 1638102311\n",
      "python train_pytorch_imagenet18_lopo.py 5 4 1638102311\n",
      "python train_pytorch_imagenet18_lopo.py 5 6 1638102311\n",
      "python train_pytorch_imagenet18_lopo.py 5 7 1638102311\n",
      "python train_pytorch_imagenet18_lopo.py 5 8 1638102311\n",
      "python train_pytorch_imagenet18_lopo.py 5 9 1638102311\n",
      "python train_pytorch_imagenet18_lopo.py 5 10 1638102311\n",
      "python train_pytorch_imagenet18_lopo.py 5 11 1638102311\n",
      "python train_pytorch_imagenet18_lopo.py 5 12 1638102311\n",
      "python train_pytorch_imagenet18_lopo.py 6 1 1638102311\n",
      "python train_pytorch_imagenet18_lopo.py 6 2 1638102311\n",
      "python train_pytorch_imagenet18_lopo.py 6 3 1638102311\n",
      "python train_pytorch_imagenet18_lopo.py 6 4 1638102311\n",
      "python train_pytorch_imagenet18_lopo.py 6 5 1638102311\n",
      "python train_pytorch_imagenet18_lopo.py 6 7 1638102311\n",
      "python train_pytorch_imagenet18_lopo.py 6 8 1638102311\n",
      "python train_pytorch_imagenet18_lopo.py 6 9 1638102311\n",
      "python train_pytorch_imagenet18_lopo.py 6 10 1638102311\n",
      "python train_pytorch_imagenet18_lopo.py 6 11 1638102311\n",
      "python train_pytorch_imagenet18_lopo.py 6 12 1638102311\n",
      "python train_pytorch_imagenet18_lopo.py 7 1 1638102311\n",
      "python train_pytorch_imagenet18_lopo.py 7 2 1638102311\n",
      "python train_pytorch_imagenet18_lopo.py 7 3 1638102311\n",
      "python train_pytorch_imagenet18_lopo.py 7 4 1638102311\n",
      "python train_pytorch_imagenet18_lopo.py 7 5 1638102311\n",
      "python train_pytorch_imagenet18_lopo.py 7 6 1638102311\n",
      "python train_pytorch_imagenet18_lopo.py 7 8 1638102311\n",
      "python train_pytorch_imagenet18_lopo.py 7 9 1638102311\n",
      "python train_pytorch_imagenet18_lopo.py 7 10 1638102311\n",
      "python train_pytorch_imagenet18_lopo.py 7 11 1638102311\n",
      "python train_pytorch_imagenet18_lopo.py 7 12 1638102311\n",
      "python train_pytorch_imagenet18_lopo.py 8 1 1638102311\n",
      "python train_pytorch_imagenet18_lopo.py 8 2 1638102311\n",
      "python train_pytorch_imagenet18_lopo.py 8 3 1638102311\n",
      "python train_pytorch_imagenet18_lopo.py 8 4 1638102311\n",
      "python train_pytorch_imagenet18_lopo.py 8 5 1638102311\n",
      "python train_pytorch_imagenet18_lopo.py 8 6 1638102311\n",
      "python train_pytorch_imagenet18_lopo.py 8 7 1638102311\n",
      "python train_pytorch_imagenet18_lopo.py 8 9 1638102311\n",
      "python train_pytorch_imagenet18_lopo.py 8 10 1638102311\n",
      "python train_pytorch_imagenet18_lopo.py 8 11 1638102311\n",
      "python train_pytorch_imagenet18_lopo.py 8 12 1638102311\n",
      "python train_pytorch_imagenet18_lopo.py 9 1 1638102311\n",
      "python train_pytorch_imagenet18_lopo.py 9 2 1638102311\n",
      "python train_pytorch_imagenet18_lopo.py 9 3 1638102311\n",
      "python train_pytorch_imagenet18_lopo.py 9 4 1638102311\n",
      "python train_pytorch_imagenet18_lopo.py 9 5 1638102311\n",
      "python train_pytorch_imagenet18_lopo.py 9 6 1638102311\n",
      "python train_pytorch_imagenet18_lopo.py 9 7 1638102311\n",
      "python train_pytorch_imagenet18_lopo.py 9 8 1638102311\n",
      "python train_pytorch_imagenet18_lopo.py 9 10 1638102311\n",
      "python train_pytorch_imagenet18_lopo.py 9 11 1638102311\n",
      "python train_pytorch_imagenet18_lopo.py 9 12 1638102311\n",
      "python train_pytorch_imagenet18_lopo.py 10 1 1638102311\n",
      "python train_pytorch_imagenet18_lopo.py 10 2 1638102311\n",
      "python train_pytorch_imagenet18_lopo.py 10 3 1638102311\n",
      "python train_pytorch_imagenet18_lopo.py 10 4 1638102311\n",
      "python train_pytorch_imagenet18_lopo.py 10 5 1638102311\n",
      "python train_pytorch_imagenet18_lopo.py 10 6 1638102311\n",
      "python train_pytorch_imagenet18_lopo.py 10 7 1638102311\n",
      "python train_pytorch_imagenet18_lopo.py 10 8 1638102311\n",
      "python train_pytorch_imagenet18_lopo.py 10 9 1638102311\n",
      "python train_pytorch_imagenet18_lopo.py 10 11 1638102311\n",
      "python train_pytorch_imagenet18_lopo.py 10 12 1638102311\n",
      "python train_pytorch_imagenet18_lopo.py 11 1 1638102311\n",
      "python train_pytorch_imagenet18_lopo.py 11 2 1638102311\n",
      "python train_pytorch_imagenet18_lopo.py 11 3 1638102311\n",
      "python train_pytorch_imagenet18_lopo.py 11 4 1638102311\n",
      "python train_pytorch_imagenet18_lopo.py 11 5 1638102311\n",
      "python train_pytorch_imagenet18_lopo.py 11 6 1638102311\n",
      "python train_pytorch_imagenet18_lopo.py 11 7 1638102311\n",
      "python train_pytorch_imagenet18_lopo.py 11 8 1638102311\n",
      "python train_pytorch_imagenet18_lopo.py 11 9 1638102311\n",
      "python train_pytorch_imagenet18_lopo.py 11 10 1638102311\n",
      "python train_pytorch_imagenet18_lopo.py 11 12 1638102311\n",
      "python train_pytorch_imagenet18_lopo.py 12 1 1638102311\n",
      "python train_pytorch_imagenet18_lopo.py 12 2 1638102311\n",
      "python train_pytorch_imagenet18_lopo.py 12 3 1638102311\n",
      "python train_pytorch_imagenet18_lopo.py 12 4 1638102311\n",
      "python train_pytorch_imagenet18_lopo.py 12 5 1638102311\n",
      "python train_pytorch_imagenet18_lopo.py 12 6 1638102311\n",
      "python train_pytorch_imagenet18_lopo.py 12 7 1638102311\n",
      "python train_pytorch_imagenet18_lopo.py 12 8 1638102311\n",
      "python train_pytorch_imagenet18_lopo.py 12 9 1638102311\n",
      "python train_pytorch_imagenet18_lopo.py 12 10 1638102311\n",
      "python train_pytorch_imagenet18_lopo.py 12 11 1638102311\n"
     ]
    }
   ],
   "source": [
    "for i in result:\n",
    "    print(f\"python train_pytorch_imagenet18_lopo.py {i[0]} {i[1]} {seed}\")"
   ]
  },
  {
   "cell_type": "code",
   "execution_count": null,
   "id": "e84aae77",
   "metadata": {},
   "outputs": [],
   "source": []
  }
 ],
 "metadata": {
  "kernelspec": {
   "display_name": "Python 3 (ipykernel)",
   "language": "python",
   "name": "python3"
  },
  "language_info": {
   "codemirror_mode": {
    "name": "ipython",
    "version": 3
   },
   "file_extension": ".py",
   "mimetype": "text/x-python",
   "name": "python",
   "nbconvert_exporter": "python",
   "pygments_lexer": "ipython3",
   "version": "3.9.16"
  }
 },
 "nbformat": 4,
 "nbformat_minor": 5
}
