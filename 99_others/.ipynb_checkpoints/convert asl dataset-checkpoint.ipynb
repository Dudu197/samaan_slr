{
 "cells": [
  {
   "cell_type": "code",
   "execution_count": 1,
   "id": "5917b446",
   "metadata": {},
   "outputs": [],
   "source": [
    "import pandas as pd\n",
    "import numpy as np\n",
    "from matplotlib import pyplot as plt"
   ]
  },
  {
   "cell_type": "code",
   "execution_count": 2,
   "id": "06be43bf",
   "metadata": {},
   "outputs": [],
   "source": [
    "df = pd.read_csv(\"../00_datasets/dataset_output/libras_ufop/libras_ufop_openpose.csv\")\n",
    "# df = pd.read_csv(\"../00_datasets/dataset_output/libras_minds/libras_minds_openpose.csv\")"
   ]
  },
  {
   "cell_type": "code",
   "execution_count": 15,
   "id": "7f08bcfa",
   "metadata": {},
   "outputs": [],
   "source": [
    "import re\n",
    "df[\"person\"] = df[\"video_name\"].apply(lambda i: int(re.findall(r\".*Sinalizador(\\d+)-.+.mp4\", i)[0]))"
   ]
  },
  {
   "cell_type": "code",
   "execution_count": 16,
   "id": "8c0cc752",
   "metadata": {},
   "outputs": [
    {
     "data": {
      "text/plain": [
       "4.825"
      ]
     },
     "execution_count": 16,
     "metadata": {},
     "output_type": "execute_result"
    }
   ],
   "source": [
    "len(df[\"video_name\"].unique()) / (len(df[\"person\"].unique()) * len(df[\"category\"].unique()))"
   ]
  },
  {
   "cell_type": "code",
   "execution_count": 21,
   "id": "1f334ba4",
   "metadata": {},
   "outputs": [
    {
     "data": {
      "text/plain": [
       "0.9914952396880555"
      ]
     },
     "execution_count": 21,
     "metadata": {},
     "output_type": "execute_result"
    }
   ],
   "source": [
    "1 - (len(df[(df[\"missing_face\"] == True) | (df[\"missing_hand\"] == True)]) / len(df))"
   ]
  },
  {
   "cell_type": "code",
   "execution_count": 8,
   "id": "8ea75e76",
   "metadata": {},
   "outputs": [
    {
     "data": {
      "text/plain": [
       "[52.0, 58.5, 71.5, 78.0]"
      ]
     },
     "execution_count": 8,
     "metadata": {},
     "output_type": "execute_result"
    }
   ],
   "source": [
    "mean = 65\n",
    "[i * mean for i in [0.8, 0.9, 1.1, 1.2]]"
   ]
  },
  {
   "cell_type": "code",
   "execution_count": 9,
   "id": "0597e442",
   "metadata": {},
   "outputs": [],
   "source": [
    "target_frames = 52"
   ]
  },
  {
   "cell_type": "code",
   "execution_count": 10,
   "id": "5f02b4f4",
   "metadata": {},
   "outputs": [
    {
     "data": {
      "text/html": [
       "<div>\n",
       "<style scoped>\n",
       "    .dataframe tbody tr th:only-of-type {\n",
       "        vertical-align: middle;\n",
       "    }\n",
       "\n",
       "    .dataframe tbody tr th {\n",
       "        vertical-align: top;\n",
       "    }\n",
       "\n",
       "    .dataframe thead th {\n",
       "        text-align: right;\n",
       "    }\n",
       "</style>\n",
       "<table border=\"1\" class=\"dataframe\">\n",
       "  <thead>\n",
       "    <tr style=\"text-align: right;\">\n",
       "      <th></th>\n",
       "      <th>category</th>\n",
       "      <th>video_name</th>\n",
       "      <th>frame</th>\n",
       "      <th>hand_0_0_x</th>\n",
       "      <th>hand_0_0_y</th>\n",
       "      <th>hand_0_0_z</th>\n",
       "      <th>hand_0_1_x</th>\n",
       "      <th>hand_0_1_y</th>\n",
       "      <th>hand_0_1_z</th>\n",
       "      <th>hand_0_2_x</th>\n",
       "      <th>...</th>\n",
       "      <th>pose_22_z</th>\n",
       "      <th>pose_23_x</th>\n",
       "      <th>pose_23_y</th>\n",
       "      <th>pose_23_z</th>\n",
       "      <th>pose_24_x</th>\n",
       "      <th>pose_24_y</th>\n",
       "      <th>pose_24_z</th>\n",
       "      <th>missing_hand</th>\n",
       "      <th>missing_face</th>\n",
       "      <th>person</th>\n",
       "    </tr>\n",
       "  </thead>\n",
       "  <tbody>\n",
       "    <tr>\n",
       "      <th>0</th>\n",
       "      <td>1</td>\n",
       "      <td>p1_c1_s1_0</td>\n",
       "      <td>0</td>\n",
       "      <td>0.555807</td>\n",
       "      <td>0.567531</td>\n",
       "      <td>0.394245</td>\n",
       "      <td>0.549136</td>\n",
       "      <td>0.575092</td>\n",
       "      <td>0.414851</td>\n",
       "      <td>0.543798</td>\n",
       "      <td>...</td>\n",
       "      <td>0.753184</td>\n",
       "      <td>0.433065</td>\n",
       "      <td>0.966341</td>\n",
       "      <td>0.781661</td>\n",
       "      <td>0.449489</td>\n",
       "      <td>0.928342</td>\n",
       "      <td>0.651774</td>\n",
       "      <td>False</td>\n",
       "      <td>False</td>\n",
       "      <td>1.0</td>\n",
       "    </tr>\n",
       "    <tr>\n",
       "      <th>1</th>\n",
       "      <td>1</td>\n",
       "      <td>p1_c1_s1_0</td>\n",
       "      <td>1</td>\n",
       "      <td>0.555086</td>\n",
       "      <td>0.561309</td>\n",
       "      <td>0.396433</td>\n",
       "      <td>0.547985</td>\n",
       "      <td>0.570326</td>\n",
       "      <td>0.402954</td>\n",
       "      <td>0.542236</td>\n",
       "      <td>...</td>\n",
       "      <td>0.751818</td>\n",
       "      <td>0.433051</td>\n",
       "      <td>0.966384</td>\n",
       "      <td>0.792620</td>\n",
       "      <td>0.449503</td>\n",
       "      <td>0.930953</td>\n",
       "      <td>0.673173</td>\n",
       "      <td>False</td>\n",
       "      <td>False</td>\n",
       "      <td>1.0</td>\n",
       "    </tr>\n",
       "    <tr>\n",
       "      <th>2</th>\n",
       "      <td>1</td>\n",
       "      <td>p1_c1_s1_0</td>\n",
       "      <td>2</td>\n",
       "      <td>0.552441</td>\n",
       "      <td>0.554763</td>\n",
       "      <td>0.376937</td>\n",
       "      <td>0.544950</td>\n",
       "      <td>0.563844</td>\n",
       "      <td>0.328017</td>\n",
       "      <td>0.539501</td>\n",
       "      <td>...</td>\n",
       "      <td>0.721404</td>\n",
       "      <td>0.431155</td>\n",
       "      <td>0.966412</td>\n",
       "      <td>0.771990</td>\n",
       "      <td>0.449501</td>\n",
       "      <td>0.928337</td>\n",
       "      <td>0.667928</td>\n",
       "      <td>False</td>\n",
       "      <td>False</td>\n",
       "      <td>1.0</td>\n",
       "    </tr>\n",
       "    <tr>\n",
       "      <th>3</th>\n",
       "      <td>1</td>\n",
       "      <td>p1_c1_s1_0</td>\n",
       "      <td>3</td>\n",
       "      <td>0.540484</td>\n",
       "      <td>0.558278</td>\n",
       "      <td>0.014662</td>\n",
       "      <td>0.539830</td>\n",
       "      <td>0.565252</td>\n",
       "      <td>0.043459</td>\n",
       "      <td>0.532311</td>\n",
       "      <td>...</td>\n",
       "      <td>0.745815</td>\n",
       "      <td>0.433046</td>\n",
       "      <td>0.966367</td>\n",
       "      <td>0.777363</td>\n",
       "      <td>0.449523</td>\n",
       "      <td>0.928312</td>\n",
       "      <td>0.661847</td>\n",
       "      <td>False</td>\n",
       "      <td>False</td>\n",
       "      <td>1.0</td>\n",
       "    </tr>\n",
       "    <tr>\n",
       "      <th>4</th>\n",
       "      <td>1</td>\n",
       "      <td>p1_c1_s1_0</td>\n",
       "      <td>4</td>\n",
       "      <td>0.539812</td>\n",
       "      <td>0.537244</td>\n",
       "      <td>0.100900</td>\n",
       "      <td>0.534094</td>\n",
       "      <td>0.548904</td>\n",
       "      <td>0.083215</td>\n",
       "      <td>0.531067</td>\n",
       "      <td>...</td>\n",
       "      <td>0.697552</td>\n",
       "      <td>0.433064</td>\n",
       "      <td>0.966390</td>\n",
       "      <td>0.749232</td>\n",
       "      <td>0.449475</td>\n",
       "      <td>0.930948</td>\n",
       "      <td>0.649300</td>\n",
       "      <td>False</td>\n",
       "      <td>False</td>\n",
       "      <td>1.0</td>\n",
       "    </tr>\n",
       "    <tr>\n",
       "      <th>...</th>\n",
       "      <td>...</td>\n",
       "      <td>...</td>\n",
       "      <td>...</td>\n",
       "      <td>...</td>\n",
       "      <td>...</td>\n",
       "      <td>...</td>\n",
       "      <td>...</td>\n",
       "      <td>...</td>\n",
       "      <td>...</td>\n",
       "      <td>...</td>\n",
       "      <td>...</td>\n",
       "      <td>...</td>\n",
       "      <td>...</td>\n",
       "      <td>...</td>\n",
       "      <td>...</td>\n",
       "      <td>...</td>\n",
       "      <td>...</td>\n",
       "      <td>...</td>\n",
       "      <td>...</td>\n",
       "      <td>...</td>\n",
       "      <td>...</td>\n",
       "    </tr>\n",
       "    <tr>\n",
       "      <th>202484</th>\n",
       "      <td>47</td>\n",
       "      <td>p5_c4_s9_10</td>\n",
       "      <td>36</td>\n",
       "      <td>0.511064</td>\n",
       "      <td>0.446786</td>\n",
       "      <td>0.026157</td>\n",
       "      <td>0.538449</td>\n",
       "      <td>0.420391</td>\n",
       "      <td>0.030119</td>\n",
       "      <td>0.526901</td>\n",
       "      <td>...</td>\n",
       "      <td>0.752672</td>\n",
       "      <td>0.424943</td>\n",
       "      <td>0.955436</td>\n",
       "      <td>0.677236</td>\n",
       "      <td>0.439216</td>\n",
       "      <td>0.898344</td>\n",
       "      <td>0.543393</td>\n",
       "      <td>False</td>\n",
       "      <td>False</td>\n",
       "      <td>5.0</td>\n",
       "    </tr>\n",
       "    <tr>\n",
       "      <th>202485</th>\n",
       "      <td>47</td>\n",
       "      <td>p5_c4_s9_10</td>\n",
       "      <td>37</td>\n",
       "      <td>0.539804</td>\n",
       "      <td>0.431748</td>\n",
       "      <td>0.028773</td>\n",
       "      <td>0.541779</td>\n",
       "      <td>0.429114</td>\n",
       "      <td>0.030089</td>\n",
       "      <td>0.534208</td>\n",
       "      <td>...</td>\n",
       "      <td>0.725757</td>\n",
       "      <td>0.424950</td>\n",
       "      <td>0.950097</td>\n",
       "      <td>0.681652</td>\n",
       "      <td>0.437225</td>\n",
       "      <td>0.901135</td>\n",
       "      <td>0.545763</td>\n",
       "      <td>False</td>\n",
       "      <td>False</td>\n",
       "      <td>5.0</td>\n",
       "    </tr>\n",
       "    <tr>\n",
       "      <th>202486</th>\n",
       "      <td>47</td>\n",
       "      <td>p5_c4_s9_10</td>\n",
       "      <td>38</td>\n",
       "      <td>0.542277</td>\n",
       "      <td>0.441707</td>\n",
       "      <td>0.030453</td>\n",
       "      <td>0.542592</td>\n",
       "      <td>0.434997</td>\n",
       "      <td>0.080483</td>\n",
       "      <td>0.521517</td>\n",
       "      <td>...</td>\n",
       "      <td>0.722870</td>\n",
       "      <td>0.426986</td>\n",
       "      <td>0.952731</td>\n",
       "      <td>0.657443</td>\n",
       "      <td>0.435220</td>\n",
       "      <td>0.898388</td>\n",
       "      <td>0.555769</td>\n",
       "      <td>False</td>\n",
       "      <td>False</td>\n",
       "      <td>5.0</td>\n",
       "    </tr>\n",
       "    <tr>\n",
       "      <th>202487</th>\n",
       "      <td>47</td>\n",
       "      <td>p5_c4_s9_10</td>\n",
       "      <td>39</td>\n",
       "      <td>0.540754</td>\n",
       "      <td>0.450658</td>\n",
       "      <td>0.036463</td>\n",
       "      <td>0.534091</td>\n",
       "      <td>0.436443</td>\n",
       "      <td>0.065288</td>\n",
       "      <td>0.541753</td>\n",
       "      <td>...</td>\n",
       "      <td>0.716687</td>\n",
       "      <td>0.424990</td>\n",
       "      <td>0.952775</td>\n",
       "      <td>0.658890</td>\n",
       "      <td>0.437217</td>\n",
       "      <td>0.901061</td>\n",
       "      <td>0.537380</td>\n",
       "      <td>False</td>\n",
       "      <td>False</td>\n",
       "      <td>5.0</td>\n",
       "    </tr>\n",
       "    <tr>\n",
       "      <th>202488</th>\n",
       "      <td>47</td>\n",
       "      <td>p5_c4_s9_10</td>\n",
       "      <td>40</td>\n",
       "      <td>0.522440</td>\n",
       "      <td>0.436927</td>\n",
       "      <td>0.275950</td>\n",
       "      <td>0.533989</td>\n",
       "      <td>0.446403</td>\n",
       "      <td>0.045277</td>\n",
       "      <td>0.532805</td>\n",
       "      <td>...</td>\n",
       "      <td>0.705954</td>\n",
       "      <td>0.426990</td>\n",
       "      <td>0.950059</td>\n",
       "      <td>0.665721</td>\n",
       "      <td>0.437205</td>\n",
       "      <td>0.898362</td>\n",
       "      <td>0.538676</td>\n",
       "      <td>False</td>\n",
       "      <td>False</td>\n",
       "      <td>5.0</td>\n",
       "    </tr>\n",
       "  </tbody>\n",
       "</table>\n",
       "<p>202489 rows × 417 columns</p>\n",
       "</div>"
      ],
      "text/plain": [
       "        category   video_name  frame  hand_0_0_x  hand_0_0_y  hand_0_0_z  \\\n",
       "0              1   p1_c1_s1_0      0    0.555807    0.567531    0.394245   \n",
       "1              1   p1_c1_s1_0      1    0.555086    0.561309    0.396433   \n",
       "2              1   p1_c1_s1_0      2    0.552441    0.554763    0.376937   \n",
       "3              1   p1_c1_s1_0      3    0.540484    0.558278    0.014662   \n",
       "4              1   p1_c1_s1_0      4    0.539812    0.537244    0.100900   \n",
       "...          ...          ...    ...         ...         ...         ...   \n",
       "202484        47  p5_c4_s9_10     36    0.511064    0.446786    0.026157   \n",
       "202485        47  p5_c4_s9_10     37    0.539804    0.431748    0.028773   \n",
       "202486        47  p5_c4_s9_10     38    0.542277    0.441707    0.030453   \n",
       "202487        47  p5_c4_s9_10     39    0.540754    0.450658    0.036463   \n",
       "202488        47  p5_c4_s9_10     40    0.522440    0.436927    0.275950   \n",
       "\n",
       "        hand_0_1_x  hand_0_1_y  hand_0_1_z  hand_0_2_x  ...  pose_22_z  \\\n",
       "0         0.549136    0.575092    0.414851    0.543798  ...   0.753184   \n",
       "1         0.547985    0.570326    0.402954    0.542236  ...   0.751818   \n",
       "2         0.544950    0.563844    0.328017    0.539501  ...   0.721404   \n",
       "3         0.539830    0.565252    0.043459    0.532311  ...   0.745815   \n",
       "4         0.534094    0.548904    0.083215    0.531067  ...   0.697552   \n",
       "...            ...         ...         ...         ...  ...        ...   \n",
       "202484    0.538449    0.420391    0.030119    0.526901  ...   0.752672   \n",
       "202485    0.541779    0.429114    0.030089    0.534208  ...   0.725757   \n",
       "202486    0.542592    0.434997    0.080483    0.521517  ...   0.722870   \n",
       "202487    0.534091    0.436443    0.065288    0.541753  ...   0.716687   \n",
       "202488    0.533989    0.446403    0.045277    0.532805  ...   0.705954   \n",
       "\n",
       "        pose_23_x  pose_23_y  pose_23_z  pose_24_x  pose_24_y  pose_24_z  \\\n",
       "0        0.433065   0.966341   0.781661   0.449489   0.928342   0.651774   \n",
       "1        0.433051   0.966384   0.792620   0.449503   0.930953   0.673173   \n",
       "2        0.431155   0.966412   0.771990   0.449501   0.928337   0.667928   \n",
       "3        0.433046   0.966367   0.777363   0.449523   0.928312   0.661847   \n",
       "4        0.433064   0.966390   0.749232   0.449475   0.930948   0.649300   \n",
       "...           ...        ...        ...        ...        ...        ...   \n",
       "202484   0.424943   0.955436   0.677236   0.439216   0.898344   0.543393   \n",
       "202485   0.424950   0.950097   0.681652   0.437225   0.901135   0.545763   \n",
       "202486   0.426986   0.952731   0.657443   0.435220   0.898388   0.555769   \n",
       "202487   0.424990   0.952775   0.658890   0.437217   0.901061   0.537380   \n",
       "202488   0.426990   0.950059   0.665721   0.437205   0.898362   0.538676   \n",
       "\n",
       "        missing_hand  missing_face  person  \n",
       "0              False         False     1.0  \n",
       "1              False         False     1.0  \n",
       "2              False         False     1.0  \n",
       "3              False         False     1.0  \n",
       "4              False         False     1.0  \n",
       "...              ...           ...     ...  \n",
       "202484         False         False     5.0  \n",
       "202485         False         False     5.0  \n",
       "202486         False         False     5.0  \n",
       "202487         False         False     5.0  \n",
       "202488         False         False     5.0  \n",
       "\n",
       "[202489 rows x 417 columns]"
      ]
     },
     "execution_count": 10,
     "metadata": {},
     "output_type": "execute_result"
    }
   ],
   "source": [
    "df"
   ]
  },
  {
   "cell_type": "code",
   "execution_count": 11,
   "id": "9400e8cb",
   "metadata": {},
   "outputs": [],
   "source": [
    "# df_video = df[df[\"video_name\"] == \"001_001_001.mp4\"]\n",
    "# video_frames = df_video[\"frame\"].max()\n",
    "# print(video_frames)\n",
    "# frames_diff = video_frames - target_frames\n",
    "# print(frames_diff)\n",
    "# frames_to_remove = [i for i in range(0, video_frames, video_frames//(video_frames-target_frames))]\n",
    "# # frames_to_remove = [video_frames]\n",
    "# frames_to_remove = frames_to_remove[(len(frames_to_remove) - frames_diff - 1):]\n",
    "# # if len(frames_to_remove) < frames_diff:\n",
    "# #     frames_to_remove += [i for i in range(0, len(frames_to_remove) - frames_diff)]\n",
    "# print(frames_to_remove)\n",
    "# new_df = df_video[~df_video[\"frame\"].isin(frames_to_remove)]\n",
    "# new_df"
   ]
  },
  {
   "cell_type": "code",
   "execution_count": 12,
   "id": "8d675c4b",
   "metadata": {},
   "outputs": [
    {
     "data": {
      "text/plain": [
       "<Axes: >"
      ]
     },
     "execution_count": 12,
     "metadata": {},
     "output_type": "execute_result"
    },
    {
     "data": {
      "image/png": "[encoded data removed]",
      "text/plain": [
       "<Figure size 640x480 with 1 Axes>"
      ]
     },
     "metadata": {},
     "output_type": "display_data"
    }
   ],
   "source": [
    "df.groupby(\"video_name\").max()[\"frame\"].hist()"
   ]
  },
  {
   "cell_type": "code",
   "execution_count": 13,
   "id": "27afe6d1",
   "metadata": {},
   "outputs": [
    {
     "data": {
      "text/plain": [
       "65.60822368421053"
      ]
     },
     "execution_count": 13,
     "metadata": {},
     "output_type": "execute_result"
    }
   ],
   "source": [
    "df.groupby(\"video_name\").max()[\"frame\"].mean()"
   ]
  },
  {
   "cell_type": "code",
   "execution_count": 14,
   "id": "e28ea4c0",
   "metadata": {},
   "outputs": [
    {
     "data": {
      "text/plain": [
       "array([ 1, 10,  2,  3,  4,  5,  6,  7,  8,  9, 11, 21, 22, 23, 24, 25, 26,\n",
       "       27, 28, 29, 12, 30, 13, 14, 15, 16, 17, 18, 19, 31, 32, 33, 34, 35,\n",
       "       36, 37, 38, 39, 48, 49, 50, 51, 52, 53, 54, 55, 56, 57, 40, 41, 42,\n",
       "       43, 44, 45, 46, 47])"
      ]
     },
     "execution_count": 14,
     "metadata": {},
     "output_type": "execute_result"
    }
   ],
   "source": [
    "df[\"category\"].unique()"
   ]
  },
  {
   "cell_type": "code",
   "execution_count": 15,
   "id": "3c31f10b",
   "metadata": {},
   "outputs": [
    {
     "data": {
      "text/plain": [
       "video_name\n",
       "p1_c1_s10_0    57\n",
       "p1_c1_s10_1    65\n",
       "p1_c1_s10_2    52\n",
       "p1_c1_s10_3    65\n",
       "p1_c1_s10_4    60\n",
       "               ..\n",
       "p5_c4_s9_5     62\n",
       "p5_c4_s9_6     58\n",
       "p5_c4_s9_7     62\n",
       "p5_c4_s9_8     59\n",
       "p5_c4_s9_9     57\n",
       "Name: frame, Length: 3040, dtype: int64"
      ]
     },
     "execution_count": 15,
     "metadata": {},
     "output_type": "execute_result"
    }
   ],
   "source": [
    "df.groupby(\"video_name\")[\"frame\"].max()"
   ]
  },
  {
   "cell_type": "code",
   "execution_count": 16,
   "id": "c9a0725b",
   "metadata": {},
   "outputs": [
    {
     "data": {
      "text/plain": [
       "Text(0.5, 0, 'Frame Count')"
      ]
     },
     "execution_count": 16,
     "metadata": {},
     "output_type": "execute_result"
    },
    {
     "data": {
      "image/png": "[encoded data removed]",
      "text/plain": [
       "<Figure size 1280x960 with 1 Axes>"
      ]
     },
     "metadata": {},
     "output_type": "display_data"
    }
   ],
   "source": [
    "fig, ax = plt.subplots()\n",
    "fig.set_dpi(200)\n",
    "\n",
    "count, n_bins, patches = plt.hist(df.groupby(\"video_name\")[\"frame\"].max(), bins=int((240-60)/20))\n",
    "# plt.xticks(range(60, 240, 20))\n",
    "i = -1\n",
    "for count, n_bin, patch in zip(count, n_bins, patches):\n",
    "    i += 1\n",
    "    # Get the center of the bar\n",
    "    x = patch.get_x() + patch.get_width() / 2\n",
    "    # Add the text annotation\n",
    "    plt.text(x, count, str(f\"{int(n_bins[i])} - {int(n_bins[i + 1]) - 1}\"), ha='center', va='bottom')\n",
    "    plt.text(x, count + 15, str(int(count)), ha='center', va='bottom')\n",
    "\n",
    "\n",
    "\n",
    "plt.xticks(n_bins)\n",
    "ax.grid(axis='y')\n",
    "plt.ylabel(\"Video Samples\")\n",
    "plt.xlabel(\"Frame Count\")\n",
    "# plt.title(\"Tamanho do vídeo em frames\")"
   ]
  },
  {
   "cell_type": "code",
   "execution_count": 17,
   "id": "34de900f",
   "metadata": {},
   "outputs": [
    {
     "data": {
      "text/plain": [
       "array([ 27.        ,  37.33333333,  47.66666667,  58.        ,\n",
       "        68.33333333,  78.66666667,  89.        ,  99.33333333,\n",
       "       109.66666667, 120.        ])"
      ]
     },
     "execution_count": 17,
     "metadata": {},
     "output_type": "execute_result"
    }
   ],
   "source": [
    "n_bins"
   ]
  },
  {
   "cell_type": "code",
   "execution_count": 18,
   "id": "f35dc0c0",
   "metadata": {},
   "outputs": [
    {
     "data": {
      "text/plain": [
       "27"
      ]
     },
     "execution_count": 18,
     "metadata": {},
     "output_type": "execute_result"
    }
   ],
   "source": [
    "df.groupby(\"video_name\")[\"frame\"].max().min()"
   ]
  },
  {
   "cell_type": "code",
   "execution_count": 19,
   "id": "3a8fc471",
   "metadata": {},
   "outputs": [],
   "source": [
    "# 140, 160"
   ]
  },
  {
   "cell_type": "code",
   "execution_count": 20,
   "id": "1b5d63b6",
   "metadata": {},
   "outputs": [],
   "source": [
    "df_new_fps = pd.DataFrame(columns=df.columns)\n",
    "for video_name in df[\"video_name\"].unique():\n",
    "    df_video = df[df[\"video_name\"] == video_name]\n",
    "    video_frames = len(df_video)\n",
    "    if video_frames == target_frames:\n",
    "        new_df = df_video\n",
    "    else:\n",
    "        if video_frames < target_frames:\n",
    "            new_df = df_video\n",
    "            last_frame = df_video[df_video[\"frame\"] == video_frames - 1]\n",
    "            frames_count = target_frames - video_frames\n",
    "            new_df = pd.concat([last_frame] * frames_count)\n",
    "            new_df[\"frame\"] = np.arange(video_frames, target_frames)\n",
    "            new_df = pd.concat([df_video, new_df])\n",
    "        else:\n",
    "            frames_diff = video_frames - target_frames\n",
    "            frames_to_remove = [i for i in range(0, video_frames, video_frames//(video_frames-target_frames))]\n",
    "            if len(frames_to_remove) > frames_diff:\n",
    "                frames_to_remove = frames_to_remove[:frames_diff]\n",
    "            if len(frames_to_remove) < frames_diff:\n",
    "                print(\"frames diff menor\")\n",
    "            new_df = df_video[~df_video[\"frame\"].isin(frames_to_remove)]\n",
    "            if len(new_df) > target_frames:\n",
    "                new_df = new_df.iloc[:target_frames]\n",
    "            if len(new_df) < target_frames:\n",
    "                print(\"menor\")\n",
    "                break\n",
    "    df_new_fps = pd.concat([df_new_fps, new_df])"
   ]
  },
  {
   "cell_type": "code",
   "execution_count": 21,
   "id": "2010da10",
   "metadata": {},
   "outputs": [
    {
     "data": {
      "text/html": [
       "<div>\n",
       "<style scoped>\n",
       "    .dataframe tbody tr th:only-of-type {\n",
       "        vertical-align: middle;\n",
       "    }\n",
       "\n",
       "    .dataframe tbody tr th {\n",
       "        vertical-align: top;\n",
       "    }\n",
       "\n",
       "    .dataframe thead th {\n",
       "        text-align: right;\n",
       "    }\n",
       "</style>\n",
       "<table border=\"1\" class=\"dataframe\">\n",
       "  <thead>\n",
       "    <tr style=\"text-align: right;\">\n",
       "      <th></th>\n",
       "      <th>category</th>\n",
       "      <th>video_name</th>\n",
       "      <th>frame</th>\n",
       "      <th>hand_0_0_x</th>\n",
       "      <th>hand_0_0_y</th>\n",
       "      <th>hand_0_0_z</th>\n",
       "      <th>hand_0_1_x</th>\n",
       "      <th>hand_0_1_y</th>\n",
       "      <th>hand_0_1_z</th>\n",
       "      <th>hand_0_2_x</th>\n",
       "      <th>...</th>\n",
       "      <th>pose_22_z</th>\n",
       "      <th>pose_23_x</th>\n",
       "      <th>pose_23_y</th>\n",
       "      <th>pose_23_z</th>\n",
       "      <th>pose_24_x</th>\n",
       "      <th>pose_24_y</th>\n",
       "      <th>pose_24_z</th>\n",
       "      <th>missing_hand</th>\n",
       "      <th>missing_face</th>\n",
       "      <th>person</th>\n",
       "    </tr>\n",
       "  </thead>\n",
       "  <tbody>\n",
       "    <tr>\n",
       "      <th>1</th>\n",
       "      <td>1</td>\n",
       "      <td>p1_c1_s1_0</td>\n",
       "      <td>1</td>\n",
       "      <td>0.555086</td>\n",
       "      <td>0.561309</td>\n",
       "      <td>0.396433</td>\n",
       "      <td>0.547985</td>\n",
       "      <td>0.570326</td>\n",
       "      <td>0.402954</td>\n",
       "      <td>0.542236</td>\n",
       "      <td>...</td>\n",
       "      <td>0.751818</td>\n",
       "      <td>0.433051</td>\n",
       "      <td>0.966384</td>\n",
       "      <td>0.792620</td>\n",
       "      <td>0.449503</td>\n",
       "      <td>0.930953</td>\n",
       "      <td>0.673173</td>\n",
       "      <td>False</td>\n",
       "      <td>False</td>\n",
       "      <td>1.0</td>\n",
       "    </tr>\n",
       "    <tr>\n",
       "      <th>2</th>\n",
       "      <td>1</td>\n",
       "      <td>p1_c1_s1_0</td>\n",
       "      <td>2</td>\n",
       "      <td>0.552441</td>\n",
       "      <td>0.554763</td>\n",
       "      <td>0.376937</td>\n",
       "      <td>0.544950</td>\n",
       "      <td>0.563844</td>\n",
       "      <td>0.328017</td>\n",
       "      <td>0.539501</td>\n",
       "      <td>...</td>\n",
       "      <td>0.721404</td>\n",
       "      <td>0.431155</td>\n",
       "      <td>0.966412</td>\n",
       "      <td>0.771990</td>\n",
       "      <td>0.449501</td>\n",
       "      <td>0.928337</td>\n",
       "      <td>0.667928</td>\n",
       "      <td>False</td>\n",
       "      <td>False</td>\n",
       "      <td>1.0</td>\n",
       "    </tr>\n",
       "    <tr>\n",
       "      <th>4</th>\n",
       "      <td>1</td>\n",
       "      <td>p1_c1_s1_0</td>\n",
       "      <td>4</td>\n",
       "      <td>0.539812</td>\n",
       "      <td>0.537244</td>\n",
       "      <td>0.100900</td>\n",
       "      <td>0.534094</td>\n",
       "      <td>0.548904</td>\n",
       "      <td>0.083215</td>\n",
       "      <td>0.531067</td>\n",
       "      <td>...</td>\n",
       "      <td>0.697552</td>\n",
       "      <td>0.433064</td>\n",
       "      <td>0.966390</td>\n",
       "      <td>0.749232</td>\n",
       "      <td>0.449475</td>\n",
       "      <td>0.930948</td>\n",
       "      <td>0.649300</td>\n",
       "      <td>False</td>\n",
       "      <td>False</td>\n",
       "      <td>1.0</td>\n",
       "    </tr>\n",
       "    <tr>\n",
       "      <th>5</th>\n",
       "      <td>1</td>\n",
       "      <td>p1_c1_s1_0</td>\n",
       "      <td>5</td>\n",
       "      <td>0.530725</td>\n",
       "      <td>0.526807</td>\n",
       "      <td>0.142478</td>\n",
       "      <td>0.524336</td>\n",
       "      <td>0.534430</td>\n",
       "      <td>0.150466</td>\n",
       "      <td>0.517610</td>\n",
       "      <td>...</td>\n",
       "      <td>0.727615</td>\n",
       "      <td>0.433072</td>\n",
       "      <td>0.966384</td>\n",
       "      <td>0.772875</td>\n",
       "      <td>0.449477</td>\n",
       "      <td>0.928342</td>\n",
       "      <td>0.647910</td>\n",
       "      <td>False</td>\n",
       "      <td>False</td>\n",
       "      <td>1.0</td>\n",
       "    </tr>\n",
       "    <tr>\n",
       "      <th>7</th>\n",
       "      <td>1</td>\n",
       "      <td>p1_c1_s1_0</td>\n",
       "      <td>7</td>\n",
       "      <td>0.532352</td>\n",
       "      <td>0.485418</td>\n",
       "      <td>0.063162</td>\n",
       "      <td>0.526135</td>\n",
       "      <td>0.512131</td>\n",
       "      <td>0.026498</td>\n",
       "      <td>0.510245</td>\n",
       "      <td>...</td>\n",
       "      <td>0.732860</td>\n",
       "      <td>0.433065</td>\n",
       "      <td>0.966381</td>\n",
       "      <td>0.770243</td>\n",
       "      <td>0.449523</td>\n",
       "      <td>0.928342</td>\n",
       "      <td>0.660250</td>\n",
       "      <td>False</td>\n",
       "      <td>False</td>\n",
       "      <td>1.0</td>\n",
       "    </tr>\n",
       "    <tr>\n",
       "      <th>...</th>\n",
       "      <td>...</td>\n",
       "      <td>...</td>\n",
       "      <td>...</td>\n",
       "      <td>...</td>\n",
       "      <td>...</td>\n",
       "      <td>...</td>\n",
       "      <td>...</td>\n",
       "      <td>...</td>\n",
       "      <td>...</td>\n",
       "      <td>...</td>\n",
       "      <td>...</td>\n",
       "      <td>...</td>\n",
       "      <td>...</td>\n",
       "      <td>...</td>\n",
       "      <td>...</td>\n",
       "      <td>...</td>\n",
       "      <td>...</td>\n",
       "      <td>...</td>\n",
       "      <td>...</td>\n",
       "      <td>...</td>\n",
       "      <td>...</td>\n",
       "    </tr>\n",
       "    <tr>\n",
       "      <th>202488</th>\n",
       "      <td>47</td>\n",
       "      <td>p5_c4_s9_10</td>\n",
       "      <td>47</td>\n",
       "      <td>0.522440</td>\n",
       "      <td>0.436927</td>\n",
       "      <td>0.275950</td>\n",
       "      <td>0.533989</td>\n",
       "      <td>0.446403</td>\n",
       "      <td>0.045277</td>\n",
       "      <td>0.532805</td>\n",
       "      <td>...</td>\n",
       "      <td>0.705954</td>\n",
       "      <td>0.426990</td>\n",
       "      <td>0.950059</td>\n",
       "      <td>0.665721</td>\n",
       "      <td>0.437205</td>\n",
       "      <td>0.898362</td>\n",
       "      <td>0.538676</td>\n",
       "      <td>False</td>\n",
       "      <td>False</td>\n",
       "      <td>5.0</td>\n",
       "    </tr>\n",
       "    <tr>\n",
       "      <th>202488</th>\n",
       "      <td>47</td>\n",
       "      <td>p5_c4_s9_10</td>\n",
       "      <td>48</td>\n",
       "      <td>0.522440</td>\n",
       "      <td>0.436927</td>\n",
       "      <td>0.275950</td>\n",
       "      <td>0.533989</td>\n",
       "      <td>0.446403</td>\n",
       "      <td>0.045277</td>\n",
       "      <td>0.532805</td>\n",
       "      <td>...</td>\n",
       "      <td>0.705954</td>\n",
       "      <td>0.426990</td>\n",
       "      <td>0.950059</td>\n",
       "      <td>0.665721</td>\n",
       "      <td>0.437205</td>\n",
       "      <td>0.898362</td>\n",
       "      <td>0.538676</td>\n",
       "      <td>False</td>\n",
       "      <td>False</td>\n",
       "      <td>5.0</td>\n",
       "    </tr>\n",
       "    <tr>\n",
       "      <th>202488</th>\n",
       "      <td>47</td>\n",
       "      <td>p5_c4_s9_10</td>\n",
       "      <td>49</td>\n",
       "      <td>0.522440</td>\n",
       "      <td>0.436927</td>\n",
       "      <td>0.275950</td>\n",
       "      <td>0.533989</td>\n",
       "      <td>0.446403</td>\n",
       "      <td>0.045277</td>\n",
       "      <td>0.532805</td>\n",
       "      <td>...</td>\n",
       "      <td>0.705954</td>\n",
       "      <td>0.426990</td>\n",
       "      <td>0.950059</td>\n",
       "      <td>0.665721</td>\n",
       "      <td>0.437205</td>\n",
       "      <td>0.898362</td>\n",
       "      <td>0.538676</td>\n",
       "      <td>False</td>\n",
       "      <td>False</td>\n",
       "      <td>5.0</td>\n",
       "    </tr>\n",
       "    <tr>\n",
       "      <th>202488</th>\n",
       "      <td>47</td>\n",
       "      <td>p5_c4_s9_10</td>\n",
       "      <td>50</td>\n",
       "      <td>0.522440</td>\n",
       "      <td>0.436927</td>\n",
       "      <td>0.275950</td>\n",
       "      <td>0.533989</td>\n",
       "      <td>0.446403</td>\n",
       "      <td>0.045277</td>\n",
       "      <td>0.532805</td>\n",
       "      <td>...</td>\n",
       "      <td>0.705954</td>\n",
       "      <td>0.426990</td>\n",
       "      <td>0.950059</td>\n",
       "      <td>0.665721</td>\n",
       "      <td>0.437205</td>\n",
       "      <td>0.898362</td>\n",
       "      <td>0.538676</td>\n",
       "      <td>False</td>\n",
       "      <td>False</td>\n",
       "      <td>5.0</td>\n",
       "    </tr>\n",
       "    <tr>\n",
       "      <th>202488</th>\n",
       "      <td>47</td>\n",
       "      <td>p5_c4_s9_10</td>\n",
       "      <td>51</td>\n",
       "      <td>0.522440</td>\n",
       "      <td>0.436927</td>\n",
       "      <td>0.275950</td>\n",
       "      <td>0.533989</td>\n",
       "      <td>0.446403</td>\n",
       "      <td>0.045277</td>\n",
       "      <td>0.532805</td>\n",
       "      <td>...</td>\n",
       "      <td>0.705954</td>\n",
       "      <td>0.426990</td>\n",
       "      <td>0.950059</td>\n",
       "      <td>0.665721</td>\n",
       "      <td>0.437205</td>\n",
       "      <td>0.898362</td>\n",
       "      <td>0.538676</td>\n",
       "      <td>False</td>\n",
       "      <td>False</td>\n",
       "      <td>5.0</td>\n",
       "    </tr>\n",
       "  </tbody>\n",
       "</table>\n",
       "<p>158080 rows × 417 columns</p>\n",
       "</div>"
      ],
      "text/plain": [
       "       category   video_name frame  hand_0_0_x  hand_0_0_y  hand_0_0_z  \\\n",
       "1             1   p1_c1_s1_0     1    0.555086    0.561309    0.396433   \n",
       "2             1   p1_c1_s1_0     2    0.552441    0.554763    0.376937   \n",
       "4             1   p1_c1_s1_0     4    0.539812    0.537244    0.100900   \n",
       "5             1   p1_c1_s1_0     5    0.530725    0.526807    0.142478   \n",
       "7             1   p1_c1_s1_0     7    0.532352    0.485418    0.063162   \n",
       "...         ...          ...   ...         ...         ...         ...   \n",
       "202488       47  p5_c4_s9_10    47    0.522440    0.436927    0.275950   \n",
       "202488       47  p5_c4_s9_10    48    0.522440    0.436927    0.275950   \n",
       "202488       47  p5_c4_s9_10    49    0.522440    0.436927    0.275950   \n",
       "202488       47  p5_c4_s9_10    50    0.522440    0.436927    0.275950   \n",
       "202488       47  p5_c4_s9_10    51    0.522440    0.436927    0.275950   \n",
       "\n",
       "        hand_0_1_x  hand_0_1_y  hand_0_1_z  hand_0_2_x  ...  pose_22_z  \\\n",
       "1         0.547985    0.570326    0.402954    0.542236  ...   0.751818   \n",
       "2         0.544950    0.563844    0.328017    0.539501  ...   0.721404   \n",
       "4         0.534094    0.548904    0.083215    0.531067  ...   0.697552   \n",
       "5         0.524336    0.534430    0.150466    0.517610  ...   0.727615   \n",
       "7         0.526135    0.512131    0.026498    0.510245  ...   0.732860   \n",
       "...            ...         ...         ...         ...  ...        ...   \n",
       "202488    0.533989    0.446403    0.045277    0.532805  ...   0.705954   \n",
       "202488    0.533989    0.446403    0.045277    0.532805  ...   0.705954   \n",
       "202488    0.533989    0.446403    0.045277    0.532805  ...   0.705954   \n",
       "202488    0.533989    0.446403    0.045277    0.532805  ...   0.705954   \n",
       "202488    0.533989    0.446403    0.045277    0.532805  ...   0.705954   \n",
       "\n",
       "        pose_23_x  pose_23_y  pose_23_z  pose_24_x  pose_24_y  pose_24_z  \\\n",
       "1        0.433051   0.966384   0.792620   0.449503   0.930953   0.673173   \n",
       "2        0.431155   0.966412   0.771990   0.449501   0.928337   0.667928   \n",
       "4        0.433064   0.966390   0.749232   0.449475   0.930948   0.649300   \n",
       "5        0.433072   0.966384   0.772875   0.449477   0.928342   0.647910   \n",
       "7        0.433065   0.966381   0.770243   0.449523   0.928342   0.660250   \n",
       "...           ...        ...        ...        ...        ...        ...   \n",
       "202488   0.426990   0.950059   0.665721   0.437205   0.898362   0.538676   \n",
       "202488   0.426990   0.950059   0.665721   0.437205   0.898362   0.538676   \n",
       "202488   0.426990   0.950059   0.665721   0.437205   0.898362   0.538676   \n",
       "202488   0.426990   0.950059   0.665721   0.437205   0.898362   0.538676   \n",
       "202488   0.426990   0.950059   0.665721   0.437205   0.898362   0.538676   \n",
       "\n",
       "        missing_hand  missing_face  person  \n",
       "1              False         False     1.0  \n",
       "2              False         False     1.0  \n",
       "4              False         False     1.0  \n",
       "5              False         False     1.0  \n",
       "7              False         False     1.0  \n",
       "...              ...           ...     ...  \n",
       "202488         False         False     5.0  \n",
       "202488         False         False     5.0  \n",
       "202488         False         False     5.0  \n",
       "202488         False         False     5.0  \n",
       "202488         False         False     5.0  \n",
       "\n",
       "[158080 rows x 417 columns]"
      ]
     },
     "execution_count": 21,
     "metadata": {},
     "output_type": "execute_result"
    }
   ],
   "source": [
    "df_new_fps"
   ]
  },
  {
   "cell_type": "code",
   "execution_count": 22,
   "id": "ff88246a",
   "metadata": {},
   "outputs": [
    {
     "data": {
      "text/plain": [
       "category\n",
       "26    3432\n",
       "21    3224\n",
       "12    3172\n",
       "11    3120\n",
       "22    3120\n",
       "25    3068\n",
       "55    3068\n",
       "24    3016\n",
       "30    3016\n",
       "34    3016\n",
       "29    3016\n",
       "13    2964\n",
       "38    2912\n",
       "49    2912\n",
       "57    2912\n",
       "33    2912\n",
       "14    2912\n",
       "15    2860\n",
       "16    2860\n",
       "19    2860\n",
       "27    2860\n",
       "35    2860\n",
       "32    2860\n",
       "31    2808\n",
       "36    2808\n",
       "50    2808\n",
       "56    2808\n",
       "41    2808\n",
       "47    2808\n",
       "10    2808\n",
       "17    2808\n",
       "23    2808\n",
       "18    2808\n",
       "3     2756\n",
       "5     2704\n",
       "28    2704\n",
       "46    2704\n",
       "37    2704\n",
       "8     2704\n",
       "39    2704\n",
       "45    2704\n",
       "44    2704\n",
       "2     2704\n",
       "40    2652\n",
       "4     2652\n",
       "52    2652\n",
       "54    2652\n",
       "53    2652\n",
       "1     2652\n",
       "51    2600\n",
       "42    2600\n",
       "43    2600\n",
       "48    2600\n",
       "9     2600\n",
       "6     2548\n",
       "7     2496\n",
       "Name: count, dtype: int64"
      ]
     },
     "execution_count": 22,
     "metadata": {},
     "output_type": "execute_result"
    }
   ],
   "source": [
    "df_new_fps[\"category\"].value_counts()"
   ]
  },
  {
   "cell_type": "code",
   "execution_count": 23,
   "id": "e182b9c3",
   "metadata": {},
   "outputs": [
    {
     "data": {
      "text/plain": [
       "array([1, 10, 2, 3, 4, 5, 6, 7, 8, 9, 11, 21, 22, 23, 24, 25, 26, 27, 28,\n",
       "       29, 12, 30, 13, 14, 15, 16, 17, 18, 19, 31, 32, 33, 34, 35, 36, 37,\n",
       "       38, 39, 48, 49, 50, 51, 52, 53, 54, 55, 56, 57, 40, 41, 42, 43, 44,\n",
       "       45, 46, 47], dtype=object)"
      ]
     },
     "execution_count": 23,
     "metadata": {},
     "output_type": "execute_result"
    }
   ],
   "source": [
    "df_new_fps[\"category\"].unique()"
   ]
  },
  {
   "cell_type": "code",
   "execution_count": 24,
   "id": "cde3d809",
   "metadata": {},
   "outputs": [
    {
     "data": {
      "text/plain": [
       "56"
      ]
     },
     "execution_count": 24,
     "metadata": {},
     "output_type": "execute_result"
    }
   ],
   "source": [
    "len(df_new_fps[\"category\"].unique())"
   ]
  },
  {
   "cell_type": "code",
   "execution_count": 25,
   "id": "7549eb03",
   "metadata": {},
   "outputs": [],
   "source": [
    "grouped_count = df_new_fps.groupby(\"video_name\")[\"frame\"].count()"
   ]
  },
  {
   "cell_type": "code",
   "execution_count": 26,
   "id": "f7cc2f37",
   "metadata": {},
   "outputs": [
    {
     "data": {
      "text/plain": [
       "Series([], Name: frame, dtype: int64)"
      ]
     },
     "execution_count": 26,
     "metadata": {},
     "output_type": "execute_result"
    }
   ],
   "source": [
    "grouped_count[grouped_count > target_frames]"
   ]
  },
  {
   "cell_type": "code",
   "execution_count": 27,
   "id": "a0ebb29c",
   "metadata": {},
   "outputs": [
    {
     "data": {
      "text/plain": [
       "Series([], Name: frame, dtype: int64)"
      ]
     },
     "execution_count": 27,
     "metadata": {},
     "output_type": "execute_result"
    }
   ],
   "source": [
    "grouped_count[grouped_count < target_frames]"
   ]
  },
  {
   "cell_type": "code",
   "execution_count": 28,
   "id": "482af9ba",
   "metadata": {},
   "outputs": [],
   "source": [
    "video_names = list(grouped_count[grouped_count > target_frames].index)\n",
    "for video_name in video_names:\n",
    "    df_video = df_new_fps[df_new_fps[\"video_name\"] == video_name]\n",
    "    extra_frames = len(df_video) - target_frames\n",
    "    frames_to_remove = df_video.iloc[-extra_frames:]\n",
    "    df_new_fps = df_new_fps.drop(frames_to_remove.index)"
   ]
  },
  {
   "cell_type": "code",
   "execution_count": 29,
   "id": "9ce6bb02",
   "metadata": {},
   "outputs": [
    {
     "data": {
      "text/plain": [
       "158080"
      ]
     },
     "execution_count": 29,
     "metadata": {},
     "output_type": "execute_result"
    }
   ],
   "source": [
    "len(df_new_fps.video_name.unique()) * target_frames"
   ]
  },
  {
   "cell_type": "code",
   "execution_count": 30,
   "id": "ccede453",
   "metadata": {},
   "outputs": [
    {
     "data": {
      "text/plain": [
       "video_name\n",
       "p1_c1_s10_0    52\n",
       "p1_c1_s10_1    52\n",
       "p1_c1_s10_2    52\n",
       "p1_c1_s10_3    52\n",
       "p1_c1_s10_4    52\n",
       "               ..\n",
       "p5_c4_s9_5     52\n",
       "p5_c4_s9_6     52\n",
       "p5_c4_s9_7     52\n",
       "p5_c4_s9_8     52\n",
       "p5_c4_s9_9     52\n",
       "Name: frame, Length: 3040, dtype: int64"
      ]
     },
     "execution_count": 30,
     "metadata": {},
     "output_type": "execute_result"
    }
   ],
   "source": [
    "df_new_fps.groupby(\"video_name\")[\"frame\"].count()"
   ]
  },
  {
   "cell_type": "code",
   "execution_count": 31,
   "id": "9fa6fe40",
   "metadata": {},
   "outputs": [],
   "source": [
    "# df_new_fps.to_csv(f\"../00_datasets/dataset_output/libras_minds/libras_minds_openpose_{target_frames}_frames.csv\", index=False)\n",
    "df_new_fps.to_csv(f\"../00_datasets/dataset_output/libras_ufop/libras_ufop_openpose_{target_frames}_frames.csv\", index=False)"
   ]
  },
  {
   "cell_type": "code",
   "execution_count": null,
   "id": "f8108ab3",
   "metadata": {},
   "outputs": [],
   "source": []
  }
 ],
 "metadata": {
  "kernelspec": {
   "display_name": "Python 3 (ipykernel)",
   "language": "python",
   "name": "python3"
  },
  "language_info": {
   "codemirror_mode": {
    "name": "ipython",
    "version": 3
   },
   "file_extension": ".py",
   "mimetype": "text/x-python",
   "name": "python",
   "nbconvert_exporter": "python",
   "pygments_lexer": "ipython3",
   "version": "3.9.16"
  }
 },
 "nbformat": 4,
 "nbformat_minor": 5
}
