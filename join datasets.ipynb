{
 "cells": [
  {
   "cell_type": "code",
   "execution_count": 1,
   "id": "d59a7206",
   "metadata": {},
   "outputs": [],
   "source": [
    "import pandas as pd\n",
    "import numpy as np\n",
    "import os\n",
    "from matplotlib import pyplot as plt"
   ]
  },
  {
   "cell_type": "code",
   "execution_count": 2,
   "id": "9b1c6008",
   "metadata": {},
   "outputs": [],
   "source": [
    "files = [\n",
    "    \"lsa64_dataset.csv\",\n",
    "    \"lsa64_dataset_part_2.csv\",\n",
    "    \"lsa64_dataset_part_3.csv\",\n",
    "]"
   ]
  },
  {
   "cell_type": "code",
   "execution_count": 14,
   "id": "be9b633a",
   "metadata": {},
   "outputs": [
    {
     "data": {
      "text/plain": [
       "['dataset_output/libras_minds/raw/libras_minds_Acontecer.csv',\n",
       " 'dataset_output/libras_minds/raw/libras_minds_Aluno.csv',\n",
       " 'dataset_output/libras_minds/raw/libras_minds_Amarelo.csv',\n",
       " 'dataset_output/libras_minds/raw/libras_minds_America.csv',\n",
       " 'dataset_output/libras_minds/raw/libras_minds_Aproveitar.csv',\n",
       " 'dataset_output/libras_minds/raw/libras_minds_Bala.csv',\n",
       " 'dataset_output/libras_minds/raw/libras_minds_Banco.csv',\n",
       " 'dataset_output/libras_minds/raw/libras_minds_Banheiro.csv',\n",
       " 'dataset_output/libras_minds/raw/libras_minds_Barulho.csv',\n",
       " 'dataset_output/libras_minds/raw/libras_minds_Cinco.csv',\n",
       " 'dataset_output/libras_minds/raw/libras_minds_Conhecer.csv',\n",
       " 'dataset_output/libras_minds/raw/libras_minds_Espelho.csv',\n",
       " 'dataset_output/libras_minds/raw/libras_minds_Esquina.csv',\n",
       " 'dataset_output/libras_minds/raw/libras_minds_Filho.csv',\n",
       " 'dataset_output/libras_minds/raw/libras_minds_Maca.csv',\n",
       " 'dataset_output/libras_minds/raw/libras_minds_Medo.csv',\n",
       " 'dataset_output/libras_minds/raw/libras_minds_Ruim.csv',\n",
       " 'dataset_output/libras_minds/raw/libras_minds_Sapo.csv',\n",
       " 'dataset_output/libras_minds/raw/libras_minds_Vacina.csv',\n",
       " 'dataset_output/libras_minds/raw/libras_minds_Vontade.csv']"
      ]
     },
     "execution_count": 14,
     "metadata": {},
     "output_type": "execute_result"
    }
   ],
   "source": [
    "path = \"dataset_output/libras_minds/raw/\"\n",
    "files = [path + i for i in os.listdir(path)]\n",
    "files"
   ]
  },
  {
   "cell_type": "code",
   "execution_count": 15,
   "id": "2a297b47",
   "metadata": {},
   "outputs": [],
   "source": [
    "dfs = [pd.read_csv(f) for f in files]"
   ]
  },
  {
   "cell_type": "code",
   "execution_count": 16,
   "id": "b2876645",
   "metadata": {},
   "outputs": [],
   "source": [
    "i = 0\n",
    "for df in dfs:\n",
    "    hand_columns = [i for i in df.columns if i.startswith(\"hand_\")]\n",
    "    face_columns = [i for i in df.columns if i.startswith(\"face_\")]\n",
    "    df[\"missing_hand\"] = eval(\" & \".join([f\"(df['{h}'] == 0)\" for h in hand_columns]))\n",
    "    df[\"missing_face\"] = eval(\" & \".join([f\"(df['{h}'] == 0)\" for h in face_columns]))"
   ]
  },
  {
   "cell_type": "code",
   "execution_count": 17,
   "id": "d22a1b36",
   "metadata": {},
   "outputs": [],
   "source": [
    "categories_loss = []\n",
    "for df in dfs:\n",
    "    for category in df[\"category\"].unique():\n",
    "        missing = len(df[(df[\"category\"] == category) & (df[\"missing_hand\"] == True)])\n",
    "        categories_loss.append((category, missing,))"
   ]
  },
  {
   "cell_type": "code",
   "execution_count": 18,
   "id": "74bf2d04",
   "metadata": {},
   "outputs": [],
   "source": [
    "categories_loss.sort(key=lambda i: i[1])"
   ]
  },
  {
   "cell_type": "code",
   "execution_count": 7,
   "id": "9876de2c",
   "metadata": {},
   "outputs": [
    {
     "ename": "TypeError",
     "evalue": "can only concatenate str (not \"int\") to str",
     "output_type": "error",
     "traceback": [
      "\u001b[1;31m---------------------------------------------------------------------------\u001b[0m",
      "\u001b[1;31mTypeError\u001b[0m                                 Traceback (most recent call last)",
      "Cell \u001b[1;32mIn[7], line 3\u001b[0m\n\u001b[0;32m      1\u001b[0m df_best \u001b[38;5;241m=\u001b[39m pd\u001b[38;5;241m.\u001b[39mDataFrame(columns\u001b[38;5;241m=\u001b[39mdf\u001b[38;5;241m.\u001b[39mcolumns)\n\u001b[0;32m      2\u001b[0m \u001b[38;5;28;01mfor\u001b[39;00m category \u001b[38;5;129;01min\u001b[39;00m categories_loss: \u001b[38;5;66;03m#[:10]:\u001b[39;00m\n\u001b[1;32m----> 3\u001b[0m     df \u001b[38;5;241m=\u001b[39m dfs[(\u001b[43mcategory\u001b[49m\u001b[43m[\u001b[49m\u001b[38;5;241;43m0\u001b[39;49m\u001b[43m]\u001b[49m\u001b[43m \u001b[49m\u001b[38;5;241;43m+\u001b[39;49m\u001b[43m \u001b[49m\u001b[38;5;241;43m1\u001b[39;49m) \u001b[38;5;241m/\u001b[39m\u001b[38;5;241m/\u001b[39m \u001b[38;5;241m11\u001b[39m]\n\u001b[0;32m      4\u001b[0m     df \u001b[38;5;241m=\u001b[39m df[df[\u001b[38;5;124m\"\u001b[39m\u001b[38;5;124mcategory\u001b[39m\u001b[38;5;124m\"\u001b[39m] \u001b[38;5;241m==\u001b[39m category[\u001b[38;5;241m0\u001b[39m]]\n\u001b[0;32m      5\u001b[0m     df_best \u001b[38;5;241m=\u001b[39m pd\u001b[38;5;241m.\u001b[39mconcat([df_best, df])\n",
      "\u001b[1;31mTypeError\u001b[0m: can only concatenate str (not \"int\") to str"
     ]
    }
   ],
   "source": [
    "df_best = pd.DataFrame(columns=df.columns)\n",
    "for category in categories_loss: #[:10]:\n",
    "    df = dfs[(category[0] + 1) // 11]\n",
    "    df = df[df[\"category\"] == category[0]]\n",
    "    df_best = pd.concat([df_best, df])"
   ]
  },
  {
   "cell_type": "code",
   "execution_count": 19,
   "id": "151f3f3e",
   "metadata": {},
   "outputs": [],
   "source": [
    "# All Datasets\n",
    "df_best = pd.DataFrame(columns=df.columns)\n",
    "for df in dfs:\n",
    "    df_best = pd.concat([df_best, df])"
   ]
  },
  {
   "cell_type": "code",
   "execution_count": 20,
   "id": "584f93ff",
   "metadata": {},
   "outputs": [
    {
     "data": {
      "text/html": [
       "<div>\n",
       "<style scoped>\n",
       "    .dataframe tbody tr th:only-of-type {\n",
       "        vertical-align: middle;\n",
       "    }\n",
       "\n",
       "    .dataframe tbody tr th {\n",
       "        vertical-align: top;\n",
       "    }\n",
       "\n",
       "    .dataframe thead th {\n",
       "        text-align: right;\n",
       "    }\n",
       "</style>\n",
       "<table border=\"1\" class=\"dataframe\">\n",
       "  <thead>\n",
       "    <tr style=\"text-align: right;\">\n",
       "      <th></th>\n",
       "      <th>Unnamed: 0</th>\n",
       "      <th>category</th>\n",
       "      <th>video_name</th>\n",
       "      <th>frame</th>\n",
       "      <th>hand_0_0_x</th>\n",
       "      <th>hand_0_0_y</th>\n",
       "      <th>hand_0_0_z</th>\n",
       "      <th>hand_0_1_x</th>\n",
       "      <th>hand_0_1_y</th>\n",
       "      <th>hand_0_1_z</th>\n",
       "      <th>...</th>\n",
       "      <th>pose_22_y</th>\n",
       "      <th>pose_22_z</th>\n",
       "      <th>pose_23_x</th>\n",
       "      <th>pose_23_y</th>\n",
       "      <th>pose_23_z</th>\n",
       "      <th>pose_24_x</th>\n",
       "      <th>pose_24_y</th>\n",
       "      <th>pose_24_z</th>\n",
       "      <th>missing_hand</th>\n",
       "      <th>missing_face</th>\n",
       "    </tr>\n",
       "  </thead>\n",
       "  <tbody>\n",
       "    <tr>\n",
       "      <th>0</th>\n",
       "      <td>0</td>\n",
       "      <td>Acontecer</td>\n",
       "      <td>01AcontecerSinalizador01-1.mp4</td>\n",
       "      <td>0</td>\n",
       "      <td>0.000000</td>\n",
       "      <td>0.000000</td>\n",
       "      <td>0.000000</td>\n",
       "      <td>0.000000</td>\n",
       "      <td>0.000000</td>\n",
       "      <td>0.000000</td>\n",
       "      <td>...</td>\n",
       "      <td>0.0</td>\n",
       "      <td>0.0</td>\n",
       "      <td>0.0</td>\n",
       "      <td>0.0</td>\n",
       "      <td>0.0</td>\n",
       "      <td>0.0</td>\n",
       "      <td>0.0</td>\n",
       "      <td>0.0</td>\n",
       "      <td>False</td>\n",
       "      <td>False</td>\n",
       "    </tr>\n",
       "    <tr>\n",
       "      <th>1</th>\n",
       "      <td>1</td>\n",
       "      <td>Acontecer</td>\n",
       "      <td>01AcontecerSinalizador01-1.mp4</td>\n",
       "      <td>1</td>\n",
       "      <td>0.000000</td>\n",
       "      <td>0.000000</td>\n",
       "      <td>0.000000</td>\n",
       "      <td>0.000000</td>\n",
       "      <td>0.000000</td>\n",
       "      <td>0.000000</td>\n",
       "      <td>...</td>\n",
       "      <td>0.0</td>\n",
       "      <td>0.0</td>\n",
       "      <td>0.0</td>\n",
       "      <td>0.0</td>\n",
       "      <td>0.0</td>\n",
       "      <td>0.0</td>\n",
       "      <td>0.0</td>\n",
       "      <td>0.0</td>\n",
       "      <td>False</td>\n",
       "      <td>False</td>\n",
       "    </tr>\n",
       "    <tr>\n",
       "      <th>2</th>\n",
       "      <td>2</td>\n",
       "      <td>Acontecer</td>\n",
       "      <td>01AcontecerSinalizador01-1.mp4</td>\n",
       "      <td>2</td>\n",
       "      <td>0.000000</td>\n",
       "      <td>0.000000</td>\n",
       "      <td>0.000000</td>\n",
       "      <td>0.000000</td>\n",
       "      <td>0.000000</td>\n",
       "      <td>0.000000</td>\n",
       "      <td>...</td>\n",
       "      <td>0.0</td>\n",
       "      <td>0.0</td>\n",
       "      <td>0.0</td>\n",
       "      <td>0.0</td>\n",
       "      <td>0.0</td>\n",
       "      <td>0.0</td>\n",
       "      <td>0.0</td>\n",
       "      <td>0.0</td>\n",
       "      <td>False</td>\n",
       "      <td>False</td>\n",
       "    </tr>\n",
       "    <tr>\n",
       "      <th>3</th>\n",
       "      <td>3</td>\n",
       "      <td>Acontecer</td>\n",
       "      <td>01AcontecerSinalizador01-1.mp4</td>\n",
       "      <td>3</td>\n",
       "      <td>0.000000</td>\n",
       "      <td>0.000000</td>\n",
       "      <td>0.000000</td>\n",
       "      <td>0.000000</td>\n",
       "      <td>0.000000</td>\n",
       "      <td>0.000000</td>\n",
       "      <td>...</td>\n",
       "      <td>0.0</td>\n",
       "      <td>0.0</td>\n",
       "      <td>0.0</td>\n",
       "      <td>0.0</td>\n",
       "      <td>0.0</td>\n",
       "      <td>0.0</td>\n",
       "      <td>0.0</td>\n",
       "      <td>0.0</td>\n",
       "      <td>True</td>\n",
       "      <td>False</td>\n",
       "    </tr>\n",
       "    <tr>\n",
       "      <th>4</th>\n",
       "      <td>4</td>\n",
       "      <td>Acontecer</td>\n",
       "      <td>01AcontecerSinalizador01-1.mp4</td>\n",
       "      <td>4</td>\n",
       "      <td>0.000000</td>\n",
       "      <td>0.000000</td>\n",
       "      <td>0.000000</td>\n",
       "      <td>0.000000</td>\n",
       "      <td>0.000000</td>\n",
       "      <td>0.000000</td>\n",
       "      <td>...</td>\n",
       "      <td>0.0</td>\n",
       "      <td>0.0</td>\n",
       "      <td>0.0</td>\n",
       "      <td>0.0</td>\n",
       "      <td>0.0</td>\n",
       "      <td>0.0</td>\n",
       "      <td>0.0</td>\n",
       "      <td>0.0</td>\n",
       "      <td>True</td>\n",
       "      <td>False</td>\n",
       "    </tr>\n",
       "    <tr>\n",
       "      <th>...</th>\n",
       "      <td>...</td>\n",
       "      <td>...</td>\n",
       "      <td>...</td>\n",
       "      <td>...</td>\n",
       "      <td>...</td>\n",
       "      <td>...</td>\n",
       "      <td>...</td>\n",
       "      <td>...</td>\n",
       "      <td>...</td>\n",
       "      <td>...</td>\n",
       "      <td>...</td>\n",
       "      <td>...</td>\n",
       "      <td>...</td>\n",
       "      <td>...</td>\n",
       "      <td>...</td>\n",
       "      <td>...</td>\n",
       "      <td>...</td>\n",
       "      <td>...</td>\n",
       "      <td>...</td>\n",
       "      <td>...</td>\n",
       "      <td>...</td>\n",
       "    </tr>\n",
       "    <tr>\n",
       "      <th>8670</th>\n",
       "      <td>8670</td>\n",
       "      <td>Vontade</td>\n",
       "      <td>20VontadeSinalizador12-5.mp4</td>\n",
       "      <td>162</td>\n",
       "      <td>0.614689</td>\n",
       "      <td>0.910987</td>\n",
       "      <td>0.588928</td>\n",
       "      <td>0.598457</td>\n",
       "      <td>0.922928</td>\n",
       "      <td>0.627919</td>\n",
       "      <td>...</td>\n",
       "      <td>0.0</td>\n",
       "      <td>0.0</td>\n",
       "      <td>0.0</td>\n",
       "      <td>0.0</td>\n",
       "      <td>0.0</td>\n",
       "      <td>0.0</td>\n",
       "      <td>0.0</td>\n",
       "      <td>0.0</td>\n",
       "      <td>False</td>\n",
       "      <td>False</td>\n",
       "    </tr>\n",
       "    <tr>\n",
       "      <th>8671</th>\n",
       "      <td>8671</td>\n",
       "      <td>Vontade</td>\n",
       "      <td>20VontadeSinalizador12-5.mp4</td>\n",
       "      <td>163</td>\n",
       "      <td>0.614785</td>\n",
       "      <td>0.908597</td>\n",
       "      <td>0.584819</td>\n",
       "      <td>0.598921</td>\n",
       "      <td>0.922699</td>\n",
       "      <td>0.580145</td>\n",
       "      <td>...</td>\n",
       "      <td>0.0</td>\n",
       "      <td>0.0</td>\n",
       "      <td>0.0</td>\n",
       "      <td>0.0</td>\n",
       "      <td>0.0</td>\n",
       "      <td>0.0</td>\n",
       "      <td>0.0</td>\n",
       "      <td>0.0</td>\n",
       "      <td>False</td>\n",
       "      <td>False</td>\n",
       "    </tr>\n",
       "    <tr>\n",
       "      <th>8672</th>\n",
       "      <td>8672</td>\n",
       "      <td>Vontade</td>\n",
       "      <td>20VontadeSinalizador12-5.mp4</td>\n",
       "      <td>164</td>\n",
       "      <td>0.614690</td>\n",
       "      <td>0.911093</td>\n",
       "      <td>0.602180</td>\n",
       "      <td>0.598085</td>\n",
       "      <td>0.925853</td>\n",
       "      <td>0.639054</td>\n",
       "      <td>...</td>\n",
       "      <td>0.0</td>\n",
       "      <td>0.0</td>\n",
       "      <td>0.0</td>\n",
       "      <td>0.0</td>\n",
       "      <td>0.0</td>\n",
       "      <td>0.0</td>\n",
       "      <td>0.0</td>\n",
       "      <td>0.0</td>\n",
       "      <td>False</td>\n",
       "      <td>False</td>\n",
       "    </tr>\n",
       "    <tr>\n",
       "      <th>8673</th>\n",
       "      <td>8673</td>\n",
       "      <td>Vontade</td>\n",
       "      <td>20VontadeSinalizador12-5.mp4</td>\n",
       "      <td>165</td>\n",
       "      <td>0.614768</td>\n",
       "      <td>0.910723</td>\n",
       "      <td>0.575162</td>\n",
       "      <td>0.599248</td>\n",
       "      <td>0.924518</td>\n",
       "      <td>0.586799</td>\n",
       "      <td>...</td>\n",
       "      <td>0.0</td>\n",
       "      <td>0.0</td>\n",
       "      <td>0.0</td>\n",
       "      <td>0.0</td>\n",
       "      <td>0.0</td>\n",
       "      <td>0.0</td>\n",
       "      <td>0.0</td>\n",
       "      <td>0.0</td>\n",
       "      <td>False</td>\n",
       "      <td>False</td>\n",
       "    </tr>\n",
       "    <tr>\n",
       "      <th>8674</th>\n",
       "      <td>8674</td>\n",
       "      <td>Vontade</td>\n",
       "      <td>20VontadeSinalizador12-5.mp4</td>\n",
       "      <td>166</td>\n",
       "      <td>0.615364</td>\n",
       "      <td>0.908623</td>\n",
       "      <td>0.619772</td>\n",
       "      <td>0.600634</td>\n",
       "      <td>0.920709</td>\n",
       "      <td>0.600283</td>\n",
       "      <td>...</td>\n",
       "      <td>0.0</td>\n",
       "      <td>0.0</td>\n",
       "      <td>0.0</td>\n",
       "      <td>0.0</td>\n",
       "      <td>0.0</td>\n",
       "      <td>0.0</td>\n",
       "      <td>0.0</td>\n",
       "      <td>0.0</td>\n",
       "      <td>False</td>\n",
       "      <td>False</td>\n",
       "    </tr>\n",
       "  </tbody>\n",
       "</table>\n",
       "<p>161439 rows × 417 columns</p>\n",
       "</div>"
      ],
      "text/plain": [
       "     Unnamed: 0   category                      video_name frame  hand_0_0_x  \\\n",
       "0             0  Acontecer  01AcontecerSinalizador01-1.mp4     0    0.000000   \n",
       "1             1  Acontecer  01AcontecerSinalizador01-1.mp4     1    0.000000   \n",
       "2             2  Acontecer  01AcontecerSinalizador01-1.mp4     2    0.000000   \n",
       "3             3  Acontecer  01AcontecerSinalizador01-1.mp4     3    0.000000   \n",
       "4             4  Acontecer  01AcontecerSinalizador01-1.mp4     4    0.000000   \n",
       "...         ...        ...                             ...   ...         ...   \n",
       "8670       8670    Vontade    20VontadeSinalizador12-5.mp4   162    0.614689   \n",
       "8671       8671    Vontade    20VontadeSinalizador12-5.mp4   163    0.614785   \n",
       "8672       8672    Vontade    20VontadeSinalizador12-5.mp4   164    0.614690   \n",
       "8673       8673    Vontade    20VontadeSinalizador12-5.mp4   165    0.614768   \n",
       "8674       8674    Vontade    20VontadeSinalizador12-5.mp4   166    0.615364   \n",
       "\n",
       "      hand_0_0_y  hand_0_0_z  hand_0_1_x  hand_0_1_y  hand_0_1_z  ...  \\\n",
       "0       0.000000    0.000000    0.000000    0.000000    0.000000  ...   \n",
       "1       0.000000    0.000000    0.000000    0.000000    0.000000  ...   \n",
       "2       0.000000    0.000000    0.000000    0.000000    0.000000  ...   \n",
       "3       0.000000    0.000000    0.000000    0.000000    0.000000  ...   \n",
       "4       0.000000    0.000000    0.000000    0.000000    0.000000  ...   \n",
       "...          ...         ...         ...         ...         ...  ...   \n",
       "8670    0.910987    0.588928    0.598457    0.922928    0.627919  ...   \n",
       "8671    0.908597    0.584819    0.598921    0.922699    0.580145  ...   \n",
       "8672    0.911093    0.602180    0.598085    0.925853    0.639054  ...   \n",
       "8673    0.910723    0.575162    0.599248    0.924518    0.586799  ...   \n",
       "8674    0.908623    0.619772    0.600634    0.920709    0.600283  ...   \n",
       "\n",
       "      pose_22_y  pose_22_z  pose_23_x  pose_23_y  pose_23_z  pose_24_x  \\\n",
       "0           0.0        0.0        0.0        0.0        0.0        0.0   \n",
       "1           0.0        0.0        0.0        0.0        0.0        0.0   \n",
       "2           0.0        0.0        0.0        0.0        0.0        0.0   \n",
       "3           0.0        0.0        0.0        0.0        0.0        0.0   \n",
       "4           0.0        0.0        0.0        0.0        0.0        0.0   \n",
       "...         ...        ...        ...        ...        ...        ...   \n",
       "8670        0.0        0.0        0.0        0.0        0.0        0.0   \n",
       "8671        0.0        0.0        0.0        0.0        0.0        0.0   \n",
       "8672        0.0        0.0        0.0        0.0        0.0        0.0   \n",
       "8673        0.0        0.0        0.0        0.0        0.0        0.0   \n",
       "8674        0.0        0.0        0.0        0.0        0.0        0.0   \n",
       "\n",
       "      pose_24_y  pose_24_z  missing_hand  missing_face  \n",
       "0           0.0        0.0         False         False  \n",
       "1           0.0        0.0         False         False  \n",
       "2           0.0        0.0         False         False  \n",
       "3           0.0        0.0          True         False  \n",
       "4           0.0        0.0          True         False  \n",
       "...         ...        ...           ...           ...  \n",
       "8670        0.0        0.0         False         False  \n",
       "8671        0.0        0.0         False         False  \n",
       "8672        0.0        0.0         False         False  \n",
       "8673        0.0        0.0         False         False  \n",
       "8674        0.0        0.0         False         False  \n",
       "\n",
       "[161439 rows x 417 columns]"
      ]
     },
     "execution_count": 20,
     "metadata": {},
     "output_type": "execute_result"
    }
   ],
   "source": [
    "df_best"
   ]
  },
  {
   "cell_type": "code",
   "execution_count": 21,
   "id": "504b28ac",
   "metadata": {},
   "outputs": [
    {
     "data": {
      "text/plain": [
       "161439"
      ]
     },
     "execution_count": 21,
     "metadata": {},
     "output_type": "execute_result"
    }
   ],
   "source": [
    "len(df_best)"
   ]
  },
  {
   "cell_type": "code",
   "execution_count": 22,
   "id": "e303ddd1",
   "metadata": {},
   "outputs": [
    {
     "data": {
      "text/plain": [
       "1371"
      ]
     },
     "execution_count": 22,
     "metadata": {},
     "output_type": "execute_result"
    }
   ],
   "source": [
    "len(df_best[df_best[\"missing_hand\"] == True])"
   ]
  },
  {
   "cell_type": "code",
   "execution_count": 23,
   "id": "c6849ceb",
   "metadata": {},
   "outputs": [
    {
     "data": {
      "text/plain": [
       "0.008492371731737685"
      ]
     },
     "execution_count": 23,
     "metadata": {},
     "output_type": "execute_result"
    }
   ],
   "source": [
    "len(df_best[df_best[\"missing_hand\"] == True]) / len(df_best)"
   ]
  },
  {
   "cell_type": "code",
   "execution_count": 24,
   "id": "8fd932f6",
   "metadata": {},
   "outputs": [
    {
     "data": {
      "text/plain": [
       "2"
      ]
     },
     "execution_count": 24,
     "metadata": {},
     "output_type": "execute_result"
    }
   ],
   "source": [
    "len(df_best[df_best[\"missing_face\"] == True])"
   ]
  },
  {
   "cell_type": "code",
   "execution_count": 25,
   "id": "a2b4c812",
   "metadata": {},
   "outputs": [
    {
     "data": {
      "text/plain": [
       "1.2388580206765403e-05"
      ]
     },
     "execution_count": 25,
     "metadata": {},
     "output_type": "execute_result"
    }
   ],
   "source": [
    "len(df_best[df_best[\"missing_face\"] == True]) / len(df_best)"
   ]
  },
  {
   "cell_type": "code",
   "execution_count": null,
   "id": "1c46d5f2",
   "metadata": {},
   "outputs": [],
   "source": [
    "df_best.drop(\"Unnamed: 0\", axis=1).to_csv(\"dataset_output/libras_minds/libras_minds_openpose.csv\")"
   ]
  },
  {
   "cell_type": "code",
   "execution_count": null,
   "id": "9eb61b8a",
   "metadata": {},
   "outputs": [],
   "source": []
  }
 ],
 "metadata": {
  "kernelspec": {
   "display_name": "Python 3 (ipykernel)",
   "language": "python",
   "name": "python3"
  },
  "language_info": {
   "codemirror_mode": {
    "name": "ipython",
    "version": 3
   },
   "file_extension": ".py",
   "mimetype": "text/x-python",
   "name": "python",
   "nbconvert_exporter": "python",
   "pygments_lexer": "ipython3",
   "version": "3.9.16"
  }
 },
 "nbformat": 4,
 "nbformat_minor": 5
}
