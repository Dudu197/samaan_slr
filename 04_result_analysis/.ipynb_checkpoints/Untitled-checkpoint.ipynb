{
 "cells": [
  {
   "cell_type": "code",
   "execution_count": 1,
   "id": "349e2dad",
   "metadata": {},
   "outputs": [],
   "source": [
    "import json\n",
    "import os\n",
    "import pandas as pd\n",
    "import numpy as np\n",
    "from matplotlib import pyplot as plt\n",
    "import seaborn as sns\n",
    "from sklearn.metrics import confusion_matrix, precision_score, recall_score, f1_score, accuracy_score\n",
    "import functools"
   ]
  },
  {
   "cell_type": "code",
   "execution_count": 13,
   "id": "4e1f8718",
   "metadata": {},
   "outputs": [],
   "source": [
    "dataset_name = \"ufop\""
   ]
  },
  {
   "cell_type": "code",
   "execution_count": 14,
   "id": "43b04ec6",
   "metadata": {},
   "outputs": [],
   "source": [
    "if dataset_name == \"minds\":\n",
    "    refs = [str(i) for i in range(39, 44)]\n",
    "    person_range = range(1, 13)\n",
    "\n",
    "if dataset_name == \"ufop\":\n",
    "    refs = [str(i) for i in range(44, 49)]\n",
    "    person_range = range(1, 6)"
   ]
  },
  {
   "cell_type": "code",
   "execution_count": 15,
   "id": "8653d5f2",
   "metadata": {},
   "outputs": [
    {
     "data": {
      "text/plain": [
       "['44', '45', '46', '47', '48']"
      ]
     },
     "execution_count": 15,
     "metadata": {},
     "output_type": "execute_result"
    }
   ],
   "source": [
    "refs"
   ]
  },
  {
   "cell_type": "code",
   "execution_count": 16,
   "id": "69711f17",
   "metadata": {},
   "outputs": [],
   "source": [
    "all_results = {}\n",
    "for ref in refs:\n",
    "    results = []\n",
    "    results_path = f\"../99_model_output/results/{ref}/{dataset_name}/\"\n",
    "    for file in os.listdir(results_path):\n",
    "        if file.endswith(\".json\"):\n",
    "            with open(os.path.join(results_path, file), \"r\") as f:\n",
    "                results.append(json.load(f))\n",
    "    all_results[ref] = results"
   ]
  },
  {
   "cell_type": "code",
   "execution_count": 17,
   "id": "0f436a59",
   "metadata": {},
   "outputs": [],
   "source": [
    "def get_result_by_validation_person(person, results):\n",
    "    for result in results:\n",
    "        if result[\"validate_people\"] == [person]:\n",
    "            return result\n",
    "    print(f\"Not found for person {person}\")\n",
    "    return None"
   ]
  },
  {
   "cell_type": "code",
   "execution_count": 18,
   "id": "86628cf4",
   "metadata": {},
   "outputs": [],
   "source": [
    "def get_metric(y_true, y_pred, metric, average):\n",
    "    if metric == accuracy_score:\n",
    "        return metric(y_true, y_pred)\n",
    "    else:\n",
    "        return metric(y_true, y_pred, average=average, zero_division=0)\n",
    "\n",
    "def get_average_metrics(metric, average):\n",
    "    values = []\n",
    "    for r in results:\n",
    "        y_true = r[\"true_labels\"]\n",
    "        y_pred = r[\"predicted_labels\"]\n",
    "        values.append(get_metric(y_true, y_pred, metric, average))\n",
    "    return values\n",
    "\n",
    "def print_metrics(metric, average):\n",
    "    metric_results = get_average_metrics(metric, average)\n",
    "    print(\"=\" * 10)\n",
    "    if average is not None:\n",
    "        print(average, metric.__name__)\n",
    "    else:\n",
    "        print(metric.__name__)\n",
    "    average = sum(metric_results) / len(metric_results)\n",
    "    std = np.std(metric_results)\n",
    "    print(\"Average:\", average)\n",
    "    print(\"std: \", std)\n",
    "    print(round(average, 2), \"$\\pm$\", round(std, 2))\n",
    "    print(\"=\" * 10)"
   ]
  },
  {
   "cell_type": "code",
   "execution_count": 19,
   "id": "de8534f7",
   "metadata": {},
   "outputs": [],
   "source": [
    "data = []\n",
    "for validate_person in person_range:\n",
    "#     print(f\"fold {validate_person}\")\n",
    "    accuracies = []\n",
    "    for ref in refs:\n",
    "        result = get_result_by_validation_person(validate_person, all_results[ref])\n",
    "        accuracies.append(max(result[\"history\"][\"val_accuracy\"]))\n",
    "    best_ref_index = accuracies.index(max(accuracies))\n",
    "    best_ref = refs[best_ref_index]\n",
    "    results = [get_result_by_validation_person(validate_person, all_results[best_ref])]\n",
    "    \n",
    "    metric_results = get_average_metrics(accuracy_score, None)\n",
    "    \n",
    "    data.append({\n",
    "        \"fold\": validate_person,\n",
    "        \"frame\": results[0][\"meta\"][\"frames\"],\n",
    "        \"val_accuracy\": max(accuracies),\n",
    "        \"test_accuracy\": metric_results[0]\n",
    "    })\n",
    "# data"
   ]
  },
  {
   "cell_type": "code",
   "execution_count": 24,
   "id": "b82b4759",
   "metadata": {},
   "outputs": [
    {
     "data": {
      "text/html": [
       "<div>\n",
       "<style scoped>\n",
       "    .dataframe tbody tr th:only-of-type {\n",
       "        vertical-align: middle;\n",
       "    }\n",
       "\n",
       "    .dataframe tbody tr th {\n",
       "        vertical-align: top;\n",
       "    }\n",
       "\n",
       "    .dataframe thead th {\n",
       "        text-align: right;\n",
       "    }\n",
       "</style>\n",
       "<table border=\"1\" class=\"dataframe\">\n",
       "  <thead>\n",
       "    <tr style=\"text-align: right;\">\n",
       "      <th></th>\n",
       "      <th>frame</th>\n",
       "      <th>val_accuracy</th>\n",
       "      <th>test_accuracy</th>\n",
       "    </tr>\n",
       "    <tr>\n",
       "      <th>fold</th>\n",
       "      <th></th>\n",
       "      <th></th>\n",
       "      <th></th>\n",
       "    </tr>\n",
       "  </thead>\n",
       "  <tbody>\n",
       "    <tr>\n",
       "      <th>1</th>\n",
       "      <td>59</td>\n",
       "      <td>0.798061</td>\n",
       "      <td>0.781906</td>\n",
       "    </tr>\n",
       "    <tr>\n",
       "      <th>2</th>\n",
       "      <td>52</td>\n",
       "      <td>0.823910</td>\n",
       "      <td>0.846527</td>\n",
       "    </tr>\n",
       "    <tr>\n",
       "      <th>3</th>\n",
       "      <td>59</td>\n",
       "      <td>0.864297</td>\n",
       "      <td>0.857633</td>\n",
       "    </tr>\n",
       "    <tr>\n",
       "      <th>4</th>\n",
       "      <td>71</td>\n",
       "      <td>0.898799</td>\n",
       "      <td>0.836667</td>\n",
       "    </tr>\n",
       "    <tr>\n",
       "      <th>5</th>\n",
       "      <td>65</td>\n",
       "      <td>0.871667</td>\n",
       "      <td>0.843296</td>\n",
       "    </tr>\n",
       "  </tbody>\n",
       "</table>\n",
       "</div>"
      ],
      "text/plain": [
       "      frame  val_accuracy  test_accuracy\n",
       "fold                                    \n",
       "1        59      0.798061       0.781906\n",
       "2        52      0.823910       0.846527\n",
       "3        59      0.864297       0.857633\n",
       "4        71      0.898799       0.836667\n",
       "5        65      0.871667       0.843296"
      ]
     },
     "execution_count": 24,
     "metadata": {},
     "output_type": "execute_result"
    }
   ],
   "source": [
    "df = pd.DataFrame.from_dict(data)\n",
    "df = df.set_index(\"fold\")\n",
    "df"
   ]
  },
  {
   "cell_type": "code",
   "execution_count": 25,
   "id": "1f75439b",
   "metadata": {},
   "outputs": [
    {
     "data": {
      "text/plain": [
       "0.8332056388557134"
      ]
     },
     "execution_count": 25,
     "metadata": {},
     "output_type": "execute_result"
    }
   ],
   "source": [
    "df[\"test_accuracy\"].mean()"
   ]
  },
  {
   "cell_type": "code",
   "execution_count": 26,
   "id": "af267e04",
   "metadata": {},
   "outputs": [
    {
     "data": {
      "text/plain": [
       "frame\n",
       "59    2\n",
       "52    1\n",
       "71    1\n",
       "65    1\n",
       "Name: count, dtype: int64"
      ]
     },
     "execution_count": 26,
     "metadata": {},
     "output_type": "execute_result"
    }
   ],
   "source": [
    "df[\"frame\"].value_counts()"
   ]
  },
  {
   "cell_type": "code",
   "execution_count": null,
   "id": "cfa2df50",
   "metadata": {},
   "outputs": [],
   "source": []
  }
 ],
 "metadata": {
  "kernelspec": {
   "display_name": "Python 3 (ipykernel)",
   "language": "python",
   "name": "python3"
  },
  "language_info": {
   "codemirror_mode": {
    "name": "ipython",
    "version": 3
   },
   "file_extension": ".py",
   "mimetype": "text/x-python",
   "name": "python",
   "nbconvert_exporter": "python",
   "pygments_lexer": "ipython3",
   "version": "3.9.16"
  }
 },
 "nbformat": 4,
 "nbformat_minor": 5
}
