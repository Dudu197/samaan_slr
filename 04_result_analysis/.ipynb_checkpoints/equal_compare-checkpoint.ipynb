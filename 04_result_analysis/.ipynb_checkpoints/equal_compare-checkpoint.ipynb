{
 "cells": [
  {
   "cell_type": "code",
   "execution_count": 1,
   "id": "9512c2a9",
   "metadata": {},
   "outputs": [],
   "source": [
    "import json\n",
    "import os\n",
    "import pandas as pd\n",
    "import numpy as np\n",
    "from matplotlib import pyplot as plt\n",
    "import seaborn as sns\n",
    "from sklearn.metrics import confusion_matrix, precision_score, recall_score, f1_score, accuracy_score\n",
    "import functools"
   ]
  },
  {
   "cell_type": "code",
   "execution_count": 63,
   "id": "62fe4b7e",
   "metadata": {},
   "outputs": [],
   "source": [
    "base_path = f\"../99_model_output/results\"\n",
    "dataset_name = \"minds\"\n",
    "refs = [16, 20]"
   ]
  },
  {
   "cell_type": "code",
   "execution_count": 64,
   "id": "ffbdc05f",
   "metadata": {},
   "outputs": [],
   "source": [
    "ref_results = {}\n",
    "for ref in refs:\n",
    "    results = []\n",
    "    results_path = f\"{base_path}/{ref}/{dataset_name}\"\n",
    "    for file in os.listdir(results_path):\n",
    "        if file.endswith(\".json\"):\n",
    "            with open(os.path.join(results_path, file), \"r\") as f:\n",
    "                results.append(json.load(f))\n",
    "    ref_results[ref] = results"
   ]
  },
  {
   "cell_type": "code",
   "execution_count": 65,
   "id": "79810d39",
   "metadata": {},
   "outputs": [],
   "source": [
    "refs_people = []\n",
    "for ref in refs:\n",
    "    people = []\n",
    "    for result in ref_results[ref]:\n",
    "        test_people = result[\"test_people\"]\n",
    "        validate_people = result[\"validate_people\"]\n",
    "        people.append((test_people[0], validate_people[0]))\n",
    "    refs_people.append(people)"
   ]
  },
  {
   "cell_type": "code",
   "execution_count": 66,
   "id": "5861f8ec",
   "metadata": {},
   "outputs": [],
   "source": [
    "intersection = functools.reduce(lambda i, j: set(i).intersection(j), refs_people)"
   ]
  },
  {
   "cell_type": "code",
   "execution_count": 67,
   "id": "00eed993",
   "metadata": {},
   "outputs": [],
   "source": [
    "def get_metric(y_true, y_pred, metric, average):\n",
    "    if metric == accuracy_score:\n",
    "        return metric(y_true, y_pred)\n",
    "    else:\n",
    "        return metric(y_true, y_pred, average=average, zero_division=0)"
   ]
  },
  {
   "cell_type": "code",
   "execution_count": 68,
   "id": "525248b3",
   "metadata": {},
   "outputs": [],
   "source": [
    "ref_accuracies = {}\n",
    "for ref in refs:\n",
    "    filtered_results = list(filter(lambda i: (i[\"test_people\"][0], i[\"validate_people\"][0]) in intersection, ref_results[ref]))\n",
    "    values = []\n",
    "    for r in filtered_results:\n",
    "        y_true = r[\"true_labels\"]\n",
    "        y_pred = r[\"predicted_labels\"]\n",
    "        values.append(get_metric(y_true, y_pred, accuracy_score, None))\n",
    "    ref_accuracies[ref] = sum(values) / len(values)"
   ]
  },
  {
   "cell_type": "code",
   "execution_count": 69,
   "id": "d5f5eaae",
   "metadata": {},
   "outputs": [
    {
     "data": {
      "text/plain": [
       "'minds'"
      ]
     },
     "execution_count": 69,
     "metadata": {},
     "output_type": "execute_result"
    }
   ],
   "source": [
    "dataset_name"
   ]
  },
  {
   "cell_type": "code",
   "execution_count": 70,
   "id": "aa7127c6",
   "metadata": {},
   "outputs": [
    {
     "data": {
      "text/plain": [
       "{16: 0.9361975886187612, 20: 0.9117803542655508}"
      ]
     },
     "execution_count": 70,
     "metadata": {},
     "output_type": "execute_result"
    }
   ],
   "source": [
    "ref_accuracies"
   ]
  },
  {
   "cell_type": "code",
   "execution_count": null,
   "id": "457fccd9",
   "metadata": {},
   "outputs": [],
   "source": []
  }
 ],
 "metadata": {
  "kernelspec": {
   "display_name": "Python 3 (ipykernel)",
   "language": "python",
   "name": "python3"
  },
  "language_info": {
   "codemirror_mode": {
    "name": "ipython",
    "version": 3
   },
   "file_extension": ".py",
   "mimetype": "text/x-python",
   "name": "python",
   "nbconvert_exporter": "python",
   "pygments_lexer": "ipython3",
   "version": "3.9.16"
  }
 },
 "nbformat": 4,
 "nbformat_minor": 5
}
